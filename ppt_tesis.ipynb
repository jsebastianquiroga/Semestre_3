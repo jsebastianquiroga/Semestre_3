{
  "nbformat": 4,
  "nbformat_minor": 0,
  "metadata": {
    "colab": {
      "provenance": [],
      "authorship_tag": "ABX9TyNpOfAKNV7WXMCcGQETVP1m",
      "include_colab_link": true
    },
    "kernelspec": {
      "name": "python3",
      "display_name": "Python 3"
    },
    "language_info": {
      "name": "python"
    }
  },
  "cells": [
    {
      "cell_type": "markdown",
      "metadata": {
        "id": "view-in-github",
        "colab_type": "text"
      },
      "source": [
        "<a href=\"https://colab.research.google.com/github/jsebastianquiroga/analitica_ia_puj/blob/main/ppt_tesis.ipynb\" target=\"_parent\"><img src=\"https://colab.research.google.com/assets/colab-badge.svg\" alt=\"Open In Colab\"/></a>"
      ]
    },
    {
      "cell_type": "code",
      "source": [
        "!pip install python-pptx"
      ],
      "metadata": {
        "colab": {
          "base_uri": "https://localhost:8080/"
        },
        "id": "Czd9vyeeoA9f",
        "outputId": "ec78dd0a-baac-4e91-fc0f-96296b7c52ce"
      },
      "execution_count": 1,
      "outputs": [
        {
          "output_type": "stream",
          "name": "stdout",
          "text": [
            "Requirement already satisfied: python-pptx in /usr/local/lib/python3.10/dist-packages (0.6.21)\n",
            "Requirement already satisfied: lxml>=3.1.0 in /usr/local/lib/python3.10/dist-packages (from python-pptx) (4.9.3)\n",
            "Requirement already satisfied: Pillow>=3.3.2 in /usr/local/lib/python3.10/dist-packages (from python-pptx) (9.4.0)\n",
            "Requirement already satisfied: XlsxWriter>=0.5.7 in /usr/local/lib/python3.10/dist-packages (from python-pptx) (3.1.2)\n"
          ]
        }
      ]
    },
    {
      "cell_type": "code",
      "source": [
        "from pptx import Presentation\n",
        "from pptx.util import Inches\n",
        "\n",
        "# Crea una nueva presentación\n",
        "prs = Presentation()\n",
        "\n",
        "# Añade una diapositiva de título\n",
        "slide_layout = prs.slide_layouts[0]\n",
        "slide = prs.slides.add_slide(slide_layout)\n",
        "title = slide.shapes.title\n",
        "subtitle = slide.placeholders[1]\n",
        "title.text = \"Presentación CRISP-DM\"\n",
        "subtitle.text = \"Puntos 1 y 2 del proceso CRISP-DM para predicción.\"\n",
        "\n",
        "# Añade diapositiva para Punto 1: Comprensión del Negocio\n",
        "slide_layout = prs.slide_layouts[1]\n",
        "slide = prs.slides.add_slide(slide_layout)\n",
        "title = slide.shapes.title\n",
        "content = slide.placeholders[1]\n",
        "title.text = \"Punto 1: Comprensión del Negocio\"\n",
        "content.text = (\"Objetivos:\\n\"\n",
        "                \"- Definir los objetivos del proyecto.\\n\"\n",
        "                \"- Establecer las preguntas clave.\\n\"\n",
        "                \"- Determinar los criterios de éxito.\\n\"\n",
        "                \"\\n[Insertar una imagen que represente la estrategia o metas del negocio.]\")\n",
        "\n",
        "# Añade diapositiva para Punto 2: Comprensión de los Datos\n",
        "slide_layout = prs.slide_layouts[1]\n",
        "slide = prs.slides.add_slide(slide_layout)\n",
        "title = slide.shapes.title\n",
        "content = slide.placeholders[1]\n",
        "title.text = \"Punto 2: Comprensión de los Datos\"\n",
        "content.text = (\"Actividades:\\n\"\n",
        "                \"- Recolectar los datos iniciales.\\n\"\n",
        "                \"- Describir y explorar la estructura de los datos.\\n\"\n",
        "                \"- Verificar calidad y limpieza de los datos.\\n\"\n",
        "                \"\\n[Insertar una imagen que represente la estructura o naturaleza de los datos, como un dataset o un gráfico.]\")\n",
        "\n",
        "# Añade diapositiva para problemas comunes en la calidad de los datos\n",
        "slide_layout = prs.slide_layouts[1]\n",
        "slide = prs.slides.add_slide(slide_layout)\n",
        "title = slide.shapes.title\n",
        "content = slide.placeholders[1]\n",
        "title.text = \"Calidad de los Datos\"\n",
        "content.text = (\"- Valores faltantes\\n\"\n",
        "                \"- Datos duplicados\\n\"\n",
        "                \"- Outliers\\n\"\n",
        "                \"- Concentraciones en rangos específicos\\n\"\n",
        "                \"\\n[Insertar una imagen que represente problemas en la calidad de datos, como gráficos con outliers.]\")\n",
        "\n",
        "# Añade diapositiva para estrategias de limpieza\n",
        "slide_layout = prs.slide_layouts[1]\n",
        "slide = prs.slides.add_slide(slide_layout)\n",
        "title = slide.shapes.title\n",
        "content = slide.placeholders[1]\n",
        "title.text = \"Estrategias de Limpieza\"\n",
        "content.text = (\"- Imputación basada en técnicas estadísticas.\\n\"\n",
        "                \"- Eliminación de registros duplicados.\\n\"\n",
        "                \"- Detección y tratamiento de valores atípicos.\\n\"\n",
        "                \"\\n[Insertar una imagen relacionada con limpieza de datos o herramientas de análisis.]\")\n",
        "\n",
        "# Añade diapositiva de conclusión\n",
        "slide_layout = prs.slide_layouts[1]\n",
        "slide = prs.slides.add_slide(slide_layout)\n",
        "title = slide.shapes.title\n",
        "content = slide.placeholders[1]\n",
        "title.text = \"Conclusión\"\n",
        "content.text = (\"Los puntos 1 y 2 del CRISP-DM establecen la base para cualquier proyecto de análisis de datos. \"\n",
        "                \"Comprender el negocio y los datos asegura que los análisis y modelos posteriores sean relevantes y precisos.\"\n",
        "                \"\\n[Insertar una imagen que represente la conclusión o el cierre del proyecto.]\")\n",
        "\n",
        "# Guarda la presentación\n",
        "file_name = 'CRISP-Detallado.pptx'\n",
        "prs.save(file_name)\n",
        "file_name"
      ],
      "metadata": {
        "colab": {
          "base_uri": "https://localhost:8080/",
          "height": 35
        },
        "id": "ilcuLduHoA0Y",
        "outputId": "10d569ee-7cb5-4762-e5c7-d7d8e4b47331"
      },
      "execution_count": 2,
      "outputs": [
        {
          "output_type": "execute_result",
          "data": {
            "text/plain": [
              "'CRISP-Detallado.pptx'"
            ],
            "application/vnd.google.colaboratory.intrinsic+json": {
              "type": "string"
            }
          },
          "metadata": {},
          "execution_count": 2
        }
      ]
    },
    {
      "cell_type": "code",
      "execution_count": 3,
      "metadata": {
        "colab": {
          "base_uri": "https://localhost:8080/",
          "height": 17
        },
        "id": "El2uOZJcn5G_",
        "outputId": "1a427700-0d1d-4283-c089-1419ae542093"
      },
      "outputs": [
        {
          "output_type": "display_data",
          "data": {
            "text/plain": [
              "<IPython.core.display.Javascript object>"
            ],
            "application/javascript": [
              "\n",
              "    async function download(id, filename, size) {\n",
              "      if (!google.colab.kernel.accessAllowed) {\n",
              "        return;\n",
              "      }\n",
              "      const div = document.createElement('div');\n",
              "      const label = document.createElement('label');\n",
              "      label.textContent = `Downloading \"${filename}\": `;\n",
              "      div.appendChild(label);\n",
              "      const progress = document.createElement('progress');\n",
              "      progress.max = size;\n",
              "      div.appendChild(progress);\n",
              "      document.body.appendChild(div);\n",
              "\n",
              "      const buffers = [];\n",
              "      let downloaded = 0;\n",
              "\n",
              "      const channel = await google.colab.kernel.comms.open(id);\n",
              "      // Send a message to notify the kernel that we're ready.\n",
              "      channel.send({})\n",
              "\n",
              "      for await (const message of channel.messages) {\n",
              "        // Send a message to notify the kernel that we're ready.\n",
              "        channel.send({})\n",
              "        if (message.buffers) {\n",
              "          for (const buffer of message.buffers) {\n",
              "            buffers.push(buffer);\n",
              "            downloaded += buffer.byteLength;\n",
              "            progress.value = downloaded;\n",
              "          }\n",
              "        }\n",
              "      }\n",
              "      const blob = new Blob(buffers, {type: 'application/binary'});\n",
              "      const a = document.createElement('a');\n",
              "      a.href = window.URL.createObjectURL(blob);\n",
              "      a.download = filename;\n",
              "      div.appendChild(a);\n",
              "      a.click();\n",
              "      div.remove();\n",
              "    }\n",
              "  "
            ]
          },
          "metadata": {}
        },
        {
          "output_type": "display_data",
          "data": {
            "text/plain": [
              "<IPython.core.display.Javascript object>"
            ],
            "application/javascript": [
              "download(\"download_7632e0eb-f373-4a7a-90d6-e55578cd2b4d\", \"CRISP-Detallado.pptx\", 33256)"
            ]
          },
          "metadata": {}
        }
      ],
      "source": [
        "from google.colab import files\n",
        "files.download('CRISP-Detallado.pptx')"
      ]
    }
  ]
}