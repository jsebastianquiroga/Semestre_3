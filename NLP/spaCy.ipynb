{
  "nbformat": 4,
  "nbformat_minor": 0,
  "metadata": {
    "colab": {
      "provenance": [],
      "collapsed_sections": [
        "m4cmOojch_to",
        "gKiIShYiXv1C",
        "ydlq9_vRaUdQ",
        "yfxtbQ_2ZrWL"
      ],
      "include_colab_link": true
    },
    "kernelspec": {
      "name": "python3",
      "display_name": "Python 3"
    },
    "language_info": {
      "name": "python"
    }
  },
  "cells": [
    {
      "cell_type": "markdown",
      "metadata": {
        "id": "view-in-github",
        "colab_type": "text"
      },
      "source": [
        "<a href=\"https://colab.research.google.com/github/jsebastianquiroga/Semestre_3/blob/main/NLP/spaCy.ipynb\" target=\"_parent\"><img src=\"https://colab.research.google.com/assets/colab-badge.svg\" alt=\"Open In Colab\"/></a>"
      ]
    },
    {
      "cell_type": "markdown",
      "source": [
        "# Libreria Spacy:\n",
        "\n",
        "spaCy es una librería de procesamiento de lenguaje natural en Python que ofrece herramientas y modelos pre-entrenados para realizar tareas de procesamiento de texto, como tokenización y etiquetado de partes del discurso. Además, es rápida, eficiente y escalable, y cuenta con una comunidad activa y amplia documentación."
      ],
      "metadata": {
        "id": "yoFb3aSf7AsG"
      }
    },
    {
      "cell_type": "code",
      "source": [
        "# !python -m spacy download es_core_news_md"
      ],
      "metadata": {
        "id": "Xq3fUDBv0qXi"
      },
      "execution_count": 1,
      "outputs": []
    },
    {
      "cell_type": "code",
      "source": [
        "# pip install spacy\n",
        "import spacy "
      ],
      "metadata": {
        "id": "P6QBFhb0xaug"
      },
      "execution_count": 2,
      "outputs": []
    },
    {
      "cell_type": "code",
      "source": [
        "nlp = spacy.load('es_core_news_md') # Bajar modelo en español ya que se usara en este ejemplo #cambiar por  sm(pq), md(mediano) y lg(grande)\n",
        "type(nlp)"
      ],
      "metadata": {
        "id": "u4zyo2R9ykgo",
        "outputId": "a1cbda63-683c-476f-d927-f3ad9edadf1d",
        "colab": {
          "base_uri": "https://localhost:8080/"
        }
      },
      "execution_count": 3,
      "outputs": [
        {
          "output_type": "execute_result",
          "data": {
            "text/plain": [
              "spacy.lang.es.Spanish"
            ]
          },
          "metadata": {},
          "execution_count": 3
        }
      ]
    },
    {
      "cell_type": "code",
      "source": [
        "texto = \"\"\"Bogotá: capital de Colombia y ciudad más poblada del país, con una superficie de 1.587 km² y más de siete millones de habitantes. Ubicada en los Andes, Bogotá es una ciudad cultural y diversa, con importantes museos, teatros y festivales. Además, es un centro financiero y comercial clave en Colombia, responsable del 25% del PIB del país. Bogotá cuenta con una importante red de transporte que incluye el TransMilenio y el aeropuerto internacional El Dorado.\n",
        "\"\"\"\n",
        "print(texto)\n",
        "print('-------------------------------')\n",
        "documento = nlp(texto)\n",
        "type(documento)"
      ],
      "metadata": {
        "id": "GwMqSSm9ylww",
        "outputId": "9ca21564-3f80-4ef4-a0ba-055c4db678e6",
        "colab": {
          "base_uri": "https://localhost:8080/"
        }
      },
      "execution_count": 11,
      "outputs": [
        {
          "output_type": "stream",
          "name": "stdout",
          "text": [
            "Bogotá: capital de Colombia y ciudad más poblada del país, con una superficie de 1.587 km² y más de siete millones de habitantes. Ubicada en los Andes, Bogotá es una ciudad cultural y diversa, con importantes museos, teatros y festivales. Además, es un centro financiero y comercial clave en Colombia, responsable del 25% del PIB del país. Bogotá cuenta con una importante red de transporte que incluye el TransMilenio y el aeropuerto internacional El Dorado.\n",
            "\n",
            "-------------------------------\n"
          ]
        },
        {
          "output_type": "execute_result",
          "data": {
            "text/plain": [
              "spacy.tokens.doc.Doc"
            ]
          },
          "metadata": {},
          "execution_count": 11
        }
      ]
    },
    {
      "cell_type": "code",
      "source": [
        "n = 10"
      ],
      "metadata": {
        "id": "gN6YHBhXzy7H"
      },
      "execution_count": 15,
      "outputs": []
    },
    {
      "cell_type": "code",
      "source": [
        "# se imprimira las primeras n palablas del documento\n",
        "for i, elemento in enumerate(documento):\n",
        "    if i < n:\n",
        "        print(elemento)\n",
        "    else:\n",
        "        break"
      ],
      "metadata": {
        "id": "YI3zy0sGyxIw",
        "outputId": "2b2f3ee3-6739-45d8-b113-b983f8a37d27",
        "colab": {
          "base_uri": "https://localhost:8080/"
        }
      },
      "execution_count": 16,
      "outputs": [
        {
          "output_type": "stream",
          "name": "stdout",
          "text": [
            "Bogotá\n",
            ":\n",
            "capital\n",
            "de\n",
            "Colombia\n",
            "y\n",
            "ciudad\n",
            "más\n",
            "poblada\n",
            "del\n"
          ]
        }
      ]
    },
    {
      "cell_type": "code",
      "source": [
        "# se imprimira las primeras n palablas del documento y .pos_ que responde cada elemento\n",
        "for i, elemento in enumerate(documento):\n",
        "    if i < n:\n",
        "        print(elemento, elemento.pos_)\n",
        "    else:\n",
        "        break\n",
        "#explicacion de cada .pos_\n",
        "print('---------------------------------')\n",
        "print('Spacy PROPN:', spacy.explain('PROPN'))\n",
        "print('Spacy NOUN:', spacy.explain('NOUN'))\n",
        "print('Spacy PUNCT:', spacy.explain('PUNCT'))\n",
        "print('Spacy ADJ:',spacy.explain('ADJ'))\n",
        "print('Spacy NUM:',spacy.explain('NUM'))\n",
        "print('Spacy VERB:',spacy.explain('VERB'))"
      ],
      "metadata": {
        "id": "PrprYcjsyzew",
        "outputId": "105e7ee9-42aa-4ed6-de73-13fbd2a8aea3",
        "colab": {
          "base_uri": "https://localhost:8080/"
        }
      },
      "execution_count": 21,
      "outputs": [
        {
          "output_type": "stream",
          "name": "stdout",
          "text": [
            "Bogotá PROPN\n",
            ": PUNCT\n",
            "capital NOUN\n",
            "de ADP\n",
            "Colombia PROPN\n",
            "y CCONJ\n",
            "ciudad NOUN\n",
            "más ADV\n",
            "poblada ADJ\n",
            "del ADP\n",
            "---------------------------------\n",
            "Spacy PROPN: proper noun\n",
            "Spacy NOUN: noun\n",
            "Spacy PUNCT: punctuation\n",
            "Spacy ADJ: adjective\n",
            "Spacy NUM: numeral\n",
            "Spacy VERB: verb\n"
          ]
        }
      ]
    },
    {
      "cell_type": "code",
      "source": [
        "# de documento se llama el metodo .sents, que sirve para dividir el texto en oraciones.\n",
        "for oracion in documento.sents:\n",
        "    print(oracion)    \n",
        "    print('--------------------------')"
      ],
      "metadata": {
        "id": "8wTGr5STy30s",
        "outputId": "11e010eb-97d9-44e9-bb2b-f5c59bb59e67",
        "colab": {
          "base_uri": "https://localhost:8080/"
        }
      },
      "execution_count": 22,
      "outputs": [
        {
          "output_type": "stream",
          "name": "stdout",
          "text": [
            "Bogotá: capital de Colombia y ciudad más poblada del país, con una superficie de 1.587 km² y más de siete millones de habitantes.\n",
            "--------------------------\n",
            "Ubicada en los Andes, Bogotá es una ciudad cultural y diversa, con importantes museos, teatros y festivales.\n",
            "--------------------------\n",
            "Además, es un centro financiero y comercial clave en Colombia, responsable del 25% del PIB del país.\n",
            "--------------------------\n",
            "Bogotá cuenta con una importante red de transporte que incluye el TransMilenio y el aeropuerto internacional El Dorado.\n",
            "\n",
            "--------------------------\n"
          ]
        }
      ]
    },
    {
      "cell_type": "markdown",
      "source": [
        "# TOKENIZACIÓN\n",
        "\n",
        "La tokenización es el proceso de dividir un texto en unidades más pequeñas llamadas tokens, que pueden ser palabras, frases o símbolos. La tokenización es necesaria para analizar y procesar el texto en componentes más pequeños y manejables."
      ],
      "metadata": {
        "id": "RFbsFMl-6nL_"
      }
    },
    {
      "cell_type": "code",
      "source": [
        "nlpt = spacy.load('es_core_news_md') # Bajar modelo en español ya que se usara en este ejemplo #cambiar por  sm(pq), md(mediano) y lg(grande)\n",
        "type(nlp)"
      ],
      "metadata": {
        "id": "xf4il6ZO64S5",
        "outputId": "4c21a56c-818e-4ad2-9c1f-b82f2707940f",
        "colab": {
          "base_uri": "https://localhost:8080/"
        }
      },
      "execution_count": 23,
      "outputs": [
        {
          "output_type": "execute_result",
          "data": {
            "text/plain": [
              "spacy.lang.es.Spanish"
            ]
          },
          "metadata": {},
          "execution_count": 23
        }
      ]
    },
    {
      "cell_type": "code",
      "source": [
        "texto = \"Un pasaje sin escalas desde Bogotá a Buenos Aires cuesta $500,00 dólares, aproximadamente. Este viaje te llevará a través de los hermosos paisajes de América del Sur, pasando por los Andes y el río de la Plata\"\n",
        "documento = nlp(texto)\n",
        "print(documento)\n"
      ],
      "metadata": {
        "id": "WB5iozf87Zif",
        "outputId": "5cf4a3a9-925d-43c3-d37c-0bc7357f3a65",
        "colab": {
          "base_uri": "https://localhost:8080/"
        }
      },
      "execution_count": 47,
      "outputs": [
        {
          "output_type": "stream",
          "name": "stdout",
          "text": [
            "Un pasaje sin escalas desde Bogotá a Buenos Aires cuesta $500,00 dólares, aproximadamente. Este viaje te llevará a través de los hermosos paisajes de América del Sur, pasando por los Andes y el río de la Plata\n"
          ]
        }
      ]
    },
    {
      "cell_type": "code",
      "source": [
        "n = 15"
      ],
      "metadata": {
        "id": "nzy9slQ-7z4z"
      },
      "execution_count": 48,
      "outputs": []
    },
    {
      "cell_type": "code",
      "source": [
        "# se imprimira las primeras n palablas del documento\n",
        "for i, elemento in enumerate(documento):\n",
        "    if i < n:\n",
        "        print(elemento, ' / ')\n",
        "        print(type(elemento))\n",
        "        print('---')\n",
        "    else:\n",
        "        break"
      ],
      "metadata": {
        "id": "wvZXSUQP7xbL",
        "outputId": "56f52b68-c79b-456b-e068-f6cb1f9e9efb",
        "colab": {
          "base_uri": "https://localhost:8080/"
        }
      },
      "execution_count": 49,
      "outputs": [
        {
          "output_type": "stream",
          "name": "stdout",
          "text": [
            "Un  / \n",
            "<class 'spacy.tokens.token.Token'>\n",
            "---\n",
            "pasaje  / \n",
            "<class 'spacy.tokens.token.Token'>\n",
            "---\n",
            "sin  / \n",
            "<class 'spacy.tokens.token.Token'>\n",
            "---\n",
            "escalas  / \n",
            "<class 'spacy.tokens.token.Token'>\n",
            "---\n",
            "desde  / \n",
            "<class 'spacy.tokens.token.Token'>\n",
            "---\n",
            "Bogotá  / \n",
            "<class 'spacy.tokens.token.Token'>\n",
            "---\n",
            "a  / \n",
            "<class 'spacy.tokens.token.Token'>\n",
            "---\n",
            "Buenos  / \n",
            "<class 'spacy.tokens.token.Token'>\n",
            "---\n",
            "Aires  / \n",
            "<class 'spacy.tokens.token.Token'>\n",
            "---\n",
            "cuesta  / \n",
            "<class 'spacy.tokens.token.Token'>\n",
            "---\n",
            "$  / \n",
            "<class 'spacy.tokens.token.Token'>\n",
            "---\n",
            "500,00  / \n",
            "<class 'spacy.tokens.token.Token'>\n",
            "---\n",
            "dólares  / \n",
            "<class 'spacy.tokens.token.Token'>\n",
            "---\n",
            ",  / \n",
            "<class 'spacy.tokens.token.Token'>\n",
            "---\n",
            "aproximadamente  / \n",
            "<class 'spacy.tokens.token.Token'>\n",
            "---\n"
          ]
        }
      ]
    },
    {
      "cell_type": "code",
      "source": [
        "for i in range(n):\n",
        "    elemento = documento[i]\n",
        "    if elemento.is_currency:\n",
        "        print('is_currency:', f\"[{i}] {elemento} -  {elemento.text}\")\n",
        "        print('------------------------------------------')\n",
        "    if elemento.is_punct:\n",
        "        print(' is_punct:', f\"[{i}] {elemento} - {elemento.text}\")\n",
        "        print('------------------------------------------')\n",
        "    # if not elemento.is_stop:\n",
        "    if  elemento.is_stop:  \n",
        "        print('is_stop', f\"[{i}] {elemento}\")\n",
        "        print('------------------------------------------') #Palabras no conectoras conectoras o no\n",
        "    # if elemento.lower_:\n",
        "    #     print(f\"[{i}] {elemento} - lower_: {elemento.text}\")\n",
        "    #     print('------------------------------------------')\n",
        "\n",
        "\n",
        "print('Cantidad de tokens :', len(documento))\n",
        "print('Del token 0 al 7 :', documento[0:7])\n",
        "print('Token 9 :', documento[9])"
      ],
      "metadata": {
        "id": "koDExQaC75V9",
        "outputId": "8bea19bb-19be-4d89-8e20-fbe2f63d0aad",
        "colab": {
          "base_uri": "https://localhost:8080/"
        }
      },
      "execution_count": 62,
      "outputs": [
        {
          "output_type": "stream",
          "name": "stdout",
          "text": [
            "is_stop [0] Un\n",
            "------------------------------------------\n",
            "is_stop [2] sin\n",
            "------------------------------------------\n",
            "is_stop [4] desde\n",
            "------------------------------------------\n",
            "is_stop [6] a\n",
            "------------------------------------------\n",
            "is_stop [7] Buenos\n",
            "------------------------------------------\n",
            "is_currency: [10] $ -  $\n",
            "------------------------------------------\n",
            " is_punct: [13] , - ,\n",
            "------------------------------------------\n",
            "is_stop [14] aproximadamente\n",
            "------------------------------------------\n",
            "Cantidad de tokens : 41\n",
            "Del token 0 al 7 : Un pasaje sin escalas desde Bogotá a\n",
            "Token 9 : cuesta\n"
          ]
        }
      ]
    },
    {
      "cell_type": "code",
      "source": [
        "## se genera errores, porque este tipo de elemento no permite asignación\n",
        "# documento[9] = 'COSTO'"
      ],
      "metadata": {
        "id": "Ix7OPG-37-YB",
        "outputId": "922d8df1-9cb3-426d-a3d2-b0a08fc38a9d",
        "colab": {
          "base_uri": "https://localhost:8080/",
          "height": 166
        }
      },
      "execution_count": 31,
      "outputs": [
        {
          "output_type": "error",
          "ename": "TypeError",
          "evalue": "ignored",
          "traceback": [
            "\u001b[0;31m---------------------------------------------------------------------------\u001b[0m",
            "\u001b[0;31mTypeError\u001b[0m                                 Traceback (most recent call last)",
            "\u001b[0;32m<ipython-input-31-4b58a58d7427>\u001b[0m in \u001b[0;36m<cell line: 1>\u001b[0;34m()\u001b[0m\n\u001b[0;32m----> 1\u001b[0;31m \u001b[0mdocumento\u001b[0m\u001b[0;34m[\u001b[0m\u001b[0;36m9\u001b[0m\u001b[0;34m]\u001b[0m \u001b[0;34m=\u001b[0m \u001b[0;34m'URUGUAY'\u001b[0m\u001b[0;34m\u001b[0m\u001b[0;34m\u001b[0m\u001b[0m\n\u001b[0m",
            "\u001b[0;31mTypeError\u001b[0m: 'spacy.tokens.doc.Doc' object does not support item assignment"
          ]
        }
      ]
    }
  ]
}