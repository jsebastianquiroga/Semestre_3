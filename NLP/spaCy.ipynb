{
  "nbformat": 4,
  "nbformat_minor": 0,
  "metadata": {
    "colab": {
      "provenance": [],
      "collapsed_sections": [
        "m4cmOojch_to",
        "gKiIShYiXv1C",
        "ydlq9_vRaUdQ",
        "yfxtbQ_2ZrWL"
      ],
      "include_colab_link": true
    },
    "kernelspec": {
      "name": "python3",
      "display_name": "Python 3"
    },
    "language_info": {
      "name": "python"
    }
  },
  "cells": [
    {
      "cell_type": "markdown",
      "metadata": {
        "id": "view-in-github",
        "colab_type": "text"
      },
      "source": [
        "<a href=\"https://colab.research.google.com/github/jsebastianquiroga/Semestre_3/blob/main/NLP/spaCy.ipynb\" target=\"_parent\"><img src=\"https://colab.research.google.com/assets/colab-badge.svg\" alt=\"Open In Colab\"/></a>"
      ]
    },
    {
      "cell_type": "markdown",
      "source": [
        "# Libreria Spacy:\n",
        "\n",
        "spaCy es una librería de procesamiento de lenguaje natural en Python que ofrece herramientas y modelos pre-entrenados para realizar tareas de procesamiento de texto, como tokenización y etiquetado de partes del discurso. Además, es rápida, eficiente y escalable, y cuenta con una comunidad activa y amplia documentación."
      ],
      "metadata": {
        "id": "yoFb3aSf7AsG"
      }
    },
    {
      "cell_type": "code",
      "source": [
        "# !python -m spacy download es_core_news_sm\n",
        "# !python -m spacy download es_core_news_md\n",
        "# !python -m spacy download es_core_news_lg"
      ],
      "metadata": {
        "id": "Xq3fUDBv0qXi"
      },
      "execution_count": null,
      "outputs": []
    },
    {
      "cell_type": "code",
      "source": [
        "# pip install spacy\n",
        "import spacy \n",
        "import pandas as pd"
      ],
      "metadata": {
        "id": "P6QBFhb0xaug"
      },
      "execution_count": 6,
      "outputs": []
    },
    {
      "cell_type": "code",
      "source": [
        "nlp = spacy.load('es_core_news_md') # Bajar modelo en español ya que se usara en este ejemplo #cambiar por  sm(pq), md(mediano) y lg(grande)\n",
        "type(nlp)"
      ],
      "metadata": {
        "id": "u4zyo2R9ykgo",
        "outputId": "47996032-771d-44ce-b17c-82654faffe6e",
        "colab": {
          "base_uri": "https://localhost:8080/"
        }
      },
      "execution_count": 7,
      "outputs": [
        {
          "output_type": "execute_result",
          "data": {
            "text/plain": [
              "spacy.lang.es.Spanish"
            ]
          },
          "metadata": {},
          "execution_count": 7
        }
      ]
    },
    {
      "cell_type": "code",
      "source": [
        "texto = \"\"\"Bogotá: capital de Colombia y ciudad más poblada del país, con una superficie de 1.587 km² y más de siete millones de habitantes. Ubicada en los Andes, Bogotá es una ciudad cultural y diversa, con importantes museos, teatros y festivales. Además, es un centro financiero y comercial clave en Colombia, responsable del 25% del PIB del país. Bogotá cuenta con una importante red de transporte que incluye el TransMilenio y el aeropuerto internacional El Dorado.\n",
        "\"\"\"\n",
        "print(texto)\n",
        "print('-------------------------------')\n",
        "documento = nlp(texto)\n",
        "type(documento)"
      ],
      "metadata": {
        "id": "GwMqSSm9ylww",
        "outputId": "cad4eb97-43fb-4819-b1a6-7de104c3df79",
        "colab": {
          "base_uri": "https://localhost:8080/"
        }
      },
      "execution_count": 8,
      "outputs": [
        {
          "output_type": "stream",
          "name": "stdout",
          "text": [
            "Bogotá: capital de Colombia y ciudad más poblada del país, con una superficie de 1.587 km² y más de siete millones de habitantes. Ubicada en los Andes, Bogotá es una ciudad cultural y diversa, con importantes museos, teatros y festivales. Además, es un centro financiero y comercial clave en Colombia, responsable del 25% del PIB del país. Bogotá cuenta con una importante red de transporte que incluye el TransMilenio y el aeropuerto internacional El Dorado.\n",
            "\n",
            "-------------------------------\n"
          ]
        },
        {
          "output_type": "execute_result",
          "data": {
            "text/plain": [
              "spacy.tokens.doc.Doc"
            ]
          },
          "metadata": {},
          "execution_count": 8
        }
      ]
    },
    {
      "cell_type": "code",
      "source": [
        "n = 10"
      ],
      "metadata": {
        "id": "gN6YHBhXzy7H"
      },
      "execution_count": 9,
      "outputs": []
    },
    {
      "cell_type": "code",
      "source": [
        "# se imprimira las primeras n palablas del documento\n",
        "for i, elemento in enumerate(documento):\n",
        "    if i < n:\n",
        "        print(elemento)\n",
        "    else:\n",
        "        break"
      ],
      "metadata": {
        "id": "YI3zy0sGyxIw",
        "outputId": "1fd645e7-c365-404b-9fe0-715e97a1ecf3",
        "colab": {
          "base_uri": "https://localhost:8080/"
        }
      },
      "execution_count": 10,
      "outputs": [
        {
          "output_type": "stream",
          "name": "stdout",
          "text": [
            "Bogotá\n",
            ":\n",
            "capital\n",
            "de\n",
            "Colombia\n",
            "y\n",
            "ciudad\n",
            "más\n",
            "poblada\n",
            "del\n"
          ]
        }
      ]
    },
    {
      "cell_type": "code",
      "source": [
        "# se imprimira las primeras n palablas del documento y .pos_ que responde cada elemento\n",
        "for i, elemento in enumerate(documento):\n",
        "    if i < n:\n",
        "        print(elemento, elemento.pos_)\n",
        "    else:\n",
        "        break\n",
        "#explicacion de cada .pos_\n",
        "print('---------------------------------')\n",
        "print('Spacy PROPN:', spacy.explain('PROPN'))\n",
        "print('Spacy NOUN:', spacy.explain('NOUN'))\n",
        "print('Spacy PUNCT:', spacy.explain('PUNCT'))\n",
        "print('Spacy ADJ:',spacy.explain('ADJ'))\n",
        "print('Spacy NUM:',spacy.explain('NUM'))\n",
        "print('Spacy VERB:',spacy.explain('VERB'))"
      ],
      "metadata": {
        "id": "PrprYcjsyzew",
        "outputId": "3b8db400-5c6b-47a0-9e64-741b7e8f50d9",
        "colab": {
          "base_uri": "https://localhost:8080/"
        }
      },
      "execution_count": 11,
      "outputs": [
        {
          "output_type": "stream",
          "name": "stdout",
          "text": [
            "Bogotá PROPN\n",
            ": PUNCT\n",
            "capital NOUN\n",
            "de ADP\n",
            "Colombia PROPN\n",
            "y CCONJ\n",
            "ciudad NOUN\n",
            "más ADV\n",
            "poblada ADJ\n",
            "del ADP\n",
            "---------------------------------\n",
            "Spacy PROPN: proper noun\n",
            "Spacy NOUN: noun\n",
            "Spacy PUNCT: punctuation\n",
            "Spacy ADJ: adjective\n",
            "Spacy NUM: numeral\n",
            "Spacy VERB: verb\n"
          ]
        }
      ]
    },
    {
      "cell_type": "code",
      "source": [
        "# de documento se llama el metodo .sents, que sirve para dividir el texto en oraciones.\n",
        "for oracion in documento.sents:\n",
        "    print(oracion)    \n",
        "    print('--------------------------')"
      ],
      "metadata": {
        "id": "8wTGr5STy30s",
        "outputId": "584776cd-1a20-4970-e3b9-dd5c02be41d6",
        "colab": {
          "base_uri": "https://localhost:8080/"
        }
      },
      "execution_count": 12,
      "outputs": [
        {
          "output_type": "stream",
          "name": "stdout",
          "text": [
            "Bogotá: capital de Colombia y ciudad más poblada del país, con una superficie de 1.587 km² y más de siete millones de habitantes.\n",
            "--------------------------\n",
            "Ubicada en los Andes, Bogotá es una ciudad cultural y diversa, con importantes museos, teatros y festivales.\n",
            "--------------------------\n",
            "Además, es un centro financiero y comercial clave en Colombia, responsable del 25% del PIB del país.\n",
            "--------------------------\n",
            "Bogotá cuenta con una importante red de transporte que incluye el TransMilenio y el aeropuerto internacional El Dorado.\n",
            "\n",
            "--------------------------\n"
          ]
        }
      ]
    },
    {
      "cell_type": "markdown",
      "source": [
        "# TOKENIZACIÓN\n",
        "\n",
        "La tokenización es el proceso de dividir un texto en unidades más pequeñas llamadas tokens, que pueden ser palabras, frases o símbolos. La tokenización es necesaria para analizar y procesar el texto en componentes más pequeños y manejables."
      ],
      "metadata": {
        "id": "RFbsFMl-6nL_"
      }
    },
    {
      "cell_type": "code",
      "source": [
        "nlpt = spacy.load('es_core_news_md') # Bajar modelo en español ya que se usara en este ejemplo #cambiar por  sm(pq), md(mediano) y lg(grande)\n",
        "type(nlp)"
      ],
      "metadata": {
        "id": "xf4il6ZO64S5",
        "outputId": "48354669-957d-4ffc-b01f-4be5cb145b1d",
        "colab": {
          "base_uri": "https://localhost:8080/"
        }
      },
      "execution_count": 13,
      "outputs": [
        {
          "output_type": "execute_result",
          "data": {
            "text/plain": [
              "spacy.lang.es.Spanish"
            ]
          },
          "metadata": {},
          "execution_count": 13
        }
      ]
    },
    {
      "cell_type": "code",
      "source": [
        "texto = \"Un pasaje sin escalas desde Bogotá a Buenos Aires cuesta $500,00 dólares, aproximadamente. Este viaje te llevará a través de los hermosos paisajes de América del Sur, pasando por los Andes y el río de la Plata\"\n",
        "documento = nlp(texto)\n",
        "print(documento)\n"
      ],
      "metadata": {
        "id": "WB5iozf87Zif",
        "outputId": "c4fc66d5-ccb3-4674-bdec-20a4afc6f77f",
        "colab": {
          "base_uri": "https://localhost:8080/"
        }
      },
      "execution_count": 14,
      "outputs": [
        {
          "output_type": "stream",
          "name": "stdout",
          "text": [
            "Un pasaje sin escalas desde Bogotá a Buenos Aires cuesta $500,00 dólares, aproximadamente. Este viaje te llevará a través de los hermosos paisajes de América del Sur, pasando por los Andes y el río de la Plata\n"
          ]
        }
      ]
    },
    {
      "cell_type": "code",
      "source": [
        "n = 15"
      ],
      "metadata": {
        "id": "nzy9slQ-7z4z"
      },
      "execution_count": 15,
      "outputs": []
    },
    {
      "cell_type": "code",
      "source": [
        "# se imprimira las primeras n palablas del documento\n",
        "for i, elemento in enumerate(documento):\n",
        "    if i < n:\n",
        "        print(elemento, ' / ')\n",
        "        print(type(elemento))\n",
        "        print('---')\n",
        "    else:\n",
        "        break"
      ],
      "metadata": {
        "id": "wvZXSUQP7xbL",
        "outputId": "4342b759-1c42-442a-8ccf-218b24fccd12",
        "colab": {
          "base_uri": "https://localhost:8080/"
        }
      },
      "execution_count": 16,
      "outputs": [
        {
          "output_type": "stream",
          "name": "stdout",
          "text": [
            "Un  / \n",
            "<class 'spacy.tokens.token.Token'>\n",
            "---\n",
            "pasaje  / \n",
            "<class 'spacy.tokens.token.Token'>\n",
            "---\n",
            "sin  / \n",
            "<class 'spacy.tokens.token.Token'>\n",
            "---\n",
            "escalas  / \n",
            "<class 'spacy.tokens.token.Token'>\n",
            "---\n",
            "desde  / \n",
            "<class 'spacy.tokens.token.Token'>\n",
            "---\n",
            "Bogotá  / \n",
            "<class 'spacy.tokens.token.Token'>\n",
            "---\n",
            "a  / \n",
            "<class 'spacy.tokens.token.Token'>\n",
            "---\n",
            "Buenos  / \n",
            "<class 'spacy.tokens.token.Token'>\n",
            "---\n",
            "Aires  / \n",
            "<class 'spacy.tokens.token.Token'>\n",
            "---\n",
            "cuesta  / \n",
            "<class 'spacy.tokens.token.Token'>\n",
            "---\n",
            "$  / \n",
            "<class 'spacy.tokens.token.Token'>\n",
            "---\n",
            "500,00  / \n",
            "<class 'spacy.tokens.token.Token'>\n",
            "---\n",
            "dólares  / \n",
            "<class 'spacy.tokens.token.Token'>\n",
            "---\n",
            ",  / \n",
            "<class 'spacy.tokens.token.Token'>\n",
            "---\n",
            "aproximadamente  / \n",
            "<class 'spacy.tokens.token.Token'>\n",
            "---\n"
          ]
        }
      ]
    },
    {
      "cell_type": "code",
      "source": [
        "for i in range(n):\n",
        "    elemento = documento[i]\n",
        "    if elemento.is_currency:\n",
        "        print('is_currency:', f\"[{i}] {elemento} -  {elemento.text}\")\n",
        "        print('------------------------------------------')\n",
        "    if elemento.is_punct:\n",
        "        print(' is_punct:', f\"[{i}] {elemento} - {elemento.text}\")\n",
        "        print('------------------------------------------')\n",
        "    # if not elemento.is_stop:\n",
        "    if  elemento.is_stop:  \n",
        "        print('is_stop', f\"[{i}] {elemento}\")\n",
        "        print('------------------------------------------') #Palabras no conectoras conectoras o no\n",
        "    # if elemento.lower_:\n",
        "    #     print(f\"[{i}] {elemento} - lower_: {elemento.text}\")\n",
        "    #     print('------------------------------------------')\n",
        "\n",
        "\n",
        "print('Cantidad de tokens :', len(documento))\n",
        "print('Del token 0 al 7 :', documento[0:7])\n",
        "print('Token 9 :', documento[9])"
      ],
      "metadata": {
        "id": "koDExQaC75V9",
        "outputId": "ffc87bff-dbe6-4ad4-eb60-2b82bd8a7f29",
        "colab": {
          "base_uri": "https://localhost:8080/"
        }
      },
      "execution_count": 17,
      "outputs": [
        {
          "output_type": "stream",
          "name": "stdout",
          "text": [
            "is_stop [0] Un\n",
            "------------------------------------------\n",
            "is_stop [2] sin\n",
            "------------------------------------------\n",
            "is_stop [4] desde\n",
            "------------------------------------------\n",
            "is_stop [6] a\n",
            "------------------------------------------\n",
            "is_stop [7] Buenos\n",
            "------------------------------------------\n",
            "is_currency: [10] $ -  $\n",
            "------------------------------------------\n",
            " is_punct: [13] , - ,\n",
            "------------------------------------------\n",
            "is_stop [14] aproximadamente\n",
            "------------------------------------------\n",
            "Cantidad de tokens : 41\n",
            "Del token 0 al 7 : Un pasaje sin escalas desde Bogotá a\n",
            "Token 9 : cuesta\n"
          ]
        }
      ]
    },
    {
      "cell_type": "code",
      "source": [
        "## se genera errores, porque este tipo de elemento no permite asignación\n",
        "# documento[9] = 'COSTO'"
      ],
      "metadata": {
        "id": "Ix7OPG-37-YB"
      },
      "execution_count": 18,
      "outputs": []
    },
    {
      "cell_type": "markdown",
      "source": [
        "# LEMARIZACIÓN\n",
        "\n",
        "La lematización es el proceso de reducir una palabra a su forma base, llamada \"lemma\", que se utiliza para representar a todas sus formas conjugadas o declinadas. Esto ayuda a normalizar el texto y reducir la complejidad del vocabulario. La lematización se realiza mediante el uso de reglas lingüísticas o mediante el uso de modelos de aprendizaje automático."
      ],
      "metadata": {
        "id": "pmD87DnjB6f8"
      }
    },
    {
      "cell_type": "code",
      "source": [
        "nlpt = spacy.load('es_core_news_md') # Bajar modelo en español ya que se usara en este ejemplo #cambiar por  sm(pq), md(mediano) y lg(grande)\n",
        "type(nlp)"
      ],
      "metadata": {
        "id": "3gSNQjlmB6Nu",
        "outputId": "5633f415-5dcf-4ddb-a6fc-808cb9b12838",
        "colab": {
          "base_uri": "https://localhost:8080/"
        }
      },
      "execution_count": 19,
      "outputs": [
        {
          "output_type": "execute_result",
          "data": {
            "text/plain": [
              "spacy.lang.es.Spanish"
            ]
          },
          "metadata": {},
          "execution_count": 19
        }
      ]
    },
    {
      "cell_type": "code",
      "source": [
        "texto = \"\"\" Los fanáticos del fútbol aman ver partidos, es por eso que son felices viendo juegos emocionantes.\n",
        "            Ver fútbol es su felicidad.\n",
        "            Por eso ven con entusiasmo los partidos de fútbol.\n",
        "        \"\"\"\n",
        "documento = nlp(texto)"
      ],
      "metadata": {
        "id": "qse6HXgmCR5C"
      },
      "execution_count": 20,
      "outputs": []
    },
    {
      "cell_type": "code",
      "source": [
        "n = 20"
      ],
      "metadata": {
        "id": "LPJEelqED7A6"
      },
      "execution_count": 21,
      "outputs": []
    },
    {
      "cell_type": "code",
      "source": [
        "#imprimir las primeras n\n",
        "print('Se imprimen los tokens que no son puntuación, conectores o espacios: ')\n",
        "print('------------------------------------------------------------------------')\n",
        "for i, token in zip(range(n), documento):\n",
        "    if token.is_punct or token.is_stop or token.is_space:\n",
        "        continue\n",
        "    print(token)\n",
        "    print(' - ')\n",
        "    print(token.lemma_)\n",
        "    print('///////')\n",
        " "
      ],
      "metadata": {
        "id": "kU9vjQ6MCiWB",
        "outputId": "0e5623b0-34b4-4c4d-9a94-ca02ecca5152",
        "colab": {
          "base_uri": "https://localhost:8080/"
        }
      },
      "execution_count": 22,
      "outputs": [
        {
          "output_type": "stream",
          "name": "stdout",
          "text": [
            "Se imprimen los tokens que no son puntuación, conectores o espacios: \n",
            "------------------------------------------------------------------------\n",
            "fanáticos\n",
            " - \n",
            "fanático\n",
            "///////\n",
            "fútbol\n",
            " - \n",
            "fútbol\n",
            "///////\n",
            "aman\n",
            " - \n",
            "amar\n",
            "///////\n",
            "partidos\n",
            " - \n",
            "partido\n",
            "///////\n",
            "felices\n",
            " - \n",
            "feliz\n",
            "///////\n",
            "viendo\n",
            " - \n",
            "ver\n",
            "///////\n",
            "juegos\n",
            " - \n",
            "juego\n",
            "///////\n",
            "emocionantes\n",
            " - \n",
            "emocionante\n",
            "///////\n"
          ]
        }
      ]
    },
    {
      "cell_type": "code",
      "source": [
        "cons_argentina = \"\"\"\n",
        "CONSTITUCION DE LA NACION ARGENTINA\n",
        "\n",
        "PREÁMBULO\n",
        "\n",
        "Nos los representantes del pueblo de la Nación Argentina, reunidos en Congreso General Constituyente por voluntad y elección de las provincias que la componen, en cumplimiento de pactos preexistentes, con el objeto de constituir la unión nacional, afianzar la justicia, consolidar la paz interior, proveer a la defensa común, promover el bienestar general, y asegurar los beneficios de la libertad, para nosotros, para nuestra posteridad, y para todos los hombres del mundo que quieran habitar en el suelo argentino: invocando la protección de Dios, fuente de toda razón y justicia: ordenamos, decretamos y establecemos esta Constitución, para la Nación Argentina.\n",
        "\n",
        "PRIMERA PARTE\n",
        "\n",
        "Capítulo Primero\n",
        "\n",
        "Declaraciones, derechos y garantías\n",
        "\n",
        "Artículo 1º.- La Nación Argentina adopta para su gobierno la forma representativa republicana federal, según la establece la presente Constitución.\n",
        "\n",
        "Artículo 2º.- El Gobierno federal sostiene el culto católico apostólico romano.\n",
        "\n",
        "Artículo 3º.- Las autoridades que ejercen el Gobierno federal, residen en la ciudad que se declare Capital de la República por una ley especial del Congreso, previa cesión hecha por una o más legislaturas provinciales, del territorio que haya de federalizarse.\n",
        "\n",
        "Artículo 4º.- El Gobierno federal provee a los gastos de la Nación con los fondos del Tesoro nacional formado del producto de derechos de importación y exportación, del de la venta o locación de tierras de propiedad nacional, de la renta de Correos, de las demás contribuciones que equitativa y proporcionalmente a la población imponga el Congreso General, y de los empréstitos y operaciones de crédito que decrete el mismo Congreso para urgencias de la Nación, o para empresas de utilidad nacional.\n",
        "\n",
        "Artículo 5º.- Cada provincia dictará para sí una Constitución bajo el sistema representativo republicano, de acuerdo con los principios, declaraciones y garantías de la Constitución Nacional; y que asegure su administración de justicia, su régimen municipal, y la educación primaria. Bajo de estas condiciones el Gobierno federal, garante a cada provincia el goce y ejercicio de sus instituciones.\n",
        "\n",
        "Artículo 6º.- El Gobierno federal interviene en el territorio de las provincias para garantir la forma republicana de gobierno, o repeler invasiones exteriores, y a requisición de sus autoridades constituidas para sostenerlas o restablecerlas, si hubiesen sido depuestas por la sedición, o por invasión de otra provincia.\n",
        "\n",
        "Artículo 7º.- Los actos públicos y procedimientos judiciales de una provincia gozan de entera fe en las demás; y el Congreso puede por leyes generales determinar cuál será la forma probatoria de estos actos y procedimientos, y los efectos legales que producirán.\n",
        "\n",
        "Artículo 8º.- Los ciudadanos de cada provincia gozan de todos los derechos, privilegios e inmunidades inherentes al título de ciudadano en las demás. La extradición de los criminales es de obligación recíproca entre todas las provincias.\n",
        "\n",
        "Artículo 9º.- En todo el territorio de la Nación no habrá más aduanas que las nacionales, en las cuales regirán las tarifas que sancione el Congreso.\n",
        "\n",
        "Artículo 10.- En el interior de la República es libre de derechos la circulación de los efectos de producción o fabricación nacional, así como la de los géneros y mercancías de todas clases, despachadas en las aduanas exteriores.\n",
        "\n",
        "Artículo 11.- Los artículos de producción o fabricación nacional o extranjera, así como los ganados de toda especie, que pasen por territorio de una provincia a otra, serán libres de los derechos llamados de tránsito, siéndolo también los carruajes, buques o bestias en que se transporten; y ningún otro derecho podrá imponérseles en adelante, cualquiera que sea su denominación, por el hecho de transitar el territorio.\n",
        "\n",
        "Artículo 12.- Los buques destinados de una provincia a otra, no serán obligados a entrar, anclar y pagar derechos por causa de tránsito, sin que en ningún caso puedan concederse preferencias a un puerto respecto de otro, por medio de leyes o reglamentos de comercio.\n",
        "\n",
        "Artículo 13.- Podrán admitirse nuevas provincias en la Nación; pero no podrá erigirse una provincia en el territorio de otra u otras, ni de varias formarse una sola, sin el consentimiento de la Legislatura de las provincias interesadas y del Congreso.\n",
        "\n",
        "Artículo 14.- Todos los habitantes de la Nación gozan de los siguientes derechos conforme a las leyes que reglamenten su ejercicio; a saber: de trabajar y ejercer toda industria lícita; de navegar y comerciar; de peticionar a las autoridades; de entrar, permanecer, transitar y salir del territorio argentino; de publicar sus ideas por la prensa sin censura previa; de usar y disponer de su propiedad; de asociarse con fines útiles; de profesar libremente su culto; de enseñar y aprender.\n",
        "\n",
        "Artículo 14 bis.- El trabajo en sus diversas formas gozará de la protección de las leyes, las que asegurarán al trabajador: condiciones dignas y equitativas de labor, jornada limitada; descanso y vacaciones pagados; retribución justa; salario mínimo vital móvil; igual remuneración por igual tarea; participación en las ganancias de las empresas, con control de la producción y colaboración en la dirección; protección contra el despido arbitrario; estabilidad del empleado público; organización sindical libre y democrática, reconocida por la simple inscripción en un registro especial.\n",
        "\n",
        "Queda garantizado a los gremios: concertar convenios colectivos de trabajo; recurrir a la conciliación y al arbitraje; el derecho de huelga. Los representantes gremiales gozarán de las garantías necesarias para el cumplimiento de su gestión sindical y las relacionadas con la estabilidad de su empleo.\n",
        "\n",
        "El Estado otorgará los beneficios de la seguridad social, que tendrá carácter de integral e irrenunciable. En especial, la ley establecerá: el seguro social obligatorio, que estará a cargo de entidades nacionales o provinciales con autonomía financiera y económica, administradas por los interesados con participación del Estado, sin que pueda existir superposición de aportes; jubilaciones y pensiones móviles; la protección integral de la familia; la defensa del bien de familia; la compensación económica familiar y el acceso a una vivienda digna.\n",
        "\n",
        "Artículo 15.- En la Nación Argentina no hay esclavos: los pocos que hoy existen quedan libres desde la jura de esta Constitución; y una ley especial reglará las indemnizaciones a que dé lugar esta declaración. Todo contrato de compra y venta de personas es un crimen de que serán responsables los que lo celebrasen, y el escribano o funcionario que lo autorice. Y los esclavos que de cualquier modo se introduzcan quedan libres por el solo hecho de pisar el territorio de la República.\n",
        "\n",
        "Artículo 16.- La Nación Argentina no admite prerrogativas de sangre, ni de nacimiento: no hay en ella fueros personales ni títulos de nobleza. Todos sus habitantes son iguales ante la ley, y admisibles en los empleos sin otra condición que la idoneidad. La igualdad es la base del impuesto y de las cargas públicas.\n",
        "\n",
        "Artículo 17.- La propiedad es inviolable, y ningún habitante de la Nación puede ser privado de ella, sino en virtud de sentencia fundada en ley. La expropiación por causa de utilidad pública, debe ser calificada por ley y previamente indemnizada. Sólo el Congreso impone las contribuciones que se expresan en el Artículo 4º. Ningún servicio personal es exigible, sino en virtud de ley o de sentencia fundada en ley. Todo autor o inventor es propietario exclusivo de su obra, invento o descubrimiento, por el término que le acuerde la ley. La confiscación de bienes queda borrada para siempre del Código Penal argentino. Ningún cuerpo armado puede hacer requisiciones, ni exigir auxilios de ninguna especie.\n",
        "\n",
        "Artículo 18.- Ningún habitante de la Nación puede ser penado sin juicio previo fundado en ley anterior al hecho del proceso, ni juzgado por comisiones especiales, o sacado de los jueces designados por la ley antes del hecho de la causa. Nadie puede ser obligado a declarar contra sí mismo; ni arrestado sino en virtud de orden escrita de autoridad competente. Es inviolable la defensa en juicio de la persona y de los derechos. El domicilio es inviolable, como también la correspondencia epistolar y los papeles privados; y una ley determinará en qué casos y con qué justificativos podrá procederse a su allanamiento y ocupación. Quedan abolidos para siempre la pena de muerte por causas políticas, toda especie de tormento y los azotes. Las cárceles de la Nación serán sanas y limpias, para seguridad y no para castigo de los reos detenidos en ellas, y toda medida que a pretexto de precaución conduzca a mortificarlos más allá de lo que aquélla exija, hará responsable al juez que la autorice.\n",
        "\n",
        "Artículo 19.- Las acciones privadas de los hombres que de ningún modo ofendan al orden y a la moral pública, ni perjudiquen a un tercero, están sólo reservadas a Dios, y exentas de la autoridad de los magistrados. Ningún habitante de la Nación será obligado a hacer lo que no manda la ley, ni privado de lo que ella no prohíbe.\n",
        "\n",
        "Artículo 20.- Los extranjeros gozan en el territorio de la Nación de todos los derechos civiles del ciudadano; pueden ejercer su industria, comercio y profesión; poseer bienes raíces, comprarlos y enajenarlos; navegar los ríos y costas; ejercer libremente su culto; testar y casarse conforme a las leyes. No están obligados a admitir la ciudadanía, ni a pagar contribuciones forzosas extraordinarias. Obtienen nacionalización residiendo dos años continuos en la Nación; pero la autoridad puede acortar este término a favor del que lo solicite, alegando y probando servicios a la República.\n",
        "\n",
        "Artículo 21.- Todo ciudadano argentino está obligado a armarse en defensa de la patria y de esta Constitución, conforme a las leyes que al efecto dicte el Congreso y a los decretos del Ejecutivo nacional. Los ciudadanos por naturalización son libres de prestar o no este servicio por el término de diez años contados desde el día en que obtengan su carta de ciudadanía.\n",
        "\n",
        "Artículo 22.- El pueblo no delibera ni gobierna, sino por medio de sus representantes y autoridades creadas por esta Constitución. Toda fuerza armada o reunión de personas que se atribuya los derechos del pueblo y peticione a nombre de éste, comete delito de sedición.\n",
        "\n",
        "Artículo 23.- En caso de conmoción interior o de ataque exterior que pongan en peligro el ejercicio de esta Constitución y de las autoridades creadas por ella, se declarará en estado de sitio la provincia o territorio en donde exista la perturbación del orden, quedando suspensas allí las garantías constitucionales. Pero durante esta suspensión no podrá el presidente de la República condenar por sí ni aplicar penas. Su poder se limitará en tal caso respecto de las personas, a arrestarlas o trasladarlas de un punto a otro de la Nación, si ellas no prefiriesen salir fuera del territorio argentino.\n",
        "\n",
        "Artículo 24.- El Congreso promoverá la reforma de la actual legislación en todos sus ramos, y el establecimiento del juicio por jurados.\n",
        "\n",
        "Artículo 25.- El Gobierno federal fomentará la inmigración europea; y no podrá restringir, limitar ni gravar con impuesto alguno la entrada en el territorio argentino de los extranjeros que traigan por objeto labrar la tierra, mejorar las industrias, e introducir y enseñar las ciencias y las artes.\n",
        "\n",
        "Artículo 26.- La navegación de los ríos interiores de la Nación es libre para todas las banderas, con sujeción únicamente a los reglamentos que dicte la autoridad nacional.\n",
        "\n",
        "Artículo 27.- El Gobierno federal está obligado a afianzar sus relaciones de paz y comercio con las potencias extranjeras por medio de tratados que estén en conformidad con los principios de derecho público establecidos en esta Constitución.\n",
        "\n",
        "Artículo 28.- Los principios, garantías y derechos reconocidos en los anteriores artículos, no podrán ser alterados por las leyes que reglamenten su ejercicio.\n",
        "\n",
        "Artículo 29.- El Congreso no puede conceder al Ejecutivo nacional, ni las Legislaturas provinciales a los gobernadores de provincia, facultades extraordinarias, ni la suma del poder público, ni otorgarles sumisiones o supremacías por las que la vida, el honor o las fortunas de los argentinos queden a merced de gobiernos o persona alguna. Actos de esta naturaleza llevan consigo una nulidad insanable, y sujetarán a los que los formulen, consientan o firmen, a la responsabilidad y pena de los infames traidores a la patria.\n",
        "\n",
        "Artículo 30.- La Constitución puede reformarse en el todo o en cualquiera de sus partes. La necesidad de reforma debe ser declarada por el Congreso con el voto de dos terceras partes, al menos, de sus miembros; pero no se efectuará sino por una Convención convocada al efecto.\n",
        "\n",
        "Artículo 31.- Esta Constitución, las leyes de la Nación que en su consecuencia se dicten por el Congreso y los tratados con las potencias extranjeras son la ley suprema de la Nación; y las autoridades de cada provincia están obligadas a conformarse a ella, no obstante cualquiera disposición en contrario que contengan las leyes o constituciones provinciales, salvo para la provincia de Buenos Aires, los tratados ratificados después del Pacto de 11 de noviembre de 1859.\n",
        "\n",
        "Artículo 32.- El Congreso federal no dictará leyes que restrinjan la libertad de imprenta o establezcan sobre ella la jurisdicción federal.\n",
        "\n",
        "Artículo 33.- Las declaraciones, derechos y garantías que enumera la Constitución no serán entendidos como negación de otros derechos y garantías no enumerados; pero que nacen del principio de la soberanía del pueblo y de la forma republicana de gobierno.\n",
        "\n",
        "Artículo 34.- Los jueces de las cortes federales no podrán serlo al mismo tiempo de los tribunales de provincia, ni el servicio federal, tanto en lo civil como en lo militar da residencia en la provincia en que se ejerza, y que no sea la del domicilio habitual del empleado, entendiéndose esto para los efectos de optar a empleos en la provincia en que accidentalmente se encuentren.\n",
        "\n",
        "Artículo 35.- Las denominaciones adoptadas sucesivamente desde 1810 hasta el presente, a saber: Provincias Unidas del Río de la Plata, República Argentina, Confederación Argentina, serán en adelante nombres oficiales indistintamente para la designación del Gobierno y territorio de las provincias, empleándose las palabras \"Nación Argentina\" en la formación y sanción de las leyes.\n",
        "\n",
        "CAPÍTULO SEGUNDO\n",
        "\n",
        "Nuevos derechos y garantías\n",
        "\n",
        "Artículo 36.- Esta Constitución mantendrá su imperio aun cuando se interrumpiere su observancia por actos de fuerza contra el orden institucional y el sistema democrático. Estos actos serán insanablemente nulos.\n",
        "\n",
        "Sus autores serán pasibles de la sanción prevista en el Artículo 29, inhabilitados a perpetuidad para ocupar cargos públicos y excluidos de los beneficios del indulto y la conmutación de penas.\n",
        "\n",
        "Tendrán las mismas sanciones quienes, como consecuencia de estos actos, usurparen funciones previstas para las autoridades de esta Constitución o las de las provincias, los que responderán civil y penalmente de sus actos. Las acciones respectivas serán imprescriptibles.\n",
        "\n",
        "Todos los ciudadanos tienen el derecho de resistencia contra quienes ejecutaren los actos de fuerza enunciados en este artículo.\n",
        "\n",
        "Atentará asimismo contra el sistema democrático quien incurriere en grave delito doloso contra el Estado que conlleve enriquecimiento, quedando inhabilitado por el tiempo que las leyes determinen para ocupar cargos o empleos públicos.\n",
        "\n",
        "El Congreso sancionará una ley sobre ética pública para el ejercicio de la función.\n",
        "\n",
        "Artículo 37.- Esta Constitución garantiza el pleno ejercicio de los derechos políticos, con arreglo al principio de la soberanía popular y de las leyes que se dicten en consecuencia. El sufragio es universal, igual, secreto y obligatorio.\n",
        "\n",
        "La igualdad real de oportunidades entre varones y mujeres para el acceso a cargos electivos y partidarios se garantizará por acciones positivas en la regulación de los partidos políticos y en el régimen electoral.\n",
        "\n",
        "Artículo 38.- Los partidos políticos son instituciones fundamentales del sistema democrático.\n",
        "\n",
        "Su creación y el ejercicio de sus actividades son libres dentro del respeto a esta Constitución, la que garantiza su organización y funcionamiento democráticos, la representación de las minorías, la competencia para la postulación de candidatos a cargos públicos electivos, el acceso a la información pública y la difusión de sus ideas.\n",
        "\n",
        "El Estado contribuye al sostenimiento económico de sus actividades y de la capacitación de sus dirigentes.\n",
        "\n",
        "Los partidos políticos deberán dar publicidad del origen y destino de sus fondos y patrimonio.\n",
        "\n",
        "Artículo 39.- Los ciudadanos tienen el derecho de iniciativa para presentar proyectos de ley en la Cámara de Diputados. El Congreso deberá darles expreso tratamiento dentro del término de doce meses.\n",
        "\n",
        "El Congreso, con el voto de la mayoría absoluta de la totalidad de los miembros de cada Cámara, sancionará una ley reglamentaria que no podrá exigir más del tres por ciento del padrón electoral nacional, dentro del cual deberá contemplar una adecuada distribución territorial para suscribir la iniciativa.\n",
        "\n",
        "No serán objeto de iniciativa popular los proyectos referidos a reforma constitucional, tratados internacionales, tributos, presupuesto y materia penal.\n",
        "\n",
        "Artículo 40.- El Congreso, a iniciativa de la Cámara de Diputados, podrá someter a consulta popular un proyecto de ley. La ley de convocatoria no podrá ser vetada. El voto afirmativo del proyecto por el pueblo de la Nación lo convertirá en ley y su promulgación será automática.\n",
        "\n",
        "El Congreso o el presidente de la Nación, dentro de sus respectivas competencias, podrán convocar a consulta popular no vinculante. En este caso el voto no será obligatorio.\n",
        "\n",
        "El Congreso, con el voto de la mayoría absoluta de la totalidad de los miembros de cada Cámara, reglamentará las materias, procedimientos y oportunidad de la consulta popular.\n",
        "\n",
        "Artículo 41.- Todos los habitantes gozan del derecho a un ambiente sano, equilibrado, apto para el desarrollo humano y para que las actividades productivas satisfagan las necesidades presentes sin comprometer las de las generaciones futuras; y tienen el deber de preservarlo. El daño ambiental generará prioritariamente la obligación de recomponer, según lo establezca la ley.\n",
        "\n",
        "Las autoridades proveerán a la protección de este derecho, a la utilización racional de los recursos naturales, a la preservación del patrimonio natural y cultural y de la diversidad biológica, y a la información y educación ambientales.\n",
        "\n",
        "Corresponde a la Nación dictar las normas que contengan los presupuestos mínimos de protección, y a las provincias, las necesarias para complementarlas, sin que aquéllas alteren las jurisdicciones locales.\n",
        "\n",
        "Se prohíbe el ingreso al territorio nacional de residuos actual o potencialmente peligrosos, y de los radiactivos.\n",
        "\n",
        "Artículo 42.- Los consumidores y usuarios de bienes y servicios tienen derecho, en la relación de consumo, a la protección de su salud, seguridad e intereses económicos; a una información adecuada y veraz; a la libertad de elección, y a condiciones de trato equitativo y digno.\n",
        "\n",
        "Las autoridades proveerán a la protección de esos derechos, a la educación para el consumo, a la defensa de la competencia contra toda forma de distorsión de los mercados, al control de los monopolios naturales y legales, al de la calidad y eficiencia de los servicios públicos, y a la constitución de asociaciones de consumidores y de usuarios.\n",
        "\n",
        "La legislación establecerá procedimientos eficaces para la prevención y solución de conflictos, y los marcos regulatorios de los servicios públicos de competencia nacional, previendo la necesaria participación de las asociaciones de consumidores y usuarios y de las provincias interesadas, en los organismos de control.\n",
        "\n",
        "Artículo 43.- Toda persona puede interponer acción expedita y rápida de amparo, siempre que no exista otro medio judicial más idóneo, contra todo acto u omisión de autoridades públicas o de particulares, que en forma actual o inminente lesione, restrinja, altere o amenace, con arbitrariedad o ilegalidad manifiesta, derechos y garantías reconocidos por esta Constitución, un tratado o una ley. En el caso, el juez podrá declarar la inconstitucionalidad de la norma en que se funde el acto u omisión lesiva.\n",
        "\n",
        "Podrán interponer esta acción contra cualquier forma de discriminación y en lo relativo a los derechos que protegen al ambiente, a la competencia, al usuario y al consumidor, así como a los derechos de incidencia colectiva en general, el afectado, el defensor del pueblo y las asociaciones que propendan a esos fines, registradas conforme a la ley, la que determinará los requisitos y formas de su organización.\n",
        "\n",
        "Toda persona podrá interponer esta acción para tomar conocimiento de los datos a ella referidos y de su finalidad, que consten en registros o bancos de datos públicos, o los privados destinados a proveer informes, y en caso de falsedad o discriminación, para exigir la supresión, rectificación, confidencialidad o actualización de aquéllos. No podrá afectarse el secreto de las fuentes de información periodística.\n",
        "\n",
        "Cuando el derecho lesionado, restringido, alterado o amenazado fuera la libertad física, o en caso de agravamiento ilegítimo en la forma o condiciones de detención, o en el de desaparición forzada de personas, la acción de hábeas corpus podrá ser interpuesta por el afectado o por cualquiera en su favor y el juez resolverá de inmediato, aun durante la vigencia del estado de sitio.\n",
        "\n",
        "SEGUNDA PARTE\n",
        "\n",
        "AUTORIDADES DE LA NACION\n",
        "\n",
        "TITULO PRIMERO\n",
        "\n",
        "GOBIERNO FEDERAL\n",
        "\n",
        "SECCION PRIMERA\n",
        "\n",
        "DEL PODER LEGISLATIVO\n",
        "\n",
        "Artículo 44.- Un Congreso compuesto de dos Cámaras, una de Diputados de la Nación y otra de Senadores de las provincias y de la ciudad de Buenos Aires, será investido del Poder Legislativo de la Nación.\n",
        "\n",
        "CAPÍTULO PRIMERO\n",
        "\n",
        "De la Cámara de Diputados\n",
        "\n",
        "Artículo 45.- La Cámara de Diputados se compondrá de representantes elegidos directamente por el pueblo de las provincias, de la ciudad de Buenos Aires, y de la Capital en caso de traslado, que se consideran a este fin como distritos electorales de un solo Estado y a simple pluralidad de sufragios. El número de representantes será de uno por cada treinta y tres mil habitantes o fracción que no baje de dieciséis mil quinientos. Después de la realización de cada censo, el Congreso fijará la representación con arreglo al mismo, pudiendo aumentar pero no disminuir la base expresada para cada diputado.\n",
        "\n",
        "Artículo 46.- Los diputados para la primera Legislatura se nombrarán en la proporción siguiente: por la provincia de Buenos Aires doce: por la de Córdoba seis: por la de Catamarca tres: por la de Corrientes cuatro: por la de Entre Ríos dos: por la de Jujuy dos: por la de Mendoza tres: por la de La Rioja dos: por la de Salta tres: por la de Santiago cuatro: por la de San Juan dos: por la de Santa Fe dos: por la de San Luis dos: y por la de Tucumán tres.\n",
        "\n",
        "Artículo 47.- Para la segunda Legislatura deberá realizarse el censo general, y arreglarse a él el número de diputados; pero este censo sólo podrá renovarse cada diez años.\n",
        "\n",
        "Artículo 48.- Para ser diputado se requiere haber cumplido la edad de veinticinco años, tener cuatro años de ciudadanía en ejercicio, y ser natural de la provincia que lo elija, o con dos años de residencia inmediata en ella.\n",
        "\n",
        "Artículo 49.- Por esta vez las Legislaturas de las provincias reglarán los medios de hacer efectiva la elección directa de los diputados de la Nación: para lo sucesivo el Congreso expedirá una ley general.\n",
        "\n",
        "Artículo 50.- Los diputados durarán en su representación por cuatro años, y son reelegibles; pero la Sala se renovará por mitad cada bienio; a cuyo efecto los nombrados para la primera Legislatura, luego que se reúnan, sortearán los que deban salir en el primer período.\n",
        "\n",
        "Artículo 51.- En caso de vacante, el Gobierno de provincia, o de la Capital, hace proceder a elección legal de un nuevo miembro.\n",
        "\n",
        "Artículo 52.- A la Cámara de Diputados corresponde exclusivamente la iniciativa de las leyes sobre contribuciones y reclutamiento de tropas.\n",
        "\n",
        "Artículo 53.- Sólo ella ejerce el derecho de acusar ante el Senado al presidente, vicepresidente, al jefe de gabinete de ministros, a los ministros y a los miembros de la Corte Suprema, en las causas de responsabilidad que se intenten contra ellos, por mal desempeño o por delito en el ejercicio de sus funciones; o por crímenes comunes, después de haber conocido de ellos y declarado haber lugar a la formación de causa por la mayoría de dos terceras partes de sus miembros presentes.\n",
        "\n",
        "CAPÍTULO SEGUNDO\n",
        "\n",
        "Del Senado\n",
        "\n",
        "Artículo 54.- El Senado se compondrá de tres senadores por cada provincia y tres por la ciudad de Buenos Aires, elegidos en forma directa y conjunta, correspondiendo dos bancas al partido político que obtenga el mayor número de votos, y la restante al partido político que le siga en número de votos. Cada senador tendrá un voto.\n",
        "\n",
        "Artículo 55.- Son requisitos para ser elegido senador: tener la edad de treinta años, haber sido seis años ciudadano de la Nación, disfrutar de una renta anual de dos mil pesos fuertes o de una entrada equivalente, y ser natural de la provincia que lo elija, o con dos años de residencia inmediata en ella.\n",
        "\n",
        "Artículo 56.- Los senadores duran seis años en el ejercicio de su mandato, y son reelegibles indefinidamente; pero el Senado se renovará a razón de una tercera parte de los distritos electorales cada dos años.\n",
        "\n",
        "Artículo 57.- El vicepresidente de la Nación será presidente del Senado; pero no tendrá voto sino en el caso que haya empate en la votación.\n",
        "\n",
        "Artículo 58.- El Senado nombrará un presidente provisorio que lo presida en caso de ausencia del vicepresidente, o cuando éste ejerce las funciones de presidente de la Nación.\n",
        "\n",
        "Artículo 59.- Al Senado corresponde juzgar en juicio público a los acusados por la Cámara de Diputados, debiendo sus miembros prestar juramento para este acto. Cuando el acusado sea el presidente de la Nación, el Senado será presidido por el presidente de la Corte Suprema. Ninguno será declarado culpable sino a mayoría de los dos tercios de los miembros presentes.\n",
        "\n",
        "Artículo 60.- Su fallo no tendrá más efecto que destituir al acusado, y aun declararle incapaz de ocupar ningún empleo de honor, de confianza o a sueldo en la Nación. Pero la parte condenada quedará, no obstante, sujeta a acusación, juicio y castigo conforme a las leyes ante los tribunales ordinarios.\n",
        "\n",
        "Artículo 61.- Corresponde también al Senado autorizar al presidente de la Nación para que declare en estado de sitio, uno o varios puntos de la República en caso de ataque exterior.\n",
        "\n",
        "Artículo 62.- Cuando vacase alguna plaza de senador por muerte, renuncia u otra causa, el Gobierno a que corresponda la vacante hace proceder inmediatamente a la elección de un nuevo miembro.\n",
        "\n",
        "CAPITULO TERCERO\n",
        "\n",
        "Disposiciones comunes a ambas Cámaras\n",
        "\n",
        "Artículo 63.- Ambas Cámaras se reunirán por sí mismas en sesiones ordinarias todos los años desde el primero de marzo hasta el treinta de noviembre. Pueden también ser convocadas extraordinariamente por el Presidente de la Nación o prorrogadas sus sesiones.\n",
        "\n",
        "Artículo 64.- Cada Cámara es juez de las elecciones, derechos y títulos de sus miembros en cuanto a su validez. Ninguna de ellas entrará en sesión sin la mayoría absoluta de sus miembros; pero un número menor podrá compeler a los miembros ausentes a que concurran a las sesiones, en los términos y bajo las penas que cada Cámara establecerá.\n",
        "\n",
        "Artículo 65.- Ambas Cámaras empiezan y concluyen sus sesiones simultáneamente. Ninguna de ellas, mientras se hallen reunidas, podrá suspender sus sesiones más de tres días, sin el consentimiento de la otra.\n",
        "\n",
        "Artículo 66.- Cada Cámara hará su reglamento y podrá con dos tercios de votos, corregir a cualquiera de sus miembros por desorden de conducta en el ejercicio de sus funciones, o removerlo por inhabilidad física o moral sobreviniente a su incorporación, y hasta excluirle de su seno; pero bastará la mayoría de uno sobre la mitad de los presentes para decidir en las renuncias que voluntariamente hicieren de sus cargos.\n",
        "\n",
        "Artículo 67.- Los senadores y diputados prestarán, en el acto de su incorporación, juramento de desempeñar debidamente el cargo, y de obrar en todo en conformidad a lo que prescribe esta Constitución.\n",
        "\n",
        "Artículo 68.- Ninguno de los miembros del Congreso puede ser acusado, interrogado judicialmente, ni molestado por las opiniones o discursos que emita desempeñando su mandato de legislador.\n",
        "\n",
        "Artículo 69.- Ningún senador o diputado, desde el día de su elección hasta el de su cese, puede ser arrestado; excepto el caso de ser sorprendido in fraganti en la ejecución de algún crimen que merezca pena de muerte, infamante, u otra aflictiva; de lo que se dará cuenta a la Cámara respectiva con la información sumaria del hecho.\n",
        "\n",
        "Artículo 70.- Cuando se forme querella por escrito ante las justicias ordinarias contra cualquier senador o diputado, examinado el mérito del sumario en juicio público, podrá cada Cámara, con dos tercios de votos, suspender en sus funciones al acusado, y ponerlo a disposición del juez competente para su juzgamiento.\n",
        "\n",
        "Artículo 71.- Cada una de las Cámaras puede hacer venir a su sala a los ministros del Poder Ejecutivo para recibir las explicaciones e informes que estime convenientes.\n",
        "\n",
        "Artículo 72.- Ningún miembro del Congreso podrá recibir empleo o comisión del Poder Ejecutivo, sin previo consentimiento de la Cámara respectiva, excepto los empleos de escala.\n",
        "\n",
        "Artículo 73.- Los eclesiásticos regulares no pueden ser miembros del Congreso, ni los gobernadores de provincia por la de su mando.\n",
        "\n",
        "Artículo 74.- Los servicios de los senadores y diputados son remunerados por el Tesoro de la Nación, con una dotación que señalará la ley.\n",
        "\n",
        "CAPITULO CUARTO\n",
        "\n",
        "Atribuciones del Congreso\n",
        "\n",
        "Artículo 75.- Corresponde al Congreso:\n",
        "\n",
        "1. Legislar en materia aduanera. Establecer los derechos de importación y exportación, los cuales, así como las avaluaciones sobre las que recaigan, serán uniformes en toda la Nación.\n",
        "\n",
        "2. Imponer contribuciones indirectas como facultad concurrente con las provincias. Imponer contribuciones directas, por tiempo determinado, proporcionalmente iguales en todo el territorio de la Nación, siempre que la defensa, seguridad común y bien general del Estado lo exijan. Las contribuciones previstas en este inciso, con excepción de la parte o el total de las que tengan asignación específica, son coparticipables.\n",
        "\n",
        "Una ley convenio, sobre la base de acuerdos entre la Nación y las provincias, instituirá regímenes de coparticipación de estas contribuciones, garantizando la automaticidad en la remisión de los fondos.\n",
        "\n",
        "La distribución entre la Nación, las provincias y la ciudad de Buenos Aires y entre éstas, se efectuará en relación directa a las competencias, servicios y funciones de cada una de ellas contemplando criterios objetivos de reparto; será equitativa, solidaria y dará prioridad al logro de un grado equivalente de desarrollo, calidad de vida e igualdad de oportunidades en todo el territorio nacional.\n",
        "\n",
        "La ley convenio tendrá como Cámara de origen el Senado y deberá ser sancionada con la mayoría absoluta de la totalidad de los miembros de cada Cámara, no podrá ser modificada unilateralmente ni reglamentada y será aprobada por las provincias.\n",
        "\n",
        "No habrá transferencia de competencias, servicios o funciones sin la respectiva reasignación de recursos, aprobada por ley del Congreso cuando correspondiere y por la provincia interesada o la ciudad de Buenos Aires en su caso.\n",
        "\n",
        "Un organismo fiscal federal tendrá a su cargo el control y fiscalización de la ejecución de lo establecido en este inciso, según lo determina la ley, la que deberá asegurar la representación de todas las provincias y la ciudad de Buenos Aires en su composición.\n",
        "\n",
        "3. Establecer y modificar asignaciones específicas de recursos coparticipables, por tiempo determinado, por ley especial aprobada por la mayoría absoluta de la totalidad de los miembros de cada Cámara.\n",
        "\n",
        "4. Contraer empréstitos sobre el crédito de la Nación.\n",
        "\n",
        "5. Disponer del uso y de la enajenación de las tierras de propiedad nacional.\n",
        "\n",
        "6. Establecer y reglamentar un banco federal con facultad de emitir moneda, así como otros bancos nacionales.\n",
        "\n",
        "7. Arreglar el pago de la deuda interior y exterior de la Nación.\n",
        "\n",
        "8. Fijar anualmente, conforme a las pautas establecidas en el tercer párrafo del inc. 2 de este artículo, el presupuesto general de gastos y cálculo de recursos de la administración nacional, en base al programa general de gobierno y al plan de inversiones públicas y aprobar o desechar la cuenta de inversión.\n",
        "\n",
        "9. Acordar subsidios del Tesoro nacional a las provincias, cuyas rentas no alcancen, según sus presupuestos, a cubrir sus gastos ordinarios.\n",
        "\n",
        "10. Reglamentar la libre navegación de los ríos interiores, habilitar los puertos que considere convenientes, y crear o suprimir aduanas.\n",
        "\n",
        "11. Hacer sellar moneda, fijar su valor y el de las extranjeras; y adoptar un sistema uniforme de pesos y medidas para toda la Nación.\n",
        "\n",
        "12. Dictar los Códigos Civil, Comercial, Penal, de Minería, y del Trabajo y Seguridad Social, en cuerpos unificados o separados, sin que tales códigos alteren las jurisdicciones locales, correspondiendo su aplicación a los tribunales federales o provinciales, según que las cosas o las personas cayeren bajo sus respectivas jurisdicciones; y especialmente leyes generales para toda la Nación sobre naturalización y nacionalidad, con sujeción al principio de nacionalidad natural y por opción en beneficio de la argentina: así como sobre bancarrotas, sobre falsificación de la moneda corriente y documentos públicos del Estado, y las que requiera el establecimiento del juicio por jurados.\n",
        "\n",
        "13. Reglar el comercio con las naciones extranjeras, y de las provincias entre sí.\n",
        "\n",
        "14. Arreglar y establecer los correos generales de la Nación.\n",
        "\n",
        "15. Arreglar definitivamente los límites del territorio de la Nación, fijar los de las provincias, crear otras nuevas, y determinar por una legislación especial la organización, administración y gobierno que deben tener los territorios nacionales, que queden fuera de los límites que se asignen a las provincias.\n",
        "\n",
        "16. Proveer a la seguridad de las fronteras.\n",
        "\n",
        "17. Reconocer la preexistencia étnica y cultural de los pueblos indígenas argentinos.\n",
        "\n",
        "Garantizar el respeto a su identidad y el derecho a una educación bilingüe e intercultural; reconocer la personería Jurídica de sus comunidades, y la posesión y propiedad comunitarias de las tierras que tradicionalmente ocupan; y regular la entrega de otras aptas y suficientes para el desarrollo humano; ninguna de ellas será enajenable, transmisible ni susceptible de gravámenes o embargos. Asegurar su participación en la gestión referida a sus recursos naturales y a los demás intereses que los afecten. Las provincias pueden ejercer concurrentemente estas atribuciones.\n",
        "\n",
        "18. Proveer lo conducente a la prosperidad del país, al adelanto y bienestar de todas las provincias, y al progreso de la ilustración, dictando planes de instrucción general y universitaria, y promoviendo la industria, la inmigración, la construcción de ferrocarriles y canales navegables, la colonización de tierras de propiedad nacional, la introducción y establecimiento de nuevas industrias, la importación de capitales extranjeros y la exploración de los ríos interiores, por leyes protectoras de estos fines y por concesiones temporales de privilegios y recompensas de estímulo.\n",
        "\n",
        "19. Proveer lo conducente al desarrollo humano, al progreso económico con justicia social, a la productividad de la economía nacional, a la generación de empleo, a la formación profesional de los trabajadores, a la defensa del valor de la moneda, a la investigación y al desarrollo científico y tecnológico, su difusión y aprovechamiento.\n",
        "\n",
        "Proveer al crecimiento armónico de la Nación y al poblamiento de su territorio; promover políticas diferenciadas que tiendan a equilibrar el desigual desarrollo relativo de provincias y regiones. Para estas iniciativas, el Senado será Cámara de origen.\n",
        "\n",
        "Sancionar leyes de organización y de base de la educación que consoliden la unidad nacional respetando las particularidades provinciales y locales; que aseguren la responsabilidad indelegable del Estado, la participación de la familia y la sociedad, la promoción de los valores democráticos y la igualdad de oportunidades y posibilidades sin discriminación alguna; y que garanticen los principios de gratuidad y equidad de la educación pública estatal y la autonomía y autarquía de las universidades nacionales.\n",
        "\n",
        "Dictar leyes que protejan la identidad y pluralidad cultural, la libre creación y circulación de las obras del autor; el patrimonio artístico y los espacios culturales y audiovisuales.\n",
        "\n",
        "20. Establecer tribunales inferiores a la Corte Suprema de Justicia; crear y suprimir empleos, fijar sus atribuciones, dar pensiones, decretar honores, y conceder amnistías generales.\n",
        "\n",
        "21. Admitir o desechar los motivos de dimisión del presidente o vicepresidente de la República; y declarar el caso de proceder a nueva elección.\n",
        "\n",
        "22. Aprobar o desechar tratados concluidos con las demás naciones y con las organizaciones internacionales y los concordatos con la Santa Sede. Los tratados y concordatos tienen jerarquía superior a las leyes.\n",
        "\n",
        "La Declaración Americana de los Derechos y Deberes del Hombre; la Declaración Universal de Derechos Humanos; la Convención Americana sobre Derechos Humanos; el Pacto Internacional de Derechos Económicos, Sociales y Culturales; el Pacto Internacional de Derechos Civiles y Políticos y su Protocolo Facultativo; la Convención sobre la Prevención y la Sanción del Delito de Genocidio; la Convención Internacional sobre la Eliminación de todas las Formas de Discriminación Racial; la Convención sobre la Eliminación de todas las Formas de Discriminación contra la Mujer; la Convención contra la Tortura y otros Tratos o Penas Crueles, Inhumanos o Degradantes; la Convención sobre los Derechos del Niño; en las condiciones de su vigencia, tienen jerarquía constitucional, no derogan artículo alguno de la primera parte de esta Constitución y deben entenderse complementarios de los derechos y garantías por ella reconocidos. Sólo podrán ser denunciados, en su caso, por el Poder Ejecutivo Nacional, previa aprobación de las dos terceras partes de la totalidad de los miembros de cada Cámara.\n",
        "\n",
        "Los demás tratados y convenciones sobre derechos humanos, luego de ser aprobados por el Congreso, requerirán del voto de las dos terceras partes de la totalidad de los miembros de cada Cámara para gozar de la jerarquía constitucional.\n",
        "\n",
        "23. Legislar y promover medidas de acción positiva que garanticen la igualdad real de oportunidades y de trato, y el pleno goce y ejercicio de los derechos reconocidos por esta Constitución y por los tratados internacionales vigentes sobre derechos humanos, en particular respecto de los niños, las mujeres, los ancianos y las personas con discapacidad.\n",
        "\n",
        "Dictar un régimen de seguridad social especial e integral en protección del niño en situación de desamparo, desde el embarazo hasta la finalización del período de enseñanza elemental, y de la madre durante el embarazo y el tiempo de lactancia.\n",
        "\n",
        "24. Aprobar tratados de integración que deleguen competencias y jurisdicción a organizaciones supraestatales en condiciones de reciprocidad e igualdad, y que respeten el orden democrático y los derechos humanos. Las normas dictadas en su consecuencia tienen jerarquía superior a las leyes.\n",
        "\n",
        "La aprobación de estos tratados con Estados de Latinoamérica requerirá la mayoría absoluta de la totalidad de los miembros de cada Cámara. En el caso de tratados con otros Estados, el Congreso de la Nación, con la mayoría absoluta de los miembros presentes de cada Cámara, declarará la conveniencia de la aprobación del tratado y sólo podrá ser aprobado con el voto de la mayoría absoluta de la totalidad de los miembros de cada Cámara, después de ciento veinte días del acto declarativo.\n",
        "\n",
        "La denuncia de los tratados referidos a este inciso, exigirá la previa aprobación de la mayoría absoluta de la totalidad da los miembros de cada Cámara.\n",
        "\n",
        "25. Autorizar al Poder Ejecutivo para declarar la guerra o hacer la paz.\n",
        "\n",
        "26. Facultar al Poder Ejecutivo para ordenar represalias, y establecer reglamentos para las presas.\n",
        "\n",
        "27. Fijar las fuerzas armadas en tiempo de paz y guerra, y dictar las normas para su organización y gobierno.\n",
        "\n",
        "28. Permitir la introducción de tropas extranjeras en el territorio de la Nación, y la salida de las fuerzas nacionales fuera de él.\n",
        "\n",
        "29. Declarar en estado de sitio uno o varios puntos de la Nación en caso de conmoción interior, y aprobar o suspender el estado de sitio declarado, durante su receso, por el Poder Ejecutivo.\n",
        "\n",
        "30. Ejercer una legislación exclusiva en el territorio de la capital de la Nación y dictar la legislación necesaria para el cumplimiento de los fines específicos de los establecimientos de utilidad nacional en el territorio de la República. Las autoridades provinciales y municipales conservarán los poderes de policía e imposición sobre estos establecimientos, en tanto no interfieran en el cumplimiento de aquellos fines.\n",
        "\n",
        "31. Disponer la intervención federal a una provincia o a la ciudad de Buenos Aires.\n",
        "\n",
        "Aprobar o revocar la intervención decretada, durante su receso, por el Poder Ejecutivo.\n",
        "\n",
        "32. Hacer todas las leyes y reglamentos que sean convenientes para poner en ejercicio los poderes antecedentes, y todos los otros concedidos por la presente Constitución al Gobierno de la Nación Argentina.\n",
        "\n",
        "Artículo 76.- Se prohíbe la delegación legislativa en el Poder Ejecutivo, salvo en materias determinadas de administración o de emergencia pública, con plazo fijado para su ejercicio y dentro de las bases de la delegación que el Congreso establezca.\n",
        "\n",
        "La caducidad resultante del transcurso del plazo previsto en el párrafo anterior no importará revisión de las relaciones jurídicas nacidas al amparo de las normas dictadas en consecuencia de la delegación legislativa.\n",
        "\n",
        "CAPÍTULO QUINTO\n",
        "\n",
        "De la formación y sanción de las leyes\n",
        "\n",
        "Artículo 77.- Las leyes pueden tener principio en cualquiera de las Cámaras del Congreso, por proyectos presentados por sus miembros o por el Poder Ejecutivo, salvo las excepciones que establece esta Constitución.\n",
        "\n",
        "Los proyectos de ley que modifiquen el régimen electoral y de partidos políticos deberán ser aprobados por mayoría absoluta del total de los miembros de las Cámaras.\n",
        "\n",
        "Artículo 78.- Aprobado un proyecto de ley por la Cámara de su origen, pasa para su discusión a la otra Cámara. Aprobado por ambas, pasa al Poder Ejecutivo de la Nación para su examen; y si también obtiene su aprobación, lo promulga como ley.\n",
        "\n",
        "Artículo 79.- Cada Cámara, luego de aprobar un proyecto de ley en general, puede delegar en sus comisiones la aprobación en particular del proyecto, con el voto de la mayoría absoluta del total de sus miembros. La Cámara podrá, con igual número de votos, dejar sin efecto la delegación y retomar el trámite ordinario. La aprobación en comisión requerirá el voto de la mayoría absoluta del total de sus miembros. Una vez aprobado el proyecto en comisión, se seguirá el trámite ordinario.\n",
        "\n",
        "Artículo 80.- Se reputa aprobado por el Poder Ejecutivo todo proyecto no devuelto en el término de diez días útiles. Los proyectos desechados parcialmente no podrán ser aprobados en la parte restante. Sin embargo, las partes no observadas solamente podrán ser promulgadas si tienen autonomía normativa y su aprobación parcial no altera el espíritu ni la unidad del proyecto sancionado por el Congreso. En este caso será de aplicación el procedimiento previsto para los decretos de necesidad y urgencia.\n",
        "\n",
        "Artículo 81.- Ningún proyecto de ley desechado totalmente por una de las Cámaras podrá repetirse en las sesiones de aquel año. Ninguna de las Cámaras puede desechar totalmente un proyecto que hubiera tenido origen en ella y luego hubiese sido adicionado o enmendado por la Cámara revisora. Si el proyecto fuere objeto de adiciones o correcciones por la Cámara revisora, deberá indicarse el resultado de la votación a fin de establecer si tales adiciones o correcciones fueron realizadas por mayoría absoluta de los presentes o por las dos terceras partes de los presentes. La Cámara de origen podrá por mayoría absoluta de los presentes aprobar el proyecto con las adiciones o correcciones introducidas o insistir en la redacción originaria, a menos que las adiciones o correcciones las haya realizado la revisora por dos terceras partes de los presentes. En este último caso, el proyecto pasará al Poder Ejecutivo con las adiciones o correcciones de la Cámara revisora, salvo que la Cámara de origen insista en su redacción originaria con el voto de las dos terceras partes de los presentes. La Cámara de origen no podrá introducir nuevas adiciones o correcciones a las realizadas por la Cámara revisora.\n",
        "\n",
        "Artículo 82.- La voluntad de cada Cámara debe manifestarse expresamente; se excluye, en todos los casos, la sanción tácita o ficta.\n",
        "\n",
        "Artículo 83.- Desechado en el todo o en parte un proyecto por el Poder Ejecutivo, vuelve con sus objeciones a la Cámara de su origen: ésta lo discute de nuevo, y si lo confirma por mayoría de dos tercios de votos, pasa otra vez a la Cámara de revisión. Si ambas Cámaras lo sancionan por igual mayoría, el proyecto es ley y pasa al Poder Ejecutivo para su promulgación. Las votaciones de ambas Cámaras serán en este caso nominales, por si o por no; y tanto los nombres y fundamentos de los sufragantes, como las objeciones del Poder Ejecutivo, se publicarán inmediatamente por la prensa. Si las Cámaras difieren sobre las objeciones, el proyecto no podrá repetirse en las sesiones de aquel año.\n",
        "\n",
        "Artículo 84.- En la sanción de las leyes se usará de esta fórmula: El Senado y Cámara de Diputados de la Nación Argentina, reunidos en Congreso, ... decretan o sancionan con fuerza de ley.\n",
        "\n",
        "CAPITULO SEXTO\n",
        "\n",
        "De la Auditoría General de la Nación\n",
        "\n",
        "Artículo 85.- El control externo del sector público nacional en sus aspectos patrimoniales, económicos, financieros y operativos, será una atribución propia del Poder Legislativo.\n",
        "\n",
        "El examen y la opinión del Poder Legislativo sobre el desempeño y situación general de la administración pública estarán sustentados en los dictámenes de la Auditoría General de la Nación.\n",
        "\n",
        "Este organismo de asistencia técnica del Congreso, con autonomía funcional, se integrará del modo que establezca la ley que reglamenta su creación y funcionamiento, que deberá ser aprobada por mayoría absoluta de los miembros de cada Cámara. El presidente del organismo será designado a propuesta del partido político de oposición con mayor número de legisladores en el Congreso.\n",
        "\n",
        "Tendrá a su cargo el control de legalidad, gestión y auditoría de toda la actividad de la administración pública centralizada y descentralizada, cualquiera fuera su modalidad de organización, y las demás funciones que la ley le otorgue. Intervendrá necesariamente en el trámite de aprobación o rechazo de las cuentas de percepción e inversión de los fondos públicos.\n",
        "\n",
        "CAPÍTULO SEPTIMO\n",
        "\n",
        "Del Defensor del Pueblo\n",
        "\n",
        "Artículo 86.- El Defensor del Pueblo es un órgano independiente instituido en el ámbito del Congreso de la Nación, que actuará con plena autonomía funcional, sin recibir instrucciones de ninguna autoridad. Su misión es la defensa y protección de los derechos humanos y demás derechos, garantías e intereses tutelados en esta Constitución y las leyes, ante hechos, actos u omisiones de la Administración; y el control del ejercicio de las funciones administrativas públicas.\n",
        "\n",
        "El Defensor del Pueblo tiene legitimación procesal. Es designado y removido por el Congreso con el voto de las dos terceras partes de los miembros presentes de cada una de las Cámaras. Goza de las inmunidades y privilegios de los legisladores. Durará en su cargo cinco años, pudiendo ser nuevamente designado por una sola vez.\n",
        "\n",
        "La organización y el funcionamiento de esta institución serán regulados por una ley especial.\n",
        "\n",
        "SECCIÓN SEGUNDA\n",
        "\n",
        "DEL PODER EJECUTIVO\n",
        "\n",
        "CAPÍTULO PRIMERO\n",
        "\n",
        "De su naturaleza y duración\n",
        "\n",
        "Artículo 87.- El Poder Ejecutivo de la Nación será desempeñado por un ciudadano con el título de \"Presidente de la Nación Argentina\".\n",
        "\n",
        "Artículo 88.- En caso de enfermedad, ausencia de la Capital, muerte, renuncia o destitución del Presidente, el Poder Ejecutivo será ejercido por el vicepresidente de la Nación. En caso de destitución, muerte, dimisión o inhabilidad del Presidente y vicepresidente de la Nación, el Congreso determinará qué funcionario público ha de desempeñar la Presidencia, hasta que haya cesado la causa de la inhabilidad o un nuevo presidente sea electo.\n",
        "\n",
        "Artículo 89.- Para ser elegido Presidente o vicepresidente de la Nación, se requiere haber nacido en el territorio argentino, o ser hijo de ciudadano nativo, habiendo nacido en país extranjero; y las demás calidades exigidas para ser elegido senador.\n",
        "\n",
        "Artículo 90.- El Presidente y vicepresidente duran en sus funciones el término de cuatro años y podrán ser reelegidos o sucederse recíprocamente por un solo período consecutivo. Si han sido reelectos o se han sucedido recíprocamente no pueden ser elegidos para ninguno de ambos cargos, sino con el intervalo de un período.\n",
        "\n",
        "Artículo 91.- El Presidente de la Nación cesa en el poder el mismo día en que expira su período de cuatro años; sin que evento alguno que lo haya interrumpido, pueda ser motivo de que se le complete más tarde.\n",
        "\n",
        "Artículo 92.- El Presidente y vicepresidente disfrutan de un sueldo pagado por el Tesoro de la Nación, que no podrá ser alterado en el período de sus nombramientos. Durante el mismo período no podrán ejercer otro empleo, ni recibir ningún otro emolumento de la Nación, ni de provincia alguna.\n",
        "\n",
        "Artículo 93.- Al tomar posesión de su cargo el presidente y vicepresidente prestarán juramento, en manos del presidente del Senado y ante el Congreso reunido en Asamblea, respetando sus creencias religiosas, de \"desempeñar con lealtad y patriotismo el cargo de Presidente (o vicepresidente) de la Nación y observar y hacer observar fielmente la Constitución de la Nación Argentina\".\n",
        "\n",
        "CAPÍTULO SEGUNDO\n",
        "\n",
        "De la forma y tiempo de la elección del Presidente y vicepresidente de la Nación\n",
        "\n",
        "Artículo 94.- El Presidente y el vicepresidente de la Nación serán elegidos directamente por el Pueblo, en doble vuelta, según lo establece esta Constitución. A este fin el territorio nacional conformará un distrito único.\n",
        "\n",
        "Artículo 95.- La elección se efectuará dentro de los dos meses anteriores a la conclusión del mandato del Presidente en ejercicio.\n",
        "\n",
        "Artículo 96.- La segunda vuelta electoral, si correspondiere, se realizará entre las dos fórmulas de candidatos más votadas, dentro de los treinta días de celebrada la anterior.\n",
        "\n",
        "Artículo 97.- Cuando la fórmula que resultare más votada en la primera vuelta, hubiere obtenido más del cuarenta y cinco por ciento de los votos afirmativos válidamente emitidos, sus integrantes serán proclamados como Presidente y vicepresidente de la Nación.\n",
        "\n",
        "Artículo 98.- Cuando la fórmula que resultare más votada en la primera vuelta hubiere obtenido el cuarenta por ciento por lo menos de los votos afirmativos válidamente emitidos y, además, existiere una diferencia mayor de diez puntos porcentuales respecto del total de los votos afirmativos válidamente emitidos sobre la fórmula que le sigue en número de votos, sus integrantes serán proclamados como Presidente y vicepresidente de la Nación.\n",
        "\n",
        "CAPÍTULO TERCERO\n",
        "\n",
        "Atribuciones del Poder Ejecutivo\n",
        "\n",
        "Artículo 99.- El Presidente de la Nación tiene las siguientes atribuciones:\n",
        "\n",
        "1. Es el jefe supremo de la Nación, jefe del gobierno y responsable político de la administración general del país.\n",
        "\n",
        "2. Expide las instrucciones y reglamentos que sean necesarios para la ejecución de las leyes de la Nación, cuidando de no alterar su espíritu con excepciones reglamentarias.\n",
        "\n",
        "3. Participa de la formación de las leyes con arreglo a la Constitución, las promulga y hace publicar.\n",
        "\n",
        "El Poder Ejecutivo no podrá en ningún caso bajo pena de nulidad absoluta e insanable, emitir disposiciones de carácter legislativo.\n",
        "\n",
        "Solamente cuando circunstancias excepcionales hicieran imposible seguir los trámites ordinarios previstos por esta Constitución para la sanción de las leyes, y no se trate de normas que regulen materia penal, tributaria, electoral o de régimen de los partidos políticos, podrá dictar decretos por razones de necesidad y urgencia, los que serán decididos en acuerdo general de ministros que deberán refrendarlos, conjuntamente con el jefe de gabinete de ministros.\n",
        "\n",
        "El jefe de gabinete de ministros personalmente y dentro de los diez días someterá la medida a consideración de la Comisión Bicameral Permanente, cuya composición deberá respetar la proporción de las representaciones políticas de cada Cámara. Esta comisión elevará su despacho en un plazo de diez días al plenario de cada Cámara para su expreso tratamiento, el que de inmediato considerarán las Cámaras. Una ley especial sancionada con la mayoría absoluta de la totalidad de los miembros de cada Cámara regulará el trámite y los alcances de la intervención del Congreso.\n",
        "\n",
        "4. Nombra los magistrados de la Corte Suprema con acuerdo del Senado por dos tercios de sus miembros presentes, en sesión pública, convocada al efecto.\n",
        "\n",
        "Nombra los demás jueces de los tribunales federales inferiores en base a una propuesta vinculante en terna del Consejo de la Magistratura, con acuerdo del Senado, en sesión pública, en la que se tendrá en cuenta la idoneidad de los candidatos.\n",
        "\n",
        "Un nuevo nombramiento, precedido de igual acuerdo, será necesario para mantener en el cargo a cualquiera de esos magistrados, una vez que cumplan la edad de setenta y cinco años. Todos los nombramientos de magistrados cuya edad sea la indicada o mayor se harán por cinco años, y podrán ser repetidos indefinidamente, por el mismo trámite.\n",
        "\n",
        "5. Puede indultar o conmutar las penas por delitos sujetos a la jurisdicción federal, previo informe del tribunal correspondiente, excepto en los casos de acusación por la Cámara de Diputados.\n",
        "\n",
        "6. Concede jubilaciones, retiros, licencias y pensiones conforme a las leyes de la Nación.\n",
        "\n",
        "7. Nombra y remueve a los embajadores, ministros plenipotenciarios y encargados de negocios con acuerdo del Senado; por sí solo nombra y remueve al jefe de gabinete de ministros y a los demás ministros del despacho, los oficiales de su secretaría, los agentes consulares y los empleados cuyo nombramiento no está reglado de otra forma por esta Constitución.\n",
        "\n",
        "8. Hace anualmente la apertura de las sesiones del Congreso, reunidas al efecto ambas Cámaras, dando cuenta en esta ocasión del estado de la Nación, de las reformas prometidas por la Constitución, y recomendando a su consideración las medidas que juzgue necesarias y convenientes.\n",
        "\n",
        "9. Prorroga las sesiones ordinarias del Congreso, o lo convoca a sesiones extraordinarias, cuando un grave interés de orden o de progreso lo requiera.\n",
        "\n",
        "10. Supervisa el ejercicio de la facultad del jefe de gabinete de ministros respecto de la recaudación de las rentas da la Nación y de su inversión, con arreglo a la ley o presupuesto de gastos nacionales.\n",
        "\n",
        "11. Concluye y firma tratados, concordatos y otras negociaciones requeridas para el mantenimiento de buenas relaciones con las organizaciones internacionales y las naciones extranjeras, recibe sus ministros y admite sus cónsules.\n",
        "\n",
        "12. Es comandante en jefe de todas las Fuerzas Armadas de la Nación.\n",
        "\n",
        "13. Provee los empleos militares de la Nación: con acuerdo del Senado, en la concesión de los empleos o grados de oficiales superiores de las Fuerzas Armadas; y por sí solo en el campo de batalla.\n",
        "\n",
        "14. Dispone de las Fuerzas Armadas, y corre con su organización y distribución según las necesidades de la Nación.\n",
        "\n",
        "15. Declara la guerra y ordena represalias con autorización y aprobación del Congreso.\n",
        "\n",
        "16. Declara en estado de sitio uno o varios puntos de la Nación, en caso de ataque exterior y por un término limitado, con acuerdo del Senado. En caso de conmoción interior sólo tiene esta facultad cuando el Congreso está en receso, porque es atribución que corresponde a este cuerpo. El Presidente la ejerce con las limitaciones prescriptas en el Artículo 23.\n",
        "\n",
        "17. Puede pedir al jefe de gabinete de ministros y a los jefes de todos los ramos y departamentos de la administración, y por su conducto a los demás empleados, los informes que crea convenientes, y ellos están obligados a darlos.\n",
        "\n",
        "18. Puede ausentarse del territorio de la Nación, con permiso del Congreso. En el receso de éste, sólo podrá hacerlo sin licencia por razones justificadas de servicio público.\n",
        "\n",
        "19. Puede llenar las vacantes de los empleos, que requieran el acuerdo del Senado, y que ocurran durante su receso, por medio de nombramientos en comisión que expirarán al fin de la próxima Legislatura.\n",
        "\n",
        "20. Decreta la intervención federal a una provincia o a la ciudad de Buenos Aires en caso de receso del Congreso, y debe convocarlo simultáneamente para su tratamiento.\n",
        "\n",
        "CAPÍTULO CUARTO\n",
        "\n",
        "Del jefe de gabinete y demás ministros del Poder Ejecutivo\n",
        "\n",
        "Artículo 100.- El jefe de gabinete de ministros y los demás ministros secretarios cuyo número y competencia será establecida por una ley especial, tendrán a su cargo el despacho de los negocios de la Nación, y refrendarán y legalizarán los actos del presidente por medio de su firma, sin cuyo requisito carecen de eficacia.\n",
        "\n",
        "Al jefe de gabinete de ministros, con responsabilidad política ante el Congreso de la Nación, le corresponde:\n",
        "\n",
        "1. Ejercer la administración general del país.\n",
        "\n",
        "2. Expedir los actos y reglamentos que sean necesarios para ejercer las facultades que le atribuye este artículo y aquellas que le delegue el presidente de la Nación, con el refrendo del ministro secretario del ramo al cual el acto o reglamento se refiera.\n",
        "\n",
        "3. Efectuar los nombramientos de los empleados de la administración, excepto los que correspondan al presidente.\n",
        "\n",
        "4. Ejercer las funciones y atribuciones que le delegue el presidente de la Nación y, en acuerdo de gabinete resolver sobre las materias que le indique el Poder Ejecutivo, o por su propia decisión, en aquellas que por su importancia estime necesario, en el ámbito de su competencia.\n",
        "\n",
        "5. Coordinar, preparar y convocar las reuniones de gabinete de ministros, presidiéndolas en caso de ausencia del presidente.\n",
        "\n",
        "6. Enviar al Congreso los proyectos de ley de ministerios y de presupuesto nacional, previo tratamiento en acuerdo de gabinete y aprobación del Poder Ejecutivo.\n",
        "\n",
        "7. Hacer recaudar las rentas de la Nación y ejecutar la ley de presupuesto nacional.\n",
        "\n",
        "8. Refrendar los decretos reglamentarios de las leyes, los decretos que dispongan la prórroga de las sesiones ordinarias del Congreso o la convocatoria de sesiones extraordinarias y los mensajes del presidente que promuevan la iniciativa legislativa.\n",
        "\n",
        "9. Concurrir a las sesiones del Congreso y participar en sus debates, pero no votar.\n",
        "\n",
        "10. Una vez que se inicien las sesiones ordinarias del Congreso, presentar junto a los restantes ministros una memoria detallada del estado de la Nación en lo relativo a los negocios de los respectivos departamentos.\n",
        "\n",
        "11. Producir los informes y explicaciones verbales o escritos que cualquiera de las Cámaras solicite al Poder Ejecutivo.\n",
        "\n",
        "12. Refrendar los decretos que ejercen facultades delegadas por el Congreso, los que estarán sujetos al control de la Comisión Bicameral Permanente.\n",
        "\n",
        "13. Refrendar conjuntamente con los demás ministros los decretos de necesidad y urgencia y los decretos que promulgan parcialmente leyes. Someterá personalmente y dentro de los diez días de su sanción estos decretos a consideración de la Comisión Bicameral Permanente.\n",
        "\n",
        "El jefe de gabinete de ministros no podrá desempeñar simultáneamente otro ministerio.\n",
        "\n",
        "Artículo 101.- El jefe de gabinete de ministros debe concurrir al Congreso al menos una vez por mes, alternativamente a cada una de sus Cámaras, para informar de la marcha del gobierno, sin perjuicio de lo dispuesto en el Artículo 71. Puede ser interpelado a los efectos del tratamiento de una moción de censura, por el voto de la mayoría absoluta de la totalidad de los miembros de cualquiera de las Cámaras, y ser removido por el voto de la mayoría absoluta de los miembros de cada una de las Cámaras.\n",
        "\n",
        "Artículo 102.- Cada ministro es responsable de los actos que legaliza; y solidariamente de los que acuerda con sus colegas.\n",
        "\n",
        "Artículo 103.- Los ministros no pueden por sí solos, en ningún caso, tomar resoluciones, a excepción de lo concerniente al régimen económico y administrativo de sus respectivos departamentos.\n",
        "\n",
        "Artículo 104.- Luego que el Congreso abra sus sesiones, deberán los ministros del despacho presentarle una memoria detallada del estado de la Nación en lo relativo a los negocios de sus respectivos departamentos.\n",
        "\n",
        "Artículo 105.- No pueden ser senadores ni diputados, sin hacer dimisión de sus empleos de ministros.\n",
        "\n",
        "Artículo 106.- Pueden los ministros concurrir a las sesiones del Congreso y tomar parte en sus debates, pero no votar.\n",
        "\n",
        "Artículo 107.- Gozarán por sus servicios de un sueldo establecido por la ley, que no podrá ser aumentado ni disminuido en favor o perjuicio de los que se hallen en ejercicio.\n",
        "\n",
        "SECCIÓN TERCERA\n",
        "\n",
        "DEL PODER JUDICIAL\n",
        "\n",
        "CAPÍTULO PRIMERO\n",
        "\n",
        "De su naturaleza y duración\n",
        "\n",
        "Artículo 108.- El Poder Judicial de la Nación será ejercido por una Corte Suprema de Justicia, y por los demás tribunales inferiores que el Congreso estableciere en el territorio de la Nación.\n",
        "\n",
        "Artículo 109.- En ningún caso el presidente de la Nación puede ejercer funciones judiciales, arrogarse el conocimiento de causas pendientes o restablecer las fenecidas.\n",
        "\n",
        "Artículo 110.- Los jueces de la Corte Suprema y de los tribunales inferiores de la Nación conservarán sus empleos mientras dure su buena conducta, y recibirán por sus servicios una compensación que determinará la ley, y que no podrá ser disminuida en manera alguna, mientras permaneciesen en sus funciones.\n",
        "\n",
        "Artículo 111.- Ninguno podrá ser miembro de la Corte Suprema de Justicia, sin ser abogado de la Nación con ocho años de ejercicio, y tener las calidades requeridas para ser senador.\n",
        "\n",
        "Artículo 112.- En la primera instalación de la Corte Suprema, los individuos nombrados prestarán juramento en manos del Presidente de la Nación, de desempeñar sus obligaciones, administrando justicia bien y legalmente, y en conformidad a lo que prescribe la Constitución. En lo sucesivo lo prestarán ante el presidente de la misma Corte.\n",
        "\n",
        "Artículo 113.- La Corte Suprema dictará su reglamento interior y nombrará a sus empleados.\n",
        "\n",
        "Artículo 114.- El Consejo de la Magistratura, regulado por una ley especial sancionada por la mayoría absoluta de la totalidad de los miembros de cada Cámara, tendrá a su cargo la selección de los magistrados y la administración del Poder Judicial.\n",
        "\n",
        "El Consejo será integrado periódicamente de modo que se procure el equilibrio entre la representación de los órganos políticos resultantes de la elección popular, de los jueces de todas las instancias y de los abogados de la matrícula federal. Será integrado, asimismo, por otras personas del ámbito académico y científico, en el número y la forma que indique la ley.\n",
        "\n",
        "Serán sus atribuciones:\n",
        "\n",
        "1. Seleccionar mediante concursos públicos los postulantes a las magistraturas inferiores.\n",
        "\n",
        "2. Emitir propuestas en ternas vinculantes, para el nombramiento de los magistrados de los tribunales inferiores.\n",
        "\n",
        "3. Administrar los recursos y ejecutar el presupuesto que la ley asigne a la administración de justicia.\n",
        "\n",
        "4. Ejercer facultades disciplinarias sobre magistrados.\n",
        "\n",
        "5. Decidir la apertura del procedimiento de remoción de magistrados, en su caso ordenar la suspensión, y formular la acusación correspondiente.\n",
        "\n",
        "6. Dictar los reglamentos relacionados con la organización judicial y todos aquellos que sean necesarios para asegurar la independencia de los jueces y la eficaz prestación de los servicios de justicia.\n",
        "\n",
        "Artículo 115.- Los jueces de los tribunales inferiores de la Nación serán removidos por las causales expresadas en el Artículo 53, por un jurado de enjuiciamiento integrado por legisladores, magistrados y abogados de la matrícula federal.\n",
        "\n",
        "Su fallo, que será irrecurrible, no tendrá más efecto que destituir al acusado. Pero la parte condenada quedará no obstante sujeta a acusación, juicio y castigo conforme a las leyes ante los tribunales ordinarios.\n",
        "\n",
        "Corresponderá archivar las actuaciones y, en su caso, reponer al juez suspendido, si transcurrieren ciento ochenta días contados desde la decisión de abrir el procedimiento de remoción, sin que haya sido dictado el fallo.\n",
        "\n",
        "En la ley especial a que se refiere el Artículo 114, se determinará la integración y procedimiento de este jurado.\n",
        "\n",
        "CAPÍTULO SEGUNDO\n",
        "\n",
        "Atribuciones del Poder Judicial\n",
        "\n",
        "Artículo 116.- Corresponde a la Corte Suprema y a los tribunales inferiores de la Nación, el conocimiento y decisión de todas las causas que versen sobre puntos regidos por la Constitución, y por las leyes de la Nación, con la reserva hecha en el inc. 12 del Artículo 75: y por los tratados con las naciones extranjeras: de las causas concernientes a embajadores, ministros públicos y cónsules extranjeros: de las causas de almirantazgo y jurisdicción marítima: de los asuntos en que la Nación sea parte: de las causas que se susciten entre dos o más provincias; entre una provincia y los vecinos de otra; entre los vecinos de diferentes provincias; y entre una provincia o sus vecinos, contra un Estado o ciudadano extranjero.\n",
        "\n",
        "Artículo 117.- En estos casos la Corte Suprema ejercerá su jurisdicción por apelación según las reglas y excepciones que prescriba el Congreso; pero en todos los asuntos concernientes a embajadores, ministros y cónsules extranjeros, y en los que alguna provincia fuese parte, la ejercerá originaria y exclusivamente.\n",
        "\n",
        "Artículo 118.- Todos los juicios criminales ordinarios, que no se deriven del derecho de acusación concedido a la Cámara de Diputados se terminarán por jurados, luego que se establezca en la República esta institución. La actuación de estos juicios se hará en la misma provincia donde se hubiere cometido el delito; pero cuando éste se cometa fuera de los límites de la Nación, contra el derecho de gentes, el Congreso determinará por una ley especial el lugar en que haya de seguirse el juicio.\n",
        "\n",
        "Artículo 119.- La traición contra la Nación consistirá únicamente en tomar las armas contra ella, o en unirse a sus enemigos prestándoles ayuda y socorro. El Congreso fijará por una ley especial la pena de este delito; pero ella no pasará de la persona del delincuente, ni la infamia del reo se transmitirá a sus parientes de cualquier grado.\n",
        "\n",
        "SECCIÓN CUARTA\n",
        "\n",
        "Del ministerio público\n",
        "\n",
        "Artículo 120.- El Ministerio Público es un órgano independiente con autonomía funcional y autarquía financiera que tiene por función promover la actuación de la justicia en defensa de la legalidad de los intereses generales de la sociedad en coordinación con las demás autoridades de la República.\n",
        "\n",
        "Está integrado por un procurador general de la Nación y un defensor general de la Nación y los demás miembros que la ley establezca.\n",
        "\n",
        "Sus miembros gozan de inmunidades funcionales e intangibilidad de remuneraciones.\n",
        "\n",
        "TITULO SEGUNDO\n",
        "\n",
        "GOBIERNOS DE PROVINCIA\n",
        "\n",
        "Artículo 121.- Las provincias conservan todo el poder no delegado por esta Constitución al Gobierno federal, y el que expresamente se hayan reservado por pactos especiales al tiempo de su incorporación.\n",
        "\n",
        "Artículo 122.- Se dan sus propias instituciones locales y se rigen por ellas. Eligen sus gobernadores, sus legisladores y demás funcionarios de provincia, sin intervención del Gobierno federal.\n",
        "\n",
        "Artículo 123.- Cada provincia dicta su propia constitución, conforme a lo dispuesto por el Artículo 5° asegurando la autonomía municipal y reglando su alcance y contenido en el orden institucional, político, administrativo, económico y financiero.\n",
        "\n",
        "Artículo 124.- Las provincias podrán crear regiones para el desarrollo económico y social y establecer órganos con facultades para el cumplimiento de sus fines y podrán también celebrar convenios internacionales en tanto no sean incompatibles con la política exterior de la Nación y no afecten las facultades delegadas al Gobierno federal o el crédito público de la Nación; con conocimiento del Congreso Nacional. La ciudad de Buenos Aires tendrá el régimen que se establezca a tal efecto.\n",
        "\n",
        "Corresponde a las provincias el dominio originario de los recursos naturales existentes en su territorio.\n",
        "\n",
        "Artículo 125.- Las provincias pueden celebrar tratados parciales para fines de administración de justicia, de intereses económicos y trabajos de utilidad común, con conocimiento del Congreso Federal; y promover su industria, la inmigración, la construcción de ferrocarriles y canales navegables, la colonización de tierras de propiedad provincial, la introducción y establecimiento de nuevas industrias, la importación de capitales extranjeros y la exploración de sus ríos, por leyes protectoras de estos fines, y con sus recursos propios.\n",
        "\n",
        "Las provincias y la ciudad de Buenos Aires pueden conservar organismos de seguridad social para los empleados públicos y los profesionales; y promover el progreso económico, el desarrollo humano, la generación de empleo, la educación, la ciencia, el conocimiento y la cultura.\n",
        "\n",
        "Artículo 126.- Las provincias no ejercen el poder delegado a la Nación. No pueden celebrar tratados parciales de carácter político; ni expedir leyes sobre comercio, o navegación interior o exterior; ni establecer aduanas provinciales; ni acuñar moneda; ni establecer bancos con facultad de emitir billetes, sin autorización del Congreso Federal; ni dictar los Códigos Civil, Comercial, Penal y de Minería, después que el Congreso los haya sancionado; ni dictar especialmente leyes sobre ciudadanía y naturalización, bancarrotas, falsificación de moneda o documentos del Estado; ni establecer derechos de tonelaje; ni armar buques de guerra o levantar ejércitos, salvo el caso de invasión exterior o de un peligro tan inminente que no admita dilación dando luego cuenta al Gobierno federal; ni nombrar o recibir agentes extranjeros.\n",
        "\n",
        "Artículo 127.- Ninguna provincia puede declarar, ni hacer la guerra a otra provincia. Sus quejas deben ser sometidas a la Corte Suprema de Justicia y dirimidas por ella. Sus hostilidades de hecho son actos de guerra civil, calificados de sedición o asonada, que el Gobierno federal debe sofocar y reprimir conforme a la ley.\n",
        "\n",
        "Artículo 128.- Los gobernadores de provincia son agentes naturales del Gobierno federal para hacer cumplir la Constitución y las leyes de la Nación.\n",
        "\n",
        "Artículo 129.- La ciudad de Buenos Aires tendrá un régimen de Gobierno autónomo con facultades propias de legislación y jurisdicción, y su jefe de gobierno será elegido directamente por el pueblo de la ciudad.\n",
        "\n",
        "Una ley garantizará los intereses del Estado nacional mientras la ciudad de Buenos Aires sea capital de la Nación.\n",
        "\n",
        "En el marco de lo dispuesto en este artículo, el Congreso de la Nación convocará a los habitantes de la ciudad de Buenos Aires para que, mediante los representantes que elijan a ese efecto, dicten el Estatuto Organizativo de sus instituciones.\n",
        "\n",
        "\"\"\""
      ],
      "metadata": {
        "id": "TqNRY0mNC1sV"
      },
      "execution_count": 23,
      "outputs": []
    },
    {
      "cell_type": "markdown",
      "source": [],
      "metadata": {
        "id": "4HFYacTDE8iQ"
      }
    },
    {
      "cell_type": "code",
      "source": [
        "#Se procesa el texto de la constitución de Argentina utilizando el modelo de lenguaje de spaCy.\n",
        "doc_him = nlp(cons_argentina)\n",
        "#Se crea una lista vacía para almacenar los tokens lematizados.\n",
        "lista_tokens_lemmas = []\n",
        "#Se itera sobre los tokens del objeto doc_him, y se agregan sus formas originales y lemmas a la lista creada en el paso anterior.\n",
        "\n",
        "for token in doc_him:\n",
        "    if token.is_punct or token.is_stop or token.is_space: \n",
        "        continue\n",
        "    #Se utiliza la lista de tokens lematizados para realizar tareas de procesamiento de lenguaje natural, como la clasificación de texto o el análisis de sentimientos.\n",
        "    lista_tokens_lemmas.append([token.lower_, token.lemma_.lower()])    "
      ],
      "metadata": {
        "id": "MYhO68s6C9Mi"
      },
      "execution_count": 24,
      "outputs": []
    },
    {
      "cell_type": "code",
      "source": [
        "#crear DF del token y su Lemma, se muestran las diferentes\n",
        "tokens_lemas_df = pd.DataFrame(lista_tokens_lemmas, columns=['Token','Lemma'])\n",
        "tokens_lemas_df.loc[tokens_lemas_df['Token'] != tokens_lemas_df['Lemma']]"
      ],
      "metadata": {
        "id": "6sKAZt6HC_XK",
        "outputId": "05aafd24-1ffa-4b2a-915c-3f96476bdf03",
        "colab": {
          "base_uri": "https://localhost:8080/",
          "height": 424
        }
      },
      "execution_count": 25,
      "outputs": [
        {
          "output_type": "execute_result",
          "data": {
            "text/plain": [
              "               Token          Lemma\n",
              "4     representantes  representante\n",
              "8           reunidos        reunido\n",
              "14        provincias      provincia\n",
              "15          componen       componer\n",
              "17            pactos          pacto\n",
              "...              ...            ...\n",
              "5280       convocará       convocar\n",
              "5281      habitantes      habitante\n",
              "5284  representantes  representante\n",
              "5285          elijan         elegir\n",
              "5290   instituciones    institución\n",
              "\n",
              "[1968 rows x 2 columns]"
            ],
            "text/html": [
              "\n",
              "  <div id=\"df-a534d6ad-ad4f-47ad-8678-59434a1eb2b8\">\n",
              "    <div class=\"colab-df-container\">\n",
              "      <div>\n",
              "<style scoped>\n",
              "    .dataframe tbody tr th:only-of-type {\n",
              "        vertical-align: middle;\n",
              "    }\n",
              "\n",
              "    .dataframe tbody tr th {\n",
              "        vertical-align: top;\n",
              "    }\n",
              "\n",
              "    .dataframe thead th {\n",
              "        text-align: right;\n",
              "    }\n",
              "</style>\n",
              "<table border=\"1\" class=\"dataframe\">\n",
              "  <thead>\n",
              "    <tr style=\"text-align: right;\">\n",
              "      <th></th>\n",
              "      <th>Token</th>\n",
              "      <th>Lemma</th>\n",
              "    </tr>\n",
              "  </thead>\n",
              "  <tbody>\n",
              "    <tr>\n",
              "      <th>4</th>\n",
              "      <td>representantes</td>\n",
              "      <td>representante</td>\n",
              "    </tr>\n",
              "    <tr>\n",
              "      <th>8</th>\n",
              "      <td>reunidos</td>\n",
              "      <td>reunido</td>\n",
              "    </tr>\n",
              "    <tr>\n",
              "      <th>14</th>\n",
              "      <td>provincias</td>\n",
              "      <td>provincia</td>\n",
              "    </tr>\n",
              "    <tr>\n",
              "      <th>15</th>\n",
              "      <td>componen</td>\n",
              "      <td>componer</td>\n",
              "    </tr>\n",
              "    <tr>\n",
              "      <th>17</th>\n",
              "      <td>pactos</td>\n",
              "      <td>pacto</td>\n",
              "    </tr>\n",
              "    <tr>\n",
              "      <th>...</th>\n",
              "      <td>...</td>\n",
              "      <td>...</td>\n",
              "    </tr>\n",
              "    <tr>\n",
              "      <th>5280</th>\n",
              "      <td>convocará</td>\n",
              "      <td>convocar</td>\n",
              "    </tr>\n",
              "    <tr>\n",
              "      <th>5281</th>\n",
              "      <td>habitantes</td>\n",
              "      <td>habitante</td>\n",
              "    </tr>\n",
              "    <tr>\n",
              "      <th>5284</th>\n",
              "      <td>representantes</td>\n",
              "      <td>representante</td>\n",
              "    </tr>\n",
              "    <tr>\n",
              "      <th>5285</th>\n",
              "      <td>elijan</td>\n",
              "      <td>elegir</td>\n",
              "    </tr>\n",
              "    <tr>\n",
              "      <th>5290</th>\n",
              "      <td>instituciones</td>\n",
              "      <td>institución</td>\n",
              "    </tr>\n",
              "  </tbody>\n",
              "</table>\n",
              "<p>1968 rows × 2 columns</p>\n",
              "</div>\n",
              "      <button class=\"colab-df-convert\" onclick=\"convertToInteractive('df-a534d6ad-ad4f-47ad-8678-59434a1eb2b8')\"\n",
              "              title=\"Convert this dataframe to an interactive table.\"\n",
              "              style=\"display:none;\">\n",
              "        \n",
              "  <svg xmlns=\"http://www.w3.org/2000/svg\" height=\"24px\"viewBox=\"0 0 24 24\"\n",
              "       width=\"24px\">\n",
              "    <path d=\"M0 0h24v24H0V0z\" fill=\"none\"/>\n",
              "    <path d=\"M18.56 5.44l.94 2.06.94-2.06 2.06-.94-2.06-.94-.94-2.06-.94 2.06-2.06.94zm-11 1L8.5 8.5l.94-2.06 2.06-.94-2.06-.94L8.5 2.5l-.94 2.06-2.06.94zm10 10l.94 2.06.94-2.06 2.06-.94-2.06-.94-.94-2.06-.94 2.06-2.06.94z\"/><path d=\"M17.41 7.96l-1.37-1.37c-.4-.4-.92-.59-1.43-.59-.52 0-1.04.2-1.43.59L10.3 9.45l-7.72 7.72c-.78.78-.78 2.05 0 2.83L4 21.41c.39.39.9.59 1.41.59.51 0 1.02-.2 1.41-.59l7.78-7.78 2.81-2.81c.8-.78.8-2.07 0-2.86zM5.41 20L4 18.59l7.72-7.72 1.47 1.35L5.41 20z\"/>\n",
              "  </svg>\n",
              "      </button>\n",
              "      \n",
              "  <style>\n",
              "    .colab-df-container {\n",
              "      display:flex;\n",
              "      flex-wrap:wrap;\n",
              "      gap: 12px;\n",
              "    }\n",
              "\n",
              "    .colab-df-convert {\n",
              "      background-color: #E8F0FE;\n",
              "      border: none;\n",
              "      border-radius: 50%;\n",
              "      cursor: pointer;\n",
              "      display: none;\n",
              "      fill: #1967D2;\n",
              "      height: 32px;\n",
              "      padding: 0 0 0 0;\n",
              "      width: 32px;\n",
              "    }\n",
              "\n",
              "    .colab-df-convert:hover {\n",
              "      background-color: #E2EBFA;\n",
              "      box-shadow: 0px 1px 2px rgba(60, 64, 67, 0.3), 0px 1px 3px 1px rgba(60, 64, 67, 0.15);\n",
              "      fill: #174EA6;\n",
              "    }\n",
              "\n",
              "    [theme=dark] .colab-df-convert {\n",
              "      background-color: #3B4455;\n",
              "      fill: #D2E3FC;\n",
              "    }\n",
              "\n",
              "    [theme=dark] .colab-df-convert:hover {\n",
              "      background-color: #434B5C;\n",
              "      box-shadow: 0px 1px 3px 1px rgba(0, 0, 0, 0.15);\n",
              "      filter: drop-shadow(0px 1px 2px rgba(0, 0, 0, 0.3));\n",
              "      fill: #FFFFFF;\n",
              "    }\n",
              "  </style>\n",
              "\n",
              "      <script>\n",
              "        const buttonEl =\n",
              "          document.querySelector('#df-a534d6ad-ad4f-47ad-8678-59434a1eb2b8 button.colab-df-convert');\n",
              "        buttonEl.style.display =\n",
              "          google.colab.kernel.accessAllowed ? 'block' : 'none';\n",
              "\n",
              "        async function convertToInteractive(key) {\n",
              "          const element = document.querySelector('#df-a534d6ad-ad4f-47ad-8678-59434a1eb2b8');\n",
              "          const dataTable =\n",
              "            await google.colab.kernel.invokeFunction('convertToInteractive',\n",
              "                                                     [key], {});\n",
              "          if (!dataTable) return;\n",
              "\n",
              "          const docLinkHtml = 'Like what you see? Visit the ' +\n",
              "            '<a target=\"_blank\" href=https://colab.research.google.com/notebooks/data_table.ipynb>data table notebook</a>'\n",
              "            + ' to learn more about interactive tables.';\n",
              "          element.innerHTML = '';\n",
              "          dataTable['output_type'] = 'display_data';\n",
              "          await google.colab.output.renderOutput(dataTable, element);\n",
              "          const docLink = document.createElement('div');\n",
              "          docLink.innerHTML = docLinkHtml;\n",
              "          element.appendChild(docLink);\n",
              "        }\n",
              "      </script>\n",
              "    </div>\n",
              "  </div>\n",
              "  "
            ]
          },
          "metadata": {},
          "execution_count": 25
        }
      ]
    },
    {
      "cell_type": "code",
      "source": [
        "agrupado = tokens_lemas_df.groupby('Token')['Token'].count()\n",
        "agrupado.sort_values(ascending=False, inplace=True)\n",
        "agrupado"
      ],
      "metadata": {
        "id": "8ntamhIyDAvj",
        "outputId": "a3edd646-759b-40d8-e75c-3e3acabeb6e1",
        "colab": {
          "base_uri": "https://localhost:8080/"
        }
      },
      "execution_count": 26,
      "outputs": [
        {
          "output_type": "execute_result",
          "data": {
            "text/plain": [
              "Token\n",
              "artículo        143\n",
              "nación          108\n",
              "congreso         66\n",
              "ley              56\n",
              "cámara           46\n",
              "               ... \n",
              "invasiones        1\n",
              "introduzcan       1\n",
              "compuesto         1\n",
              "introducidas      1\n",
              "hayan             1\n",
              "Name: Token, Length: 2165, dtype: int64"
            ]
          },
          "metadata": {},
          "execution_count": 26
        }
      ]
    },
    {
      "cell_type": "code",
      "source": [
        "agrupado = tokens_lemas_df.groupby('Lemma')['Lemma'].count()\n",
        "agrupado.sort_values(ascending=False, inplace=True)\n",
        "agrupado"
      ],
      "metadata": {
        "id": "repn9E9gDBxu",
        "outputId": "ad945a37-89e3-4f74-f885-c2ac9cc6e61c",
        "colab": {
          "base_uri": "https://localhost:8080/"
        }
      },
      "execution_count": 27,
      "outputs": [
        {
          "output_type": "execute_result",
          "data": {
            "text/plain": [
              "Lemma\n",
              "artículo        145\n",
              "nación          112\n",
              "ley              94\n",
              "provincia        67\n",
              "congreso         66\n",
              "               ... \n",
              "limitación        1\n",
              "concerniente      1\n",
              "limpio            1\n",
              "llamado           1\n",
              "gravar            1\n",
              "Name: Lemma, Length: 1730, dtype: int64"
            ]
          },
          "metadata": {},
          "execution_count": 27
        }
      ]
    },
    {
      "cell_type": "markdown",
      "source": [
        "#  Reconocimiento de Entidades (NER)\n",
        "\n",
        "\n",
        "El Reconocimiento de Entidades (NER) es una técnica de Procesamiento de Lenguaje Natural (PLN) que se utiliza para identificar y clasificar entidades nombradas en un texto, como nombres de personas, organizaciones, lugares, fechas, etc. El objetivo del NER es extraer información relevante de un texto de manera automatizada y eficiente, para su posterior análisis o procesamiento."
      ],
      "metadata": {
        "id": "kSAqz4s99Vd1"
      }
    },
    {
      "cell_type": "code",
      "source": [
        "nlpt = spacy.load('es_core_news_md') # Bajar modelo en español ya que se usara en este ejemplo #cambiar por  sm(pq), md(mediano) y lg(grande)\n",
        "type(nlp)"
      ],
      "metadata": {
        "id": "ZSoEQtQRHLML",
        "colab": {
          "base_uri": "https://localhost:8080/"
        },
        "outputId": "79de33cd-59e3-4f9b-f1c2-e7cb29a0c8e8"
      },
      "execution_count": 28,
      "outputs": [
        {
          "output_type": "execute_result",
          "data": {
            "text/plain": [
              "spacy.lang.es.Spanish"
            ]
          },
          "metadata": {},
          "execution_count": 28
        }
      ]
    },
    {
      "cell_type": "code",
      "source": [
        "texto = \"y es ampliamente reconocido por su contribución en la creación de productos innovadores que revolucionaron la industria de la tecnología, como el iPod, el iPhone y la iPad. Además, Jobs también fue fundamental en la reestructuración y el éxito financiero de Apple durante su segundo mandato como CEO. Su legado y su visión han influenciado la cultura empresarial y la tecnología en todo el mundo.\"\n",
        "documento = nlp(texto)\n",
        "print(len(documento))"
      ],
      "metadata": {
        "id": "mNvChzm9-tC7",
        "outputId": "5c02705a-17bc-46e0-faaf-d12b953bac7d",
        "colab": {
          "base_uri": "https://localhost:8080/"
        }
      },
      "execution_count": 29,
      "outputs": [
        {
          "output_type": "stream",
          "name": "stdout",
          "text": [
            "71\n"
          ]
        }
      ]
    },
    {
      "cell_type": "code",
      "source": [
        "n = 12  # Se define la cantidad máxima de entidades que se imprimirán.\n",
        "i = 0  # Se inicializa el contador de entidades impresas.\n",
        "\n",
        "# Se itera sobre las entidades del documento y se imprimen hasta n entidades.\n",
        "for entidad in documento.ents:\n",
        "    if i >= n:  # Si se han impreso n entidades, se detiene el ciclo.\n",
        "        break\n",
        "    print(entidad.text, entidad.label_)  # Se imprime el texto y el tipo de entidad.\n",
        "    i += 1  # Se aumenta el contador de entidades impresas.\n",
        "print('-----------------------------------------------')\n",
        "print('PER: ',spacy.explain('PER'))\n",
        "print('ORG: ', spacy.explain('ORG'))\n",
        "print('MISC: ', spacy.explain('MISC'))"
      ],
      "metadata": {
        "id": "IcaV9qFn-znH",
        "outputId": "8bf5aeb7-c569-4488-972c-f7ab67af45a6",
        "colab": {
          "base_uri": "https://localhost:8080/"
        }
      },
      "execution_count": 35,
      "outputs": [
        {
          "output_type": "stream",
          "name": "stdout",
          "text": [
            "iPod MISC\n",
            "iPhone MISC\n",
            "iPad MISC\n",
            "Jobs PER\n",
            "Apple ORG\n",
            "-----------------------------------------------\n",
            "PER:  Named person or family.\n",
            "ORG:  Companies, agencies, institutions, etc.\n",
            "MISC:  Miscellaneous entities, e.g. events, nationalities, products or works of art\n"
          ]
        }
      ]
    },
    {
      "cell_type": "code",
      "source": [
        "print(type(documento.ents))\n",
        "print(type(documento.ents[0]))"
      ],
      "metadata": {
        "id": "rknCf62wAlrQ",
        "outputId": "48f3b292-563d-44af-b4b0-d217e1df25b5",
        "colab": {
          "base_uri": "https://localhost:8080/"
        }
      },
      "execution_count": 33,
      "outputs": [
        {
          "output_type": "stream",
          "name": "stdout",
          "text": [
            "PER:  Named person or family.\n",
            "ORG:  Companies, agencies, institutions, etc.\n",
            "MISC:  Miscellaneous entities, e.g. events, nationalities, products or works of art\n"
          ]
        }
      ]
    },
    {
      "cell_type": "code",
      "source": [
        "texto = \"La Cordillera de los Andes es una cadena montañosa\"\n",
        "documento = nlp(texto)\n",
        "for entidad in documento.ents:\n",
        "    print(entidad.text, entidad.label_)"
      ],
      "metadata": {
        "id": "KKgx8efpA9ur"
      },
      "execution_count": null,
      "outputs": []
    },
    {
      "cell_type": "code",
      "source": [
        "print(spacy.explain('LOC'))"
      ],
      "metadata": {
        "id": "nn0Y_5E5BBjE"
      },
      "execution_count": null,
      "outputs": []
    },
    {
      "cell_type": "code",
      "source": [
        "texto = \"Las cataratas del Iguazú son una maravilla natural\"\n",
        "documento = nlp(texto)\n",
        "for entidad in documento.ents:\n",
        "    print(entidad.text, entidad.label_)"
      ],
      "metadata": {
        "id": "GY0X2EuxBCuU"
      },
      "execution_count": null,
      "outputs": []
    },
    {
      "cell_type": "code",
      "source": [
        "texto = \"\"\"\n",
        "Marcas individuales\n",
        "General\n",
        "Más torneos ganados: Bandera de Brasil Pelé con 3 (1958, 1962 y 1970).\n",
        "Más torneos jugados: seis jugadores han disputado el torneo en 5 ocasiones.n 1​\n",
        "Bandera de México Antonio Carbajal (1950, 1954, 1958, 1962, 1966)\n",
        "Bandera de Alemania Lothar Matthäus (1982, 1986, 1990, 1994, 1998)\n",
        "Bandera de México Rafael Márquez (2002, 2006, 2010, 2014, 2018)\n",
        "Bandera de Argentina Lionel Messi (2006, 2010, 2014, 2018, 2022)\n",
        "Bandera de Portugal Cristiano Ronaldo (2006, 2010, 2014, 2018, 2022)\n",
        "Bandera de México Andrés Guardado (2006, 2010, 2014, 2018, 2022)\n",
        "Más partidos jugados: Bandera de Argentina Lionel Messi (entre 2006 y 2022) con 26.\n",
        "Más minutos jugados: Bandera de Argentina Lionel Messi con 2315 minutos (entre 2006 y 2022).\n",
        "Más partidos ganados: Bandera de Alemania Miroslav Klose con 17 (entre 2002 y 2014).\n",
        "Más finales alcanzadas: cinco jugadores han alcanzado la final del torneo en 3 ocasiones.\n",
        "Bandera de Brasil Pelé (1958, 1962, 1970)\n",
        "Bandera de Brasil Cafú (1994, 1998, 2002)\n",
        "Bandera de Brasil Ronaldo (1994, 1998, 2002)\n",
        "Bandera de Alemania Lothar Matthäus (1982, 1986, 1990)\n",
        "Bandera de Alemania Pierre Littbarski (1982, 1986, 1990).\n",
        "Más finales consecutivas alcanzadas: cuatro jugadores han alcanzado la final del torneo en 3 ocasiones consecutivas.\n",
        "Bandera de Brasil Cafú (1994, 1998, 2002)\n",
        "Bandera de Brasil Ronaldo (1994, 1998, 2002)\n",
        "Bandera de Alemania Lothar Matthäus (1982, 1986, 1990)\n",
        "Bandera de Alemania Pierre Littbarski (1982, 1986, 1990).\n",
        "Más finales jugadas: Bandera de Brasil Cafú con 3 (1994, 1998, 2002).\n",
        "Más partidos jugados como capitán:\n",
        "Bandera de Argentina Lionel Messi con 19 (2010, 2014, 2018 y 2022).\n",
        "Más partidos como sustituto: Bandera de Brasil Denilson con 11 (1998 y 2002).\n",
        "Más joven en un partido: Bandera de Irlanda del Norte Norman Whiteside con 17 años y 42 días (contra Yugoslavia en 1982).\n",
        "Más joven en una final: Bandera de Brasil Pelé con 17 años y 249 días (contra Suecia en 1958).\n",
        "Más joven en un partido clasificatorio: Bandera de Togo Souleymane Mamam con 13 años y 310 días (contra Zambia en las clasificatorias para 2002, el 6 de mayo de 2001).7​\n",
        "Más joven en un partido como capitán: Bandera de Estados Unidos Tony Meola con 21 años y 316 días (contra Checoslovaquia en 1990).8​\n",
        "Más veterano en un partido: Bandera de Egipto Essam El-Hadary con 45 años y 161 días (contra Arabia Saudita en 2018).9​10​\n",
        "Más veterano en una final: Bandera de Italia Dino Zoff con 40 años y 133 días (contra Alemania Federal en 1982).\n",
        "Más veterano en un partido clasificatorio: Bandera de Islas Vírgenes de los Estados Unidos MacDonald Taylor con 46 años y 180 días (contra Bandera de San Cristobal y Nieves San Cristóbal y Nieves en clasificatorias para 2006, el 18 de febrero de 2004).11​\n",
        "Más veterano en un partido como capitán: Bandera de Egipto Essam El-Hadary con 45 años y 161 días (contra Arabia Saudita en 2018).\n",
        "Mayor diferencia de edad en un equipo: Bandera de Camerún Camerún con 23 años y 358 días, en 1994 (entre Rigobert Song, con 18 años y 10 días, y Roger Milla, con 42 años y 1 día).\n",
        "Mayor diferencia de edad en un equipo campeón: Bandera de Italia Italia con 21 años y 297 días, en 1982 (entre Giuseppe Bergomi, con 18 años y 201 días, y Dino Zoff, con 40 años y 133 días).\n",
        "Mayor período entre dos participaciones como jugador: Bandera de Colombia Faryd Mondragón con 15 años y 363 días (1998 y 2014).\n",
        "Mayor período entre dos participaciones en general: 44 años, Bandera de Brasil Tim (en 1938 como jugador; Perú, en 1982 como entrenador).\n",
        "Menor periodo entre debut deportivo y debut en mundiales: Bandera de Dinamarca Christian Eriksen con 147 días (2010).[cita requerida]\n",
        "Goles\n",
        "Mayor cantidad de goles anotados en el torneo: 172 (2022).\n",
        "Primer gol: Bandera de Francia Lucien Laurent ante México en 1930.\n",
        "Primer gol de penal: Bandera de México Manuel Rosas ante Argentina en 1930.\n",
        "Primer gol de penal en una final: Bandera de los Países Bajos Johan Neeskens ante Alemania Federal en 1974.\n",
        "Primer jugador en fallar un penal en una final: Bandera de Italia Antonio Cabrini ante Alemania Federal en 1982.\n",
        "Más goles anotados: Bandera de Alemania Miroslav Klose con 16 (2002, 2006, 2010 y 2014).\n",
        "Más goles anotados en fase clasificatoria: Bandera de Guatemala Carlos Ruiz con 39 (entre 1998 y 2015).\n",
        "Más goles anotados en un solo torneo: Bandera de Francia Just Fontaine con 13 en 1958.\n",
        "Más goles anotados en un solo partido: Bandera de Rusia Oleg Salenko con 5, contra Camerún en 1994.\n",
        "Más goles anotados en una derrota: Bandera de Polonia Ernest Wilimowski con 4, contra Brasil en 1938.\n",
        "Más goles anotados en un partido clasificatorio: Bandera de Australia Archie Thompson con 13, contra Samoa Americana en las clasificatorias para 2002.\n",
        "Más goles anotados en una final: Bandera de Inglaterra Geoff Hurst y Bandera de Francia Kylian Mbappé con 3 cada uno.\n",
        "Más goles anotados en finales: Bandera de Francia Kylian Mbappé, con 4.\n",
        "Primer gol olímpico: Bandera de Colombia Marcos Coll ante la Unión Soviética en 1962.\n",
        "Primer gol de oro: Bandera de Francia Laurent Blanc ante Paraguay en 1998.\n",
        "Último gol de oro: Bandera de Turquía Ilhan Mansiz ante Senegal en 2002.\n",
        "Gol más rápido: Bandera de Turquía Hakan Şükür a los 11 segundos ante Corea del Sur en 2002.\n",
        "Gol más tardío: Bandera de Italia Alessandro Del Piero ante Alemania en 2006, y Bandera de Argelia Abdelmoumene Djabou ante Alemania en 2014, ambos a los 121 minutos.\n",
        "Gol más rápido en una final: Bandera de los Países Bajos Johan Neeskens ante Alemania Federal en 1974 al minuto 1 y 27 segundos.\n",
        "Gol más tardío en una final: Bandera de Inglaterra Geoff Hurst ante Alemania Federal en 1966 a los 120 minutos.\n",
        "Doblete más rápido: Bandera de Alemania Toni Kroos en 69 segundos ante Brasil en 2014.\n",
        "Primer autogol anotado: Bandera de México Manuel Rosas ante Chile en 1930.\n",
        "Autogol más rápido: Bandera de Bosnia y Herzegovina Sead Kolašinac a los 2 minutos y 9 segundos, ante Argentina en 2014.\n",
        "Primer autogol en una final: Bandera de Croacia Mario Mandžukić ante Bandera de Francia Francia en 2018.\n",
        "Jugador debutante más joven en convertir un gol: Bandera de Brasil Pelé con 17 años y 239 días de edad, contra Gales en 1958.\n",
        "Jugador debutante más veterano en convertir un gol: Bandera de Panamá Felipe Baloy con 37 años y 120 días de edad, contra Inglaterra en 2018.\n",
        "Jugador más joven en convertir un gol: Bandera de Brasil Pelé con 17 años y 239 días de edad, ante Gales en 1958.\n",
        "Jugador más veterano en convertir un gol: Bandera de Camerún Roger Milla con 42 años y 39 días de edad ante Rusia en 1994.\n",
        "Único jugador en convertir un hat-trick en dos mundiales distintos: Bandera de Argentina Gabriel Batistuta ante Grecia en 1994 y Jamaica en 1998.\n",
        "Único jugador en convertir gol en cinco mundiales distintos: Bandera de Portugal Cristiano Ronaldo (2006, 2010, 2014, 2018 y 2022).\n",
        "Único jugador en anotar en todas las fases de un mundial: Bandera de Argentina Lionel Messi en 2022.\n",
        "Único jugador en anotar en todos los partidos de un mundial: Bandera de Brasil Jairzinho en 1970.\n",
        "Asistencias\n",
        "Más asistencias: Bandera de Brasil Pelé con 10 (1958-1970)12​\n",
        "Más asistencias en un solo torneo: Bandera de Brasil Pelé con 6, en 197013​\n",
        "Más asistencias en un solo partido: Bandera de Polonia Robert Gadocha con 4, contra Haití en 1974.14​15​\n",
        "Más asistencias en una final: Bandera de Brasil Pelé con 2, contra Italia en 1970.\n",
        "Más asistencias en finales: Bandera de Brasil Pelé con 316​\n",
        "Entrenadores\n",
        "Más torneos ganados: Bandera de Italia Vittorio Pozzo, 2 (1934 y 1938).\n",
        "Más torneos dirigidos: Bandera de Brasil Carlos Alberto Parreira, 6 (1982, 1990, 1994, 1998, 2006 y 2010).\n",
        "Más partidos dirigidos: Bandera de Alemania Helmut Schön, 25 (1966, 1970, 1974 y 1978).\n",
        "Más partidos ganados: Bandera de Alemania Helmut Schön, 16 (1966, 1970, 1974 y 1978).\n",
        "\"\"\""
      ],
      "metadata": {
        "id": "FHTShopCBFAv"
      },
      "execution_count": null,
      "outputs": []
    },
    {
      "cell_type": "code",
      "source": [
        "documento = nlp(texto)"
      ],
      "metadata": {
        "id": "U2TixczjBHyi"
      },
      "execution_count": null,
      "outputs": []
    },
    {
      "cell_type": "code",
      "source": [
        "print(len(documento))\n",
        "print(len(documento.ents))"
      ],
      "metadata": {
        "id": "qWXUTEWvBJd5"
      },
      "execution_count": null,
      "outputs": []
    },
    {
      "cell_type": "code",
      "source": [
        "for entidad in documento.ents:\n",
        "    if entidad.label_ == \"PER\":\n",
        "        print(entidad)"
      ],
      "metadata": {
        "id": "DSH3VsxHBKe_"
      },
      "execution_count": null,
      "outputs": []
    },
    {
      "cell_type": "code",
      "source": [
        "# Link: https://en.wikipedia.org/wiki/Cloud_computing\n",
        "text = open(\"Cloud computing.txt\", encoding='utf-8').read()"
      ],
      "metadata": {
        "id": "nQtS1u07BLz1"
      },
      "execution_count": null,
      "outputs": []
    },
    {
      "cell_type": "code",
      "source": [
        "nlp = spacy.load('en_core_web_md')\n",
        "document = nlp(text)"
      ],
      "metadata": {
        "id": "QmMJCNqdBNT5"
      },
      "execution_count": null,
      "outputs": []
    },
    {
      "cell_type": "code",
      "source": [
        "print(len(document))\n",
        "print(len(document.ents))"
      ],
      "metadata": {
        "id": "k0vy_VYqBOap"
      },
      "execution_count": null,
      "outputs": []
    },
    {
      "cell_type": "code",
      "source": [
        "for named_entity in document.ents:\n",
        "    if named_entity.label_ == \"ORG\":\n",
        "        print(named_entity)"
      ],
      "metadata": {
        "id": "oeiAgCWpBRXL"
      },
      "execution_count": null,
      "outputs": []
    }
  ]
}