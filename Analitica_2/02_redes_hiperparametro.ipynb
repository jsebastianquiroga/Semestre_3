{
  "nbformat": 4,
  "nbformat_minor": 0,
  "metadata": {
    "colab": {
      "provenance": []
    },
    "kernelspec": {
      "name": "python3",
      "display_name": "Python 3"
    },
    "language_info": {
      "name": "python"
    }
  },
  "cells": [
    {
      "cell_type": "markdown",
      "source": [
        "# Clasificación de Moda\n",
        "\n",
        "En este laboratorio se va a entrenar una red neuronal sencilla para la clasificación de imágenes de Ropa en sus respectivas categorías. \n",
        "\n",
        "## Objetivos de Aprendizaje\n",
        "\n",
        "- Familiarizarse con TensorFlow para el entrenamiento de Redes Neuronales\n",
        "- Recordar los conceptos de Redes Neuronales, Funciones de Costo y Métricas de Evaluación\n",
        "- Realizar tuneo de hiperparámetros en Redes\n",
        "- Comparar desempeño contra otros modelos\n"
      ],
      "metadata": {
        "id": "HPDuADlQMFxJ"
      }
    },
    {
      "cell_type": "code",
      "source": [
        "import tensorflow as tf\n",
        "from tensorflow.keras.models import Sequential\n",
        "from tensorflow.keras.losses import SparseCategoricalCrossentropy\n",
        "from tensorflow.keras.metrics import SparseCategoricalAccuracy\n",
        "import matplotlib.pyplot as plt\n",
        "import numpy as np\n"
      ],
      "metadata": {
        "id": "3WSLJvimMTvH"
      },
      "execution_count": null,
      "outputs": []
    },
    {
      "cell_type": "code",
      "source": [
        "# Load the TensorBoard notebook extension\n",
        "%load_ext tensorboard"
      ],
      "metadata": {
        "id": "Aguu7pVaZ9-R"
      },
      "execution_count": null,
      "outputs": []
    },
    {
      "cell_type": "code",
      "source": [
        "#!pip install keras-tuner"
      ],
      "metadata": {
        "id": "RAkut5rRMkvv"
      },
      "execution_count": null,
      "outputs": []
    },
    {
      "cell_type": "code",
      "source": [
        "from keras_tuner import HyperModel\n",
        "from keras_tuner.tuners import RandomSearch, Hyperband\n"
      ],
      "metadata": {
        "id": "Uk1SUWNAMeEw"
      },
      "execution_count": null,
      "outputs": []
    },
    {
      "cell_type": "markdown",
      "source": [
        "# 1. Descarga de Información \n",
        "\n",
        "La información del Fashion MNIST se encuentra como uno de los DataSets disponibles dentro de TensorFlow. Es posible llamarlo utilizando [`tf.keras.datasets.fashion_mnist`](https://www.tensorflow.org/api_docs/python/tf/keras/datasets/fashion_mnist). Se puede consultar el resto de conjuntos de datos disponibles en [la documentación de TensorFLow](https://www.tensorflow.org/api_docs/python/tf/keras/datasets).\n",
        "\n",
        "A continuación, cargue la información de Fashion MNIST. "
      ],
      "metadata": {
        "id": "XTlIoA-KNRy4"
      }
    },
    {
      "cell_type": "code",
      "source": [
        "# Carga de FashionMNIST\n",
        "\n",
        "###\n",
        "(x_train, y_train), (x_test, y_test) = None\n",
        "\n",
        "###"
      ],
      "metadata": {
        "id": "cAYiLPaTMwdg"
      },
      "execution_count": null,
      "outputs": []
    },
    {
      "cell_type": "markdown",
      "source": [
        "El conjunto de datos secompone de 10 clases de ropa para predecir. En la siguiente celda se pueden ver algunos ejemplos de cada categoría."
      ],
      "metadata": {
        "id": "3klOxz8tNYFG"
      }
    },
    {
      "cell_type": "code",
      "source": [
        "category_indices = [np.where(y_train == i)[0][0] for i in range(10)]\n",
        "category_labels = ['T-shirt/top', 'Trouser', 'Pullover', 'Dress', 'Coat', 'Sandal', 'Shirt', 'Sneaker', 'Bag', 'Ankle boot']\n",
        "# Plot examples\n",
        "plt.figure(figsize=(10, 10))\n",
        "for i, index in enumerate(category_indices):\n",
        "    plt.subplot(5, 2, i + 1)\n",
        "    plt.xticks([])\n",
        "    plt.yticks([])\n",
        "    plt.grid(False)\n",
        "    plt.imshow(x_train[index], cmap=plt.cm.binary)\n",
        "    plt.xlabel(str(y_train[index]))\n",
        "\n",
        "\n",
        "    plt.xlabel(category_labels[y_train[index]])\n",
        "plt.show()"
      ],
      "metadata": {
        "id": "-F_bBSCANVXK"
      },
      "execution_count": null,
      "outputs": []
    },
    {
      "cell_type": "markdown",
      "source": [
        "Puede observarse que cada \"dato\" es una imagen de dimensión 28x28, y que contiene valores de 0 al 255. Donde 0 es un pixel negro, y 255 es un pixel blanco. "
      ],
      "metadata": {
        "id": "q0dRU4doNc9S"
      }
    },
    {
      "cell_type": "code",
      "source": [
        "x_train.shape"
      ],
      "metadata": {
        "id": "6vj0w3scNary"
      },
      "execution_count": null,
      "outputs": []
    },
    {
      "cell_type": "code",
      "source": [
        "x_train[0, :, :].min(), x_train[0, :, :].max()"
      ],
      "metadata": {
        "id": "SPWONkvENe0c"
      },
      "execution_count": null,
      "outputs": []
    },
    {
      "cell_type": "markdown",
      "source": [
        "A continuación procedemos a reescalar los datos, de forma que la intensidad del pixel esté en el intervalo [0, 1]. "
      ],
      "metadata": {
        "id": "9-2LelnINkmJ"
      }
    },
    {
      "cell_type": "code",
      "source": [
        "# Normalize the pixel values\n",
        "x_train = x_train / 255.0\n",
        "x_test = x_test / 255.0\n"
      ],
      "metadata": {
        "id": "cAneaF86NhC6"
      },
      "execution_count": null,
      "outputs": []
    },
    {
      "cell_type": "markdown",
      "source": [
        "La función a continuación nos va a permitir observar las predicciones de un modelo y determinar qué tanto se equivocó o no."
      ],
      "metadata": {
        "id": "dEs1p-a3NoIT"
      }
    },
    {
      "cell_type": "code",
      "source": [
        "def show_random_examples(model, x, y, num_examples=10):\n",
        "    \"\"\"\n",
        "    Selección aleatoria de ejemplos y predicciones.\n",
        "\n",
        "    Params:\n",
        "    ---------\n",
        "      model (tf.keras.Model):\n",
        "        Modelo de Red Neuronal para predicciones\n",
        "\n",
        "      x (numpy.array):\n",
        "        Numpy Array con pixeles de la ropa\n",
        "\n",
        "      y (numpy.array):\n",
        "        Numpy Array indicando categoría\n",
        "\n",
        "    \"\"\"\n",
        "    # Muestra Aleatorio de índices\n",
        "    indices = np.random.choice(range(x.shape[0]), num_examples)\n",
        "\n",
        "    # Obtención de Imágenes y Categorías de Verdad\n",
        "    images = x[indices]\n",
        "    true_labels = y[indices]\n",
        "\n",
        "    # Generar Predicciones del Modelo\n",
        "    predictions = model.predict(images) # El modelo predice probabilidades\n",
        "    predicted_labels = np.argmax(predictions, axis=-1) # Se requiere obtener la categoría que maximice esas probabilidad\n",
        "    predicted_probs = np.max(predictions, axis=-1) # Selección de Probabilidad de categoría ganadora\n",
        "\n",
        "    # Display the images, true labels, and predicted labels\n",
        "    plt.figure(figsize=(10, 5))\n",
        "    for i, (img, true_label, pred_label, prob) in enumerate(zip(images, true_labels, predicted_labels, predicted_probs)):\n",
        "        plt.subplot(2, num_examples // 2, i + 1)\n",
        "        plt.imshow(img, cmap='gray')\n",
        "        plt.axis('off')\n",
        "\n",
        "        title_color = 'red' if true_label != pred_label else 'black'\n",
        "        plt.title(f\"True: {category_labels[true_label]}\\nPredicted: {category_labels[pred_label]} ({prob:.2f})\", fontsize=10, color=title_color)\n",
        "    plt.tight_layout()\n",
        "    plt.show()\n",
        "\n",
        "\n"
      ],
      "metadata": {
        "id": "runiy0htNja4"
      },
      "execution_count": null,
      "outputs": []
    },
    {
      "cell_type": "markdown",
      "source": [
        "# 2. Definición del Modelo\n",
        "\n",
        "A continuación tendrá que definir un modelo de red neuronal como usted considere. Para esto, tiene a su disposición las capas Densas (fully connected layers) que se encuentran en [`tf.keras.layers.Dense`](https://www.tensorflow.org/api_docs/python/tf/keras/layers/Dense). Siéntase libre de explorar con la cantidad de capas ocultas, la cantidad de neuronas, las funciones de activación, etc... \n",
        "\n",
        "**Nota:** Recuerde que existen 10 categorías de predicción, por lo que debe escoger adecuadamente el número de neuronas de la capa final y la función de activación de la misma. Puede ver las funciones de activación disponibles en [la documentación de TensorFlow](https://www.tensorflow.org/api_docs/python/tf/keras/activations). "
      ],
      "metadata": {
        "id": "H13fN7G-NtQN"
      }
    },
    {
      "cell_type": "code",
      "source": [
        "### Defina el modelo inicial\n",
        "\n",
        "model = Sequential([\n",
        "    tf.keras.layers.Flatten(input_shape=(28, 28)), # No borrar, es para garantizar forma\n",
        "])\n",
        "\n",
        "###"
      ],
      "metadata": {
        "id": "zm6paS7ANplV"
      },
      "execution_count": null,
      "outputs": []
    },
    {
      "cell_type": "markdown",
      "source": [
        "La red neuronal se inicializó con unos pesos aleatorios. Este es un modelo que prácticamente está adivinando. A continuación, utilice la función `show_random_examples` para determinar qué tan capaz es el modelo antes de comenzar a aprender."
      ],
      "metadata": {
        "id": "AuOlr_7IOOhl"
      }
    },
    {
      "cell_type": "code",
      "source": [
        "### Utilice la función show_random_examples para mostrar las predicciones en algunos ejemplos\n",
        "show_random_examples(None, None, None)\n",
        "###"
      ],
      "metadata": {
        "id": "Viu5rIu6OITC"
      },
      "execution_count": null,
      "outputs": []
    },
    {
      "cell_type": "markdown",
      "source": [
        "Para entrenar el modelo, es necesario definir cuál es el objetivo y cómo se desea hacer. Es por esto que se requiere *compilar* el modelo utilizando el método [`compile`](https://www.tensorflow.org/api_docs/python/tf/keras/Model#compile) del API de Tensorflow. \n",
        "\n",
        "En este debe definir qué optimizador utilizar, cuál es la función a minimizar y qué métricas de seguimiento se van a evaluar. \n",
        "\n",
        "**Nota:** Debido al formato de los datos, se utilizará la función de pérdida [`SparseCategoricalCrossentropy`](https://www.tensorflow.org/api_docs/python/tf/keras/losses/SparseCategoricalCrossentropy) e igualmente la [`SparseCategoricalAccuracy`](https://www.tensorflow.org/api_docs/python/tf/keras/metrics/SparseCategoricalAccuracy). \n",
        "\n",
        "**Nota 2:** Se recomienda utilizar [`Adam`](https://www.tensorflow.org/api_docs/python/tf/keras/optimizers/Adam) como el optimizador, pero se recomienda probar los otros optimizadores disponibles en [la documentación de TensorFlow](https://www.tensorflow.org/api_docs/python/tf/keras/optimizers). "
      ],
      "metadata": {
        "id": "vGVtqlWMOWcW"
      }
    },
    {
      "cell_type": "code",
      "source": [
        "### Compile el modelo utilizando Sparce Categorical Crossentropy y Accuracy\n",
        "model.compile(\n",
        "    optimizer=tf.keras.optimizers.Adam(learning_rate=0.001), ## Pruebe otros Optimizadores\n",
        "    loss=None, \n",
        "    metrics=[None]\n",
        ")\n",
        "\n",
        "###\n"
      ],
      "metadata": {
        "id": "O7MjgYZcOUHS"
      },
      "execution_count": null,
      "outputs": []
    },
    {
      "cell_type": "markdown",
      "source": [
        "# 3. Entrenamiento de Modelo\n",
        "\n",
        "Una vez definida la estructura del modelo y el objetivo de entrenamiento, se puede proceder a entrenar. Se utilizará el método `fit` del modelo. Pruebe probar otros batchsizes. \n",
        "\n",
        "Utilice el parámetro de `validation_split=0.2` para generar una división automática en validación.\n",
        "\n",
        "**Nota:** Guarde la historia del modelo en `model_history`, para su posterior análisis."
      ],
      "metadata": {
        "id": "2J14VFYTOnjy"
      }
    },
    {
      "cell_type": "code",
      "source": [
        "model_history = None"
      ],
      "metadata": {
        "id": "kMnEJoKOOeLs"
      },
      "execution_count": null,
      "outputs": []
    },
    {
      "cell_type": "markdown",
      "source": [
        "Una vez entrenado el modelo, se procede a revisar sus predicciones en la base de datos de tes. "
      ],
      "metadata": {
        "id": "vqjLLmfiOtGn"
      }
    },
    {
      "cell_type": "code",
      "source": [
        "show_random_examples(model, x_test, y_test)"
      ],
      "metadata": {
        "id": "0gxh3PTTOqeh"
      },
      "execution_count": null,
      "outputs": []
    },
    {
      "cell_type": "code",
      "source": [
        " model.evaluate(x_test, y_test)"
      ],
      "metadata": {
        "id": "LcArcM-EPEpK"
      },
      "execution_count": null,
      "outputs": []
    },
    {
      "cell_type": "markdown",
      "source": [
        "A continuación, utilice el método `evaluate` para determinar el desempeño del modelo en Test. "
      ],
      "metadata": {
        "id": "YffEVqt0Ow4R"
      }
    },
    {
      "cell_type": "code",
      "source": [
        "###\n",
        "test_loss, test_accuracy = None\n",
        "print(f\"Test accuracy: {test_accuracy}\")\n",
        "\n",
        "###\n"
      ],
      "metadata": {
        "id": "w3cQDwVkOu9J"
      },
      "execution_count": null,
      "outputs": []
    },
    {
      "cell_type": "code",
      "source": [
        "# Esta función nos permitirá ver la evolución de las métricas del modelo\n",
        "def plot_training_and_validation_loss(model_history):\n",
        "    loss = model_history.history['loss']\n",
        "    val_loss = model_history.history['val_loss']\n",
        "    epochs = range(1, len(loss) + 1)\n",
        "\n",
        "    plt.plot(epochs, loss, 'r', label='Training loss')\n",
        "    plt.plot(epochs, val_loss, 'b', label='Validation loss')\n",
        "    plt.xlabel('Epochs')\n",
        "    plt.ylabel('Loss')\n",
        "    plt.legend()\n",
        "    plt.title('Training and Validation Loss')\n",
        "    plt.show()\n",
        "\n",
        "\n",
        "plot_training_and_validation_loss(model_history)\n"
      ],
      "metadata": {
        "id": "Q6tZi2MBOyht"
      },
      "execution_count": null,
      "outputs": []
    },
    {
      "cell_type": "markdown",
      "source": [
        "# 4. Tuneo de Hiperparámetros & Early Stopping\n",
        "\n",
        "Hasta este punto, únicamente hicimos el entrenamiento del modelo para una especificación fijada por nosotros. Sin embargo, no necesariamente esa es la mejor especificación para el modelo que se está planteando. Es por esta razón que realizaremos el tuneo de hiperparámetros de la red neuronal. \n",
        "\n",
        "Adicionalmente, se utilizará el EarlyStopping para evitar entrenar modelos con sobreajuste.\n",
        "\n",
        "Los hiperparámetros de la red neuronal son:\n",
        "- Número de Capas\n",
        "- Número de Neuronas por Capa\n",
        "- Tasa de Aprendizaje\n",
        "- Batch Size\n",
        "- Optimizador\n",
        "- Funciones de Activación\n",
        "\n",
        "Debemos encontrar la combinación óptima de hiper-parámetros que genere el mejor modelo. \n",
        "\n",
        "Puede consultar información respecto a [`keras_tuner`](https://www.tensorflow.org/tutorials/keras/keras_tuner?hl=es-419) en su documentación. "
      ],
      "metadata": {
        "id": "2sm6alaYO7jI"
      }
    },
    {
      "cell_type": "markdown",
      "source": [
        "## Creación Modelo Base\n",
        "\n",
        "Para facilitar la exploración del espacio de hiperparámetros del modelo, es necesario crear una clase que permita generar y preparar modelos rápidamente dado los hiperparámetros. "
      ],
      "metadata": {
        "id": "zjRaYMUfQu87"
      }
    },
    {
      "cell_type": "code",
      "source": [
        "###\n",
        "class FashionMNISTModel(HyperModel):\n",
        "    def __init__(self, input_shape):\n",
        "        self.input_shape = input_shape\n",
        "\n",
        "    def build(self, hp):\n",
        "        # Se define el modelo de Red Neuronal\n",
        "        model = Sequential()\n",
        "        model.add(tf.keras.layers.Flatten(input_shape=self.input_shape))\n",
        "\n",
        "        # Definición del Número de Capas\n",
        "        NUM_LAYERS = hp.Int(\"num_layers\", 1, 3) \n",
        "        DROPOUT = hp.Float(f\"dropout_rate\", 0.1, 0.5, step=0.1)\n",
        "        for i in range(NUM_LAYERS):\n",
        "            # Debemos añadir cada una de las capas\n",
        "            # Pero cada capa debe tener un número de neuronas... \n",
        "\n",
        "            NUM_NEURONAS = hp.Int(f\"dense_units_{i}\", 32, 128, step=32)\n",
        "\n",
        "            ### \n",
        "            # Añada una capa al modelo con el número de neuronas especificado en NUM_NEURONAS\n",
        "            # No olvide la función de activación\n",
        "            model.add(None)\n",
        "\n",
        "            ### \n",
        "\n",
        "            ###\n",
        "            # Añada una capa de Dropout después de cada capa\n",
        "            model.add(None)\n",
        "\n",
        "            ###\n",
        "\n",
        "        # Especifique la capa de salida del modelo\n",
        "\n",
        "        ###\n",
        "\n",
        "        model.add(None)\n",
        "\n",
        "        ###\n",
        "\n",
        "        LEARNING_RATE = hp.Float(\"learning_rate\", 1e-4, 1e-2, sampling=\"log\")\n",
        "        model.compile(\n",
        "            optimizer=tf.keras.optimizers.Adam(LEARNING_RATE),\n",
        "            loss=\"sparse_categorical_crossentropy\",\n",
        "            metrics=[\"accuracy\"]\n",
        "        )\n",
        "\n",
        "        return model\n",
        "\n"
      ],
      "metadata": {
        "id": "_mu6uX0gO4Kq"
      },
      "execution_count": null,
      "outputs": []
    },
    {
      "cell_type": "markdown",
      "source": [
        "Una vez definido el modelo, podemos instanciar el tuner para entrenar los modelos y encontrar cuál es la mejor combinación de hiperparámetros para nuestro caso.\n",
        "\n",
        "Existen varias opciones para el tuneador, entre las cuales se encuentra:\n",
        "- **RandomSearch**: Búsqueda aleatoria de hiperparámetros\n",
        "- **Hyperband Tuner**: Entrena a los modelos como en una competencia donde cada \"ronda\" pasa la mitad de modelos con mejor desempeño\n",
        "- **BayesianOptimization**\n",
        "- **Sklearn**"
      ],
      "metadata": {
        "id": "h8lpk8x7TelC"
      }
    },
    {
      "cell_type": "code",
      "source": [
        "# Incialización del Constructor\n",
        "input_shape = (28, 28)\n",
        "hypermodel = FashionMNISTModel(input_shape)"
      ],
      "metadata": {
        "id": "RaFSgqvpXNkd"
      },
      "execution_count": null,
      "outputs": []
    },
    {
      "cell_type": "code",
      "source": [
        "tuner = Hyperband(hypermodel,\n",
        "                  objective='val_accuracy',\n",
        "                  max_epochs=50,\n",
        "                  directory=\"tuner_results\",\n",
        "                  project_name=\"fashion_mnist\")"
      ],
      "metadata": {
        "id": "eu1H6rpgRRbJ"
      },
      "execution_count": null,
      "outputs": []
    },
    {
      "cell_type": "code",
      "source": [
        "#help(Hyperband)"
      ],
      "metadata": {
        "id": "w6MguM48VMhn"
      },
      "execution_count": null,
      "outputs": []
    },
    {
      "cell_type": "markdown",
      "source": [
        "El entrenamiento igualmente debemos hacerlo teniendo en cuenta el EarlyStopping para evitar overfitting. Para esto, utilizaremos el Callback de EarlyStopping. \n",
        "\n",
        "Adicionalmente, registraremos los resultados del modelo en TensorBoard para su posterior visualización."
      ],
      "metadata": {
        "id": "gYuOxyyxVxzD"
      }
    },
    {
      "cell_type": "code",
      "source": [
        "early_stopping_callback = tf.keras.callbacks.EarlyStopping(monitor='val_loss', patience=5)"
      ],
      "metadata": {
        "id": "BTmDpOuuVNBT"
      },
      "execution_count": null,
      "outputs": []
    },
    {
      "cell_type": "code",
      "source": [
        "tensorboard_callback = tf.keras.callbacks.TensorBoard(log_dir=\"logs\")"
      ],
      "metadata": {
        "id": "jvcbdvH1Vg9o"
      },
      "execution_count": null,
      "outputs": []
    },
    {
      "cell_type": "code",
      "source": [
        "%tensorboard --logdir logs"
      ],
      "metadata": {
        "id": "XPQMkXLeZ5ev"
      },
      "execution_count": null,
      "outputs": []
    },
    {
      "cell_type": "code",
      "source": [
        "tuner.search(x_train, y_train, epochs=50, validation_split=0.2, callbacks=[early_stopping_callback, tensorboard_callback])"
      ],
      "metadata": {
        "id": "ujoTcxZJVo2_"
      },
      "execution_count": null,
      "outputs": []
    },
    {
      "cell_type": "code",
      "source": [
        "best_hps=tuner.get_best_hyperparameters(num_trials=1)[0]\n"
      ],
      "metadata": {
        "id": "nTMrYBJEWr97"
      },
      "execution_count": null,
      "outputs": []
    },
    {
      "cell_type": "markdown",
      "source": [
        "Los mejores hiperparámetros encontrados para el modelo son los siguientes..."
      ],
      "metadata": {
        "id": "YkMGgOA9YRV2"
      }
    },
    {
      "cell_type": "code",
      "source": [
        "best_hps.values"
      ],
      "metadata": {
        "id": "3YEZXIzZW5jy"
      },
      "execution_count": null,
      "outputs": []
    },
    {
      "cell_type": "markdown",
      "source": [
        "Una vez definido el Tuner, se realiza el entrenamiento como con los modelos normales de Tensorflow. Tenemos que entrenar ya el modelo final con esa información."
      ],
      "metadata": {
        "id": "rdKe7YZqWdRV"
      }
    },
    {
      "cell_type": "code",
      "source": [
        "# Build the model with the optimal hyperparameters and train it on the data for 50 epochs\n",
        "model = tuner.hypermodel.build(best_hps)\n",
        "hp_history = model.fit(x_train, y_train, epochs=5, validation_split=0.2, callbacks=[early_stopping_callback])"
      ],
      "metadata": {
        "id": "RWnUvtgRWMY_"
      },
      "execution_count": null,
      "outputs": []
    },
    {
      "cell_type": "code",
      "source": [
        "plot_training_and_validation_loss(hp_istory)"
      ],
      "metadata": {
        "id": "IrS4ra9jY5eH"
      },
      "execution_count": null,
      "outputs": []
    },
    {
      "cell_type": "code",
      "source": [
        "eval_result = model.evaluate(x_test, y_test)\n",
        "print(\"[test loss, test accuracy]:\", eval_result)"
      ],
      "metadata": {
        "id": "m5LWOTUVZFZl"
      },
      "execution_count": null,
      "outputs": []
    },
    {
      "cell_type": "markdown",
      "source": [
        "# 5. Entrenamiento de XGBoost\n",
        "\n",
        "A continuación se probará un modelo XGBoost para la predicción de la misma ropa utilizando cada pixel como una variable independiente. Es decir, este modelo tendrá de entrada 784 variables para entrenar. "
      ],
      "metadata": {
        "id": "NgypJTfbay2W"
      }
    },
    {
      "cell_type": "code",
      "source": [
        "import xgboost as xgb\n",
        "from sklearn.metrics import accuracy_score\n",
        "from sklearn.model_selection import train_test_split"
      ],
      "metadata": {
        "id": "uavONz7BZXcU"
      },
      "execution_count": null,
      "outputs": []
    },
    {
      "cell_type": "markdown",
      "source": [
        "Al igual que para la red neuronal, es necesario convertir la imagen en un vector (28x28) -> (1, 784)"
      ],
      "metadata": {
        "id": "hDauLSQ8c-mf"
      }
    },
    {
      "cell_type": "code",
      "source": [
        "x_train_flat = x_train.reshape(x_train.shape[0], -1) \n",
        "x_test_flat = x_test.reshape(x_test.shape[0], -1) "
      ],
      "metadata": {
        "id": "vJKB45N5ZnTO"
      },
      "execution_count": null,
      "outputs": []
    },
    {
      "cell_type": "markdown",
      "source": [
        "Definimos nuestro dataset de validación como:"
      ],
      "metadata": {
        "id": "X8iGf3cXdHjF"
      }
    },
    {
      "cell_type": "code",
      "source": [
        "x_train_split, x_val_split, y_train_split, y_val_split = train_test_split(x_train_flat, y_train, test_size=0.2, random_state=42)"
      ],
      "metadata": {
        "id": "kFY_cNHVbATM"
      },
      "execution_count": null,
      "outputs": []
    },
    {
      "cell_type": "markdown",
      "source": [
        "Y se acomodan los datos de entrenamiento en las DMatrix para el modelo."
      ],
      "metadata": {
        "id": "dSQMaqypdKbR"
      }
    },
    {
      "cell_type": "code",
      "source": [
        "dtrain = xgb.DMatrix(x_train_split, label=y_train_split)\n",
        "dval = xgb.DMatrix(x_val_split, label=y_val_split)\n",
        "dtest = xgb.DMatrix(x_test_flat, label=y_test)\n"
      ],
      "metadata": {
        "id": "cbqqtbLWbFbl"
      },
      "execution_count": null,
      "outputs": []
    },
    {
      "cell_type": "markdown",
      "source": [
        "### Definición del Modelo\n",
        "\n",
        "En este caso no se realizará búsqueda de hiperparámetros para el XGBoost, pero se recomienda. \n",
        "\n",
        "Defina los parámetros de la función objetivo, el número de clases a predecir. Puede guiarse con [la documentación](https://xgboost.readthedocs.io/en/stable/parameter.html#learning-task-parameters). "
      ],
      "metadata": {
        "id": "js5uwpBtdOYC"
      }
    },
    {
      "cell_type": "code",
      "source": [
        "### \n",
        "# Defina los parámetros de XGBoost\n",
        "params = {\n",
        "    \"objective\": None, # Multiclase\n",
        "    \"num_class\": None, # Núm Clases\n",
        "    \"max_depth\": 6,\n",
        "    \"eta\": 0.3,\n",
        "    \"eval_metric\": \"merror\",\n",
        "}\n",
        "\n",
        "###\n"
      ],
      "metadata": {
        "id": "MOccIzq4bLH8"
      },
      "execution_count": null,
      "outputs": []
    },
    {
      "cell_type": "code",
      "source": [
        "\n",
        "# Train the XGBoost model\n",
        "num_rounds = 50\n",
        "eval_list = [(dtrain, \"train\"), (dval, \"validation\")]\n",
        "bst = xgb.train(params, dtrain, num_rounds, evals=eval_list, early_stopping_rounds=3)\n"
      ],
      "metadata": {
        "id": "fB2l9Dy8bMb3"
      },
      "execution_count": null,
      "outputs": []
    },
    {
      "cell_type": "code",
      "source": [
        "\n",
        "# Realice sus Predicciones en test\n",
        "y_pred = bst.predict(dtest)\n"
      ],
      "metadata": {
        "id": "KPrmCLA2bOX-"
      },
      "execution_count": null,
      "outputs": []
    },
    {
      "cell_type": "code",
      "source": [
        "\n",
        "# Evalúe el Accuracy del Modelo\n",
        "accuracy = accuracy_score(y_test, y_pred)\n",
        "print(f\"Test accuracy: {accuracy}\")"
      ],
      "metadata": {
        "id": "pDqQjWnKbPUu"
      },
      "execution_count": null,
      "outputs": []
    },
    {
      "cell_type": "markdown",
      "source": [
        "¿Cuál de los dos modelos presentó mejores resultados (La red Tuneada o el XGBoost)? \n",
        "¿Qué métricas debería usar para evaluar?"
      ],
      "metadata": {
        "id": "w-PuH4VxeEJg"
      }
    },
    {
      "cell_type": "code",
      "source": [],
      "metadata": {
        "id": "hWZ5wkiveBLp"
      },
      "execution_count": null,
      "outputs": []
    }
  ]
}