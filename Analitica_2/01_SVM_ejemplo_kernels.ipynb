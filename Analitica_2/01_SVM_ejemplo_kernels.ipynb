{
  "nbformat": 4,
  "nbformat_minor": 0,
  "metadata": {
    "colab": {
      "provenance": []
    },
    "kernelspec": {
      "name": "python3",
      "display_name": "Python 3"
    },
    "language_info": {
      "name": "python"
    }
  },
  "cells": [
    {
      "cell_type": "code",
      "execution_count": null,
      "metadata": {
        "id": "ciNZ1gYYrODk"
      },
      "outputs": [],
      "source": [
        "from sklearn.datasets import make_blobs, make_circles\n",
        "import matplotlib.pyplot as plt\n",
        "from sklearn.svm import SVC\n",
        "import pandas as pd\n",
        "import numpy as np"
      ]
    },
    {
      "cell_type": "markdown",
      "source": [
        "\n",
        "<table class=\"tfo-notebook-buttons\" align=\"center\">\n",
        "\n",
        "  <td>\n",
        "    <a target=\"_blank\" href=\"https://colab.research.google.com/github/juancop/metodos_analitica_2/blob/main/02_SVM/01_ejemplo_svm/01_ejemplo_kernels.ipynb\"><img src=\"https://colab.research.google.com/assets/colab-badge.svg\" /></a>\n",
        "  </td>\n",
        "  <td>\n",
        "    <a target=\"_blank\" href=\"https://github.com/juancop/metodos_analitica_2/blob/dev/01_optimization/02_SVM/01_ejemplo_svm/01_ejemplo_kernels.ipynb\"><img src=\"https://www.tensorflow.org/images/GitHub-Mark-32px.png\" /></a>\n",
        "  </td>\n",
        "  \n",
        "</table>"
      ],
      "metadata": {
        "id": "XWGC2xD81rod"
      }
    },
    {
      "cell_type": "code",
      "source": [
        "def plot_svc_decision_function(model, ax=None, plot_support=True):\n",
        "    \"\"\"Plot the decision function for a 2D SVC\n",
        "       Source: https://jakevdp.github.io/PythonDataScienceHandbook/05.07-support-vector-machines.html\n",
        "    \"\"\"\n",
        "    if ax is None:\n",
        "        ax = plt.gca()\n",
        "    xlim = ax.get_xlim()\n",
        "    ylim = ax.get_ylim()\n",
        "    \n",
        "    # create grid to evaluate model\n",
        "    x = np.linspace(xlim[0], xlim[1], 30)\n",
        "    y = np.linspace(ylim[0], ylim[1], 30)\n",
        "    Y, X = np.meshgrid(y, x)\n",
        "    xy = np.vstack([X.ravel(), Y.ravel()]).T\n",
        "    P = model.decision_function(xy).reshape(X.shape)\n",
        "    \n",
        "    # plot decision boundary and margins\n",
        "    ax.contour(X, Y, P, colors='k',\n",
        "               levels=[-1, 0, 1], alpha=0.5,\n",
        "               linestyles=['--', '-', '--'])\n",
        "    \n",
        "    # plot support vectors\n",
        "    if plot_support:\n",
        "        ax.scatter(model.support_vectors_[:, 0],\n",
        "                   model.support_vectors_[:, 1],\n",
        "                   s=300, linewidth=1, facecolors='none',  edgecolors='black');\n",
        "    ax.set_xlim(xlim)\n",
        "    ax.set_ylim(ylim)"
      ],
      "metadata": {
        "id": "nlEWWfhnuH0U"
      },
      "execution_count": null,
      "outputs": []
    },
    {
      "cell_type": "code",
      "source": [
        "X, y = make_blobs(n_samples=300, centers=2, n_features=2, random_state=1, center_box = (-4, 4))"
      ],
      "metadata": {
        "id": "po0tYd--r5-Z"
      },
      "execution_count": null,
      "outputs": []
    },
    {
      "cell_type": "code",
      "source": [
        "svc_linear = SVC(kernel='linear', C=100).fit(X, y) # No quiero equivocarme, C es muy grande (más sobreajuste)"
      ],
      "metadata": {
        "id": "7WmOCpvbuxCL"
      },
      "execution_count": null,
      "outputs": []
    },
    {
      "cell_type": "code",
      "source": [
        "plt.figure(figsize = (10, 10))\n",
        "plt.scatter(X[y == 1, 0], X[y == 1, 1])\n",
        "plt.scatter(X[y == 0, 0], X[y == 0, 1])\n",
        "plot_svc_decision_function(svc_linear, plot_support = True)\n"
      ],
      "metadata": {
        "id": "-7yTheeCr6A0"
      },
      "execution_count": null,
      "outputs": []
    },
    {
      "cell_type": "code",
      "source": [
        "svc_linear_C1 = SVC(kernel='linear', C=1).fit(X, y) # Acepto equivocarme un poquito... "
      ],
      "metadata": {
        "id": "iknsYPiKxf3J"
      },
      "execution_count": null,
      "outputs": []
    },
    {
      "cell_type": "code",
      "source": [
        "plt.figure(figsize = (10, 10))\n",
        "plt.scatter(X[y == 1, 0], X[y == 1, 1])\n",
        "plt.scatter(X[y == 0, 0], X[y == 0, 1])\n",
        "plot_svc_decision_function(svc_linear_C1, plot_support = True)\n"
      ],
      "metadata": {
        "id": "ZsVifEqSxebO"
      },
      "execution_count": null,
      "outputs": []
    },
    {
      "cell_type": "code",
      "source": [
        "svc_linear_C0 = SVC(kernel='linear', C=0.001).fit(X, y) # Aquí no me importa nada equivocarme, prefiero tener mucha separación\n",
        "plt.figure(figsize = (10, 10))\n",
        "plt.scatter(X[y == 1, 0], X[y == 1, 1])\n",
        "plt.scatter(X[y == 0, 0], X[y == 0, 1])\n",
        "plot_svc_decision_function(svc_linear_C0, plot_support = True)\n"
      ],
      "metadata": {
        "id": "in1rEi0xxvhw"
      },
      "execution_count": null,
      "outputs": []
    },
    {
      "cell_type": "markdown",
      "source": [
        "# Radial Basis Function (Kernel Gaussiano)"
      ],
      "metadata": {
        "id": "NoSLGmXWyUyv"
      }
    },
    {
      "cell_type": "code",
      "source": [
        "X, y = make_circles(n_samples=300, random_state=1, factor=0.3, noise = 0.09)"
      ],
      "metadata": {
        "id": "nPhqZqaNr6FQ"
      },
      "execution_count": null,
      "outputs": []
    },
    {
      "cell_type": "code",
      "source": [
        "plt.figure(figsize = (8, 8))\n",
        "plt.scatter(X[y == 1, 0], X[y == 1, 1])\n",
        "plt.scatter(X[y == 0, 0], X[y == 0, 1])"
      ],
      "metadata": {
        "id": "ku6NOWv9r7ku"
      },
      "execution_count": null,
      "outputs": []
    },
    {
      "cell_type": "code",
      "source": [
        "svc_linear = SVC(kernel='linear', C=10000).fit(X, y) # No quiero equivocarme, C es muy grande (más sobreajuste)"
      ],
      "metadata": {
        "id": "zKYvk1yWy5gA"
      },
      "execution_count": null,
      "outputs": []
    },
    {
      "cell_type": "code",
      "source": [
        "plt.figure(figsize = (10, 10))\n",
        "plt.scatter(X[y == 1, 0], X[y == 1, 1])\n",
        "plt.scatter(X[y == 0, 0], X[y == 0, 1])\n",
        "plot_svc_decision_function(svc_linear, plot_support = True)\n"
      ],
      "metadata": {
        "id": "xTdtV2nmy6u0"
      },
      "execution_count": null,
      "outputs": []
    },
    {
      "cell_type": "code",
      "source": [
        "z = np.exp(-(X ** 2).sum(1))"
      ],
      "metadata": {
        "id": "dlOU4J4x0M8m"
      },
      "execution_count": null,
      "outputs": []
    },
    {
      "cell_type": "code",
      "source": [
        "fig = plt.figure(figsize = (10, 10))\n",
        "ax = plt.axes(projection='3d')\n",
        "ax.scatter3D(X[y == 1, 0], X[y == 1, 1], z[y == 1]);\n",
        "ax.scatter3D(X[y == 0, 0], X[y == 0, 1], z[y == 0]);"
      ],
      "metadata": {
        "id": "a0zlAbxc0eK2"
      },
      "execution_count": null,
      "outputs": []
    },
    {
      "cell_type": "code",
      "source": [
        "svc_rbf_C1 = SVC(kernel='rbf', C=1).fit(X, y) # No quiero equivocarme, C es muy grande (más sobreajuste)"
      ],
      "metadata": {
        "id": "L8KtdaLtyYdQ"
      },
      "execution_count": null,
      "outputs": []
    },
    {
      "cell_type": "code",
      "source": [
        "plt.figure(figsize = (10, 10))\n",
        "plt.scatter(X[y == 1, 0], X[y == 1, 1])\n",
        "plt.scatter(X[y == 0, 0], X[y == 0, 1])\n",
        "plot_svc_decision_function(svc_rbf_C1, plot_support = True)\n"
      ],
      "metadata": {
        "id": "CEnenhsEydLh"
      },
      "execution_count": null,
      "outputs": []
    },
    {
      "cell_type": "code",
      "source": [
        "svc_rbf_C_Big = SVC(kernel='rbf', C=500000).fit(X, y) # No quiero equivocarme, C es muy grande (más sobreajuste)"
      ],
      "metadata": {
        "id": "6OC_2ghNydr6"
      },
      "execution_count": null,
      "outputs": []
    },
    {
      "cell_type": "code",
      "source": [
        "plt.figure(figsize = (10, 10))\n",
        "plt.scatter(X[y == 1, 0], X[y == 1, 1])\n",
        "plt.scatter(X[y == 0, 0], X[y == 0, 1])\n",
        "plot_svc_decision_function(svc_rbf_C_Big, plot_support = True)\n"
      ],
      "metadata": {
        "id": "rFD6qFukzt_Y"
      },
      "execution_count": null,
      "outputs": []
    },
    {
      "cell_type": "markdown",
      "source": [
        "# Otro Kernel en el Primer Caso"
      ],
      "metadata": {
        "id": "k_UYdOzc03Z1"
      }
    },
    {
      "cell_type": "code",
      "source": [
        "X, y = make_blobs(n_samples=300, centers=2, n_features=2, random_state=1, center_box = (-4, 4))"
      ],
      "metadata": {
        "id": "6Db0OI3mzvX2"
      },
      "execution_count": null,
      "outputs": []
    },
    {
      "cell_type": "code",
      "source": [
        "svc_rbf_C1 = SVC(kernel='rbf', C=1).fit(X, y) # No quiero equivocarme, C es muy grande (más sobreajuste)"
      ],
      "metadata": {
        "id": "zPTJ71ay06-i"
      },
      "execution_count": null,
      "outputs": []
    },
    {
      "cell_type": "code",
      "source": [
        "plt.figure(figsize = (10, 10))\n",
        "plt.scatter(X[y == 1, 0], X[y == 1, 1])\n",
        "plt.scatter(X[y == 0, 0], X[y == 0, 1])\n",
        "plot_svc_decision_function(svc_rbf_C1, plot_support = True)\n"
      ],
      "metadata": {
        "id": "3iKAd0tU08Yc"
      },
      "execution_count": null,
      "outputs": []
    },
    {
      "cell_type": "code",
      "source": [],
      "metadata": {
        "id": "fcxiOfO_0-91"
      },
      "execution_count": null,
      "outputs": []
    }
  ]
}