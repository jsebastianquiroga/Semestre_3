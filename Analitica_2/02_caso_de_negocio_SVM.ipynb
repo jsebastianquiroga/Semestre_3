{
  "nbformat": 4,
  "nbformat_minor": 0,
  "metadata": {
    "colab": {
      "provenance": []
    },
    "kernelspec": {
      "name": "python3",
      "display_name": "Python 3"
    },
    "language_info": {
      "name": "python"
    }
  },
  "cells": [
    {
      "cell_type": "markdown",
      "source": [
        "# Caso de Negocio -- Scholastic Travel Company\n",
        "\n",
        "La agencia de viajes Scholastic Travel Company desea crear una estrategia de retención de clientes. Para esto, es necesario que el equipo de analítica cree un modelo de predicción para determinar qué clientes de los que viajaron el año anterior (2011) van a reservar nuevamente el año siguiente (2012). \n",
        "\n",
        "En este Notebook se trabajarán los siguientes temas: \n",
        "\n",
        "- Separación de Datos en Train/Val/Test\n",
        "- Análisis de Correlaciones\n",
        "- Ajuste del mejor SVM \n",
        "- Métricas de Evaluación"
      ],
      "metadata": {
        "id": "WBg9MBDQqHcL"
      }
    },
    {
      "cell_type": "code",
      "execution_count": 1,
      "metadata": {
        "id": "e5tN8tUorjY7"
      },
      "outputs": [],
      "source": [
        "import pandas as pd\n",
        "import numpy as np\n",
        "import seaborn as sns\n",
        "import matplotlib.pyplot as plt\n",
        "from sklearn.svm import SVC"
      ]
    },
    {
      "cell_type": "markdown",
      "source": [
        "A continuación se carga la base de datos de STC, que cuenta con 2389 registros de clientes que viajaron en 2011 y tiene una variable que determina si el cliente viajó nuevamente en 2012. "
      ],
      "metadata": {
        "id": "_pdyJgSIqF6l"
      }
    },
    {
      "cell_type": "code",
      "source": [
        "df = pd.read_csv('STC_datos_grupos.csv', sep = ';')"
      ],
      "metadata": {
        "id": "UAXS4X9artmG"
      },
      "execution_count": 2,
      "outputs": []
    },
    {
      "cell_type": "code",
      "source": [
        "df.shape"
      ],
      "metadata": {
        "colab": {
          "base_uri": "https://localhost:8080/"
        },
        "id": "cnsCr0Wirl-F",
        "outputId": "383acd15-d988-4df8-ca8c-99e7f4e74169"
      },
      "execution_count": 3,
      "outputs": [
        {
          "output_type": "execute_result",
          "data": {
            "text/plain": [
              "(2389, 56)"
            ]
          },
          "metadata": {},
          "execution_count": 3
        }
      ]
    },
    {
      "cell_type": "code",
      "source": [
        "df.head()"
      ],
      "metadata": {
        "colab": {
          "base_uri": "https://localhost:8080/",
          "height": 317
        },
        "id": "SVkrgyq66Xa-",
        "outputId": "c47ef2d4-04f7-4fe7-fe57-a809039031c9"
      },
      "execution_count": 4,
      "outputs": [
        {
          "output_type": "execute_result",
          "data": {
            "text/plain": [
              "   ID Program.Code  From.Grade  To.Grade Group.State  Is.Non.Annual.  Days  \\\n",
              "0   1           HS         4.0       4.0          CA               0     1   \n",
              "1   2           HC         8.0       8.0          AZ               0     7   \n",
              "2   3           HD         8.0       8.0          FL               0     3   \n",
              "3   4           HN         9.0      12.0          VA               1     3   \n",
              "4   5           HD         6.0       8.0          FL               0     6   \n",
              "\n",
              "  Travel.Type  Departure.Date  Return.Date  ...  GroupGradeTypeLow  \\\n",
              "0           A           40557        40557  ...                  K   \n",
              "1           A           40557        40564  ...             Middle   \n",
              "2           A           40558        40560  ...             Middle   \n",
              "3           B           40558        40560  ...          Undefined   \n",
              "4           T           40559        40564  ...             Middle   \n",
              "\n",
              "  GroupGradeTypeHigh        GroupGradeType  MajorProgramCode  \\\n",
              "0         Elementary         K->Elementary                 H   \n",
              "1             Middle        Middle->Middle                 H   \n",
              "2             Middle        Middle->Middle                 H   \n",
              "3          Undefined  Undefined->Undefined                 H   \n",
              "4             Middle        Middle->Middle                 H   \n",
              "\n",
              "   SingleGradeTripFlag  FPP.to.School.enrollment  FPP.to.PAX  \\\n",
              "0                    1                0.06364617    0.936508   \n",
              "1                    1               0.025882353    0.880000   \n",
              "2                    1                0.02513089    0.888889   \n",
              "3                    0                       NaN    1.000000   \n",
              "4                    0                    0.1125    0.910112   \n",
              "\n",
              "   Num.of.Non_FPP.PAX  SchoolSizeIndicator  Retained.in.2012.  \n",
              "0                   4                    L                  1  \n",
              "1                   3                    L                  1  \n",
              "2                   3                    L                  1  \n",
              "3                   0                  NaN                  0  \n",
              "4                   8                  M-L                  0  \n",
              "\n",
              "[5 rows x 56 columns]"
            ],
            "text/html": [
              "\n",
              "  <div id=\"df-12cbb067-9040-4e98-b47b-3c26a26395c0\">\n",
              "    <div class=\"colab-df-container\">\n",
              "      <div>\n",
              "<style scoped>\n",
              "    .dataframe tbody tr th:only-of-type {\n",
              "        vertical-align: middle;\n",
              "    }\n",
              "\n",
              "    .dataframe tbody tr th {\n",
              "        vertical-align: top;\n",
              "    }\n",
              "\n",
              "    .dataframe thead th {\n",
              "        text-align: right;\n",
              "    }\n",
              "</style>\n",
              "<table border=\"1\" class=\"dataframe\">\n",
              "  <thead>\n",
              "    <tr style=\"text-align: right;\">\n",
              "      <th></th>\n",
              "      <th>ID</th>\n",
              "      <th>Program.Code</th>\n",
              "      <th>From.Grade</th>\n",
              "      <th>To.Grade</th>\n",
              "      <th>Group.State</th>\n",
              "      <th>Is.Non.Annual.</th>\n",
              "      <th>Days</th>\n",
              "      <th>Travel.Type</th>\n",
              "      <th>Departure.Date</th>\n",
              "      <th>Return.Date</th>\n",
              "      <th>...</th>\n",
              "      <th>GroupGradeTypeLow</th>\n",
              "      <th>GroupGradeTypeHigh</th>\n",
              "      <th>GroupGradeType</th>\n",
              "      <th>MajorProgramCode</th>\n",
              "      <th>SingleGradeTripFlag</th>\n",
              "      <th>FPP.to.School.enrollment</th>\n",
              "      <th>FPP.to.PAX</th>\n",
              "      <th>Num.of.Non_FPP.PAX</th>\n",
              "      <th>SchoolSizeIndicator</th>\n",
              "      <th>Retained.in.2012.</th>\n",
              "    </tr>\n",
              "  </thead>\n",
              "  <tbody>\n",
              "    <tr>\n",
              "      <th>0</th>\n",
              "      <td>1</td>\n",
              "      <td>HS</td>\n",
              "      <td>4.0</td>\n",
              "      <td>4.0</td>\n",
              "      <td>CA</td>\n",
              "      <td>0</td>\n",
              "      <td>1</td>\n",
              "      <td>A</td>\n",
              "      <td>40557</td>\n",
              "      <td>40557</td>\n",
              "      <td>...</td>\n",
              "      <td>K</td>\n",
              "      <td>Elementary</td>\n",
              "      <td>K-&gt;Elementary</td>\n",
              "      <td>H</td>\n",
              "      <td>1</td>\n",
              "      <td>0.06364617</td>\n",
              "      <td>0.936508</td>\n",
              "      <td>4</td>\n",
              "      <td>L</td>\n",
              "      <td>1</td>\n",
              "    </tr>\n",
              "    <tr>\n",
              "      <th>1</th>\n",
              "      <td>2</td>\n",
              "      <td>HC</td>\n",
              "      <td>8.0</td>\n",
              "      <td>8.0</td>\n",
              "      <td>AZ</td>\n",
              "      <td>0</td>\n",
              "      <td>7</td>\n",
              "      <td>A</td>\n",
              "      <td>40557</td>\n",
              "      <td>40564</td>\n",
              "      <td>...</td>\n",
              "      <td>Middle</td>\n",
              "      <td>Middle</td>\n",
              "      <td>Middle-&gt;Middle</td>\n",
              "      <td>H</td>\n",
              "      <td>1</td>\n",
              "      <td>0.025882353</td>\n",
              "      <td>0.880000</td>\n",
              "      <td>3</td>\n",
              "      <td>L</td>\n",
              "      <td>1</td>\n",
              "    </tr>\n",
              "    <tr>\n",
              "      <th>2</th>\n",
              "      <td>3</td>\n",
              "      <td>HD</td>\n",
              "      <td>8.0</td>\n",
              "      <td>8.0</td>\n",
              "      <td>FL</td>\n",
              "      <td>0</td>\n",
              "      <td>3</td>\n",
              "      <td>A</td>\n",
              "      <td>40558</td>\n",
              "      <td>40560</td>\n",
              "      <td>...</td>\n",
              "      <td>Middle</td>\n",
              "      <td>Middle</td>\n",
              "      <td>Middle-&gt;Middle</td>\n",
              "      <td>H</td>\n",
              "      <td>1</td>\n",
              "      <td>0.02513089</td>\n",
              "      <td>0.888889</td>\n",
              "      <td>3</td>\n",
              "      <td>L</td>\n",
              "      <td>1</td>\n",
              "    </tr>\n",
              "    <tr>\n",
              "      <th>3</th>\n",
              "      <td>4</td>\n",
              "      <td>HN</td>\n",
              "      <td>9.0</td>\n",
              "      <td>12.0</td>\n",
              "      <td>VA</td>\n",
              "      <td>1</td>\n",
              "      <td>3</td>\n",
              "      <td>B</td>\n",
              "      <td>40558</td>\n",
              "      <td>40560</td>\n",
              "      <td>...</td>\n",
              "      <td>Undefined</td>\n",
              "      <td>Undefined</td>\n",
              "      <td>Undefined-&gt;Undefined</td>\n",
              "      <td>H</td>\n",
              "      <td>0</td>\n",
              "      <td>NaN</td>\n",
              "      <td>1.000000</td>\n",
              "      <td>0</td>\n",
              "      <td>NaN</td>\n",
              "      <td>0</td>\n",
              "    </tr>\n",
              "    <tr>\n",
              "      <th>4</th>\n",
              "      <td>5</td>\n",
              "      <td>HD</td>\n",
              "      <td>6.0</td>\n",
              "      <td>8.0</td>\n",
              "      <td>FL</td>\n",
              "      <td>0</td>\n",
              "      <td>6</td>\n",
              "      <td>T</td>\n",
              "      <td>40559</td>\n",
              "      <td>40564</td>\n",
              "      <td>...</td>\n",
              "      <td>Middle</td>\n",
              "      <td>Middle</td>\n",
              "      <td>Middle-&gt;Middle</td>\n",
              "      <td>H</td>\n",
              "      <td>0</td>\n",
              "      <td>0.1125</td>\n",
              "      <td>0.910112</td>\n",
              "      <td>8</td>\n",
              "      <td>M-L</td>\n",
              "      <td>0</td>\n",
              "    </tr>\n",
              "  </tbody>\n",
              "</table>\n",
              "<p>5 rows × 56 columns</p>\n",
              "</div>\n",
              "      <button class=\"colab-df-convert\" onclick=\"convertToInteractive('df-12cbb067-9040-4e98-b47b-3c26a26395c0')\"\n",
              "              title=\"Convert this dataframe to an interactive table.\"\n",
              "              style=\"display:none;\">\n",
              "        \n",
              "  <svg xmlns=\"http://www.w3.org/2000/svg\" height=\"24px\"viewBox=\"0 0 24 24\"\n",
              "       width=\"24px\">\n",
              "    <path d=\"M0 0h24v24H0V0z\" fill=\"none\"/>\n",
              "    <path d=\"M18.56 5.44l.94 2.06.94-2.06 2.06-.94-2.06-.94-.94-2.06-.94 2.06-2.06.94zm-11 1L8.5 8.5l.94-2.06 2.06-.94-2.06-.94L8.5 2.5l-.94 2.06-2.06.94zm10 10l.94 2.06.94-2.06 2.06-.94-2.06-.94-.94-2.06-.94 2.06-2.06.94z\"/><path d=\"M17.41 7.96l-1.37-1.37c-.4-.4-.92-.59-1.43-.59-.52 0-1.04.2-1.43.59L10.3 9.45l-7.72 7.72c-.78.78-.78 2.05 0 2.83L4 21.41c.39.39.9.59 1.41.59.51 0 1.02-.2 1.41-.59l7.78-7.78 2.81-2.81c.8-.78.8-2.07 0-2.86zM5.41 20L4 18.59l7.72-7.72 1.47 1.35L5.41 20z\"/>\n",
              "  </svg>\n",
              "      </button>\n",
              "      \n",
              "  <style>\n",
              "    .colab-df-container {\n",
              "      display:flex;\n",
              "      flex-wrap:wrap;\n",
              "      gap: 12px;\n",
              "    }\n",
              "\n",
              "    .colab-df-convert {\n",
              "      background-color: #E8F0FE;\n",
              "      border: none;\n",
              "      border-radius: 50%;\n",
              "      cursor: pointer;\n",
              "      display: none;\n",
              "      fill: #1967D2;\n",
              "      height: 32px;\n",
              "      padding: 0 0 0 0;\n",
              "      width: 32px;\n",
              "    }\n",
              "\n",
              "    .colab-df-convert:hover {\n",
              "      background-color: #E2EBFA;\n",
              "      box-shadow: 0px 1px 2px rgba(60, 64, 67, 0.3), 0px 1px 3px 1px rgba(60, 64, 67, 0.15);\n",
              "      fill: #174EA6;\n",
              "    }\n",
              "\n",
              "    [theme=dark] .colab-df-convert {\n",
              "      background-color: #3B4455;\n",
              "      fill: #D2E3FC;\n",
              "    }\n",
              "\n",
              "    [theme=dark] .colab-df-convert:hover {\n",
              "      background-color: #434B5C;\n",
              "      box-shadow: 0px 1px 3px 1px rgba(0, 0, 0, 0.15);\n",
              "      filter: drop-shadow(0px 1px 2px rgba(0, 0, 0, 0.3));\n",
              "      fill: #FFFFFF;\n",
              "    }\n",
              "  </style>\n",
              "\n",
              "      <script>\n",
              "        const buttonEl =\n",
              "          document.querySelector('#df-12cbb067-9040-4e98-b47b-3c26a26395c0 button.colab-df-convert');\n",
              "        buttonEl.style.display =\n",
              "          google.colab.kernel.accessAllowed ? 'block' : 'none';\n",
              "\n",
              "        async function convertToInteractive(key) {\n",
              "          const element = document.querySelector('#df-12cbb067-9040-4e98-b47b-3c26a26395c0');\n",
              "          const dataTable =\n",
              "            await google.colab.kernel.invokeFunction('convertToInteractive',\n",
              "                                                     [key], {});\n",
              "          if (!dataTable) return;\n",
              "\n",
              "          const docLinkHtml = 'Like what you see? Visit the ' +\n",
              "            '<a target=\"_blank\" href=https://colab.research.google.com/notebooks/data_table.ipynb>data table notebook</a>'\n",
              "            + ' to learn more about interactive tables.';\n",
              "          element.innerHTML = '';\n",
              "          dataTable['output_type'] = 'display_data';\n",
              "          await google.colab.output.renderOutput(dataTable, element);\n",
              "          const docLink = document.createElement('div');\n",
              "          docLink.innerHTML = docLinkHtml;\n",
              "          element.appendChild(docLink);\n",
              "        }\n",
              "      </script>\n",
              "    </div>\n",
              "  </div>\n",
              "  "
            ]
          },
          "metadata": {},
          "execution_count": 4
        }
      ]
    },
    {
      "cell_type": "markdown",
      "source": [
        "Se cuenta con 54 variables independientes y una variable explicativa, `Retained.in.2012.`. "
      ],
      "metadata": {
        "id": "o9N1Bf4Js6fE"
      }
    },
    {
      "cell_type": "code",
      "source": [
        "df = df.drop(columns = ['FirstMeeting', 'LastMeeting', 'Initial.System.Date', 'Early.RPL', 'Latest.RPL', 'Departure.Date', 'Return.Date', 'Deposit.Date', 'ID'])"
      ],
      "metadata": {
        "id": "FFf39trL_rd_"
      },
      "execution_count": 5,
      "outputs": []
    },
    {
      "cell_type": "code",
      "source": [
        "df.columns"
      ],
      "metadata": {
        "colab": {
          "base_uri": "https://localhost:8080/"
        },
        "id": "Cgzkz5MO6X_X",
        "outputId": "de22ca79-7106-49c7-d286-5f6c9fb38939"
      },
      "execution_count": 6,
      "outputs": [
        {
          "output_type": "execute_result",
          "data": {
            "text/plain": [
              "Index(['Program.Code', 'From.Grade', 'To.Grade', 'Group.State',\n",
              "       'Is.Non.Annual.', 'Days', 'Travel.Type', 'Special.Pay', 'Tuition',\n",
              "       'FRP.Active', 'FRP.Cancelled', 'FRP.Take.up.percent.', 'Cancelled.Pax',\n",
              "       'Total.Discount.Pax', 'Poverty.Code', 'Region', 'CRM.Segment',\n",
              "       'School.Type', 'Parent.Meeting.Flag', 'MDR.Low.Grade', 'MDR.High.Grade',\n",
              "       'Total.School.Enrollment', 'Income.Level', 'EZ.Pay.Take.Up.Rate',\n",
              "       'School.Sponsor', 'SPR.Product.Type', 'SPR.New.Existing', 'FPP',\n",
              "       'Total.Pax', 'SPR.Group.Revenue', 'NumberOfMeetingswithParents',\n",
              "       'DifferenceTraveltoFirstMeeting', 'DifferenceTraveltoLastMeeting',\n",
              "       'SchoolGradeTypeLow', 'SchoolGradeTypeHigh', 'SchoolGradeType',\n",
              "       'DepartureMonth', 'GroupGradeTypeLow', 'GroupGradeTypeHigh',\n",
              "       'GroupGradeType', 'MajorProgramCode', 'SingleGradeTripFlag',\n",
              "       'FPP.to.School.enrollment', 'FPP.to.PAX', 'Num.of.Non_FPP.PAX',\n",
              "       'SchoolSizeIndicator', 'Retained.in.2012.'],\n",
              "      dtype='object')"
            ]
          },
          "metadata": {},
          "execution_count": 6
        }
      ]
    },
    {
      "cell_type": "markdown",
      "source": [
        "# Limpieza de Datos\n",
        "\n",
        "Nos entregan una base de datos que tiene demasiadas variables categóricas que pueden o no aportar información para el modelo. A continuación se limpiarán las categorías y se hará imputación de datos en caso de que haya variables faltantes. "
      ],
      "metadata": {
        "id": "qwoEgd_Q04WR"
      }
    },
    {
      "cell_type": "code",
      "source": [
        "## Asignación de tipos categóricos\n",
        "\n",
        "categorical_features = ['From.Grade', 'To.Grade', 'Group.State', 'Travel.Type', 'Poverty.Code', 'CRM.Segment', 'School.Type', 'Parent.Meeting.Flag', \n",
        "                        'MDR.High.Grade', 'School.Sponsor', 'SchoolGradeTypeLow', 'SchoolGradeTypeHigh', 'GroupGradeTypeLow', 'GroupGradeTypeHigh',\n",
        "                        'MajorProgramCode', 'SingleGradeTripFlag', 'SchoolSizeIndicator', 'Region', 'Special.Pay',    \n",
        "                        'Income.Level', 'SPR.Product.Type', 'SPR.New.Existing', 'DepartureMonth', 'MDR.Low.Grade', \n",
        "                        'FPP.to.School.enrollment', 'GroupGradeType', 'Program.Code', 'SchoolGradeType']\n",
        "\n",
        "df[categorical_features] = df[categorical_features].apply(lambda x: x.astype('category'))\n",
        "\n"
      ],
      "metadata": {
        "id": "uZiPfB3J1Zkl"
      },
      "execution_count": 7,
      "outputs": []
    },
    {
      "cell_type": "markdown",
      "source": [
        "## División en Train y Test\n",
        "\n",
        "Antes de comenzar con la limpieza de datos (que es inputación de missing values, estandarizaciones, etc...) es importante realizar la división en train-test. No queremos codificar en los datos de entrenamiento información de los datos de prueba... \n",
        "\n",
        "Para esto, utilice la función de [`sklearn.model_selection.train_test_split`](https://scikit-learn.org/stable/modules/generated/sklearn.model_selection.train_test_split.html)."
      ],
      "metadata": {
        "id": "7sacgGAv9E7s"
      }
    },
    {
      "cell_type": "code",
      "source": [
        "y = df['Retained.in.2012.']\n",
        "X = df.drop(columns = 'Retained.in.2012.')\n",
        "\n",
        "### Utilice train_test_split para dividir los datos en entrenamiento y test. \n",
        "\n",
        "# Deje que el tamaño de test sea de 30%\n",
        "# Random Sate: 42 para fines comparativos\n",
        "from sklearn.model_selection import train_test_split\n",
        "X_train, X_test, y_train, y_test = train_test_split(X, y, test_size=0.3, random_state=42)\n",
        "                                                    \n",
        "###"
      ],
      "metadata": {
        "id": "oE6oE-ek8keD"
      },
      "execution_count": 8,
      "outputs": []
    },
    {
      "cell_type": "markdown",
      "source": [
        "Verifique que la concentración de la variable dependiente sea similar en la base de entrenamiento y en la de validación."
      ],
      "metadata": {
        "id": "4fJtpLZi-XiB"
      }
    },
    {
      "cell_type": "code",
      "source": [
        "y_test.value_counts()/len(y_test)"
      ],
      "metadata": {
        "colab": {
          "base_uri": "https://localhost:8080/"
        },
        "id": "ACs5mouA790K",
        "outputId": "9928fa9d-17cc-4908-e652-e61af9f3cace"
      },
      "execution_count": 9,
      "outputs": [
        {
          "output_type": "execute_result",
          "data": {
            "text/plain": [
              "1    0.589958\n",
              "0    0.410042\n",
              "Name: Retained.in.2012., dtype: float64"
            ]
          },
          "metadata": {},
          "execution_count": 9
        }
      ]
    },
    {
      "cell_type": "code",
      "source": [
        "y_train.value_counts()/len(y_train)"
      ],
      "metadata": {
        "colab": {
          "base_uri": "https://localhost:8080/"
        },
        "id": "a5SBjTNP5IFn",
        "outputId": "10193010-9a41-4d51-f8bf-fab352c5f46b"
      },
      "execution_count": 10,
      "outputs": [
        {
          "output_type": "execute_result",
          "data": {
            "text/plain": [
              "1    0.614833\n",
              "0    0.385167\n",
              "Name: Retained.in.2012., dtype: float64"
            ]
          },
          "metadata": {},
          "execution_count": 10
        }
      ]
    },
    {
      "cell_type": "markdown",
      "source": [
        "## Missing Values\n",
        "\n",
        "A continuación se realizará la inputación de valores faltantes. Utilizando el método `X_train.isna().sum()`"
      ],
      "metadata": {
        "id": "mXuj3CEr-qiu"
      }
    },
    {
      "cell_type": "code",
      "source": [
        "pd.DataFrame(X_train.isna().sum()/len(X_train))"
      ],
      "metadata": {
        "colab": {
          "base_uri": "https://localhost:8080/",
          "height": 1000
        },
        "id": "FUNXm2rT-prD",
        "outputId": "5601bc38-9b97-405f-82b4-18b0c31662fa"
      },
      "execution_count": 11,
      "outputs": [
        {
          "output_type": "execute_result",
          "data": {
            "text/plain": [
              "                                       0\n",
              "Program.Code                    0.000000\n",
              "From.Grade                      0.054426\n",
              "To.Grade                        0.064593\n",
              "Group.State                     0.000000\n",
              "Is.Non.Annual.                  0.000000\n",
              "Days                            0.000000\n",
              "Travel.Type                     0.000000\n",
              "Special.Pay                     0.805622\n",
              "Tuition                         0.000000\n",
              "FRP.Active                      0.000000\n",
              "FRP.Cancelled                   0.000000\n",
              "FRP.Take.up.percent.            0.000000\n",
              "Cancelled.Pax                   0.000000\n",
              "Total.Discount.Pax              0.000000\n",
              "Poverty.Code                    0.254187\n",
              "Region                          0.000000\n",
              "CRM.Segment                     0.001196\n",
              "School.Type                     0.000000\n",
              "Parent.Meeting.Flag             0.000000\n",
              "MDR.Low.Grade                   0.033493\n",
              "MDR.High.Grade                  0.033493\n",
              "Total.School.Enrollment         0.043062\n",
              "Income.Level                    0.030502\n",
              "EZ.Pay.Take.Up.Rate             0.000000\n",
              "School.Sponsor                  0.000000\n",
              "SPR.Product.Type                0.000000\n",
              "SPR.New.Existing                0.000000\n",
              "FPP                             0.000000\n",
              "Total.Pax                       0.000000\n",
              "SPR.Group.Revenue               0.000000\n",
              "NumberOfMeetingswithParents     0.000000\n",
              "DifferenceTraveltoFirstMeeting  0.145335\n",
              "DifferenceTraveltoLastMeeting   0.145335\n",
              "SchoolGradeTypeLow              0.000000\n",
              "SchoolGradeTypeHigh             0.000000\n",
              "SchoolGradeType                 0.000000\n",
              "DepartureMonth                  0.000000\n",
              "GroupGradeTypeLow               0.000000\n",
              "GroupGradeTypeHigh              0.000000\n",
              "GroupGradeType                  0.000000\n",
              "MajorProgramCode                0.000000\n",
              "SingleGradeTripFlag             0.000000\n",
              "FPP.to.School.enrollment        0.043062\n",
              "FPP.to.PAX                      0.000000\n",
              "Num.of.Non_FPP.PAX              0.000000\n",
              "SchoolSizeIndicator             0.043062"
            ],
            "text/html": [
              "\n",
              "  <div id=\"df-80e0b43f-05bc-4c3d-a145-e6964a0e1d8a\">\n",
              "    <div class=\"colab-df-container\">\n",
              "      <div>\n",
              "<style scoped>\n",
              "    .dataframe tbody tr th:only-of-type {\n",
              "        vertical-align: middle;\n",
              "    }\n",
              "\n",
              "    .dataframe tbody tr th {\n",
              "        vertical-align: top;\n",
              "    }\n",
              "\n",
              "    .dataframe thead th {\n",
              "        text-align: right;\n",
              "    }\n",
              "</style>\n",
              "<table border=\"1\" class=\"dataframe\">\n",
              "  <thead>\n",
              "    <tr style=\"text-align: right;\">\n",
              "      <th></th>\n",
              "      <th>0</th>\n",
              "    </tr>\n",
              "  </thead>\n",
              "  <tbody>\n",
              "    <tr>\n",
              "      <th>Program.Code</th>\n",
              "      <td>0.000000</td>\n",
              "    </tr>\n",
              "    <tr>\n",
              "      <th>From.Grade</th>\n",
              "      <td>0.054426</td>\n",
              "    </tr>\n",
              "    <tr>\n",
              "      <th>To.Grade</th>\n",
              "      <td>0.064593</td>\n",
              "    </tr>\n",
              "    <tr>\n",
              "      <th>Group.State</th>\n",
              "      <td>0.000000</td>\n",
              "    </tr>\n",
              "    <tr>\n",
              "      <th>Is.Non.Annual.</th>\n",
              "      <td>0.000000</td>\n",
              "    </tr>\n",
              "    <tr>\n",
              "      <th>Days</th>\n",
              "      <td>0.000000</td>\n",
              "    </tr>\n",
              "    <tr>\n",
              "      <th>Travel.Type</th>\n",
              "      <td>0.000000</td>\n",
              "    </tr>\n",
              "    <tr>\n",
              "      <th>Special.Pay</th>\n",
              "      <td>0.805622</td>\n",
              "    </tr>\n",
              "    <tr>\n",
              "      <th>Tuition</th>\n",
              "      <td>0.000000</td>\n",
              "    </tr>\n",
              "    <tr>\n",
              "      <th>FRP.Active</th>\n",
              "      <td>0.000000</td>\n",
              "    </tr>\n",
              "    <tr>\n",
              "      <th>FRP.Cancelled</th>\n",
              "      <td>0.000000</td>\n",
              "    </tr>\n",
              "    <tr>\n",
              "      <th>FRP.Take.up.percent.</th>\n",
              "      <td>0.000000</td>\n",
              "    </tr>\n",
              "    <tr>\n",
              "      <th>Cancelled.Pax</th>\n",
              "      <td>0.000000</td>\n",
              "    </tr>\n",
              "    <tr>\n",
              "      <th>Total.Discount.Pax</th>\n",
              "      <td>0.000000</td>\n",
              "    </tr>\n",
              "    <tr>\n",
              "      <th>Poverty.Code</th>\n",
              "      <td>0.254187</td>\n",
              "    </tr>\n",
              "    <tr>\n",
              "      <th>Region</th>\n",
              "      <td>0.000000</td>\n",
              "    </tr>\n",
              "    <tr>\n",
              "      <th>CRM.Segment</th>\n",
              "      <td>0.001196</td>\n",
              "    </tr>\n",
              "    <tr>\n",
              "      <th>School.Type</th>\n",
              "      <td>0.000000</td>\n",
              "    </tr>\n",
              "    <tr>\n",
              "      <th>Parent.Meeting.Flag</th>\n",
              "      <td>0.000000</td>\n",
              "    </tr>\n",
              "    <tr>\n",
              "      <th>MDR.Low.Grade</th>\n",
              "      <td>0.033493</td>\n",
              "    </tr>\n",
              "    <tr>\n",
              "      <th>MDR.High.Grade</th>\n",
              "      <td>0.033493</td>\n",
              "    </tr>\n",
              "    <tr>\n",
              "      <th>Total.School.Enrollment</th>\n",
              "      <td>0.043062</td>\n",
              "    </tr>\n",
              "    <tr>\n",
              "      <th>Income.Level</th>\n",
              "      <td>0.030502</td>\n",
              "    </tr>\n",
              "    <tr>\n",
              "      <th>EZ.Pay.Take.Up.Rate</th>\n",
              "      <td>0.000000</td>\n",
              "    </tr>\n",
              "    <tr>\n",
              "      <th>School.Sponsor</th>\n",
              "      <td>0.000000</td>\n",
              "    </tr>\n",
              "    <tr>\n",
              "      <th>SPR.Product.Type</th>\n",
              "      <td>0.000000</td>\n",
              "    </tr>\n",
              "    <tr>\n",
              "      <th>SPR.New.Existing</th>\n",
              "      <td>0.000000</td>\n",
              "    </tr>\n",
              "    <tr>\n",
              "      <th>FPP</th>\n",
              "      <td>0.000000</td>\n",
              "    </tr>\n",
              "    <tr>\n",
              "      <th>Total.Pax</th>\n",
              "      <td>0.000000</td>\n",
              "    </tr>\n",
              "    <tr>\n",
              "      <th>SPR.Group.Revenue</th>\n",
              "      <td>0.000000</td>\n",
              "    </tr>\n",
              "    <tr>\n",
              "      <th>NumberOfMeetingswithParents</th>\n",
              "      <td>0.000000</td>\n",
              "    </tr>\n",
              "    <tr>\n",
              "      <th>DifferenceTraveltoFirstMeeting</th>\n",
              "      <td>0.145335</td>\n",
              "    </tr>\n",
              "    <tr>\n",
              "      <th>DifferenceTraveltoLastMeeting</th>\n",
              "      <td>0.145335</td>\n",
              "    </tr>\n",
              "    <tr>\n",
              "      <th>SchoolGradeTypeLow</th>\n",
              "      <td>0.000000</td>\n",
              "    </tr>\n",
              "    <tr>\n",
              "      <th>SchoolGradeTypeHigh</th>\n",
              "      <td>0.000000</td>\n",
              "    </tr>\n",
              "    <tr>\n",
              "      <th>SchoolGradeType</th>\n",
              "      <td>0.000000</td>\n",
              "    </tr>\n",
              "    <tr>\n",
              "      <th>DepartureMonth</th>\n",
              "      <td>0.000000</td>\n",
              "    </tr>\n",
              "    <tr>\n",
              "      <th>GroupGradeTypeLow</th>\n",
              "      <td>0.000000</td>\n",
              "    </tr>\n",
              "    <tr>\n",
              "      <th>GroupGradeTypeHigh</th>\n",
              "      <td>0.000000</td>\n",
              "    </tr>\n",
              "    <tr>\n",
              "      <th>GroupGradeType</th>\n",
              "      <td>0.000000</td>\n",
              "    </tr>\n",
              "    <tr>\n",
              "      <th>MajorProgramCode</th>\n",
              "      <td>0.000000</td>\n",
              "    </tr>\n",
              "    <tr>\n",
              "      <th>SingleGradeTripFlag</th>\n",
              "      <td>0.000000</td>\n",
              "    </tr>\n",
              "    <tr>\n",
              "      <th>FPP.to.School.enrollment</th>\n",
              "      <td>0.043062</td>\n",
              "    </tr>\n",
              "    <tr>\n",
              "      <th>FPP.to.PAX</th>\n",
              "      <td>0.000000</td>\n",
              "    </tr>\n",
              "    <tr>\n",
              "      <th>Num.of.Non_FPP.PAX</th>\n",
              "      <td>0.000000</td>\n",
              "    </tr>\n",
              "    <tr>\n",
              "      <th>SchoolSizeIndicator</th>\n",
              "      <td>0.043062</td>\n",
              "    </tr>\n",
              "  </tbody>\n",
              "</table>\n",
              "</div>\n",
              "      <button class=\"colab-df-convert\" onclick=\"convertToInteractive('df-80e0b43f-05bc-4c3d-a145-e6964a0e1d8a')\"\n",
              "              title=\"Convert this dataframe to an interactive table.\"\n",
              "              style=\"display:none;\">\n",
              "        \n",
              "  <svg xmlns=\"http://www.w3.org/2000/svg\" height=\"24px\"viewBox=\"0 0 24 24\"\n",
              "       width=\"24px\">\n",
              "    <path d=\"M0 0h24v24H0V0z\" fill=\"none\"/>\n",
              "    <path d=\"M18.56 5.44l.94 2.06.94-2.06 2.06-.94-2.06-.94-.94-2.06-.94 2.06-2.06.94zm-11 1L8.5 8.5l.94-2.06 2.06-.94-2.06-.94L8.5 2.5l-.94 2.06-2.06.94zm10 10l.94 2.06.94-2.06 2.06-.94-2.06-.94-.94-2.06-.94 2.06-2.06.94z\"/><path d=\"M17.41 7.96l-1.37-1.37c-.4-.4-.92-.59-1.43-.59-.52 0-1.04.2-1.43.59L10.3 9.45l-7.72 7.72c-.78.78-.78 2.05 0 2.83L4 21.41c.39.39.9.59 1.41.59.51 0 1.02-.2 1.41-.59l7.78-7.78 2.81-2.81c.8-.78.8-2.07 0-2.86zM5.41 20L4 18.59l7.72-7.72 1.47 1.35L5.41 20z\"/>\n",
              "  </svg>\n",
              "      </button>\n",
              "      \n",
              "  <style>\n",
              "    .colab-df-container {\n",
              "      display:flex;\n",
              "      flex-wrap:wrap;\n",
              "      gap: 12px;\n",
              "    }\n",
              "\n",
              "    .colab-df-convert {\n",
              "      background-color: #E8F0FE;\n",
              "      border: none;\n",
              "      border-radius: 50%;\n",
              "      cursor: pointer;\n",
              "      display: none;\n",
              "      fill: #1967D2;\n",
              "      height: 32px;\n",
              "      padding: 0 0 0 0;\n",
              "      width: 32px;\n",
              "    }\n",
              "\n",
              "    .colab-df-convert:hover {\n",
              "      background-color: #E2EBFA;\n",
              "      box-shadow: 0px 1px 2px rgba(60, 64, 67, 0.3), 0px 1px 3px 1px rgba(60, 64, 67, 0.15);\n",
              "      fill: #174EA6;\n",
              "    }\n",
              "\n",
              "    [theme=dark] .colab-df-convert {\n",
              "      background-color: #3B4455;\n",
              "      fill: #D2E3FC;\n",
              "    }\n",
              "\n",
              "    [theme=dark] .colab-df-convert:hover {\n",
              "      background-color: #434B5C;\n",
              "      box-shadow: 0px 1px 3px 1px rgba(0, 0, 0, 0.15);\n",
              "      filter: drop-shadow(0px 1px 2px rgba(0, 0, 0, 0.3));\n",
              "      fill: #FFFFFF;\n",
              "    }\n",
              "  </style>\n",
              "\n",
              "      <script>\n",
              "        const buttonEl =\n",
              "          document.querySelector('#df-80e0b43f-05bc-4c3d-a145-e6964a0e1d8a button.colab-df-convert');\n",
              "        buttonEl.style.display =\n",
              "          google.colab.kernel.accessAllowed ? 'block' : 'none';\n",
              "\n",
              "        async function convertToInteractive(key) {\n",
              "          const element = document.querySelector('#df-80e0b43f-05bc-4c3d-a145-e6964a0e1d8a');\n",
              "          const dataTable =\n",
              "            await google.colab.kernel.invokeFunction('convertToInteractive',\n",
              "                                                     [key], {});\n",
              "          if (!dataTable) return;\n",
              "\n",
              "          const docLinkHtml = 'Like what you see? Visit the ' +\n",
              "            '<a target=\"_blank\" href=https://colab.research.google.com/notebooks/data_table.ipynb>data table notebook</a>'\n",
              "            + ' to learn more about interactive tables.';\n",
              "          element.innerHTML = '';\n",
              "          dataTable['output_type'] = 'display_data';\n",
              "          await google.colab.output.renderOutput(dataTable, element);\n",
              "          const docLink = document.createElement('div');\n",
              "          docLink.innerHTML = docLinkHtml;\n",
              "          element.appendChild(docLink);\n",
              "        }\n",
              "      </script>\n",
              "    </div>\n",
              "  </div>\n",
              "  "
            ]
          },
          "metadata": {},
          "execution_count": 11
        }
      ]
    },
    {
      "cell_type": "markdown",
      "source": [
        "Se observa que hay pocas columnas con valores faltantes. El 14% de los datos de entrenamiento no tuvo reuniones de padres, y el 25% no tiene asignado un código de pobreza. Es importante inputar los valores faltantes para poder realizar el entrenamiento. \n",
        "\n",
        "Utilice el método de [`sklearn.impute.SimpleImputer`](https://scikit-learn.org/stable/modules/generated/sklearn.impute.SimpleImputer.html) para entrenar un imputador para variables categóricas y variables numéricas. "
      ],
      "metadata": {
        "id": "pmLkQkC3BKs3"
      }
    },
    {
      "cell_type": "code",
      "source": [
        "categorical_columns = X_train.select_dtypes(exclude = [int, float]).columns\n",
        "numerical_columns = X_train.select_dtypes(include = [int, float]).columns\n",
        "\n",
        "### Imputador de Variables Categóricas -- strategy -> constant\n",
        "from sklearn.impute import SimpleImputer\n",
        "categorical_imputer = SimpleImputer(missing_values=np.nan, strategy='constant')\n",
        "###"
      ],
      "metadata": {
        "id": "rLDm2k2SCmje"
      },
      "execution_count": 12,
      "outputs": []
    },
    {
      "cell_type": "code",
      "source": [
        "### Imputador de Variables Numéricas -- strategy -> Median\n",
        "numerical_imputer = SimpleImputer(missing_values=np.nan, strategy='median')\n",
        "###"
      ],
      "metadata": {
        "id": "wsLaY_zsCml8"
      },
      "execution_count": 13,
      "outputs": []
    },
    {
      "cell_type": "code",
      "source": [
        "categorical_imputer.fit(X_train[categorical_columns])"
      ],
      "metadata": {
        "colab": {
          "base_uri": "https://localhost:8080/"
        },
        "id": "QHqjtUnOCmol",
        "outputId": "79bc8160-ad0d-41d3-e102-886f96ab3327"
      },
      "execution_count": 14,
      "outputs": [
        {
          "output_type": "execute_result",
          "data": {
            "text/plain": [
              "SimpleImputer(strategy='constant')"
            ]
          },
          "metadata": {},
          "execution_count": 14
        }
      ]
    },
    {
      "cell_type": "code",
      "source": [
        "numerical_imputer.fit(X_train[numerical_columns])"
      ],
      "metadata": {
        "colab": {
          "base_uri": "https://localhost:8080/"
        },
        "id": "a4cuvASgDib2",
        "outputId": "43d7eb31-b7d0-4d3b-c783-a3024069161b"
      },
      "execution_count": 15,
      "outputs": [
        {
          "output_type": "execute_result",
          "data": {
            "text/plain": [
              "SimpleImputer(strategy='median')"
            ]
          },
          "metadata": {},
          "execution_count": 15
        }
      ]
    },
    {
      "cell_type": "code",
      "source": [
        "# Utilice los imputers para inputar valores faltantes tanto en train como en test\n",
        "\n",
        "###\n",
        "X_train[categorical_columns] = categorical_imputer.transform(X_train[categorical_columns])\n",
        "X_test[categorical_columns] = categorical_imputer.transform(X_test[categorical_columns])\n",
        "\n",
        "X_train[numerical_columns] = numerical_imputer.transform(X_train[numerical_columns])\n",
        "X_test[numerical_columns] = numerical_imputer.transform(X_test[numerical_columns])\n",
        "###"
      ],
      "metadata": {
        "id": "-6PF_RpWJTEy"
      },
      "execution_count": 16,
      "outputs": []
    },
    {
      "cell_type": "code",
      "source": [
        "# Verifique que efectivamente no tenga valores faltantes\n",
        "\n",
        "###\n",
        "pd.DataFrame(X_train.isna().sum()/len(X_train))\n",
        "\n",
        "###"
      ],
      "metadata": {
        "colab": {
          "base_uri": "https://localhost:8080/",
          "height": 1000
        },
        "id": "jxwxH_DRJTHq",
        "outputId": "5a5a8f3d-ffe8-430d-8302-0d38347cfd15"
      },
      "execution_count": 17,
      "outputs": [
        {
          "output_type": "execute_result",
          "data": {
            "text/plain": [
              "                                  0\n",
              "Program.Code                    0.0\n",
              "From.Grade                      0.0\n",
              "To.Grade                        0.0\n",
              "Group.State                     0.0\n",
              "Is.Non.Annual.                  0.0\n",
              "Days                            0.0\n",
              "Travel.Type                     0.0\n",
              "Special.Pay                     0.0\n",
              "Tuition                         0.0\n",
              "FRP.Active                      0.0\n",
              "FRP.Cancelled                   0.0\n",
              "FRP.Take.up.percent.            0.0\n",
              "Cancelled.Pax                   0.0\n",
              "Total.Discount.Pax              0.0\n",
              "Poverty.Code                    0.0\n",
              "Region                          0.0\n",
              "CRM.Segment                     0.0\n",
              "School.Type                     0.0\n",
              "Parent.Meeting.Flag             0.0\n",
              "MDR.Low.Grade                   0.0\n",
              "MDR.High.Grade                  0.0\n",
              "Total.School.Enrollment         0.0\n",
              "Income.Level                    0.0\n",
              "EZ.Pay.Take.Up.Rate             0.0\n",
              "School.Sponsor                  0.0\n",
              "SPR.Product.Type                0.0\n",
              "SPR.New.Existing                0.0\n",
              "FPP                             0.0\n",
              "Total.Pax                       0.0\n",
              "SPR.Group.Revenue               0.0\n",
              "NumberOfMeetingswithParents     0.0\n",
              "DifferenceTraveltoFirstMeeting  0.0\n",
              "DifferenceTraveltoLastMeeting   0.0\n",
              "SchoolGradeTypeLow              0.0\n",
              "SchoolGradeTypeHigh             0.0\n",
              "SchoolGradeType                 0.0\n",
              "DepartureMonth                  0.0\n",
              "GroupGradeTypeLow               0.0\n",
              "GroupGradeTypeHigh              0.0\n",
              "GroupGradeType                  0.0\n",
              "MajorProgramCode                0.0\n",
              "SingleGradeTripFlag             0.0\n",
              "FPP.to.School.enrollment        0.0\n",
              "FPP.to.PAX                      0.0\n",
              "Num.of.Non_FPP.PAX              0.0\n",
              "SchoolSizeIndicator             0.0"
            ],
            "text/html": [
              "\n",
              "  <div id=\"df-28d259f8-61f4-42c8-9034-a623089dd1eb\">\n",
              "    <div class=\"colab-df-container\">\n",
              "      <div>\n",
              "<style scoped>\n",
              "    .dataframe tbody tr th:only-of-type {\n",
              "        vertical-align: middle;\n",
              "    }\n",
              "\n",
              "    .dataframe tbody tr th {\n",
              "        vertical-align: top;\n",
              "    }\n",
              "\n",
              "    .dataframe thead th {\n",
              "        text-align: right;\n",
              "    }\n",
              "</style>\n",
              "<table border=\"1\" class=\"dataframe\">\n",
              "  <thead>\n",
              "    <tr style=\"text-align: right;\">\n",
              "      <th></th>\n",
              "      <th>0</th>\n",
              "    </tr>\n",
              "  </thead>\n",
              "  <tbody>\n",
              "    <tr>\n",
              "      <th>Program.Code</th>\n",
              "      <td>0.0</td>\n",
              "    </tr>\n",
              "    <tr>\n",
              "      <th>From.Grade</th>\n",
              "      <td>0.0</td>\n",
              "    </tr>\n",
              "    <tr>\n",
              "      <th>To.Grade</th>\n",
              "      <td>0.0</td>\n",
              "    </tr>\n",
              "    <tr>\n",
              "      <th>Group.State</th>\n",
              "      <td>0.0</td>\n",
              "    </tr>\n",
              "    <tr>\n",
              "      <th>Is.Non.Annual.</th>\n",
              "      <td>0.0</td>\n",
              "    </tr>\n",
              "    <tr>\n",
              "      <th>Days</th>\n",
              "      <td>0.0</td>\n",
              "    </tr>\n",
              "    <tr>\n",
              "      <th>Travel.Type</th>\n",
              "      <td>0.0</td>\n",
              "    </tr>\n",
              "    <tr>\n",
              "      <th>Special.Pay</th>\n",
              "      <td>0.0</td>\n",
              "    </tr>\n",
              "    <tr>\n",
              "      <th>Tuition</th>\n",
              "      <td>0.0</td>\n",
              "    </tr>\n",
              "    <tr>\n",
              "      <th>FRP.Active</th>\n",
              "      <td>0.0</td>\n",
              "    </tr>\n",
              "    <tr>\n",
              "      <th>FRP.Cancelled</th>\n",
              "      <td>0.0</td>\n",
              "    </tr>\n",
              "    <tr>\n",
              "      <th>FRP.Take.up.percent.</th>\n",
              "      <td>0.0</td>\n",
              "    </tr>\n",
              "    <tr>\n",
              "      <th>Cancelled.Pax</th>\n",
              "      <td>0.0</td>\n",
              "    </tr>\n",
              "    <tr>\n",
              "      <th>Total.Discount.Pax</th>\n",
              "      <td>0.0</td>\n",
              "    </tr>\n",
              "    <tr>\n",
              "      <th>Poverty.Code</th>\n",
              "      <td>0.0</td>\n",
              "    </tr>\n",
              "    <tr>\n",
              "      <th>Region</th>\n",
              "      <td>0.0</td>\n",
              "    </tr>\n",
              "    <tr>\n",
              "      <th>CRM.Segment</th>\n",
              "      <td>0.0</td>\n",
              "    </tr>\n",
              "    <tr>\n",
              "      <th>School.Type</th>\n",
              "      <td>0.0</td>\n",
              "    </tr>\n",
              "    <tr>\n",
              "      <th>Parent.Meeting.Flag</th>\n",
              "      <td>0.0</td>\n",
              "    </tr>\n",
              "    <tr>\n",
              "      <th>MDR.Low.Grade</th>\n",
              "      <td>0.0</td>\n",
              "    </tr>\n",
              "    <tr>\n",
              "      <th>MDR.High.Grade</th>\n",
              "      <td>0.0</td>\n",
              "    </tr>\n",
              "    <tr>\n",
              "      <th>Total.School.Enrollment</th>\n",
              "      <td>0.0</td>\n",
              "    </tr>\n",
              "    <tr>\n",
              "      <th>Income.Level</th>\n",
              "      <td>0.0</td>\n",
              "    </tr>\n",
              "    <tr>\n",
              "      <th>EZ.Pay.Take.Up.Rate</th>\n",
              "      <td>0.0</td>\n",
              "    </tr>\n",
              "    <tr>\n",
              "      <th>School.Sponsor</th>\n",
              "      <td>0.0</td>\n",
              "    </tr>\n",
              "    <tr>\n",
              "      <th>SPR.Product.Type</th>\n",
              "      <td>0.0</td>\n",
              "    </tr>\n",
              "    <tr>\n",
              "      <th>SPR.New.Existing</th>\n",
              "      <td>0.0</td>\n",
              "    </tr>\n",
              "    <tr>\n",
              "      <th>FPP</th>\n",
              "      <td>0.0</td>\n",
              "    </tr>\n",
              "    <tr>\n",
              "      <th>Total.Pax</th>\n",
              "      <td>0.0</td>\n",
              "    </tr>\n",
              "    <tr>\n",
              "      <th>SPR.Group.Revenue</th>\n",
              "      <td>0.0</td>\n",
              "    </tr>\n",
              "    <tr>\n",
              "      <th>NumberOfMeetingswithParents</th>\n",
              "      <td>0.0</td>\n",
              "    </tr>\n",
              "    <tr>\n",
              "      <th>DifferenceTraveltoFirstMeeting</th>\n",
              "      <td>0.0</td>\n",
              "    </tr>\n",
              "    <tr>\n",
              "      <th>DifferenceTraveltoLastMeeting</th>\n",
              "      <td>0.0</td>\n",
              "    </tr>\n",
              "    <tr>\n",
              "      <th>SchoolGradeTypeLow</th>\n",
              "      <td>0.0</td>\n",
              "    </tr>\n",
              "    <tr>\n",
              "      <th>SchoolGradeTypeHigh</th>\n",
              "      <td>0.0</td>\n",
              "    </tr>\n",
              "    <tr>\n",
              "      <th>SchoolGradeType</th>\n",
              "      <td>0.0</td>\n",
              "    </tr>\n",
              "    <tr>\n",
              "      <th>DepartureMonth</th>\n",
              "      <td>0.0</td>\n",
              "    </tr>\n",
              "    <tr>\n",
              "      <th>GroupGradeTypeLow</th>\n",
              "      <td>0.0</td>\n",
              "    </tr>\n",
              "    <tr>\n",
              "      <th>GroupGradeTypeHigh</th>\n",
              "      <td>0.0</td>\n",
              "    </tr>\n",
              "    <tr>\n",
              "      <th>GroupGradeType</th>\n",
              "      <td>0.0</td>\n",
              "    </tr>\n",
              "    <tr>\n",
              "      <th>MajorProgramCode</th>\n",
              "      <td>0.0</td>\n",
              "    </tr>\n",
              "    <tr>\n",
              "      <th>SingleGradeTripFlag</th>\n",
              "      <td>0.0</td>\n",
              "    </tr>\n",
              "    <tr>\n",
              "      <th>FPP.to.School.enrollment</th>\n",
              "      <td>0.0</td>\n",
              "    </tr>\n",
              "    <tr>\n",
              "      <th>FPP.to.PAX</th>\n",
              "      <td>0.0</td>\n",
              "    </tr>\n",
              "    <tr>\n",
              "      <th>Num.of.Non_FPP.PAX</th>\n",
              "      <td>0.0</td>\n",
              "    </tr>\n",
              "    <tr>\n",
              "      <th>SchoolSizeIndicator</th>\n",
              "      <td>0.0</td>\n",
              "    </tr>\n",
              "  </tbody>\n",
              "</table>\n",
              "</div>\n",
              "      <button class=\"colab-df-convert\" onclick=\"convertToInteractive('df-28d259f8-61f4-42c8-9034-a623089dd1eb')\"\n",
              "              title=\"Convert this dataframe to an interactive table.\"\n",
              "              style=\"display:none;\">\n",
              "        \n",
              "  <svg xmlns=\"http://www.w3.org/2000/svg\" height=\"24px\"viewBox=\"0 0 24 24\"\n",
              "       width=\"24px\">\n",
              "    <path d=\"M0 0h24v24H0V0z\" fill=\"none\"/>\n",
              "    <path d=\"M18.56 5.44l.94 2.06.94-2.06 2.06-.94-2.06-.94-.94-2.06-.94 2.06-2.06.94zm-11 1L8.5 8.5l.94-2.06 2.06-.94-2.06-.94L8.5 2.5l-.94 2.06-2.06.94zm10 10l.94 2.06.94-2.06 2.06-.94-2.06-.94-.94-2.06-.94 2.06-2.06.94z\"/><path d=\"M17.41 7.96l-1.37-1.37c-.4-.4-.92-.59-1.43-.59-.52 0-1.04.2-1.43.59L10.3 9.45l-7.72 7.72c-.78.78-.78 2.05 0 2.83L4 21.41c.39.39.9.59 1.41.59.51 0 1.02-.2 1.41-.59l7.78-7.78 2.81-2.81c.8-.78.8-2.07 0-2.86zM5.41 20L4 18.59l7.72-7.72 1.47 1.35L5.41 20z\"/>\n",
              "  </svg>\n",
              "      </button>\n",
              "      \n",
              "  <style>\n",
              "    .colab-df-container {\n",
              "      display:flex;\n",
              "      flex-wrap:wrap;\n",
              "      gap: 12px;\n",
              "    }\n",
              "\n",
              "    .colab-df-convert {\n",
              "      background-color: #E8F0FE;\n",
              "      border: none;\n",
              "      border-radius: 50%;\n",
              "      cursor: pointer;\n",
              "      display: none;\n",
              "      fill: #1967D2;\n",
              "      height: 32px;\n",
              "      padding: 0 0 0 0;\n",
              "      width: 32px;\n",
              "    }\n",
              "\n",
              "    .colab-df-convert:hover {\n",
              "      background-color: #E2EBFA;\n",
              "      box-shadow: 0px 1px 2px rgba(60, 64, 67, 0.3), 0px 1px 3px 1px rgba(60, 64, 67, 0.15);\n",
              "      fill: #174EA6;\n",
              "    }\n",
              "\n",
              "    [theme=dark] .colab-df-convert {\n",
              "      background-color: #3B4455;\n",
              "      fill: #D2E3FC;\n",
              "    }\n",
              "\n",
              "    [theme=dark] .colab-df-convert:hover {\n",
              "      background-color: #434B5C;\n",
              "      box-shadow: 0px 1px 3px 1px rgba(0, 0, 0, 0.15);\n",
              "      filter: drop-shadow(0px 1px 2px rgba(0, 0, 0, 0.3));\n",
              "      fill: #FFFFFF;\n",
              "    }\n",
              "  </style>\n",
              "\n",
              "      <script>\n",
              "        const buttonEl =\n",
              "          document.querySelector('#df-28d259f8-61f4-42c8-9034-a623089dd1eb button.colab-df-convert');\n",
              "        buttonEl.style.display =\n",
              "          google.colab.kernel.accessAllowed ? 'block' : 'none';\n",
              "\n",
              "        async function convertToInteractive(key) {\n",
              "          const element = document.querySelector('#df-28d259f8-61f4-42c8-9034-a623089dd1eb');\n",
              "          const dataTable =\n",
              "            await google.colab.kernel.invokeFunction('convertToInteractive',\n",
              "                                                     [key], {});\n",
              "          if (!dataTable) return;\n",
              "\n",
              "          const docLinkHtml = 'Like what you see? Visit the ' +\n",
              "            '<a target=\"_blank\" href=https://colab.research.google.com/notebooks/data_table.ipynb>data table notebook</a>'\n",
              "            + ' to learn more about interactive tables.';\n",
              "          element.innerHTML = '';\n",
              "          dataTable['output_type'] = 'display_data';\n",
              "          await google.colab.output.renderOutput(dataTable, element);\n",
              "          const docLink = document.createElement('div');\n",
              "          docLink.innerHTML = docLinkHtml;\n",
              "          element.appendChild(docLink);\n",
              "        }\n",
              "      </script>\n",
              "    </div>\n",
              "  </div>\n",
              "  "
            ]
          },
          "metadata": {},
          "execution_count": 17
        }
      ]
    },
    {
      "cell_type": "markdown",
      "source": [
        "## Revisión Categorías\n",
        "\n",
        "En la base de datos existe un gran número de variables categóricas. Se debe decidir de qué manera codificar la información (si requiere) para que el modelo pueda utilizarla. \n",
        "\n",
        "En principio, note que hay variables en las que hay categorías con pocas observaciones. Por ejemplo, la variable `From.Grade` tiene los siguientes conteos:\n",
        "\n",
        "\n",
        "|               |   From.Grade |\n",
        "|:--------------|-------------:|\n",
        "| 8.0           |          786 |\n",
        "| 7.0           |          365 |\n",
        "| 6.0           |          159 |\n",
        "| 4.0           |          109 |\n",
        "| missing_value |           91 |\n",
        "| 5.0           |           67 |\n",
        "| 9.0           |           47 |\n",
        "| 11.0          |           19 |\n",
        "| 10.0          |           19 |\n",
        "| 12.0          |            5 |\n",
        "| 3.0           |            5 |\n",
        "\n",
        "Se puede apreciar que la categoría 3 y 12 tienen 5 observaciones. Lo ideal es agrupar las categorías que tienen menos observaciones en una nueva categoría como \"Otra\"."
      ],
      "metadata": {
        "id": "qv6k4Sz_KsJi"
      }
    },
    {
      "cell_type": "code",
      "source": [
        "for column in categorical_columns:\n",
        "  categorical_counts = pd.value_counts(X_train[column])\n",
        "  grouper = (categorical_counts/categorical_counts.sum() * 100).lt(2) # Selecciona aquellas con < 2% de observaciones\n",
        "  X_train[column] = np.where(X_train[column].isin(categorical_counts[grouper].index),'Otra',X_train[column]) # Reemplaza en columna original\n",
        "  X_test[column] = np.where(X_test[column].isin(categorical_counts[grouper].index),'Otra',X_test[column])"
      ],
      "metadata": {
        "id": "dzctQMDeJTKx"
      },
      "execution_count": 18,
      "outputs": []
    },
    {
      "cell_type": "code",
      "source": [
        "X_train['From.Grade'].value_counts()"
      ],
      "metadata": {
        "colab": {
          "base_uri": "https://localhost:8080/"
        },
        "id": "wC_EvFXhMTtI",
        "outputId": "d9e234d8-4041-4a89-827f-a81b623ce43c"
      },
      "execution_count": 19,
      "outputs": [
        {
          "output_type": "execute_result",
          "data": {
            "text/plain": [
              "8.0              786\n",
              "7.0              365\n",
              "6.0              159\n",
              "4.0              109\n",
              "missing_value     91\n",
              "5.0               67\n",
              "Otra              48\n",
              "9.0               47\n",
              "Name: From.Grade, dtype: int64"
            ]
          },
          "metadata": {},
          "execution_count": 19
        }
      ]
    },
    {
      "cell_type": "markdown",
      "source": [
        "## Variables Dummies\n",
        "\n",
        "Algunas de las variables categóricas necesitan ser codificadas para poder entrar al modelo. Particularmente aquellas categorías que no son ordinales, como los estados donde se ubican los colegios. Por esta razón, utilizaremos One-Hot Encoding, para volver una variable categórica en un conjunto de variables binarias.\n",
        "\n",
        "\n",
        "<div class=\"alert alert-block alert-danger\">\n",
        "<b>Cuidado:</b> Utilizar un número excesivo de variables dummies puede afectar negativamente el desempeño del modelo.\n",
        "</div>"
      ],
      "metadata": {
        "id": "WooTXi2XMrBW"
      }
    },
    {
      "cell_type": "code",
      "source": [
        "X_train = pd.get_dummies(X_train, columns = categorical_columns, drop_first = True)\n",
        "X_test = pd.get_dummies(X_test, columns = categorical_columns, drop_first = True) # Pero igual debemos asegurarnos que no haya \"dummies de más\""
      ],
      "metadata": {
        "id": "eX5HdfSSOASD"
      },
      "execution_count": 20,
      "outputs": []
    },
    {
      "cell_type": "code",
      "source": [
        "X_test['hola'] = 999"
      ],
      "metadata": {
        "id": "u6DhgHtASIZA"
      },
      "execution_count": 21,
      "outputs": []
    },
    {
      "cell_type": "code",
      "source": [
        "X_train, X_test = X_train.align(X_test, fill_value = 0, axis = 1, join = 'left')"
      ],
      "metadata": {
        "id": "wxFiNU2cRmsX"
      },
      "execution_count": 22,
      "outputs": []
    },
    {
      "cell_type": "code",
      "source": [
        "X_train.head()"
      ],
      "metadata": {
        "colab": {
          "base_uri": "https://localhost:8080/",
          "height": 317
        },
        "id": "dssCAUwhOExB",
        "outputId": "cee36565-089f-4e53-e05d-4979df2ba734"
      },
      "execution_count": 23,
      "outputs": [
        {
          "output_type": "execute_result",
          "data": {
            "text/plain": [
              "      Is.Non.Annual.  Days  Tuition  FRP.Active  FRP.Cancelled  \\\n",
              "380              0.0   4.0   1912.0         4.0            1.0   \n",
              "226              0.0   4.0   1539.0         7.0            2.0   \n",
              "1073             0.0   7.0   2754.0        19.0            1.0   \n",
              "715              0.0   6.0   2549.0        30.0            5.0   \n",
              "1195             0.0   6.0    869.0         0.0            0.0   \n",
              "\n",
              "      FRP.Take.up.percent.  Cancelled.Pax  Total.Discount.Pax  \\\n",
              "380                  0.500            1.0                 1.0   \n",
              "226                  0.500            3.0                 2.0   \n",
              "1073                 0.543            1.0                 2.0   \n",
              "715                  0.667            3.0                 6.0   \n",
              "1195                 0.000            9.0                12.0   \n",
              "\n",
              "      Total.School.Enrollment  EZ.Pay.Take.Up.Rate  ...  \\\n",
              "380                     772.0                0.750  ...   \n",
              "226                     230.0                0.286  ...   \n",
              "1073                    250.0                0.114  ...   \n",
              "715                    1027.0                0.289  ...   \n",
              "1195                    790.0                0.000  ...   \n",
              "\n",
              "      GroupGradeType_Undefined->Undefined  MajorProgramCode_H  \\\n",
              "380                                     0                   1   \n",
              "226                                     0                   1   \n",
              "1073                                    0                   1   \n",
              "715                                     0                   1   \n",
              "1195                                    0                   1   \n",
              "\n",
              "      MajorProgramCode_Otra  MajorProgramCode_S  SingleGradeTripFlag_1  \\\n",
              "380                       0                   0                      0   \n",
              "226                       0                   0                      1   \n",
              "1073                      0                   0                      1   \n",
              "715                       0                   0                      1   \n",
              "1195                      0                   0                      1   \n",
              "\n",
              "      FPP.to.School.enrollment_missing_value  SchoolSizeIndicator_M-L  \\\n",
              "380                                        0                        1   \n",
              "226                                        0                        0   \n",
              "1073                                       0                        0   \n",
              "715                                        0                        0   \n",
              "1195                                       0                        1   \n",
              "\n",
              "      SchoolSizeIndicator_S  SchoolSizeIndicator_S-M  \\\n",
              "380                       0                        0   \n",
              "226                       1                        0   \n",
              "1073                      1                        0   \n",
              "715                       0                        0   \n",
              "1195                      0                        0   \n",
              "\n",
              "      SchoolSizeIndicator_missing_value  \n",
              "380                                   0  \n",
              "226                                   0  \n",
              "1073                                  0  \n",
              "715                                   0  \n",
              "1195                                  0  \n",
              "\n",
              "[5 rows x 155 columns]"
            ],
            "text/html": [
              "\n",
              "  <div id=\"df-a02ca6fe-b235-48c5-abf4-62ce01d3312a\">\n",
              "    <div class=\"colab-df-container\">\n",
              "      <div>\n",
              "<style scoped>\n",
              "    .dataframe tbody tr th:only-of-type {\n",
              "        vertical-align: middle;\n",
              "    }\n",
              "\n",
              "    .dataframe tbody tr th {\n",
              "        vertical-align: top;\n",
              "    }\n",
              "\n",
              "    .dataframe thead th {\n",
              "        text-align: right;\n",
              "    }\n",
              "</style>\n",
              "<table border=\"1\" class=\"dataframe\">\n",
              "  <thead>\n",
              "    <tr style=\"text-align: right;\">\n",
              "      <th></th>\n",
              "      <th>Is.Non.Annual.</th>\n",
              "      <th>Days</th>\n",
              "      <th>Tuition</th>\n",
              "      <th>FRP.Active</th>\n",
              "      <th>FRP.Cancelled</th>\n",
              "      <th>FRP.Take.up.percent.</th>\n",
              "      <th>Cancelled.Pax</th>\n",
              "      <th>Total.Discount.Pax</th>\n",
              "      <th>Total.School.Enrollment</th>\n",
              "      <th>EZ.Pay.Take.Up.Rate</th>\n",
              "      <th>...</th>\n",
              "      <th>GroupGradeType_Undefined-&gt;Undefined</th>\n",
              "      <th>MajorProgramCode_H</th>\n",
              "      <th>MajorProgramCode_Otra</th>\n",
              "      <th>MajorProgramCode_S</th>\n",
              "      <th>SingleGradeTripFlag_1</th>\n",
              "      <th>FPP.to.School.enrollment_missing_value</th>\n",
              "      <th>SchoolSizeIndicator_M-L</th>\n",
              "      <th>SchoolSizeIndicator_S</th>\n",
              "      <th>SchoolSizeIndicator_S-M</th>\n",
              "      <th>SchoolSizeIndicator_missing_value</th>\n",
              "    </tr>\n",
              "  </thead>\n",
              "  <tbody>\n",
              "    <tr>\n",
              "      <th>380</th>\n",
              "      <td>0.0</td>\n",
              "      <td>4.0</td>\n",
              "      <td>1912.0</td>\n",
              "      <td>4.0</td>\n",
              "      <td>1.0</td>\n",
              "      <td>0.500</td>\n",
              "      <td>1.0</td>\n",
              "      <td>1.0</td>\n",
              "      <td>772.0</td>\n",
              "      <td>0.750</td>\n",
              "      <td>...</td>\n",
              "      <td>0</td>\n",
              "      <td>1</td>\n",
              "      <td>0</td>\n",
              "      <td>0</td>\n",
              "      <td>0</td>\n",
              "      <td>0</td>\n",
              "      <td>1</td>\n",
              "      <td>0</td>\n",
              "      <td>0</td>\n",
              "      <td>0</td>\n",
              "    </tr>\n",
              "    <tr>\n",
              "      <th>226</th>\n",
              "      <td>0.0</td>\n",
              "      <td>4.0</td>\n",
              "      <td>1539.0</td>\n",
              "      <td>7.0</td>\n",
              "      <td>2.0</td>\n",
              "      <td>0.500</td>\n",
              "      <td>3.0</td>\n",
              "      <td>2.0</td>\n",
              "      <td>230.0</td>\n",
              "      <td>0.286</td>\n",
              "      <td>...</td>\n",
              "      <td>0</td>\n",
              "      <td>1</td>\n",
              "      <td>0</td>\n",
              "      <td>0</td>\n",
              "      <td>1</td>\n",
              "      <td>0</td>\n",
              "      <td>0</td>\n",
              "      <td>1</td>\n",
              "      <td>0</td>\n",
              "      <td>0</td>\n",
              "    </tr>\n",
              "    <tr>\n",
              "      <th>1073</th>\n",
              "      <td>0.0</td>\n",
              "      <td>7.0</td>\n",
              "      <td>2754.0</td>\n",
              "      <td>19.0</td>\n",
              "      <td>1.0</td>\n",
              "      <td>0.543</td>\n",
              "      <td>1.0</td>\n",
              "      <td>2.0</td>\n",
              "      <td>250.0</td>\n",
              "      <td>0.114</td>\n",
              "      <td>...</td>\n",
              "      <td>0</td>\n",
              "      <td>1</td>\n",
              "      <td>0</td>\n",
              "      <td>0</td>\n",
              "      <td>1</td>\n",
              "      <td>0</td>\n",
              "      <td>0</td>\n",
              "      <td>1</td>\n",
              "      <td>0</td>\n",
              "      <td>0</td>\n",
              "    </tr>\n",
              "    <tr>\n",
              "      <th>715</th>\n",
              "      <td>0.0</td>\n",
              "      <td>6.0</td>\n",
              "      <td>2549.0</td>\n",
              "      <td>30.0</td>\n",
              "      <td>5.0</td>\n",
              "      <td>0.667</td>\n",
              "      <td>3.0</td>\n",
              "      <td>6.0</td>\n",
              "      <td>1027.0</td>\n",
              "      <td>0.289</td>\n",
              "      <td>...</td>\n",
              "      <td>0</td>\n",
              "      <td>1</td>\n",
              "      <td>0</td>\n",
              "      <td>0</td>\n",
              "      <td>1</td>\n",
              "      <td>0</td>\n",
              "      <td>0</td>\n",
              "      <td>0</td>\n",
              "      <td>0</td>\n",
              "      <td>0</td>\n",
              "    </tr>\n",
              "    <tr>\n",
              "      <th>1195</th>\n",
              "      <td>0.0</td>\n",
              "      <td>6.0</td>\n",
              "      <td>869.0</td>\n",
              "      <td>0.0</td>\n",
              "      <td>0.0</td>\n",
              "      <td>0.000</td>\n",
              "      <td>9.0</td>\n",
              "      <td>12.0</td>\n",
              "      <td>790.0</td>\n",
              "      <td>0.000</td>\n",
              "      <td>...</td>\n",
              "      <td>0</td>\n",
              "      <td>1</td>\n",
              "      <td>0</td>\n",
              "      <td>0</td>\n",
              "      <td>1</td>\n",
              "      <td>0</td>\n",
              "      <td>1</td>\n",
              "      <td>0</td>\n",
              "      <td>0</td>\n",
              "      <td>0</td>\n",
              "    </tr>\n",
              "  </tbody>\n",
              "</table>\n",
              "<p>5 rows × 155 columns</p>\n",
              "</div>\n",
              "      <button class=\"colab-df-convert\" onclick=\"convertToInteractive('df-a02ca6fe-b235-48c5-abf4-62ce01d3312a')\"\n",
              "              title=\"Convert this dataframe to an interactive table.\"\n",
              "              style=\"display:none;\">\n",
              "        \n",
              "  <svg xmlns=\"http://www.w3.org/2000/svg\" height=\"24px\"viewBox=\"0 0 24 24\"\n",
              "       width=\"24px\">\n",
              "    <path d=\"M0 0h24v24H0V0z\" fill=\"none\"/>\n",
              "    <path d=\"M18.56 5.44l.94 2.06.94-2.06 2.06-.94-2.06-.94-.94-2.06-.94 2.06-2.06.94zm-11 1L8.5 8.5l.94-2.06 2.06-.94-2.06-.94L8.5 2.5l-.94 2.06-2.06.94zm10 10l.94 2.06.94-2.06 2.06-.94-2.06-.94-.94-2.06-.94 2.06-2.06.94z\"/><path d=\"M17.41 7.96l-1.37-1.37c-.4-.4-.92-.59-1.43-.59-.52 0-1.04.2-1.43.59L10.3 9.45l-7.72 7.72c-.78.78-.78 2.05 0 2.83L4 21.41c.39.39.9.59 1.41.59.51 0 1.02-.2 1.41-.59l7.78-7.78 2.81-2.81c.8-.78.8-2.07 0-2.86zM5.41 20L4 18.59l7.72-7.72 1.47 1.35L5.41 20z\"/>\n",
              "  </svg>\n",
              "      </button>\n",
              "      \n",
              "  <style>\n",
              "    .colab-df-container {\n",
              "      display:flex;\n",
              "      flex-wrap:wrap;\n",
              "      gap: 12px;\n",
              "    }\n",
              "\n",
              "    .colab-df-convert {\n",
              "      background-color: #E8F0FE;\n",
              "      border: none;\n",
              "      border-radius: 50%;\n",
              "      cursor: pointer;\n",
              "      display: none;\n",
              "      fill: #1967D2;\n",
              "      height: 32px;\n",
              "      padding: 0 0 0 0;\n",
              "      width: 32px;\n",
              "    }\n",
              "\n",
              "    .colab-df-convert:hover {\n",
              "      background-color: #E2EBFA;\n",
              "      box-shadow: 0px 1px 2px rgba(60, 64, 67, 0.3), 0px 1px 3px 1px rgba(60, 64, 67, 0.15);\n",
              "      fill: #174EA6;\n",
              "    }\n",
              "\n",
              "    [theme=dark] .colab-df-convert {\n",
              "      background-color: #3B4455;\n",
              "      fill: #D2E3FC;\n",
              "    }\n",
              "\n",
              "    [theme=dark] .colab-df-convert:hover {\n",
              "      background-color: #434B5C;\n",
              "      box-shadow: 0px 1px 3px 1px rgba(0, 0, 0, 0.15);\n",
              "      filter: drop-shadow(0px 1px 2px rgba(0, 0, 0, 0.3));\n",
              "      fill: #FFFFFF;\n",
              "    }\n",
              "  </style>\n",
              "\n",
              "      <script>\n",
              "        const buttonEl =\n",
              "          document.querySelector('#df-a02ca6fe-b235-48c5-abf4-62ce01d3312a button.colab-df-convert');\n",
              "        buttonEl.style.display =\n",
              "          google.colab.kernel.accessAllowed ? 'block' : 'none';\n",
              "\n",
              "        async function convertToInteractive(key) {\n",
              "          const element = document.querySelector('#df-a02ca6fe-b235-48c5-abf4-62ce01d3312a');\n",
              "          const dataTable =\n",
              "            await google.colab.kernel.invokeFunction('convertToInteractive',\n",
              "                                                     [key], {});\n",
              "          if (!dataTable) return;\n",
              "\n",
              "          const docLinkHtml = 'Like what you see? Visit the ' +\n",
              "            '<a target=\"_blank\" href=https://colab.research.google.com/notebooks/data_table.ipynb>data table notebook</a>'\n",
              "            + ' to learn more about interactive tables.';\n",
              "          element.innerHTML = '';\n",
              "          dataTable['output_type'] = 'display_data';\n",
              "          await google.colab.output.renderOutput(dataTable, element);\n",
              "          const docLink = document.createElement('div');\n",
              "          docLink.innerHTML = docLinkHtml;\n",
              "          element.appendChild(docLink);\n",
              "        }\n",
              "      </script>\n",
              "    </div>\n",
              "  </div>\n",
              "  "
            ]
          },
          "metadata": {},
          "execution_count": 23
        }
      ]
    },
    {
      "cell_type": "code",
      "source": [
        "X_test.head()"
      ],
      "metadata": {
        "colab": {
          "base_uri": "https://localhost:8080/",
          "height": 317
        },
        "id": "GMuGapauSGu-",
        "outputId": "5dab4117-2a68-43b7-f10f-963b87c03a4e"
      },
      "execution_count": 24,
      "outputs": [
        {
          "output_type": "execute_result",
          "data": {
            "text/plain": [
              "      Is.Non.Annual.  Days  Tuition  FRP.Active  FRP.Cancelled  \\\n",
              "1320             0.0   1.0    384.0        19.0            1.0   \n",
              "1412             0.0   5.0   2117.0        14.0            2.0   \n",
              "530              0.0   5.0    736.0        29.0            6.0   \n",
              "554              0.0   5.0   1799.0        13.0            2.0   \n",
              "229              0.0   3.0   1058.0        19.0            1.0   \n",
              "\n",
              "      FRP.Take.up.percent.  Cancelled.Pax  Total.Discount.Pax  \\\n",
              "1320                 0.475            3.0                 2.0   \n",
              "1412                 0.667            0.0                 2.0   \n",
              "530                  0.460            4.0                 4.0   \n",
              "554                  0.929            3.0                 1.0   \n",
              "229                  0.704            1.0                 5.0   \n",
              "\n",
              "      Total.School.Enrollment  EZ.Pay.Take.Up.Rate  ...  \\\n",
              "1320                    407.0                0.200  ...   \n",
              "1412                    184.0                0.286  ...   \n",
              "530                     500.0                0.111  ...   \n",
              "554                     761.0                0.071  ...   \n",
              "229                     334.0                0.185  ...   \n",
              "\n",
              "      GroupGradeType_Undefined->Undefined  MajorProgramCode_H  \\\n",
              "1320                                    0                   1   \n",
              "1412                                    0                   1   \n",
              "530                                     0                   1   \n",
              "554                                     0                   1   \n",
              "229                                     0                   1   \n",
              "\n",
              "      MajorProgramCode_Otra  MajorProgramCode_S  SingleGradeTripFlag_1  \\\n",
              "1320                      0                   0                      1   \n",
              "1412                      0                   0                      1   \n",
              "530                       0                   0                      1   \n",
              "554                       0                   0                      1   \n",
              "229                       0                   0                      0   \n",
              "\n",
              "      FPP.to.School.enrollment_missing_value  SchoolSizeIndicator_M-L  \\\n",
              "1320                                       0                        0   \n",
              "1412                                       0                        0   \n",
              "530                                        0                        0   \n",
              "554                                        0                        1   \n",
              "229                                        0                        0   \n",
              "\n",
              "      SchoolSizeIndicator_S  SchoolSizeIndicator_S-M  \\\n",
              "1320                      0                        1   \n",
              "1412                      1                        0   \n",
              "530                       0                        1   \n",
              "554                       0                        0   \n",
              "229                       1                        0   \n",
              "\n",
              "      SchoolSizeIndicator_missing_value  \n",
              "1320                                  0  \n",
              "1412                                  0  \n",
              "530                                   0  \n",
              "554                                   0  \n",
              "229                                   0  \n",
              "\n",
              "[5 rows x 155 columns]"
            ],
            "text/html": [
              "\n",
              "  <div id=\"df-aac010c3-11dc-4898-8611-6e82b01d25cb\">\n",
              "    <div class=\"colab-df-container\">\n",
              "      <div>\n",
              "<style scoped>\n",
              "    .dataframe tbody tr th:only-of-type {\n",
              "        vertical-align: middle;\n",
              "    }\n",
              "\n",
              "    .dataframe tbody tr th {\n",
              "        vertical-align: top;\n",
              "    }\n",
              "\n",
              "    .dataframe thead th {\n",
              "        text-align: right;\n",
              "    }\n",
              "</style>\n",
              "<table border=\"1\" class=\"dataframe\">\n",
              "  <thead>\n",
              "    <tr style=\"text-align: right;\">\n",
              "      <th></th>\n",
              "      <th>Is.Non.Annual.</th>\n",
              "      <th>Days</th>\n",
              "      <th>Tuition</th>\n",
              "      <th>FRP.Active</th>\n",
              "      <th>FRP.Cancelled</th>\n",
              "      <th>FRP.Take.up.percent.</th>\n",
              "      <th>Cancelled.Pax</th>\n",
              "      <th>Total.Discount.Pax</th>\n",
              "      <th>Total.School.Enrollment</th>\n",
              "      <th>EZ.Pay.Take.Up.Rate</th>\n",
              "      <th>...</th>\n",
              "      <th>GroupGradeType_Undefined-&gt;Undefined</th>\n",
              "      <th>MajorProgramCode_H</th>\n",
              "      <th>MajorProgramCode_Otra</th>\n",
              "      <th>MajorProgramCode_S</th>\n",
              "      <th>SingleGradeTripFlag_1</th>\n",
              "      <th>FPP.to.School.enrollment_missing_value</th>\n",
              "      <th>SchoolSizeIndicator_M-L</th>\n",
              "      <th>SchoolSizeIndicator_S</th>\n",
              "      <th>SchoolSizeIndicator_S-M</th>\n",
              "      <th>SchoolSizeIndicator_missing_value</th>\n",
              "    </tr>\n",
              "  </thead>\n",
              "  <tbody>\n",
              "    <tr>\n",
              "      <th>1320</th>\n",
              "      <td>0.0</td>\n",
              "      <td>1.0</td>\n",
              "      <td>384.0</td>\n",
              "      <td>19.0</td>\n",
              "      <td>1.0</td>\n",
              "      <td>0.475</td>\n",
              "      <td>3.0</td>\n",
              "      <td>2.0</td>\n",
              "      <td>407.0</td>\n",
              "      <td>0.200</td>\n",
              "      <td>...</td>\n",
              "      <td>0</td>\n",
              "      <td>1</td>\n",
              "      <td>0</td>\n",
              "      <td>0</td>\n",
              "      <td>1</td>\n",
              "      <td>0</td>\n",
              "      <td>0</td>\n",
              "      <td>0</td>\n",
              "      <td>1</td>\n",
              "      <td>0</td>\n",
              "    </tr>\n",
              "    <tr>\n",
              "      <th>1412</th>\n",
              "      <td>0.0</td>\n",
              "      <td>5.0</td>\n",
              "      <td>2117.0</td>\n",
              "      <td>14.0</td>\n",
              "      <td>2.0</td>\n",
              "      <td>0.667</td>\n",
              "      <td>0.0</td>\n",
              "      <td>2.0</td>\n",
              "      <td>184.0</td>\n",
              "      <td>0.286</td>\n",
              "      <td>...</td>\n",
              "      <td>0</td>\n",
              "      <td>1</td>\n",
              "      <td>0</td>\n",
              "      <td>0</td>\n",
              "      <td>1</td>\n",
              "      <td>0</td>\n",
              "      <td>0</td>\n",
              "      <td>1</td>\n",
              "      <td>0</td>\n",
              "      <td>0</td>\n",
              "    </tr>\n",
              "    <tr>\n",
              "      <th>530</th>\n",
              "      <td>0.0</td>\n",
              "      <td>5.0</td>\n",
              "      <td>736.0</td>\n",
              "      <td>29.0</td>\n",
              "      <td>6.0</td>\n",
              "      <td>0.460</td>\n",
              "      <td>4.0</td>\n",
              "      <td>4.0</td>\n",
              "      <td>500.0</td>\n",
              "      <td>0.111</td>\n",
              "      <td>...</td>\n",
              "      <td>0</td>\n",
              "      <td>1</td>\n",
              "      <td>0</td>\n",
              "      <td>0</td>\n",
              "      <td>1</td>\n",
              "      <td>0</td>\n",
              "      <td>0</td>\n",
              "      <td>0</td>\n",
              "      <td>1</td>\n",
              "      <td>0</td>\n",
              "    </tr>\n",
              "    <tr>\n",
              "      <th>554</th>\n",
              "      <td>0.0</td>\n",
              "      <td>5.0</td>\n",
              "      <td>1799.0</td>\n",
              "      <td>13.0</td>\n",
              "      <td>2.0</td>\n",
              "      <td>0.929</td>\n",
              "      <td>3.0</td>\n",
              "      <td>1.0</td>\n",
              "      <td>761.0</td>\n",
              "      <td>0.071</td>\n",
              "      <td>...</td>\n",
              "      <td>0</td>\n",
              "      <td>1</td>\n",
              "      <td>0</td>\n",
              "      <td>0</td>\n",
              "      <td>1</td>\n",
              "      <td>0</td>\n",
              "      <td>1</td>\n",
              "      <td>0</td>\n",
              "      <td>0</td>\n",
              "      <td>0</td>\n",
              "    </tr>\n",
              "    <tr>\n",
              "      <th>229</th>\n",
              "      <td>0.0</td>\n",
              "      <td>3.0</td>\n",
              "      <td>1058.0</td>\n",
              "      <td>19.0</td>\n",
              "      <td>1.0</td>\n",
              "      <td>0.704</td>\n",
              "      <td>1.0</td>\n",
              "      <td>5.0</td>\n",
              "      <td>334.0</td>\n",
              "      <td>0.185</td>\n",
              "      <td>...</td>\n",
              "      <td>0</td>\n",
              "      <td>1</td>\n",
              "      <td>0</td>\n",
              "      <td>0</td>\n",
              "      <td>0</td>\n",
              "      <td>0</td>\n",
              "      <td>0</td>\n",
              "      <td>1</td>\n",
              "      <td>0</td>\n",
              "      <td>0</td>\n",
              "    </tr>\n",
              "  </tbody>\n",
              "</table>\n",
              "<p>5 rows × 155 columns</p>\n",
              "</div>\n",
              "      <button class=\"colab-df-convert\" onclick=\"convertToInteractive('df-aac010c3-11dc-4898-8611-6e82b01d25cb')\"\n",
              "              title=\"Convert this dataframe to an interactive table.\"\n",
              "              style=\"display:none;\">\n",
              "        \n",
              "  <svg xmlns=\"http://www.w3.org/2000/svg\" height=\"24px\"viewBox=\"0 0 24 24\"\n",
              "       width=\"24px\">\n",
              "    <path d=\"M0 0h24v24H0V0z\" fill=\"none\"/>\n",
              "    <path d=\"M18.56 5.44l.94 2.06.94-2.06 2.06-.94-2.06-.94-.94-2.06-.94 2.06-2.06.94zm-11 1L8.5 8.5l.94-2.06 2.06-.94-2.06-.94L8.5 2.5l-.94 2.06-2.06.94zm10 10l.94 2.06.94-2.06 2.06-.94-2.06-.94-.94-2.06-.94 2.06-2.06.94z\"/><path d=\"M17.41 7.96l-1.37-1.37c-.4-.4-.92-.59-1.43-.59-.52 0-1.04.2-1.43.59L10.3 9.45l-7.72 7.72c-.78.78-.78 2.05 0 2.83L4 21.41c.39.39.9.59 1.41.59.51 0 1.02-.2 1.41-.59l7.78-7.78 2.81-2.81c.8-.78.8-2.07 0-2.86zM5.41 20L4 18.59l7.72-7.72 1.47 1.35L5.41 20z\"/>\n",
              "  </svg>\n",
              "      </button>\n",
              "      \n",
              "  <style>\n",
              "    .colab-df-container {\n",
              "      display:flex;\n",
              "      flex-wrap:wrap;\n",
              "      gap: 12px;\n",
              "    }\n",
              "\n",
              "    .colab-df-convert {\n",
              "      background-color: #E8F0FE;\n",
              "      border: none;\n",
              "      border-radius: 50%;\n",
              "      cursor: pointer;\n",
              "      display: none;\n",
              "      fill: #1967D2;\n",
              "      height: 32px;\n",
              "      padding: 0 0 0 0;\n",
              "      width: 32px;\n",
              "    }\n",
              "\n",
              "    .colab-df-convert:hover {\n",
              "      background-color: #E2EBFA;\n",
              "      box-shadow: 0px 1px 2px rgba(60, 64, 67, 0.3), 0px 1px 3px 1px rgba(60, 64, 67, 0.15);\n",
              "      fill: #174EA6;\n",
              "    }\n",
              "\n",
              "    [theme=dark] .colab-df-convert {\n",
              "      background-color: #3B4455;\n",
              "      fill: #D2E3FC;\n",
              "    }\n",
              "\n",
              "    [theme=dark] .colab-df-convert:hover {\n",
              "      background-color: #434B5C;\n",
              "      box-shadow: 0px 1px 3px 1px rgba(0, 0, 0, 0.15);\n",
              "      filter: drop-shadow(0px 1px 2px rgba(0, 0, 0, 0.3));\n",
              "      fill: #FFFFFF;\n",
              "    }\n",
              "  </style>\n",
              "\n",
              "      <script>\n",
              "        const buttonEl =\n",
              "          document.querySelector('#df-aac010c3-11dc-4898-8611-6e82b01d25cb button.colab-df-convert');\n",
              "        buttonEl.style.display =\n",
              "          google.colab.kernel.accessAllowed ? 'block' : 'none';\n",
              "\n",
              "        async function convertToInteractive(key) {\n",
              "          const element = document.querySelector('#df-aac010c3-11dc-4898-8611-6e82b01d25cb');\n",
              "          const dataTable =\n",
              "            await google.colab.kernel.invokeFunction('convertToInteractive',\n",
              "                                                     [key], {});\n",
              "          if (!dataTable) return;\n",
              "\n",
              "          const docLinkHtml = 'Like what you see? Visit the ' +\n",
              "            '<a target=\"_blank\" href=https://colab.research.google.com/notebooks/data_table.ipynb>data table notebook</a>'\n",
              "            + ' to learn more about interactive tables.';\n",
              "          element.innerHTML = '';\n",
              "          dataTable['output_type'] = 'display_data';\n",
              "          await google.colab.output.renderOutput(dataTable, element);\n",
              "          const docLink = document.createElement('div');\n",
              "          docLink.innerHTML = docLinkHtml;\n",
              "          element.appendChild(docLink);\n",
              "        }\n",
              "      </script>\n",
              "    </div>\n",
              "  </div>\n",
              "  "
            ]
          },
          "metadata": {},
          "execution_count": 24
        }
      ]
    },
    {
      "cell_type": "markdown",
      "source": [
        "En este punto, los datos de entrenamiento y prueba tienen las mismas características y están codificados de la misma forma basado en la información de entrenamiento. Con lo anterior, es posible entrenar los modelos que queramos para predicción."
      ],
      "metadata": {
        "id": "GfcKm0W6OPwp"
      }
    },
    {
      "cell_type": "markdown",
      "source": [
        "# Modelamiento\n",
        "\n",
        "En esta sección se realizará\n",
        "- Línea Base\n",
        "- Support Vector Machine"
      ],
      "metadata": {
        "id": "0vSl0SQRTK0v"
      }
    },
    {
      "cell_type": "markdown",
      "source": [
        "## Línea Base -- Sencilla\n",
        "\n",
        "Lo ideal al resolver un problema de Machine Learning es siempre tener una línea base de comparación. Usualmente se utiliza un modelo previo, alguna heurística,el modelo más sencillo al alcance o lo que hubiera hecho un humano. En este caso contamos con información de una variable binaria que podría ser un muy buen predictor de no reserva el siguiente año: \n",
        "\n",
        "> `Is.Non.Annual.`: Variable binaria que indica si el grupo suele saltarse un año entre programas de viaje. Aquellos que se suelen saltar el año, muy rara vez viajan el año siguiente. \n",
        "\n",
        "Utilice esta variable para construir una línea base de comparación."
      ],
      "metadata": {
        "id": "_riubQOzxt-J"
      }
    },
    {
      "cell_type": "code",
      "source": [
        "### Determine qué proporción de observaciones tienen 1 en este campo\n",
        "\n",
        "X_train['Is.Non.Annual.'].value_counts()/len(X_train)\n",
        "\n",
        "### ¿Qué puede decir de su resultado?"
      ],
      "metadata": {
        "colab": {
          "base_uri": "https://localhost:8080/"
        },
        "id": "7IOyd6c1xrey",
        "outputId": "c91aff98-9e03-4153-8127-096b939a80ff"
      },
      "execution_count": 25,
      "outputs": [
        {
          "output_type": "execute_result",
          "data": {
            "text/plain": [
              "0.0    0.846292\n",
              "1.0    0.153708\n",
              "Name: Is.Non.Annual., dtype: float64"
            ]
          },
          "metadata": {},
          "execution_count": 25
        }
      ]
    },
    {
      "cell_type": "code",
      "source": [
        "### Utilice esta información para crear una predicción (sin un modelo) -> Train y Test\n",
        "\n",
        "naive_prediction_train = 1 - X_train['Is.Non.Annual.'].copy()\n",
        "naive_prediction_test = 1 - X_test['Is.Non.Annual.'].copy()\n",
        "\n",
        "###"
      ],
      "metadata": {
        "id": "TXOExiXEyxM0"
      },
      "execution_count": 26,
      "outputs": []
    },
    {
      "cell_type": "markdown",
      "source": [
        "A continuación deberemos revisar el desempeño de nuestra línea base. Para ello, sugerimos utilizar las siguientes herramientas:\n",
        "\n",
        "- [`sklearn.metrics.accuracy_score`](https://scikit-learn.org/stable/modules/generated/sklearn.metrics.accuracy_score.html)\n",
        "- [`sklearn.metrics.classification_report`](https://scikit-learn.org/stable/modules/generated/sklearn.metrics.classification_report.html)\n",
        "- [`sklearn.metrics.confusion_matrix`](https://scikit-learn.org/stable/modules/generated/sklearn.metrics.confusion_matrix.html)\n",
        "- [`sklearn.metrics.ConfusionMatrixDisplay`](https://scikit-learn.org/stable/modules/generated/sklearn.metrics.ConfusionMatrixDisplay.html)"
      ],
      "metadata": {
        "id": "G6uDhKl2dqEn"
      }
    },
    {
      "cell_type": "code",
      "source": [
        "### Evalúe el desempeño de su modelo en train -- Accuracy, Matriz de Confusión, F1, Precisión, Recall...\n",
        "from sklearn.metrics import accuracy_score, classification_report\n",
        "from sklearn.metrics import confusion_matrix, ConfusionMatrixDisplay\n",
        "\n",
        "\n",
        "accuracy_score(y_train, naive_prediction_train)\n",
        "\n",
        "###\n"
      ],
      "metadata": {
        "colab": {
          "base_uri": "https://localhost:8080/"
        },
        "id": "Z1d7Awt7S4xM",
        "outputId": "2c7ef909-34cd-4b10-b89b-aa525d7ca8bf"
      },
      "execution_count": 27,
      "outputs": [
        {
          "output_type": "execute_result",
          "data": {
            "text/plain": [
              "0.7206937799043063"
            ]
          },
          "metadata": {},
          "execution_count": 27
        }
      ]
    },
    {
      "cell_type": "code",
      "source": [
        "print(classification_report(y_train, naive_prediction_train))"
      ],
      "metadata": {
        "colab": {
          "base_uri": "https://localhost:8080/"
        },
        "id": "s_UE5K1wS-ht",
        "outputId": "4eaf7817-0f5f-4ea9-ea13-9a617dbe1429"
      },
      "execution_count": 28,
      "outputs": [
        {
          "output_type": "stream",
          "name": "stdout",
          "text": [
            "              precision    recall  f1-score   support\n",
            "\n",
            "           0       0.84      0.34      0.48       644\n",
            "           1       0.70      0.96      0.81      1028\n",
            "\n",
            "    accuracy                           0.72      1672\n",
            "   macro avg       0.77      0.65      0.65      1672\n",
            "weighted avg       0.75      0.72      0.68      1672\n",
            "\n"
          ]
        }
      ]
    },
    {
      "cell_type": "code",
      "source": [
        "### Evalúe el desempeño de su modelo en test -- Accuracy, Matriz de Confusión, F1, Precisión, Recall...\n",
        "\n",
        "accuracy_score(y_test, naive_prediction_test)\n",
        "\n",
        "###\n"
      ],
      "metadata": {
        "colab": {
          "base_uri": "https://localhost:8080/"
        },
        "id": "pLX6frcSy-RI",
        "outputId": "30c0ae8b-960b-4ed4-9469-95cb104001ef"
      },
      "execution_count": 29,
      "outputs": [
        {
          "output_type": "execute_result",
          "data": {
            "text/plain": [
              "0.691771269177127"
            ]
          },
          "metadata": {},
          "execution_count": 29
        }
      ]
    },
    {
      "cell_type": "code",
      "source": [
        "print(classification_report(y_test, naive_prediction_test))"
      ],
      "metadata": {
        "colab": {
          "base_uri": "https://localhost:8080/"
        },
        "id": "CtSYQ6ApzQ8C",
        "outputId": "1c85a60a-7624-490f-9ba9-3b26cb0952c0"
      },
      "execution_count": 30,
      "outputs": [
        {
          "output_type": "stream",
          "name": "stdout",
          "text": [
            "              precision    recall  f1-score   support\n",
            "\n",
            "           0       0.83      0.31      0.45       294\n",
            "           1       0.67      0.96      0.79       423\n",
            "\n",
            "    accuracy                           0.69       717\n",
            "   macro avg       0.75      0.63      0.62       717\n",
            "weighted avg       0.73      0.69      0.65       717\n",
            "\n"
          ]
        }
      ]
    },
    {
      "cell_type": "code",
      "source": [
        "cm = confusion_matrix(y_test, naive_prediction_test, normalize = 'true')\n",
        "disp = ConfusionMatrixDisplay(confusion_matrix=cm)\n",
        "disp.plot()\n",
        "\n",
        "plt.show()"
      ],
      "metadata": {
        "colab": {
          "base_uri": "https://localhost:8080/",
          "height": 279
        },
        "id": "Ur1ztyrzce31",
        "outputId": "485124a7-7cdb-4d52-f66c-200800389359"
      },
      "execution_count": 31,
      "outputs": [
        {
          "output_type": "display_data",
          "data": {
            "text/plain": [
              "<Figure size 432x288 with 2 Axes>"
            ],
            "image/png": "[encoded data removed]"
          },
          "metadata": {
            "needs_background": "light"
          }
        }
      ]
    },
    {
      "cell_type": "markdown",
      "source": [
        "¿Qué conclusiones puede formar respecto a la línea base? ¿Es una buena línea base?"
      ],
      "metadata": {
        "id": "0Har1H4a0k05"
      }
    },
    {
      "cell_type": "markdown",
      "source": [
        "## Support Vector Machine -- Default\n",
        "\n",
        "En esta sección se entrenará un modelo de SVM utilizando los parámetros por defcto del modelo. Siempre es bueno conocer cómo se desempeña el modelo sin optimizar hiperparámetros para determinar su desempeño \"base\".\n",
        "\n",
        "Para esto necesitaremos utilizar\n",
        "\n",
        "- [`sklearn.svm.SVC`](https://scikit-learn.org/stable/modules/generated/sklearn.svm.SVC.html): Permitirá entrenar el modelo SVM\n",
        "- [`sklearn.preprocessing.MinMaxScaler`](https://scikit-learn.org/stable/modules/generated/sklearn.preprocessing.MinMaxScaler.html): Para pre-procesamiento (básico) de features.\n",
        "- [`sklearn.pipeline.Pipeline`](https://scikit-learn.org/stable/modules/generated/sklearn.pipeline.Pipeline.html): Para encadenamiento de pasos\n"
      ],
      "metadata": {
        "id": "9PtZwkA2TJbY"
      }
    },
    {
      "cell_type": "code",
      "source": [
        "from sklearn.svm import SVC\n",
        "from sklearn.preprocessing import MinMaxScaler\n",
        "from sklearn.pipeline import Pipeline\n",
        "\n",
        "np.random.seed(10)\n",
        "\n",
        "# Encadene los pasos de Pre-Procesamiento y Modelo\n",
        "\n",
        "###\n",
        "\n",
        "model_steps = []\n",
        "model_steps.append(('MinMaxScaling', MinMaxScaler())) # escalamos los datos\n",
        "model_steps.append(('SVM', SVC(probability=True))) # definimos SVM con probabilidades \n",
        "\n",
        "###\n",
        "\n",
        "\n",
        "# Defina el Modelo utilizando el Pipeline\n",
        "clf_default = Pipeline(model_steps, verbose=False)"
      ],
      "metadata": {
        "id": "Ss44I1kpTfab"
      },
      "execution_count": 32,
      "outputs": []
    },
    {
      "cell_type": "code",
      "source": [
        "# Ajuste el Modelo en los Datos de Entrenamiento\n",
        "###\n",
        "\n",
        "clf_default.fit(X_train, y_train)\n",
        "\n",
        "###"
      ],
      "metadata": {
        "colab": {
          "base_uri": "https://localhost:8080/"
        },
        "id": "ccBgg0ahfVHv",
        "outputId": "6996d4fc-a22a-4586-97d4-0332ae7834cb"
      },
      "execution_count": 33,
      "outputs": [
        {
          "output_type": "execute_result",
          "data": {
            "text/plain": [
              "Pipeline(steps=[('MinMaxScaling', MinMaxScaler()),\n",
              "                ('SVM', SVC(probability=True))])"
            ]
          },
          "metadata": {},
          "execution_count": 33
        }
      ]
    },
    {
      "cell_type": "markdown",
      "source": [
        "En este momento se tiene un modelo entrenado con los parámetros por defecto. A continuación se realizarán las predicciones y la evaluación del desempeño del modelo. \n",
        "\n",
        "La predicción se realiza utilizando los métodos `clf_deafult.predict` para la clase (1 o 0), y `clf_default.predict_proba` para predecir las probabilidades. Tenga en cuenta que al utilizar `predict_proba` se obtienen dos columnas, una con la probabilidad para la clase `0` y otra para la clase `1`.  "
      ],
      "metadata": {
        "id": "CFPdOwDAfXTr"
      }
    },
    {
      "cell_type": "code",
      "source": [
        "# Realice la Predicción de las clases\n",
        "\n",
        "###\n",
        "\n",
        "y_pred_default = clf_default.predict(X_test) # probabilidades\n",
        "\n",
        "###\n",
        "\n",
        "\n",
        "# Realice la predicción de las probabilidades\n",
        "\n",
        "###\n",
        "y_pred_default_proba = clf_default.predict_proba(X_test)[:,1] # probabilidades\n",
        "\n",
        "###"
      ],
      "metadata": {
        "id": "uAHrGCcUT6uE"
      },
      "execution_count": 34,
      "outputs": []
    },
    {
      "cell_type": "markdown",
      "source": [
        "## Métricas de Evaluación\n",
        "\n",
        "De igual forma que con la línea base, es necesario realizar la evaluación del desempeño del modelo en train y en test. Adicionalmente a las métricas anteriores, se pide la evaluación utilizando la curva ROC y el AUC. \n",
        "\n",
        "- [`sklearn.metrics.roc_curve`](https://scikit-learn.org/stable/modules/generated/sklearn.metrics.roc_curve.html)\n",
        "- [`sklearn.metrics.roc_auc_score`](https://scikit-learn.org/stable/modules/generated/sklearn.metrics.roc_auc_score.html)"
      ],
      "metadata": {
        "id": "U4tsIPK2yowM"
      }
    },
    {
      "cell_type": "code",
      "source": [
        "# Evalúe el desempeño de su modelo en train -- Accuracy, Matriz de Confusión, F1, Precisión, Recall...\n",
        "\n",
        "\n",
        "###\n",
        "print(classification_report(y_test, y_pred_default))\n",
        "\n",
        "\n",
        "###"
      ],
      "metadata": {
        "colab": {
          "base_uri": "https://localhost:8080/"
        },
        "id": "u2yhQvN-T9X5",
        "outputId": "4a5aebe4-dc53-45fc-b944-4cdaa35447e4"
      },
      "execution_count": 35,
      "outputs": [
        {
          "output_type": "stream",
          "name": "stdout",
          "text": [
            "              precision    recall  f1-score   support\n",
            "\n",
            "           0       0.78      0.66      0.71       294\n",
            "           1       0.79      0.87      0.83       423\n",
            "\n",
            "    accuracy                           0.79       717\n",
            "   macro avg       0.79      0.77      0.77       717\n",
            "weighted avg       0.79      0.79      0.78       717\n",
            "\n"
          ]
        }
      ]
    },
    {
      "cell_type": "code",
      "source": [
        "# Realice el cálculo de la curva ROC\n",
        "\n",
        "### \n",
        "from sklearn.metrics import roc_curve, roc_auc_score\n",
        "\n",
        "false_positives_rate, true_positives_rate, threshold = roc_curve(y_test, y_pred_default_proba)\n",
        "\n",
        "###"
      ],
      "metadata": {
        "id": "TJCs44crUpD_"
      },
      "execution_count": 36,
      "outputs": []
    },
    {
      "cell_type": "code",
      "source": [
        "# Grafique la curva ROC\n",
        "\n",
        "plt.title('ROC - SVM Lineal (Default)')\n",
        "###\n",
        "\n",
        "\n",
        "plt.plot(false_positives_rate, true_positives_rate, label = 'SVM Default')\n",
        "\n",
        "\n",
        "###\n",
        "\n",
        "plt.plot([0, 1], ls=\"--\")\n",
        "plt.ylabel('True Positive Rate')\n",
        "plt.xlabel('False Positive Rate')\n",
        "plt.ylim(0, 1)\n",
        "plt.xlim(0, 1)\n",
        "plt.legend()\n",
        "plt.show()"
      ],
      "metadata": {
        "colab": {
          "base_uri": "https://localhost:8080/",
          "height": 295
        },
        "id": "NUODiR7hUpGJ",
        "outputId": "cab11791-9a89-4d6a-ff3c-522c9e9b7500"
      },
      "execution_count": 37,
      "outputs": [
        {
          "output_type": "display_data",
          "data": {
            "text/plain": [
              "<Figure size 432x288 with 1 Axes>"
            ],
            "image/png": "[encoded data removed]"
          },
          "metadata": {
            "needs_background": "light"
          }
        }
      ]
    },
    {
      "cell_type": "code",
      "source": [
        "# Calcule el AUC del Modelo\n",
        "\n",
        "###\n",
        "\n",
        "print('AUC Score: ', roc_auc_score(y_test, y_pred_default_proba))\n",
        "\n",
        "###"
      ],
      "metadata": {
        "colab": {
          "base_uri": "https://localhost:8080/"
        },
        "id": "GozsZaU0UpIr",
        "outputId": "303f23df-aca1-4997-9b9d-3723929282e5"
      },
      "execution_count": 38,
      "outputs": [
        {
          "output_type": "stream",
          "name": "stdout",
          "text": [
            "AUC Score:  0.8421623968736429\n"
          ]
        }
      ]
    },
    {
      "cell_type": "code",
      "source": [
        "cm = confusion_matrix(y_test, y_pred_default, normalize = 'true')\n",
        "disp = ConfusionMatrixDisplay(confusion_matrix=cm)\n",
        "disp.plot()\n",
        "\n",
        "plt.show()"
      ],
      "metadata": {
        "colab": {
          "base_uri": "https://localhost:8080/",
          "height": 279
        },
        "id": "Pl0W9_EJdH70",
        "outputId": "d753090a-de50-4487-8024-abbf91e9fbad"
      },
      "execution_count": 40,
      "outputs": [
        {
          "output_type": "display_data",
          "data": {
            "text/plain": [
              "<Figure size 432x288 with 2 Axes>"
            ],
            "image/png": "[encoded data removed]"
          },
          "metadata": {
            "needs_background": "light"
          }
        }
      ]
    },
    {
      "cell_type": "markdown",
      "source": [
        "¿Qué puede concluir de este modelo frente a la línea base?"
      ],
      "metadata": {
        "id": "Ciw8qF45hlCj"
      }
    },
    {
      "cell_type": "markdown",
      "source": [
        "# Utilización de Kernels -- Búsqueda de Hiperparámetros\n",
        "\n",
        "No siempre el modelo con los parámetros por defecto suele ser el mejor. Sin embargo, sí suele dar un indicio del desempeño que se va a conseguir con el modelo. \n",
        "\n",
        "Una vez construída la línea base, se suele realizar la estimación utilizando una búsqueda de hiperparámetros. Esta búsqueda permite seleccionar los hiperparámetros óptimos para el modelo, de forma tal que genere el mejor desempeño posible.\n",
        "\n",
        "## Búsqueda de la Mejor Combinación\n",
        "\n",
        "Existen varias estrategias de búsqueda de hiperparámetros. En esta sección se utilizará principalmente [`sklearn.model_selection.GridSearchCV`](https://scikit-learn.org/stable/modules/generated/sklearn.model_selection.GridSearchCV.html), que nos permite definir una \"malla\" de parámetros sobre los cuales entrenar modelos. "
      ],
      "metadata": {
        "id": "YBiEbJycWyW9"
      }
    },
    {
      "cell_type": "code",
      "source": [
        "from sklearn.model_selection import GridSearchCV"
      ],
      "metadata": {
        "id": "RDnDixJkWxnI"
      },
      "execution_count": 41,
      "outputs": []
    },
    {
      "cell_type": "code",
      "source": [
        "# Defina los hiperparametros que quiere probar\n",
        "\n",
        "###\n",
        "\n",
        "hyperparameters_grid = [{\n",
        "    'SVM__kernel': ['linear', 'rbf'],  # Una lista con los kernels que desea probar\n",
        "    'SVM__C': [0.1, 1, 5, 10], # Una lista con los valores de C para regularización\n",
        "    'SVM__gamma': [0.05, 1.0, 1.3, 'auto'] # Una lista con los valores de gamma de los kernels\n",
        "}]\n",
        "\n",
        "###"
      ],
      "metadata": {
        "id": "uWTRDXKBXObh"
      },
      "execution_count": 42,
      "outputs": []
    },
    {
      "cell_type": "code",
      "source": [
        "Hyper_SVM = Pipeline(model_steps, verbose=False)"
      ],
      "metadata": {
        "id": "JgkaCRlaYAlv"
      },
      "execution_count": 43,
      "outputs": []
    },
    {
      "cell_type": "code",
      "source": [
        "grid_search = GridSearchCV(Hyper_SVM, hyperparameters_grid, cv=5,  n_jobs=3)"
      ],
      "metadata": {
        "id": "OQepNS4GYjW6"
      },
      "execution_count": 44,
      "outputs": []
    },
    {
      "cell_type": "code",
      "source": [
        "grid_search.fit(X_train, y_train)"
      ],
      "metadata": {
        "colab": {
          "base_uri": "https://localhost:8080/"
        },
        "id": "zgv7z2eVYotN",
        "outputId": "551de9d3-2211-474c-f574-dff67f31ed83"
      },
      "execution_count": 45,
      "outputs": [
        {
          "output_type": "execute_result",
          "data": {
            "text/plain": [
              "GridSearchCV(cv=5,\n",
              "             estimator=Pipeline(steps=[('MinMaxScaling', MinMaxScaler()),\n",
              "                                       ('SVM', SVC(probability=True))]),\n",
              "             n_jobs=3,\n",
              "             param_grid=[{'SVM__C': [0.1, 1, 5, 10],\n",
              "                          'SVM__gamma': [0.05, 1.0, 1.3, 'auto'],\n",
              "                          'SVM__kernel': ['linear', 'rbf']}])"
            ]
          },
          "metadata": {},
          "execution_count": 45
        }
      ]
    },
    {
      "cell_type": "markdown",
      "source": [
        "### Selección del Mejor Modelo\n",
        "\n",
        "En este punto se entrenaron tantos modelos como combinaciones de hiperparámetros definidos. Solo uno de ellos puede ser el mejor modelo. A continuación, obtenemos el mejor modelo de los entrenados y evaluamos su desempeño en test."
      ],
      "metadata": {
        "id": "rqQnKx5Pi64h"
      }
    },
    {
      "cell_type": "code",
      "source": [
        "cv_performance = grid_search.best_score_\n",
        "test_performance = grid_search.score(X_test, y_test)"
      ],
      "metadata": {
        "id": "do1ZwhGHZ7ca"
      },
      "execution_count": 46,
      "outputs": []
    },
    {
      "cell_type": "code",
      "source": [
        "print('Best parameter: {}'.format(str(grid_search.best_params_)))\n",
        "print('Cross-validation accuracy score: {0:0.3f}'.format(cv_performance))"
      ],
      "metadata": {
        "colab": {
          "base_uri": "https://localhost:8080/"
        },
        "id": "FPPg7rOjZ9iP",
        "outputId": "eb261600-5fc6-4b4f-b467-5251700ea1c1"
      },
      "execution_count": 47,
      "outputs": [
        {
          "output_type": "stream",
          "name": "stdout",
          "text": [
            "Best parameter: {'SVM__C': 10, 'SVM__gamma': 'auto', 'SVM__kernel': 'rbf'}\n",
            "Cross-validation accuracy score: 0.811\n"
          ]
        }
      ]
    },
    {
      "cell_type": "markdown",
      "source": [
        "## Entrenamiento del Mejor Modelo\n",
        "\n",
        "El mejor modelo fue entrenado utilizando Cross-Validation, por lo que no tenemos un modelo entrenado utilizando la totalidad de los datos de entrenamiento. Por esta razón, tomamos los hiperparámetros del mejor modelo y entrenamos uno nuevo."
      ],
      "metadata": {
        "id": "VfI8J6xdaYQ3"
      }
    },
    {
      "cell_type": "code",
      "source": [
        "best_model = grid_search.best_estimator_\n",
        "best_model.fit(X_train, y_train)"
      ],
      "metadata": {
        "colab": {
          "base_uri": "https://localhost:8080/"
        },
        "id": "1S11bEfgaXsv",
        "outputId": "f4b7c01a-043e-4129-d440-8d32a9885dc1"
      },
      "execution_count": 48,
      "outputs": [
        {
          "output_type": "execute_result",
          "data": {
            "text/plain": [
              "Pipeline(steps=[('MinMaxScaling', MinMaxScaler()),\n",
              "                ('SVM', SVC(C=10, gamma='auto', probability=True))])"
            ]
          },
          "metadata": {},
          "execution_count": 48
        }
      ]
    },
    {
      "cell_type": "markdown",
      "source": [
        "Una vez entrenado, ya es posible realizar las predicciones y evaluar su desempeño para comparación con los modelos anteriores."
      ],
      "metadata": {
        "id": "uKGQEoumjwAZ"
      }
    },
    {
      "cell_type": "code",
      "source": [
        "y_pred_hp = best_model.predict(X_test)\n",
        "y_pred_prob_hp = best_model.predict_proba(X_test)[:,1]"
      ],
      "metadata": {
        "id": "N0UBowtFadY9"
      },
      "execution_count": 49,
      "outputs": []
    },
    {
      "cell_type": "code",
      "source": [
        " print('AUC Score: ', roc_auc_score(y_test, y_pred_prob_hp))"
      ],
      "metadata": {
        "colab": {
          "base_uri": "https://localhost:8080/"
        },
        "id": "Fs7Im0uKaoBw",
        "outputId": "8e534256-c381-49ae-9b77-5fbf01498478"
      },
      "execution_count": 50,
      "outputs": [
        {
          "output_type": "stream",
          "name": "stdout",
          "text": [
            "AUC Score:  0.8442852318232257\n"
          ]
        }
      ]
    },
    {
      "cell_type": "code",
      "source": [
        "false_positives_rate_hp, true_positives_rate_hp, threshold = roc_curve(y_test, y_pred_prob_hp)"
      ],
      "metadata": {
        "id": "px6vjhOFawsZ"
      },
      "execution_count": 51,
      "outputs": []
    },
    {
      "cell_type": "code",
      "source": [
        "plt.title('ROC - Comparación Modelos')\n",
        "plt.plot(false_positives_rate, true_positives_rate, label = 'SVM Default')\n",
        "plt.plot([0, 1], ls=\"--\")\n",
        "plt.plot(false_positives_rate_hp, true_positives_rate_hp, label = 'Tuned SVM')\n",
        "\n",
        "plt.ylabel('True Positive Rate')\n",
        "plt.xlabel('False Positive Rate')\n",
        "plt.ylim(0, 1)\n",
        "plt.xlim(0, 1)\n",
        "plt.show()"
      ],
      "metadata": {
        "colab": {
          "base_uri": "https://localhost:8080/",
          "height": 295
        },
        "id": "4kxc1sDXas0X",
        "outputId": "ac456ce4-9972-4fa5-a0a5-8de45019bd33"
      },
      "execution_count": 52,
      "outputs": [
        {
          "output_type": "display_data",
          "data": {
            "text/plain": [
              "<Figure size 432x288 with 1 Axes>"
            ],
            "image/png": "[encoded data removed]"
          },
          "metadata": {
            "needs_background": "light"
          }
        }
      ]
    },
    {
      "cell_type": "code",
      "source": [
        "print(classification_report(y_test, y_pred_hp))"
      ],
      "metadata": {
        "colab": {
          "base_uri": "https://localhost:8080/"
        },
        "id": "Sm9bS_KDbJAF",
        "outputId": "62abcbe7-3742-4d92-e56f-ecb36f13e1bc"
      },
      "execution_count": 53,
      "outputs": [
        {
          "output_type": "stream",
          "name": "stdout",
          "text": [
            "              precision    recall  f1-score   support\n",
            "\n",
            "           0       0.79      0.65      0.71       294\n",
            "           1       0.78      0.88      0.83       423\n",
            "\n",
            "    accuracy                           0.79       717\n",
            "   macro avg       0.79      0.77      0.77       717\n",
            "weighted avg       0.79      0.79      0.78       717\n",
            "\n"
          ]
        }
      ]
    },
    {
      "cell_type": "code",
      "source": [
        "cm = confusion_matrix(y_test, y_pred_hp, normalize = 'true')\n",
        "disp = ConfusionMatrixDisplay(confusion_matrix=cm)\n",
        "disp.plot()\n",
        "\n",
        "plt.show()"
      ],
      "metadata": {
        "colab": {
          "base_uri": "https://localhost:8080/",
          "height": 279
        },
        "id": "-NI50ACCdSuJ",
        "outputId": "f5d6e2fc-8e78-4862-89a5-1efeb210521d"
      },
      "execution_count": 54,
      "outputs": [
        {
          "output_type": "display_data",
          "data": {
            "text/plain": [
              "<Figure size 432x288 with 2 Axes>"
            ],
            "image/png": "[encoded data removed]"
          },
          "metadata": {
            "needs_background": "light"
          }
        }
      ]
    },
    {
      "cell_type": "markdown",
      "source": [
        "# Interpretación de Resultados\n",
        "\n",
        "¿Qué puede decir respecto a los resultados obtenidos de la línea base y el SVM? ¿Cómo impactan sus resultados al negocio de STC?"
      ],
      "metadata": {
        "id": "yQFwJzQ9WN-a"
      }
    },
    {
      "cell_type": "code",
      "source": [],
      "metadata": {
        "id": "oa9ceIWZb8u0"
      },
      "execution_count": 54,
      "outputs": []
    }
  ]
}