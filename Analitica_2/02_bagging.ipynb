{
  "nbformat": 4,
  "nbformat_minor": 0,
  "metadata": {
    "colab": {
      "provenance": []
    },
    "kernelspec": {
      "name": "python3",
      "display_name": "Python 3"
    },
    "language_info": {
      "name": "python"
    }
  },
  "cells": [
    {
      "cell_type": "markdown",
      "source": [
        "# Implementación de Bagging\n",
        "\n",
        "En este Notebook llevaremos acabo un ejemplo de implementación de Bagging, para facilitar el entendimiento del funcionamiento de los modelos. \n",
        "\n",
        "Se utilizará como modelo base el `DecisionTreeRegressor` de Sci-Kit Learn para el problema de Predicción de Precios de Viviendas en Boston. \n",
        "\n",
        "En este notebook usted irá implementando paso a paso los elementos que componen el algoritmo. \n",
        "\n",
        "\n",
        "\n",
        "<table class=\"tfo-notebook-buttons\" align=\"center\">\n",
        "\n",
        "  <td>\n",
        "    <a target=\"_blank\" href=\"https://colab.research.google.com/github/jsebastianquiroga/analitica_ia_puj/blob/main/Analitica_2/02_bagging.ipynb\"><img src=\"https://colab.research.google.com/assets/colab-badge.svg\" /></a>\n",
        "  </td>\n",
        "  <td>\n",
        "    <a target=\"_blank\" href=\"https://github.com/jsebastianquiroga/analitica_ia_puj/blob/main/Analitica_2/02_bagging.ipynb\"><img src=\"https://www.tensorflow.org/images/GitHub-Mark-32px.png\" /></a>\n",
        "  </td>\n",
        "  \n",
        "</table>"
      ],
      "metadata": {
        "id": "O4Vd6ClX_2Yn"
      }
    },
    {
      "cell_type": "code",
      "execution_count": 2,
      "metadata": {
        "id": "B_nGmbQ4314x"
      },
      "outputs": [],
      "source": [
        "from sklearn.model_selection import train_test_split\n",
        "from sklearn.preprocessing import StandardScaler\n",
        "from sklearn.tree import DecisionTreeRegressor\n",
        "from sklearn.metrics import mean_squared_error\n",
        "from joblib import Parallel, delayed\n",
        "import matplotlib.pyplot as plt\n",
        "from sklearn import datasets\n",
        "from tqdm import tqdm\n",
        "import pandas as pd\n",
        "import numpy as np"
      ]
    },
    {
      "cell_type": "markdown",
      "source": [
        "## Carga de Datos\n",
        "\n",
        "Utilizaremos los Datasets de Sci-Kit Learn para cargar la información de precios de vivienda."
      ],
      "metadata": {
        "id": "39gqXpvJA4Dw"
      }
    },
    {
      "cell_type": "code",
      "source": [
        "from sklearn.datasets import fetch_openml\n",
        "housing = fetch_openml(name=\"house_prices\", as_frame=True)\n",
        "boston_housing = housing\n",
        "\n",
        "# boston_housing = load_boston()"
      ],
      "metadata": {
        "id": "7jibq5Gm352H",
        "outputId": "d9ec1207-925c-4ae8-80df-0acdb45556c4",
        "colab": {
          "base_uri": "https://localhost:8080/"
        }
      },
      "execution_count": 4,
      "outputs": [
        {
          "output_type": "stream",
          "name": "stderr",
          "text": [
            "/usr/local/lib/python3.10/dist-packages/sklearn/datasets/_openml.py:968: FutureWarning: The default value of `parser` will change from `'liac-arff'` to `'auto'` in 1.4. You can set `parser='auto'` to silence this warning. Therefore, an `ImportError` will be raised from 1.4 if the dataset is dense and pandas is not installed. Note that the pandas parser may return different data types. See the Notes Section in fetch_openml's API doc for details.\n",
            "  warn(\n"
          ]
        }
      ]
    },
    {
      "cell_type": "code",
      "source": [
        "boston_housing.keys() # Elementos con los que vienen los datos"
      ],
      "metadata": {
        "colab": {
          "base_uri": "https://localhost:8080/"
        },
        "id": "ZsxBlg4836iG",
        "outputId": "8e784146-e528-423e-8689-a69bed05a5dc"
      },
      "execution_count": 5,
      "outputs": [
        {
          "output_type": "execute_result",
          "data": {
            "text/plain": [
              "dict_keys(['data', 'target', 'frame', 'categories', 'feature_names', 'target_names', 'DESCR', 'details', 'url'])"
            ]
          },
          "metadata": {},
          "execution_count": 5
        }
      ]
    },
    {
      "cell_type": "markdown",
      "source": [
        "Estos datos vienen como arrays de NumPy y sin nombres de campos. A cotninuación los convertiremos en DataFrames y asignaremos los nombres a nuestras variables explicativas."
      ],
      "metadata": {
        "id": "qmuejFx1CY7i"
      }
    },
    {
      "cell_type": "code",
      "source": [
        "X = pd.DataFrame(boston_housing['data'], columns = boston_housing['feature_names'])\n",
        "y = pd.DataFrame(boston_housing['target'])"
      ],
      "metadata": {
        "id": "BZ4cGy_t37AE"
      },
      "execution_count": 6,
      "outputs": []
    },
    {
      "cell_type": "code",
      "source": [
        "X.head()"
      ],
      "metadata": {
        "colab": {
          "base_uri": "https://localhost:8080/",
          "height": 236
        },
        "id": "C3fOdEMUsHVL",
        "outputId": "ec566bb8-99ef-4826-983c-ebb10cd7ae05"
      },
      "execution_count": 7,
      "outputs": [
        {
          "output_type": "execute_result",
          "data": {
            "text/plain": [
              "   Id  MSSubClass MSZoning  LotFrontage  LotArea Street Alley LotShape  \\\n",
              "0   1          60       RL         65.0     8450   Pave  None      Reg   \n",
              "1   2          20       RL         80.0     9600   Pave  None      Reg   \n",
              "2   3          60       RL         68.0    11250   Pave  None      IR1   \n",
              "3   4          70       RL         60.0     9550   Pave  None      IR1   \n",
              "4   5          60       RL         84.0    14260   Pave  None      IR1   \n",
              "\n",
              "  LandContour Utilities  ... ScreenPorch PoolArea PoolQC Fence MiscFeature  \\\n",
              "0         Lvl    AllPub  ...           0        0   None  None        None   \n",
              "1         Lvl    AllPub  ...           0        0   None  None        None   \n",
              "2         Lvl    AllPub  ...           0        0   None  None        None   \n",
              "3         Lvl    AllPub  ...           0        0   None  None        None   \n",
              "4         Lvl    AllPub  ...           0        0   None  None        None   \n",
              "\n",
              "  MiscVal MoSold  YrSold  SaleType  SaleCondition  \n",
              "0       0      2    2008        WD         Normal  \n",
              "1       0      5    2007        WD         Normal  \n",
              "2       0      9    2008        WD         Normal  \n",
              "3       0      2    2006        WD        Abnorml  \n",
              "4       0     12    2008        WD         Normal  \n",
              "\n",
              "[5 rows x 80 columns]"
            ],
            "text/html": [
              "\n",
              "  <div id=\"df-603c36fc-08ab-48b1-90e6-161d6d14bea1\">\n",
              "    <div class=\"colab-df-container\">\n",
              "      <div>\n",
              "<style scoped>\n",
              "    .dataframe tbody tr th:only-of-type {\n",
              "        vertical-align: middle;\n",
              "    }\n",
              "\n",
              "    .dataframe tbody tr th {\n",
              "        vertical-align: top;\n",
              "    }\n",
              "\n",
              "    .dataframe thead th {\n",
              "        text-align: right;\n",
              "    }\n",
              "</style>\n",
              "<table border=\"1\" class=\"dataframe\">\n",
              "  <thead>\n",
              "    <tr style=\"text-align: right;\">\n",
              "      <th></th>\n",
              "      <th>Id</th>\n",
              "      <th>MSSubClass</th>\n",
              "      <th>MSZoning</th>\n",
              "      <th>LotFrontage</th>\n",
              "      <th>LotArea</th>\n",
              "      <th>Street</th>\n",
              "      <th>Alley</th>\n",
              "      <th>LotShape</th>\n",
              "      <th>LandContour</th>\n",
              "      <th>Utilities</th>\n",
              "      <th>...</th>\n",
              "      <th>ScreenPorch</th>\n",
              "      <th>PoolArea</th>\n",
              "      <th>PoolQC</th>\n",
              "      <th>Fence</th>\n",
              "      <th>MiscFeature</th>\n",
              "      <th>MiscVal</th>\n",
              "      <th>MoSold</th>\n",
              "      <th>YrSold</th>\n",
              "      <th>SaleType</th>\n",
              "      <th>SaleCondition</th>\n",
              "    </tr>\n",
              "  </thead>\n",
              "  <tbody>\n",
              "    <tr>\n",
              "      <th>0</th>\n",
              "      <td>1</td>\n",
              "      <td>60</td>\n",
              "      <td>RL</td>\n",
              "      <td>65.0</td>\n",
              "      <td>8450</td>\n",
              "      <td>Pave</td>\n",
              "      <td>None</td>\n",
              "      <td>Reg</td>\n",
              "      <td>Lvl</td>\n",
              "      <td>AllPub</td>\n",
              "      <td>...</td>\n",
              "      <td>0</td>\n",
              "      <td>0</td>\n",
              "      <td>None</td>\n",
              "      <td>None</td>\n",
              "      <td>None</td>\n",
              "      <td>0</td>\n",
              "      <td>2</td>\n",
              "      <td>2008</td>\n",
              "      <td>WD</td>\n",
              "      <td>Normal</td>\n",
              "    </tr>\n",
              "    <tr>\n",
              "      <th>1</th>\n",
              "      <td>2</td>\n",
              "      <td>20</td>\n",
              "      <td>RL</td>\n",
              "      <td>80.0</td>\n",
              "      <td>9600</td>\n",
              "      <td>Pave</td>\n",
              "      <td>None</td>\n",
              "      <td>Reg</td>\n",
              "      <td>Lvl</td>\n",
              "      <td>AllPub</td>\n",
              "      <td>...</td>\n",
              "      <td>0</td>\n",
              "      <td>0</td>\n",
              "      <td>None</td>\n",
              "      <td>None</td>\n",
              "      <td>None</td>\n",
              "      <td>0</td>\n",
              "      <td>5</td>\n",
              "      <td>2007</td>\n",
              "      <td>WD</td>\n",
              "      <td>Normal</td>\n",
              "    </tr>\n",
              "    <tr>\n",
              "      <th>2</th>\n",
              "      <td>3</td>\n",
              "      <td>60</td>\n",
              "      <td>RL</td>\n",
              "      <td>68.0</td>\n",
              "      <td>11250</td>\n",
              "      <td>Pave</td>\n",
              "      <td>None</td>\n",
              "      <td>IR1</td>\n",
              "      <td>Lvl</td>\n",
              "      <td>AllPub</td>\n",
              "      <td>...</td>\n",
              "      <td>0</td>\n",
              "      <td>0</td>\n",
              "      <td>None</td>\n",
              "      <td>None</td>\n",
              "      <td>None</td>\n",
              "      <td>0</td>\n",
              "      <td>9</td>\n",
              "      <td>2008</td>\n",
              "      <td>WD</td>\n",
              "      <td>Normal</td>\n",
              "    </tr>\n",
              "    <tr>\n",
              "      <th>3</th>\n",
              "      <td>4</td>\n",
              "      <td>70</td>\n",
              "      <td>RL</td>\n",
              "      <td>60.0</td>\n",
              "      <td>9550</td>\n",
              "      <td>Pave</td>\n",
              "      <td>None</td>\n",
              "      <td>IR1</td>\n",
              "      <td>Lvl</td>\n",
              "      <td>AllPub</td>\n",
              "      <td>...</td>\n",
              "      <td>0</td>\n",
              "      <td>0</td>\n",
              "      <td>None</td>\n",
              "      <td>None</td>\n",
              "      <td>None</td>\n",
              "      <td>0</td>\n",
              "      <td>2</td>\n",
              "      <td>2006</td>\n",
              "      <td>WD</td>\n",
              "      <td>Abnorml</td>\n",
              "    </tr>\n",
              "    <tr>\n",
              "      <th>4</th>\n",
              "      <td>5</td>\n",
              "      <td>60</td>\n",
              "      <td>RL</td>\n",
              "      <td>84.0</td>\n",
              "      <td>14260</td>\n",
              "      <td>Pave</td>\n",
              "      <td>None</td>\n",
              "      <td>IR1</td>\n",
              "      <td>Lvl</td>\n",
              "      <td>AllPub</td>\n",
              "      <td>...</td>\n",
              "      <td>0</td>\n",
              "      <td>0</td>\n",
              "      <td>None</td>\n",
              "      <td>None</td>\n",
              "      <td>None</td>\n",
              "      <td>0</td>\n",
              "      <td>12</td>\n",
              "      <td>2008</td>\n",
              "      <td>WD</td>\n",
              "      <td>Normal</td>\n",
              "    </tr>\n",
              "  </tbody>\n",
              "</table>\n",
              "<p>5 rows × 80 columns</p>\n",
              "</div>\n",
              "      <button class=\"colab-df-convert\" onclick=\"convertToInteractive('df-603c36fc-08ab-48b1-90e6-161d6d14bea1')\"\n",
              "              title=\"Convert this dataframe to an interactive table.\"\n",
              "              style=\"display:none;\">\n",
              "        \n",
              "  <svg xmlns=\"http://www.w3.org/2000/svg\" height=\"24px\"viewBox=\"0 0 24 24\"\n",
              "       width=\"24px\">\n",
              "    <path d=\"M0 0h24v24H0V0z\" fill=\"none\"/>\n",
              "    <path d=\"M18.56 5.44l.94 2.06.94-2.06 2.06-.94-2.06-.94-.94-2.06-.94 2.06-2.06.94zm-11 1L8.5 8.5l.94-2.06 2.06-.94-2.06-.94L8.5 2.5l-.94 2.06-2.06.94zm10 10l.94 2.06.94-2.06 2.06-.94-2.06-.94-.94-2.06-.94 2.06-2.06.94z\"/><path d=\"M17.41 7.96l-1.37-1.37c-.4-.4-.92-.59-1.43-.59-.52 0-1.04.2-1.43.59L10.3 9.45l-7.72 7.72c-.78.78-.78 2.05 0 2.83L4 21.41c.39.39.9.59 1.41.59.51 0 1.02-.2 1.41-.59l7.78-7.78 2.81-2.81c.8-.78.8-2.07 0-2.86zM5.41 20L4 18.59l7.72-7.72 1.47 1.35L5.41 20z\"/>\n",
              "  </svg>\n",
              "      </button>\n",
              "      \n",
              "  <style>\n",
              "    .colab-df-container {\n",
              "      display:flex;\n",
              "      flex-wrap:wrap;\n",
              "      gap: 12px;\n",
              "    }\n",
              "\n",
              "    .colab-df-convert {\n",
              "      background-color: #E8F0FE;\n",
              "      border: none;\n",
              "      border-radius: 50%;\n",
              "      cursor: pointer;\n",
              "      display: none;\n",
              "      fill: #1967D2;\n",
              "      height: 32px;\n",
              "      padding: 0 0 0 0;\n",
              "      width: 32px;\n",
              "    }\n",
              "\n",
              "    .colab-df-convert:hover {\n",
              "      background-color: #E2EBFA;\n",
              "      box-shadow: 0px 1px 2px rgba(60, 64, 67, 0.3), 0px 1px 3px 1px rgba(60, 64, 67, 0.15);\n",
              "      fill: #174EA6;\n",
              "    }\n",
              "\n",
              "    [theme=dark] .colab-df-convert {\n",
              "      background-color: #3B4455;\n",
              "      fill: #D2E3FC;\n",
              "    }\n",
              "\n",
              "    [theme=dark] .colab-df-convert:hover {\n",
              "      background-color: #434B5C;\n",
              "      box-shadow: 0px 1px 3px 1px rgba(0, 0, 0, 0.15);\n",
              "      filter: drop-shadow(0px 1px 2px rgba(0, 0, 0, 0.3));\n",
              "      fill: #FFFFFF;\n",
              "    }\n",
              "  </style>\n",
              "\n",
              "      <script>\n",
              "        const buttonEl =\n",
              "          document.querySelector('#df-603c36fc-08ab-48b1-90e6-161d6d14bea1 button.colab-df-convert');\n",
              "        buttonEl.style.display =\n",
              "          google.colab.kernel.accessAllowed ? 'block' : 'none';\n",
              "\n",
              "        async function convertToInteractive(key) {\n",
              "          const element = document.querySelector('#df-603c36fc-08ab-48b1-90e6-161d6d14bea1');\n",
              "          const dataTable =\n",
              "            await google.colab.kernel.invokeFunction('convertToInteractive',\n",
              "                                                     [key], {});\n",
              "          if (!dataTable) return;\n",
              "\n",
              "          const docLinkHtml = 'Like what you see? Visit the ' +\n",
              "            '<a target=\"_blank\" href=https://colab.research.google.com/notebooks/data_table.ipynb>data table notebook</a>'\n",
              "            + ' to learn more about interactive tables.';\n",
              "          element.innerHTML = '';\n",
              "          dataTable['output_type'] = 'display_data';\n",
              "          await google.colab.output.renderOutput(dataTable, element);\n",
              "          const docLink = document.createElement('div');\n",
              "          docLink.innerHTML = docLinkHtml;\n",
              "          element.appendChild(docLink);\n",
              "        }\n",
              "      </script>\n",
              "    </div>\n",
              "  </div>\n",
              "  "
            ]
          },
          "metadata": {},
          "execution_count": 7
        }
      ]
    },
    {
      "cell_type": "code",
      "source": [
        "y.head()"
      ],
      "metadata": {
        "colab": {
          "base_uri": "https://localhost:8080/",
          "height": 206
        },
        "id": "omR21sIqs9Nc",
        "outputId": "7d5ddd9a-0f3a-42a5-f604-bb295e117f7c"
      },
      "execution_count": 8,
      "outputs": [
        {
          "output_type": "execute_result",
          "data": {
            "text/plain": [
              "   SalePrice\n",
              "0     208500\n",
              "1     181500\n",
              "2     223500\n",
              "3     140000\n",
              "4     250000"
            ],
            "text/html": [
              "\n",
              "  <div id=\"df-1346c21b-f623-4c81-91d0-bfb22641dc23\">\n",
              "    <div class=\"colab-df-container\">\n",
              "      <div>\n",
              "<style scoped>\n",
              "    .dataframe tbody tr th:only-of-type {\n",
              "        vertical-align: middle;\n",
              "    }\n",
              "\n",
              "    .dataframe tbody tr th {\n",
              "        vertical-align: top;\n",
              "    }\n",
              "\n",
              "    .dataframe thead th {\n",
              "        text-align: right;\n",
              "    }\n",
              "</style>\n",
              "<table border=\"1\" class=\"dataframe\">\n",
              "  <thead>\n",
              "    <tr style=\"text-align: right;\">\n",
              "      <th></th>\n",
              "      <th>SalePrice</th>\n",
              "    </tr>\n",
              "  </thead>\n",
              "  <tbody>\n",
              "    <tr>\n",
              "      <th>0</th>\n",
              "      <td>208500</td>\n",
              "    </tr>\n",
              "    <tr>\n",
              "      <th>1</th>\n",
              "      <td>181500</td>\n",
              "    </tr>\n",
              "    <tr>\n",
              "      <th>2</th>\n",
              "      <td>223500</td>\n",
              "    </tr>\n",
              "    <tr>\n",
              "      <th>3</th>\n",
              "      <td>140000</td>\n",
              "    </tr>\n",
              "    <tr>\n",
              "      <th>4</th>\n",
              "      <td>250000</td>\n",
              "    </tr>\n",
              "  </tbody>\n",
              "</table>\n",
              "</div>\n",
              "      <button class=\"colab-df-convert\" onclick=\"convertToInteractive('df-1346c21b-f623-4c81-91d0-bfb22641dc23')\"\n",
              "              title=\"Convert this dataframe to an interactive table.\"\n",
              "              style=\"display:none;\">\n",
              "        \n",
              "  <svg xmlns=\"http://www.w3.org/2000/svg\" height=\"24px\"viewBox=\"0 0 24 24\"\n",
              "       width=\"24px\">\n",
              "    <path d=\"M0 0h24v24H0V0z\" fill=\"none\"/>\n",
              "    <path d=\"M18.56 5.44l.94 2.06.94-2.06 2.06-.94-2.06-.94-.94-2.06-.94 2.06-2.06.94zm-11 1L8.5 8.5l.94-2.06 2.06-.94-2.06-.94L8.5 2.5l-.94 2.06-2.06.94zm10 10l.94 2.06.94-2.06 2.06-.94-2.06-.94-.94-2.06-.94 2.06-2.06.94z\"/><path d=\"M17.41 7.96l-1.37-1.37c-.4-.4-.92-.59-1.43-.59-.52 0-1.04.2-1.43.59L10.3 9.45l-7.72 7.72c-.78.78-.78 2.05 0 2.83L4 21.41c.39.39.9.59 1.41.59.51 0 1.02-.2 1.41-.59l7.78-7.78 2.81-2.81c.8-.78.8-2.07 0-2.86zM5.41 20L4 18.59l7.72-7.72 1.47 1.35L5.41 20z\"/>\n",
              "  </svg>\n",
              "      </button>\n",
              "      \n",
              "  <style>\n",
              "    .colab-df-container {\n",
              "      display:flex;\n",
              "      flex-wrap:wrap;\n",
              "      gap: 12px;\n",
              "    }\n",
              "\n",
              "    .colab-df-convert {\n",
              "      background-color: #E8F0FE;\n",
              "      border: none;\n",
              "      border-radius: 50%;\n",
              "      cursor: pointer;\n",
              "      display: none;\n",
              "      fill: #1967D2;\n",
              "      height: 32px;\n",
              "      padding: 0 0 0 0;\n",
              "      width: 32px;\n",
              "    }\n",
              "\n",
              "    .colab-df-convert:hover {\n",
              "      background-color: #E2EBFA;\n",
              "      box-shadow: 0px 1px 2px rgba(60, 64, 67, 0.3), 0px 1px 3px 1px rgba(60, 64, 67, 0.15);\n",
              "      fill: #174EA6;\n",
              "    }\n",
              "\n",
              "    [theme=dark] .colab-df-convert {\n",
              "      background-color: #3B4455;\n",
              "      fill: #D2E3FC;\n",
              "    }\n",
              "\n",
              "    [theme=dark] .colab-df-convert:hover {\n",
              "      background-color: #434B5C;\n",
              "      box-shadow: 0px 1px 3px 1px rgba(0, 0, 0, 0.15);\n",
              "      filter: drop-shadow(0px 1px 2px rgba(0, 0, 0, 0.3));\n",
              "      fill: #FFFFFF;\n",
              "    }\n",
              "  </style>\n",
              "\n",
              "      <script>\n",
              "        const buttonEl =\n",
              "          document.querySelector('#df-1346c21b-f623-4c81-91d0-bfb22641dc23 button.colab-df-convert');\n",
              "        buttonEl.style.display =\n",
              "          google.colab.kernel.accessAllowed ? 'block' : 'none';\n",
              "\n",
              "        async function convertToInteractive(key) {\n",
              "          const element = document.querySelector('#df-1346c21b-f623-4c81-91d0-bfb22641dc23');\n",
              "          const dataTable =\n",
              "            await google.colab.kernel.invokeFunction('convertToInteractive',\n",
              "                                                     [key], {});\n",
              "          if (!dataTable) return;\n",
              "\n",
              "          const docLinkHtml = 'Like what you see? Visit the ' +\n",
              "            '<a target=\"_blank\" href=https://colab.research.google.com/notebooks/data_table.ipynb>data table notebook</a>'\n",
              "            + ' to learn more about interactive tables.';\n",
              "          element.innerHTML = '';\n",
              "          dataTable['output_type'] = 'display_data';\n",
              "          await google.colab.output.renderOutput(dataTable, element);\n",
              "          const docLink = document.createElement('div');\n",
              "          docLink.innerHTML = docLinkHtml;\n",
              "          element.appendChild(docLink);\n",
              "        }\n",
              "      </script>\n",
              "    </div>\n",
              "  </div>\n",
              "  "
            ]
          },
          "metadata": {},
          "execution_count": 8
        }
      ]
    },
    {
      "cell_type": "markdown",
      "source": [
        "## Pre-Procesamiento de Datos\n",
        "\n",
        "A continuación dividiremos la información en Train y Test, y realizaremos un escalamiento de datos.\n",
        "\n",
        "Para la división en train-test, utilice la función de [`sklearn.model_selection.train_test_split`](https://scikit-learn.org/stable/modules/generated/sklearn.model_selection.train_test_split.html)."
      ],
      "metadata": {
        "id": "uvSQgabjCsJ_"
      }
    },
    {
      "cell_type": "code",
      "source": [
        "### Utilice train_test_split para dividir los datos en entrenamiento y test.\n",
        "X_train, X_test, y_train, y_test = train_test_split(X, y, test_size=0.3, random_state=42)\n",
        "###"
      ],
      "metadata": {
        "id": "wiHgpKz1quru"
      },
      "execution_count": null,
      "outputs": []
    },
    {
      "cell_type": "code",
      "source": [
        "X_train.head()"
      ],
      "metadata": {
        "id": "VdtghgistAn0"
      },
      "execution_count": null,
      "outputs": []
    },
    {
      "cell_type": "markdown",
      "source": [
        "Se sugiere realizar un MinMax scaler como procesamiento inicial de las features. Usted puede probar con otros procesamientos. \n",
        "\n",
        "Para esto, utilice [`sklearn.preprocessing.MinMaxScaler`](https://scikit-learn.org/stable/modules/generated/sklearn.preprocessing.MinMaxScaler.html). "
      ],
      "metadata": {
        "id": "TV8BPBuLEOyx"
      }
    },
    {
      "cell_type": "code",
      "source": [
        "###\n",
        "\n",
        "scaler = StandardScaler()\n",
        "scaler.fit(X_train)\n",
        "X_train.values[:] = scaler.transform(X_train)\n",
        "X_test.values[:] = scaler.transform(X_test)\n",
        "\n",
        "###"
      ],
      "metadata": {
        "id": "kBQ_f8DNJ2Ts"
      },
      "execution_count": null,
      "outputs": []
    },
    {
      "cell_type": "code",
      "source": [
        "X_train"
      ],
      "metadata": {
        "id": "93WArfknKCnl"
      },
      "execution_count": null,
      "outputs": []
    },
    {
      "cell_type": "markdown",
      "source": [
        "Con el procesamiento anterior, es posible comenzar a programar los modelos que vamos a utilizar."
      ],
      "metadata": {
        "id": "0hAoiauhEfGQ"
      }
    },
    {
      "cell_type": "markdown",
      "source": [
        "# Implementación de Bagging\n",
        "\n",
        "Recordemos que Bagging consiste de tres elementos: \n",
        "- Muestreo aleatorio con reemplazamiento de los datos de entrenamiento (muestras bootstrap)\n",
        "\n",
        "- Entrenamiento del mismo modelo en cada una de las diferentes $B$ muestras, \n",
        "$$\\Big\\{\\hat{f}_b(x) \\Big\\}_{b = 1, \\dots, B}$$\n",
        "\n",
        "- Combinación de predicciones a través de un promedio simple, \n",
        "\n",
        "$$\\hat{f}_{bagging} (x) = \\frac{1}{B} \\sum_{b = 1}^B \\hat{f}_b(x)$$\n",
        "\n",
        "Vamos a crear una clase que nos permita estimar un conjunto de árboles de regresión ($\\hat{f}_b(x)$) y lo utilizaremos para predecir. "
      ],
      "metadata": {
        "id": "a_U4wgYAv7J_"
      }
    },
    {
      "cell_type": "markdown",
      "source": [
        "## 1. Boostrap Sampling\n",
        "\n",
        "El primer elemento de la función es quizás el más importante del *Bagging*, pues corresponde al muestreo aleatorio con reemplazamiento. \n",
        "\n",
        "\n",
        "Utilice el métoo de [`pd.DataFrame.sample`](https://pandas.pydata.org/docs/reference/api/pandas.DataFrame.sample.html) para tomar una muestra aleatoria con reemplazamiento **de las filas**."
      ],
      "metadata": {
        "id": "Yv-iIpWaHXnK"
      }
    },
    {
      "cell_type": "code",
      "source": [
        "def _sample_features(self, X, y, random_state = None):\n",
        "  \"\"\"\n",
        "  Generación de [una] muestra Bootstrap para entrenar un modelo de árbol de regresión.\n",
        "\n",
        "  Params\n",
        "  --------\n",
        "    X (pandas.DataFrame):\n",
        "      Un dataframe que contiene los features de entrenamiento\n",
        "\n",
        "    y (pandas.DataFrame):\n",
        "      Un dataframe que contiene el target para el entrenamiento\n",
        "\n",
        "    random_state (int):\n",
        "      [Default None] Valor de semilla. Utilizar únicamente para pruebas.\n",
        "\n",
        "\n",
        "  Returns\n",
        "  --------\n",
        "    sampled_x (pandas.DataFrame):\n",
        "      Un dataframe que contiene una muestra bootstrap de los datos originales\n",
        "\n",
        "    sampled_y (pandas.DataFrame):\n",
        "      Un dataframe que contiene una la variable dependiente de cada observación.\n",
        "  \"\"\"\n",
        "  ###\n",
        "\n",
        "  sampled_x = X.sample(replace = True, frac = 1, axis = 0, random_state = random_state)\n",
        "  sampled_y = y.loc[sampled_x.index] # Asigne a cada X su Y.\n",
        "\n",
        "  ###\n",
        "\n",
        "  return sampled_x, sampled_y"
      ],
      "metadata": {
        "id": "S8PiRP1fH6UA"
      },
      "execution_count": null,
      "outputs": []
    },
    {
      "cell_type": "markdown",
      "source": [
        "Si la función fue programada correctamente, entonces el resultado de la siguiente celda debería ser:\n",
        "\n",
        "|         |         0 |\n",
        "|:--------|----------:|\n",
        "| CRIM    | -22.3237  |\n",
        "| ZN      |  -3.87571 |\n",
        "| INDUS   |  -6.34016 |\n",
        "| CHAS    |  -3.83336 |\n",
        "| NOX     | -35.7036  |\n",
        "| RM      | -21.231   |\n",
        "| AGE     | -46.6513  |\n",
        "| DIS     |  22.7396  |\n",
        "| RAD     | -21.3265  |\n",
        "| TAX     | -32.3898  |\n",
        "| PTRATIO |  37.1405  |\n",
        "| B       | -10.3039  |\n",
        "| LSTAT   |  10.5585  |"
      ],
      "metadata": {
        "id": "pNhxzhjjI68_"
      }
    },
    {
      "cell_type": "code",
      "source": [
        "X_sampled_fn, y_sampled_fn = _sample_features(None, X_train, y_train, random_state = 42)\n",
        "X_sampled_fn.sum()"
      ],
      "metadata": {
        "id": "eJMth0q8I56U"
      },
      "execution_count": null,
      "outputs": []
    },
    {
      "cell_type": "markdown",
      "source": [
        "## Entrenamiento de un Árbol\n",
        "\n",
        "La idea de Bagging es entrenar el mismo modelo en diferentes muestras de la base de entrenamiento original. Por esto, deberemos crear una función que genere la muestra *Bootstrap* y entrene el árbol de regresión en esta. \n",
        "\n",
        "Utilice [`sklearn.tree.DecisionTreeRegressor`](https://scikit-learn.org/stable/modules/generated/sklearn.tree.DecisionTreeRegressor.html#sklearn.tree.DecisionTreeRegressor.predict) para su estimador base (su weak learner).\n"
      ],
      "metadata": {
        "id": "UXtmwGSCMlqv"
      }
    },
    {
      "cell_type": "code",
      "source": [
        "def train_single_tree(self, X, y):\n",
        "  \"\"\"\n",
        "  Entrena un árbol de regresión en una muestra bootstrap de los datos originales.\n",
        "\n",
        "   Params\n",
        "  --------\n",
        "    X (pandas.DataFrame):\n",
        "      Un dataframe que contiene los features de entrenamiento\n",
        "\n",
        "    y (pandas.DataFrame):\n",
        "      Un dataframe que contiene el target para el entrenamiento\n",
        "\n",
        "  Returns\n",
        "  --------\n",
        "    tree (sklearn.tree.DecisionTreeRegressor):\n",
        "      Un modelo de árbol de regresión ajustado en una muestra \n",
        "      bootstrap de los datos de entrenamiento.\n",
        "\n",
        "  \"\"\"\n",
        "  ###\n",
        "\n",
        "  # 1. Utilice la función _sample_features para generar una muestra\n",
        "  sampled_X, sampled_y = self._sample_features(X, y) \n",
        "\n",
        "  # 2. Entrene el modelo de regresión. Fije el parámetro max_features = self.col_prop\n",
        "  tree = DecisionTreeRegressor(max_features = self.col_prop)\n",
        "\n",
        "  # 3. Utilice el método .fit() para ajustar el modelo\n",
        "  tree.fit(sampled_X, sampled_y)\n",
        "\n",
        "  ###\n",
        "  return tree"
      ],
      "metadata": {
        "id": "BBYtKmCwMk73"
      },
      "execution_count": null,
      "outputs": []
    },
    {
      "cell_type": "markdown",
      "source": [
        "## Todo Junto\n",
        "\n",
        "En la siguiente celda se tiene el código que nos permitirá entrenar en paralelo un número arbitrario de árboles. Esta clase utilizará las funciones definidas anteriormente. \n",
        "\n",
        "La función que se paraleliza es `train_single_tree` y la función de predicción `predict_multiple`."
      ],
      "metadata": {
        "id": "rskCAhsVNy7i"
      }
    },
    {
      "cell_type": "code",
      "source": [
        "class BaggingRegressor:\n",
        "\n",
        "  def __init__(self, n_trees = 200, col_prop = 0.6, n_jobs = 3):\n",
        "    self.n_trees = n_trees\n",
        "    self.col_prop = col_prop\n",
        "  \n",
        "    self.n_jobs = n_jobs\n",
        "\n",
        "    self.model_list = None\n",
        "    self.X = None\n",
        "    self.y = None\n",
        "\n",
        "\n",
        "  def parallel_fit_training(self, X, y):\n",
        "    \"\"\"\n",
        "    Realiza un entrenamiento en paralelo de la cantidad de árboles especiicados en self.n_trees\n",
        "    \"\"\"\n",
        "    self.model_list = Parallel(n_jobs=self.n_jobs, \n",
        "                               timeout=99999)(delayed(self.train_single_tree)(X, y) for _ in tqdm(range(self.n_trees)))\n",
        "\n",
        "\n",
        "  def predict_multiple(self, X):\n",
        "    \"\"\"\n",
        "    Realiza la predicción de cada elemento del ensamble. \n",
        "\n",
        "    Params\n",
        "    -------\n",
        "      X (pd.DataFrame):\n",
        "        DataFrame que cotiene los features para predecir\n",
        "\n",
        "    Returns\n",
        "    -------\n",
        "      prediction_array (numpy.array):\n",
        "        Un array que contiene todas las predicciones de cada \n",
        "        elemento del ensamble.\n",
        "\n",
        "    \"\"\"\n",
        "\n",
        "    prediction_list = Parallel(n_jobs=self.n_jobs, timeout=99999)(delayed(model.predict)((X[model.feature_names_in_])) for model in tqdm(self.model_list))\n",
        "    prediction_array = np.array(prediction_list)\n",
        "    return prediction_array\n",
        "\n",
        "  def predict(self, X, reduce = True):\n",
        "    \"\"\"\n",
        "    Método para realizar las predicciones. \n",
        "\n",
        "    Params\n",
        "    --------\n",
        "      X (pd.DataFrame):\n",
        "        DataFrame que cotiene los features para predecir\n",
        "      \n",
        "      reduce (bool):\n",
        "        [Default True] Indica si se desea que la predicción sea el promedio del \n",
        "        ensamble. Si reduce = False, entonces se devuelve la predicción\n",
        "        de cada modelo individual.\n",
        "    \"\"\"\n",
        "    prediction = self.predict_multiple(X)\n",
        "\n",
        "    if reduce:\n",
        "      return prediction.mean(axis = 0)\n",
        "    else:\n",
        "      return prediction.T\n",
        "\n",
        "  def fit(self, X, y):\n",
        "    \"\"\"\n",
        "    Ajusta el modelo.\n",
        "\n",
        "    Params\n",
        "    --------\n",
        "      X (pd.DataFrame):\n",
        "        Datos de entrenamiento (features)\n",
        "      y (pd.DataFrame):\n",
        "        Target para los datos de entrenamiento\n",
        "\n",
        "    \"\"\"\n",
        "    self.parallel_fit_training(X, y)"
      ],
      "metadata": {
        "id": "fUTIYg0PwKkB"
      },
      "execution_count": null,
      "outputs": []
    },
    {
      "cell_type": "markdown",
      "source": [
        "En esta clase añadimos los métodos que creamos anteriormente."
      ],
      "metadata": {
        "id": "LTebvl9DTJ6s"
      }
    },
    {
      "cell_type": "code",
      "source": [
        "BaggingRegressor._sample_features = _sample_features"
      ],
      "metadata": {
        "id": "UjgjkFU_RdV9"
      },
      "execution_count": null,
      "outputs": []
    },
    {
      "cell_type": "code",
      "source": [
        "BaggingRegressor.train_single_tree = train_single_tree"
      ],
      "metadata": {
        "id": "H-Rex8Lzvxre"
      },
      "execution_count": null,
      "outputs": []
    },
    {
      "cell_type": "markdown",
      "source": [
        "## Bagging Default & Random Forest\n",
        "\n",
        "Como se habló en clase, el Random Forest es un modelo de Bagging, que busca disminuir la correlación entre los modelos al restringir las features a las que tiene acceso cada split. De esta forma, los árboles entrenados son diferentes unos de otros. \n",
        "\n",
        "Si en nuestro `BaggingRegressor` especificamos un `col_prop = 1`, estaremos entrenado un modelo Bagging estándar (default). Si `col_prop < 1`, se estará entrenando un `Random Forest`. \n",
        "\n",
        "A continuación, entrene un modelo Bagging con `col_prop = 1` y otro con `col_prop < 1`. Ambos modelos deben tener `n_trees = 1000`. "
      ],
      "metadata": {
        "id": "xqsBsDmkTO95"
      }
    },
    {
      "cell_type": "code",
      "source": [
        "### Entrenamiento de BaggingEnsemble\n",
        "\n",
        "BaggingEnsemble = BaggingRegressor(n_trees = 1000, col_prop = 1)\n",
        "BaggingEnsemble.fit(X_train, y_train)\n",
        "\n",
        "###"
      ],
      "metadata": {
        "id": "sXIqJBIkUDDS"
      },
      "execution_count": null,
      "outputs": []
    },
    {
      "cell_type": "code",
      "source": [
        "### Entrenamiento de Random Forest\n",
        "\n",
        "RandomForest = BaggingRegressor(n_trees = 1000) # el col prop es un hiperparámetro que toca tunear\n",
        "RandomForest.fit(X_train, y_train)\n",
        "\n",
        "###\n"
      ],
      "metadata": {
        "id": "vOVJ3PPHkCjj"
      },
      "execution_count": null,
      "outputs": []
    },
    {
      "cell_type": "markdown",
      "source": [
        "## Desempeño del Modelo\n",
        "\n"
      ],
      "metadata": {
        "id": "24qsUPSzUwQB"
      }
    },
    {
      "cell_type": "markdown",
      "source": [
        "## Evolución del Modelo\n",
        "\n",
        "Anteriormente observamos cómo el `RandomForest` tuvo un mejor desempeño que el `BaggingEnsemble`. \n",
        "\n",
        "En esta sección revisaremos cómo evolucionan las métricas de desempeño del modelo a medida que se incluyen más `weak_learners` y si tienen algo que ver con la diferencia de los resultados de evaluación.\n",
        "\n",
        "\n",
        "Realizaremos las predicciones nuevamente, pero esta vez se fijará el parámetro `reduce = False`. De esta forma, no obtendremos una predicción final, sino las predicciones que hicieron cada uno de los 1000 árboles. "
      ],
      "metadata": {
        "id": "toIXNuEFUSjc"
      }
    },
    {
      "cell_type": "code",
      "source": [
        "### Predicciones de Bagging Ensemble\n",
        "\n",
        "y_pred_test_bag =  BaggingEnsemble.predict(X_test, reduce = False)\n",
        "\n",
        "###"
      ],
      "metadata": {
        "id": "sNLYN1qDUewt"
      },
      "execution_count": null,
      "outputs": []
    },
    {
      "cell_type": "code",
      "source": [
        "### Predicciones en Random Forest\n",
        "\n",
        "y_pred_test_rf =  RandomForest.predict(X_test, reduce = False)\n",
        "\n",
        "###"
      ],
      "metadata": {
        "id": "r9-357gpkMlm"
      },
      "execution_count": null,
      "outputs": []
    },
    {
      "cell_type": "markdown",
      "source": [
        "Una vez tenemos las predicciones, queremos ver cómo nos hubiera dado el error del modelo si únicamente hubieramos utilizado los primeros `m` árboles. "
      ],
      "metadata": {
        "id": "ZLaZa2kQViJi"
      }
    },
    {
      "cell_type": "code",
      "source": [
        "def mse_first_m_models(y_true, predictions, m):\n",
        "  \"\"\"\n",
        "  Calcula el MSE de cada modelo utilizando únicamente las primeras m predicciones.\n",
        "  \"\"\"\n",
        "\n",
        "  ### \n",
        "  # 1. Seleccione las primeras m predicciones y calcule el promedio\n",
        "  mth_avg_pred = predictions[:, :m].mean(axis = 1)\n",
        "\n",
        "  # 2. Calcule el MSE\n",
        "  mse = mean_squared_error(y_true, mth_avg_pred)\n",
        "\n",
        "  ###\n",
        "  return mse"
      ],
      "metadata": {
        "id": "syd_BJPTokFG"
      },
      "execution_count": null,
      "outputs": []
    },
    {
      "cell_type": "code",
      "source": [
        "n_trees = np.arange(1, 1000)"
      ],
      "metadata": {
        "id": "FtllKCf_okHW"
      },
      "execution_count": null,
      "outputs": []
    },
    {
      "cell_type": "code",
      "source": [
        "mse_list_rf = [mse_first_m_models(y_test, y_pred_test_rf, m) for m in n_trees]\n",
        "mse_list_bag = [mse_first_m_models(y_test, y_pred_test_bag, m) for m in n_trees]"
      ],
      "metadata": {
        "id": "w2tn2z7lpofb"
      },
      "execution_count": null,
      "outputs": []
    },
    {
      "cell_type": "code",
      "source": [],
      "metadata": {
        "id": "qSW0V6czqie4"
      },
      "execution_count": null,
      "outputs": []
    },
    {
      "cell_type": "code",
      "source": [
        "plt.figure(figsize = (10, 5))\n",
        "plt.plot(n_trees, mse_list_rf, label = 'Bagging (RF) MSE')\n",
        "plt.plot(n_trees, mse_list_bag, label = 'Bagging MSE')\n",
        "plt.legend()\n",
        "plt.xlabel('Number of Trees')\n",
        "plt.ylabel('MSE')\n",
        "plt.title('MSE vs Número de Árboles')\n",
        "plt.show()"
      ],
      "metadata": {
        "id": "2CzmsLRDpkks"
      },
      "execution_count": null,
      "outputs": []
    },
    {
      "cell_type": "code",
      "source": [
        "plt.figure(figsize = (10, 5))\n",
        "plt.plot(n_trees, mse_list_rf, label = 'Bagging (RF) MSE')\n",
        "plt.plot(n_trees, mse_list_bag, label = 'Bagging MSE')\n",
        "plt.legend()\n",
        "plt.xlabel('Number of Trees')\n",
        "plt.ylabel('MSE')\n",
        "plt.title('MSE vs Número de Árboles')\n",
        "plt.xlim(0, 100)\n",
        "plt.show()"
      ],
      "metadata": {
        "id": "gIQO8bsvvc6r"
      },
      "execution_count": null,
      "outputs": []
    },
    {
      "cell_type": "code",
      "source": [],
      "metadata": {
        "id": "rxIEZSi3dZhc"
      },
      "execution_count": null,
      "outputs": []
    }
  ]
}