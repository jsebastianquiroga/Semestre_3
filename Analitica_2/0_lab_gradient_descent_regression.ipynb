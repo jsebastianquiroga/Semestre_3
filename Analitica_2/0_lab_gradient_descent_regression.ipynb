{
  "cells": [
    {
      "cell_type": "markdown",
      "metadata": {
        "id": "GJbhWuN_XYrl"
      },
      "source": [
        "# Gradiente Descendente -- Regresión Lineal\n",
        "\n",
        "En el presente Notebook se realizará la implementación del Gradiente Descendente (Gradient Descent) para encontrar los coeficientes de una regresión lineal. La implementación se realizará a mano para facilitar la comprensión del proceso detrás del algoritmo de optimización. \n",
        "\n",
        "En la primera parte de este Notebook se realizará una representación gráfica del método del gradiente y su forma de operar. Posteriormente, la segunda sección mostrará cómo aplicarlo en la regresión lineal."
      ]
    },
    {
      "cell_type": "markdown",
      "metadata": {},
      "source": [
        "<table class=\"tfo-notebook-buttons\" align=\"center\">\n",
        "\n",
        "  <td>\n",
        "    <a target=\"_blank\" href=\"https://colab.research.google.com/github/juancop/metodos_analitica_2/blob/main/01_optimization/0_lab_gradient_descent_regression.ipynb\"><img src=\"https://colab.research.google.com/assets/colab-badge.svg\" /></a>\n",
        "  </td>\n",
        "  <td>\n",
        "    <a target=\"_blank\" href=\"https://github.com/juancop/metodos_analitica_2/blob/dev/01_optimization/0_lab_gradient_descent_regression.ipynb\"><img src=\"https://www.tensorflow.org/images/GitHub-Mark-32px.png\" /></a>\n",
        "  </td>\n",
        "  \n",
        "</table>"
      ]
    },
    {
      "cell_type": "code",
      "execution_count": 1,
      "metadata": {
        "id": "6a_qByB-W4bR"
      },
      "outputs": [],
      "source": [
        "import matplotlib.pyplot as plt\n",
        "import seaborn as sns\n",
        "import pandas as pd\n",
        "import numpy as np\n",
        "import imageio\n",
        "import os"
      ]
    },
    {
      "cell_type": "markdown",
      "metadata": {
        "id": "DXb1OXTpYJwP"
      },
      "source": [
        "## Parte 1 -- El Método del Gradiente\n",
        "\n",
        "Muchos algoritmos de Machine Learning requiren recurrir a un problema de optimización, en el cual se busca conseguir los coeficientes que minimicen el valor de una función de *pérdida*, $f(\\beta)$. A continuación se presentará el método del gradiente para encontrar el punto que genera el valor mínimo de una función convexa. \n",
        "\n",
        "**Nota:** Si el objetivo en algún problema es maximizar la función $f(\\beta)$, este puede reescribirse como un problema de minimización de $-f(\\beta)$.\n",
        "\n",
        "\n",
        "Supongamos que se tiene la función \n",
        "$$f(\\beta) = \\frac{1}{2} \\beta^2,$$\n",
        "\n",
        "con $\\beta \\in \\mathbb{R}$."
      ]
    },
    {
      "cell_type": "code",
      "execution_count": 2,
      "metadata": {
        "id": "TsVjrOuSYJCn"
      },
      "outputs": [],
      "source": [
        "def cost_function(beta):\n",
        "  return 1/2 * beta**2"
      ]
    },
    {
      "cell_type": "code",
      "execution_count": 3,
      "metadata": {
        "id": "CuOhLpoFZwxU"
      },
      "outputs": [],
      "source": [
        "beta_space = np.linspace(-5, 5)\n",
        "f_beta = cost_function(beta_space)\n",
        "\n",
        "min_y, max_y = min(f_beta), max(f_beta)\n",
        "min_x, max_x = min(beta_space), max(beta_space)"
      ]
    },
    {
      "cell_type": "code",
      "execution_count": 4,
      "metadata": {
        "colab": {
          "base_uri": "https://localhost:8080/",
          "height": 334
        },
        "id": "Y1dEmshnZ022",
        "outputId": "1ae306cb-8b4d-4fe7-d485-9d6b5f2ab07f"
      },
      "outputs": [
        {
          "data": {
            "image/png": "[encoded data removed]",
            "text/plain": [
              "<Figure size 720x360 with 1 Axes>"
            ]
          },
          "metadata": {
            "needs_background": "light"
          },
          "output_type": "display_data"
        }
      ],
      "source": [
        "plt.figure(figsize = (10, 5))\n",
        "plt.plot(beta_space, f_beta)\n",
        "plt.xlabel(\"Beta\")\n",
        "plt.ylabel(\"Cost\")\n",
        "plt.show()"
      ]
    },
    {
      "cell_type": "markdown",
      "metadata": {
        "id": "4rD8KY8ibnqC"
      },
      "source": [
        "El punto que minimiza (o maximiza) la función objetivo se puede denotar con, \n",
        "\n",
        "$$\\hat{\\beta} = \\operatorname{argmin} f(\\beta).$$\n",
        "\n",
        "Para encontrar este valor utilizando el método del gradiente descendente, necesitamos conocer el valor de la primera derivada de la función objetivo en un punto.\n",
        "\n",
        "Para el caso de la función planteada, \n",
        "\n",
        "$$f'(\\beta) = \\beta .$$\n",
        "\n",
        "La derivada aporta información de qué tan cerca (o lejos) estamos del mínimo de la función. \n",
        "\n",
        "- $f'(\\beta) > 0$: Nos encontramos a la derecha del mínimo\n",
        "- $f'(\\beta) < 0$: Nos encontramos a la izquierda del mínimo\n",
        "- $f'(\\beta) = 0$: ¡Llegamos al mínimo!"
      ]
    },
    {
      "cell_type": "code",
      "execution_count": 5,
      "metadata": {
        "id": "_YWxL0HYaDMt"
      },
      "outputs": [],
      "source": [
        "def primera_derivada(beta):\n",
        "  return beta\n",
        "\n",
        "def tangent_line(x, beta):\n",
        "  return primera_derivada(beta)*(x - beta) + cost_function(beta)"
      ]
    },
    {
      "cell_type": "markdown",
      "metadata": {
        "id": "sgW1nWCNdf3h"
      },
      "source": [
        "Suponiendo que tenemos un punto de partida $\\beta^{(t)}$, podemos utilizar la regla de actualización, \n",
        "\n",
        "$$\\beta^{(t+1)} := \\beta^{(t)} + \\alpha f'(\\beta^{(t)}).$$\n",
        "\n",
        "Esta regla de actualización debe ser utilizada hasta que se logre convergencia. \n"
      ]
    },
    {
      "cell_type": "code",
      "execution_count": 6,
      "metadata": {
        "id": "usvUnV-_dSPV"
      },
      "outputs": [],
      "source": [
        "beta_t = 4\n",
        "iters = 50\n",
        "lr = 0.5\n",
        "\n",
        "def plot_gradient(beta_space, f_beta, beta_t, plot_tangent = True, limit_axis = True):\n",
        "  \"\"\"\n",
        "  Esta función permite graficar la función de costo y la derivada en el punto. \n",
        "\n",
        "  \"\"\"\n",
        "  plt.plot(beta_space, f_beta, color = 'blue')\n",
        "  plt.plot(beta_t, cost_function(beta_t), marker=\"o\", markersize=10, color = 'red')\n",
        "  if plot_tangent:\n",
        "    plt.plot(beta_space, tangent_line(beta_space, beta_t))\n",
        "  plt.xlabel(\"Beta\")\n",
        "  plt.ylabel(\"Cost\")\n",
        "  if limit_axis:\n",
        "    plt.xlim(min_x, max_x)\n",
        "    plt.ylim(min_y, max_y)\n",
        "\n",
        "\n",
        "\n",
        "def plot_path(beta_next, beta_prev):\n",
        "  \"\"\"\n",
        "  Esta función permite graficar el camino de la actualización\n",
        "  \"\"\"\n",
        "  x = beta_prev\n",
        "  y = cost_function(beta_prev)\n",
        "\n",
        "  x2 = beta_next\n",
        "  y2 = cost_function(beta_next)\n",
        "\n",
        "  x_dx = x2 - x\n",
        "  y_dy = y2 - y\n",
        "\n",
        "  plt.arrow(x, y, x_dx, y_dy, head_width = 0.2)\n",
        "\n"
      ]
    },
    {
      "cell_type": "code",
      "execution_count": 7,
      "metadata": {
        "colab": {
          "base_uri": "https://localhost:8080/",
          "height": 334
        },
        "id": "xmiecteiieHu",
        "outputId": "cde080e2-a620-485c-9ab0-ed3eb87a4942"
      },
      "outputs": [
        {
          "data": {
            "image/png": "[encoded data removed]",
            "text/plain": [
              "<Figure size 720x360 with 1 Axes>"
            ]
          },
          "metadata": {
            "needs_background": "light"
          },
          "output_type": "display_data"
        }
      ],
      "source": [
        "plt.figure(figsize = (10, 5))\n",
        "plot_gradient(beta_space, f_beta, beta_t)\n",
        "plt.show()"
      ]
    },
    {
      "cell_type": "code",
      "execution_count": 8,
      "metadata": {
        "id": "a8468cE1qU7u"
      },
      "outputs": [],
      "source": [
        "if not os.path.isdir('gds_folder'):\n",
        "  os.mkdir('gds_folder')"
      ]
    },
    {
      "cell_type": "code",
      "execution_count": 9,
      "metadata": {
        "colab": {
          "base_uri": "https://localhost:8080/",
          "height": 297
        },
        "id": "kVN6eA_9gjSU",
        "outputId": "72d1f33e-d2a9-4033-ce72-0ae89c3b3ef0"
      },
      "outputs": [
        {
          "name": "stdout",
          "output_type": "stream",
          "text": [
            "Number of Iterations until convergence: 37\n"
          ]
        },
        {
          "data": {
            "image/png": "[encoded data removed]",
            "text/plain": [
              "<Figure size 432x288 with 1 Axes>"
            ]
          },
          "metadata": {
            "needs_background": "light"
          },
          "output_type": "display_data"
        }
      ],
      "source": [
        "\n",
        "for idx in range(iters):\n",
        "  _ = plot_gradient(beta_space, f_beta, beta_t, plot_tangent = False, limit_axis = True)\n",
        "  if idx > 0:\n",
        "    plot_path(beta_t, beta_prev)\n",
        "\n",
        "    if abs(beta_t - beta_prev) < 1e-10:\n",
        "      break\n",
        "\n",
        "  plt.savefig(f'gds_folder/{str(idx).zfill(len(str(iters)))}.png')\n",
        "  \n",
        "  # Artefacto para Gráfico\n",
        "  beta_prev = beta_t\n",
        "\n",
        "  # Regla de Actualización\n",
        "  beta_t = beta_t -  lr*primera_derivada(beta_t)\n",
        "\n",
        "  \n",
        "  \n",
        "print(f'Number of Iterations until convergence: {idx+1}')\n"
      ]
    },
    {
      "cell_type": "code",
      "execution_count": 10,
      "metadata": {
        "colab": {
          "base_uri": "https://localhost:8080/"
        },
        "id": "Kzb0zw59hj4S",
        "outputId": "12eed414-f770-4faa-9592-26427fe1c6db"
      },
      "outputs": [
        {
          "data": {
            "text/plain": [
              "0"
            ]
          },
          "execution_count": 10,
          "metadata": {},
          "output_type": "execute_result"
        }
      ],
      "source": [
        "with imageio.get_writer('gradient_descent.gif', mode='I') as writer:\n",
        "    for filename in [f'gds_folder/{str(idx).zfill(len(str(iters)))}.png' for idx in range(min(iters, idx))]:\n",
        "        image = imageio.imread(filename)\n",
        "        for _ in range(5):\n",
        "          writer.append_data(image)\n",
        "\n",
        "os.system(\"rm gds_folder/*\")"
      ]
    },
    {
      "cell_type": "markdown",
      "metadata": {
        "id": "RQmMUGEsvGxc"
      },
      "source": [
        "## Parte 2 -- Regresión\n",
        "\n",
        "A continuación buscaremos aplicar el método del gradiente para obtener los coeficientes de una regresión lineal. En este caso, lo que se busca es minimizar el error de predicción, medido como el Error Cuadrático Medio, en un conjunto de datos de diabetes. \n",
        "\n",
        "Nuestro interés es predecir el avance de la enfermedad dado un conjunto de variables como la edad, el sexo, ICM y presión en la sangre. Esta muestra corresponde a 442 individuos que participaron en un estudio. \n",
        "\n",
        "**Nota:** En este ejercicio omitimos train-test split. Se recomienda a los estudiantes realizarlo para tener el ejercicio completo."
      ]
    },
    {
      "cell_type": "code",
      "execution_count": 11,
      "metadata": {
        "id": "OU_bmHBTsNNF"
      },
      "outputs": [],
      "source": [
        "from sklearn.datasets import load_diabetes"
      ]
    },
    {
      "cell_type": "code",
      "execution_count": 12,
      "metadata": {
        "id": "S21ZtoGgv38H"
      },
      "outputs": [],
      "source": [
        "X, y = load_diabetes(return_X_y=True, as_frame=True)"
      ]
    },
    {
      "cell_type": "code",
      "execution_count": 13,
      "metadata": {
        "colab": {
          "base_uri": "https://localhost:8080/",
          "height": 206
        },
        "id": "SiziAltMv4Qi",
        "outputId": "c831c177-bf0e-413e-b428-2ca5afd70c88"
      },
      "outputs": [
        {
          "data": {
            "text/html": [
              "\n",
              "  <div id=\"df-a586bec5-4cd8-45ad-a50d-332e20149393\">\n",
              "    <div class=\"colab-df-container\">\n",
              "      <div>\n",
              "<style scoped>\n",
              "    .dataframe tbody tr th:only-of-type {\n",
              "        vertical-align: middle;\n",
              "    }\n",
              "\n",
              "    .dataframe tbody tr th {\n",
              "        vertical-align: top;\n",
              "    }\n",
              "\n",
              "    .dataframe thead th {\n",
              "        text-align: right;\n",
              "    }\n",
              "</style>\n",
              "<table border=\"1\" class=\"dataframe\">\n",
              "  <thead>\n",
              "    <tr style=\"text-align: right;\">\n",
              "      <th></th>\n",
              "      <th>age</th>\n",
              "      <th>sex</th>\n",
              "      <th>bmi</th>\n",
              "      <th>bp</th>\n",
              "      <th>s1</th>\n",
              "      <th>s2</th>\n",
              "      <th>s3</th>\n",
              "      <th>s4</th>\n",
              "      <th>s5</th>\n",
              "      <th>s6</th>\n",
              "    </tr>\n",
              "  </thead>\n",
              "  <tbody>\n",
              "    <tr>\n",
              "      <th>0</th>\n",
              "      <td>0.038076</td>\n",
              "      <td>0.050680</td>\n",
              "      <td>0.061696</td>\n",
              "      <td>0.021872</td>\n",
              "      <td>-0.044223</td>\n",
              "      <td>-0.034821</td>\n",
              "      <td>-0.043401</td>\n",
              "      <td>-0.002592</td>\n",
              "      <td>0.019908</td>\n",
              "      <td>-0.017646</td>\n",
              "    </tr>\n",
              "    <tr>\n",
              "      <th>1</th>\n",
              "      <td>-0.001882</td>\n",
              "      <td>-0.044642</td>\n",
              "      <td>-0.051474</td>\n",
              "      <td>-0.026328</td>\n",
              "      <td>-0.008449</td>\n",
              "      <td>-0.019163</td>\n",
              "      <td>0.074412</td>\n",
              "      <td>-0.039493</td>\n",
              "      <td>-0.068330</td>\n",
              "      <td>-0.092204</td>\n",
              "    </tr>\n",
              "    <tr>\n",
              "      <th>2</th>\n",
              "      <td>0.085299</td>\n",
              "      <td>0.050680</td>\n",
              "      <td>0.044451</td>\n",
              "      <td>-0.005671</td>\n",
              "      <td>-0.045599</td>\n",
              "      <td>-0.034194</td>\n",
              "      <td>-0.032356</td>\n",
              "      <td>-0.002592</td>\n",
              "      <td>0.002864</td>\n",
              "      <td>-0.025930</td>\n",
              "    </tr>\n",
              "    <tr>\n",
              "      <th>3</th>\n",
              "      <td>-0.089063</td>\n",
              "      <td>-0.044642</td>\n",
              "      <td>-0.011595</td>\n",
              "      <td>-0.036656</td>\n",
              "      <td>0.012191</td>\n",
              "      <td>0.024991</td>\n",
              "      <td>-0.036038</td>\n",
              "      <td>0.034309</td>\n",
              "      <td>0.022692</td>\n",
              "      <td>-0.009362</td>\n",
              "    </tr>\n",
              "    <tr>\n",
              "      <th>4</th>\n",
              "      <td>0.005383</td>\n",
              "      <td>-0.044642</td>\n",
              "      <td>-0.036385</td>\n",
              "      <td>0.021872</td>\n",
              "      <td>0.003935</td>\n",
              "      <td>0.015596</td>\n",
              "      <td>0.008142</td>\n",
              "      <td>-0.002592</td>\n",
              "      <td>-0.031991</td>\n",
              "      <td>-0.046641</td>\n",
              "    </tr>\n",
              "  </tbody>\n",
              "</table>\n",
              "</div>\n",
              "      <button class=\"colab-df-convert\" onclick=\"convertToInteractive('df-a586bec5-4cd8-45ad-a50d-332e20149393')\"\n",
              "              title=\"Convert this dataframe to an interactive table.\"\n",
              "              style=\"display:none;\">\n",
              "        \n",
              "  <svg xmlns=\"http://www.w3.org/2000/svg\" height=\"24px\"viewBox=\"0 0 24 24\"\n",
              "       width=\"24px\">\n",
              "    <path d=\"M0 0h24v24H0V0z\" fill=\"none\"/>\n",
              "    <path d=\"M18.56 5.44l.94 2.06.94-2.06 2.06-.94-2.06-.94-.94-2.06-.94 2.06-2.06.94zm-11 1L8.5 8.5l.94-2.06 2.06-.94-2.06-.94L8.5 2.5l-.94 2.06-2.06.94zm10 10l.94 2.06.94-2.06 2.06-.94-2.06-.94-.94-2.06-.94 2.06-2.06.94z\"/><path d=\"M17.41 7.96l-1.37-1.37c-.4-.4-.92-.59-1.43-.59-.52 0-1.04.2-1.43.59L10.3 9.45l-7.72 7.72c-.78.78-.78 2.05 0 2.83L4 21.41c.39.39.9.59 1.41.59.51 0 1.02-.2 1.41-.59l7.78-7.78 2.81-2.81c.8-.78.8-2.07 0-2.86zM5.41 20L4 18.59l7.72-7.72 1.47 1.35L5.41 20z\"/>\n",
              "  </svg>\n",
              "      </button>\n",
              "      \n",
              "  <style>\n",
              "    .colab-df-container {\n",
              "      display:flex;\n",
              "      flex-wrap:wrap;\n",
              "      gap: 12px;\n",
              "    }\n",
              "\n",
              "    .colab-df-convert {\n",
              "      background-color: #E8F0FE;\n",
              "      border: none;\n",
              "      border-radius: 50%;\n",
              "      cursor: pointer;\n",
              "      display: none;\n",
              "      fill: #1967D2;\n",
              "      height: 32px;\n",
              "      padding: 0 0 0 0;\n",
              "      width: 32px;\n",
              "    }\n",
              "\n",
              "    .colab-df-convert:hover {\n",
              "      background-color: #E2EBFA;\n",
              "      box-shadow: 0px 1px 2px rgba(60, 64, 67, 0.3), 0px 1px 3px 1px rgba(60, 64, 67, 0.15);\n",
              "      fill: #174EA6;\n",
              "    }\n",
              "\n",
              "    [theme=dark] .colab-df-convert {\n",
              "      background-color: #3B4455;\n",
              "      fill: #D2E3FC;\n",
              "    }\n",
              "\n",
              "    [theme=dark] .colab-df-convert:hover {\n",
              "      background-color: #434B5C;\n",
              "      box-shadow: 0px 1px 3px 1px rgba(0, 0, 0, 0.15);\n",
              "      filter: drop-shadow(0px 1px 2px rgba(0, 0, 0, 0.3));\n",
              "      fill: #FFFFFF;\n",
              "    }\n",
              "  </style>\n",
              "\n",
              "      <script>\n",
              "        const buttonEl =\n",
              "          document.querySelector('#df-a586bec5-4cd8-45ad-a50d-332e20149393 button.colab-df-convert');\n",
              "        buttonEl.style.display =\n",
              "          google.colab.kernel.accessAllowed ? 'block' : 'none';\n",
              "\n",
              "        async function convertToInteractive(key) {\n",
              "          const element = document.querySelector('#df-a586bec5-4cd8-45ad-a50d-332e20149393');\n",
              "          const dataTable =\n",
              "            await google.colab.kernel.invokeFunction('convertToInteractive',\n",
              "                                                     [key], {});\n",
              "          if (!dataTable) return;\n",
              "\n",
              "          const docLinkHtml = 'Like what you see? Visit the ' +\n",
              "            '<a target=\"_blank\" href=https://colab.research.google.com/notebooks/data_table.ipynb>data table notebook</a>'\n",
              "            + ' to learn more about interactive tables.';\n",
              "          element.innerHTML = '';\n",
              "          dataTable['output_type'] = 'display_data';\n",
              "          await google.colab.output.renderOutput(dataTable, element);\n",
              "          const docLink = document.createElement('div');\n",
              "          docLink.innerHTML = docLinkHtml;\n",
              "          element.appendChild(docLink);\n",
              "        }\n",
              "      </script>\n",
              "    </div>\n",
              "  </div>\n",
              "  "
            ],
            "text/plain": [
              "        age       sex       bmi        bp        s1        s2        s3  \\\n",
              "0  0.038076  0.050680  0.061696  0.021872 -0.044223 -0.034821 -0.043401   \n",
              "1 -0.001882 -0.044642 -0.051474 -0.026328 -0.008449 -0.019163  0.074412   \n",
              "2  0.085299  0.050680  0.044451 -0.005671 -0.045599 -0.034194 -0.032356   \n",
              "3 -0.089063 -0.044642 -0.011595 -0.036656  0.012191  0.024991 -0.036038   \n",
              "4  0.005383 -0.044642 -0.036385  0.021872  0.003935  0.015596  0.008142   \n",
              "\n",
              "         s4        s5        s6  \n",
              "0 -0.002592  0.019908 -0.017646  \n",
              "1 -0.039493 -0.068330 -0.092204  \n",
              "2 -0.002592  0.002864 -0.025930  \n",
              "3  0.034309  0.022692 -0.009362  \n",
              "4 -0.002592 -0.031991 -0.046641  "
            ]
          },
          "execution_count": 13,
          "metadata": {},
          "output_type": "execute_result"
        }
      ],
      "source": [
        "X.head()"
      ]
    },
    {
      "cell_type": "markdown",
      "metadata": {
        "id": "i3jT-eaP76Nj"
      },
      "source": [
        "A continuación presentamos la matriz de correlaciones para inspeccionar un poco los datos. En la matriz se puede observar que las medidas de sangre s1 y s2 tienen una correlación de 0.9, al igual que s3 y s4 que tienen -0.74. "
      ]
    },
    {
      "cell_type": "code",
      "execution_count": 14,
      "metadata": {
        "colab": {
          "base_uri": "https://localhost:8080/",
          "height": 487
        },
        "id": "JDY5ZQyf7EF9",
        "outputId": "c33e85ad-da7e-4074-f573-00e2768b7354"
      },
      "outputs": [
        {
          "data": {
            "image/png": "[encoded data removed]",
            "text/plain": [
              "<Figure size 576x576 with 2 Axes>"
            ]
          },
          "metadata": {
            "needs_background": "light"
          },
          "output_type": "display_data"
        }
      ],
      "source": [
        "corr = X.corr()\n",
        "plt.subplots(figsize=(8,8))\n",
        "sns.heatmap(corr,annot=True)\n",
        "plt.show()"
      ]
    },
    {
      "cell_type": "code",
      "execution_count": 15,
      "metadata": {
        "id": "PTxXWl1367p2"
      },
      "outputs": [],
      "source": [
        "X = X[['age', 'sex', 'bmi', 'bp', 's1', 's4', 's5', 's6']].copy()\n",
        "X['intercept'] = 1"
      ]
    },
    {
      "cell_type": "code",
      "execution_count": 16,
      "metadata": {
        "colab": {
          "base_uri": "https://localhost:8080/"
        },
        "id": "5JiDQ9ycv4ds",
        "outputId": "cb3e4ab1-3cba-4244-deaf-b59467654bb9"
      },
      "outputs": [
        {
          "data": {
            "text/plain": [
              "0    151.0\n",
              "1     75.0\n",
              "2    141.0\n",
              "3    206.0\n",
              "4    135.0\n",
              "Name: target, dtype: float64"
            ]
          },
          "execution_count": 16,
          "metadata": {},
          "output_type": "execute_result"
        }
      ],
      "source": [
        "y.head()"
      ]
    },
    {
      "cell_type": "code",
      "execution_count": 17,
      "metadata": {
        "id": "a4OMgFN40JBo"
      },
      "outputs": [],
      "source": [
        "y = y.values.reshape(-1, 1)\n",
        "X = X.values"
      ]
    },
    {
      "cell_type": "markdown",
      "metadata": {
        "id": "nEiE83xBwU2y"
      },
      "source": [
        "Tenemos un conjunto de 10 variables explicativas que utilizaremos para construir nuestro modelo. Este se puede representar como, \n",
        "\n",
        "$$y_i = x_i'\\beta + \\varepsilon_i, $$\n",
        "\n",
        "donde $x_i$ es un vector con las mediciones del estudio, $y_i$ es la medición del avance de la enfermedad, y $\\varepsilon$ es una perturbación. \n",
        "\n",
        "\n",
        "En este problema, la función de pérdida viene dada por el MSE como, \n",
        "\n",
        "$$L = MSE = \\sum_i^N \\varepsilon ^ 2$$\n",
        "\n",
        "$$L = MSE = \\sum_i^N (y_i - x_i'\\beta) ^ 2$$\n",
        "\n",
        "Y nuestro interés es minimizar la función de pérdida $L(\\beta)$, encontrando $\\hat{\\beta} = \\operatorname{arg}  \\operatorname{arg} L(\\beta)$. \n",
        "\n",
        "\n",
        "En clase se vio que la regla de actualización para la regresión lineal viene dada por, \n",
        "\n",
        "$$\\beta_k := \\beta_k + \\delta \\sum_{i = 1}^N (y_i - x_i'\\beta_k)x_{ik}$$\n",
        "\n",
        "Esta ecuación es válida para cada uno de los $K$ coeficientes (incluido el intercepto)."
      ]
    },
    {
      "cell_type": "markdown",
      "metadata": {
        "id": "Jg2c8gmhyYJ3"
      },
      "source": [
        "### Paso 1. Definir Vector de Partida\n",
        "\n",
        "Debemos definir cuál va a ser el punto inicial para comenzar la optimización. Como la función tiene un mínimo global, no importa dónde empecemos. "
      ]
    },
    {
      "cell_type": "code",
      "execution_count": 18,
      "metadata": {
        "id": "vpFU1JiEv-aF"
      },
      "outputs": [],
      "source": [
        "N, K = X.shape # X (N x k)"
      ]
    },
    {
      "cell_type": "code",
      "execution_count": 19,
      "metadata": {
        "id": "A2fJrB2QyzWu"
      },
      "outputs": [],
      "source": [
        "beta_j = 10*np.random.normal(size = (K, 1)) # (k x 1)"
      ]
    },
    {
      "cell_type": "code",
      "execution_count": 20,
      "metadata": {
        "colab": {
          "base_uri": "https://localhost:8080/"
        },
        "id": "9RxSwPXL054U",
        "outputId": "4991c6bb-e42f-436a-9dbd-e8d821a4b3e2"
      },
      "outputs": [
        {
          "data": {
            "text/plain": [
              "array([[ 8.46270609],\n",
              "       [ 1.2760519 ],\n",
              "       [-0.05525062],\n",
              "       [-1.72223983],\n",
              "       [-0.08472075],\n",
              "       [-3.1705083 ],\n",
              "       [ 6.50664716],\n",
              "       [ 8.4258672 ],\n",
              "       [12.68753395]])"
            ]
          },
          "execution_count": 20,
          "metadata": {},
          "output_type": "execute_result"
        }
      ],
      "source": [
        "beta_j"
      ]
    },
    {
      "cell_type": "markdown",
      "metadata": {
        "id": "0QfY81yrzV83"
      },
      "source": [
        "### Paso 2. Definir Tasa de Aprendizaje\n",
        "Debemos escoger cuál va a ser la tasa de aprendizaje del modelo, $\\delta$. Además, se debe definir el número máximo de iteraciones que vamos a permitir realizar. "
      ]
    },
    {
      "cell_type": "code",
      "execution_count": 21,
      "metadata": {
        "id": "PjxEXHgczGKz"
      },
      "outputs": [],
      "source": [
        "lr = 0.1\n",
        "max_iter = 100000"
      ]
    },
    {
      "cell_type": "markdown",
      "metadata": {
        "id": "fSlQrXi1zpzE"
      },
      "source": [
        "### Paso 3. Programar la Regla de Actualización"
      ]
    },
    {
      "cell_type": "code",
      "execution_count": 22,
      "metadata": {
        "id": "BUtnhUuRzng8"
      },
      "outputs": [],
      "source": [
        "for idx in range(max_iter):\n",
        "  error_vector = (y - np.dot(X, beta_j))\n",
        "\n",
        "  if idx > 0:\n",
        "    \n",
        "    if np.linalg.norm(beta_prev - beta_j) < 1e-5:\n",
        "        break\n",
        "\n",
        "  beta_prev = beta_j\n",
        "  beta_j = beta_j + lr*2/N * np.dot(X.T, error_vector)"
      ]
    },
    {
      "cell_type": "code",
      "execution_count": 23,
      "metadata": {
        "colab": {
          "base_uri": "https://localhost:8080/"
        },
        "id": "jWCfYhyU4-WA",
        "outputId": "e4116e9e-1b6b-456f-dee8-4d68375186cf"
      },
      "outputs": [
        {
          "data": {
            "text/plain": [
              "array([[  -6.98498346],\n",
              "       [-229.52059637],\n",
              "       [ 538.46972003],\n",
              "       [ 323.62412418],\n",
              "       [-310.16462492],\n",
              "       [ 270.94624717],\n",
              "       [ 545.83907898],\n",
              "       [  67.80550955],\n",
              "       [ 152.13348416]])"
            ]
          },
          "execution_count": 23,
          "metadata": {},
          "output_type": "execute_result"
        }
      ],
      "source": [
        "beta_j"
      ]
    },
    {
      "cell_type": "markdown",
      "metadata": {
        "id": "L30cRazN-Jv5"
      },
      "source": [
        "En este punto, ya se tiene un vector de coeficientes estimados que optimizan la función de pérdida (el error). Podemos comparar los resultados de esta estimación utilizando la solución analítica cerrada del problema. "
      ]
    },
    {
      "cell_type": "code",
      "execution_count": 24,
      "metadata": {
        "id": "NCEqpXw32FAl"
      },
      "outputs": [],
      "source": [
        "from sklearn.linear_model import LinearRegression\n",
        "lm = LinearRegression(fit_intercept = False)"
      ]
    },
    {
      "cell_type": "code",
      "execution_count": 25,
      "metadata": {
        "colab": {
          "base_uri": "https://localhost:8080/"
        },
        "id": "mpyhqBpv2Lh2",
        "outputId": "a72fdbb4-1a29-457a-e22d-0c11d6402f74"
      },
      "outputs": [
        {
          "data": {
            "text/plain": [
              "LinearRegression(fit_intercept=False)"
            ]
          },
          "execution_count": 25,
          "metadata": {},
          "output_type": "execute_result"
        }
      ],
      "source": [
        "lm.fit(X, y, )"
      ]
    },
    {
      "cell_type": "code",
      "execution_count": 26,
      "metadata": {
        "colab": {
          "base_uri": "https://localhost:8080/"
        },
        "id": "NDRaiIo42OHu",
        "outputId": "c7227931-40b7-477d-eeaf-fe517ce02dd2"
      },
      "outputs": [
        {
          "data": {
            "text/plain": [
              "array([[  -6.97933266, -229.5455731 ,  538.45278689,  323.6414046 ,\n",
              "        -310.19284161,  271.00067226,  545.81849785,   67.80433269,\n",
              "         152.13348416]])"
            ]
          },
          "execution_count": 26,
          "metadata": {},
          "output_type": "execute_result"
        }
      ],
      "source": [
        "lm.coef_"
      ]
    },
    {
      "cell_type": "code",
      "execution_count": 27,
      "metadata": {
        "id": "PCVhrAf52tze"
      },
      "outputs": [],
      "source": [
        "from numpy.linalg import multi_dot"
      ]
    },
    {
      "cell_type": "code",
      "execution_count": 28,
      "metadata": {
        "id": "BoZAVPQb2Rn9"
      },
      "outputs": [],
      "source": [
        "B = multi_dot([np.linalg.inv(np.dot(X.T, X)), X.T, y])"
      ]
    },
    {
      "cell_type": "code",
      "execution_count": 29,
      "metadata": {
        "colab": {
          "base_uri": "https://localhost:8080/"
        },
        "id": "fm61UU5e2zBn",
        "outputId": "2cece951-3c59-48af-9cbd-0a833ecae3cb"
      },
      "outputs": [
        {
          "data": {
            "text/plain": [
              "array([[  -6.97933266],\n",
              "       [-229.5455731 ],\n",
              "       [ 538.45278689],\n",
              "       [ 323.6414046 ],\n",
              "       [-310.19284161],\n",
              "       [ 271.00067226],\n",
              "       [ 545.81849785],\n",
              "       [  67.80433269],\n",
              "       [ 152.13348416]])"
            ]
          },
          "execution_count": 29,
          "metadata": {},
          "output_type": "execute_result"
        }
      ],
      "source": [
        "B"
      ]
    },
    {
      "cell_type": "code",
      "execution_count": 29,
      "metadata": {
        "id": "5pvvsCqB9Y8b"
      },
      "outputs": [],
      "source": []
    }
  ],
  "metadata": {
    "colab": {
      "provenance": []
    },
    "kernelspec": {
      "display_name": "Python 3",
      "name": "python3"
    },
    "language_info": {
      "name": "python"
    }
  },
  "nbformat": 4,
  "nbformat_minor": 0
}
