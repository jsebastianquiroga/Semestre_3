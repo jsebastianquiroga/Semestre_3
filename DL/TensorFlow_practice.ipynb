{
  "nbformat": 4,
  "nbformat_minor": 0,
  "metadata": {
    "colab": {
      "provenance": [],
      "collapsed_sections": [
        "m4cmOojch_to",
        "gKiIShYiXv1C",
        "ydlq9_vRaUdQ",
        "yfxtbQ_2ZrWL"
      ],
      "include_colab_link": true
    },
    "kernelspec": {
      "name": "python3",
      "display_name": "Python 3"
    },
    "language_info": {
      "name": "python"
    }
  },
  "cells": [
    {
      "cell_type": "markdown",
      "metadata": {
        "id": "view-in-github",
        "colab_type": "text"
      },
      "source": [
        "<a href=\"https://colab.research.google.com/github/jsebastianquiroga/Semestre_3/blob/main/DL/TensorFlow_practice.ipynb\" target=\"_parent\"><img src=\"https://colab.research.google.com/assets/colab-badge.svg\" alt=\"Open In Colab\"/></a>"
      ]
    },
    {
      "cell_type": "code",
      "source": [
        "# import tensorflow as tf\n",
        "import tensorflow.compat.v1 as tf"
      ],
      "metadata": {
        "id": "hIfzJys6s1Yn"
      },
      "execution_count": 4,
      "outputs": []
    },
    {
      "cell_type": "code",
      "source": [
        "#crea un objeto de sesión de TensorFlow que se utiliza para ejecutar los gráficos de TensorFlow.\n",
        "with tf.Session():\n",
        "\n",
        "  x = tf.constant([[5,6],[7,8]]) #define un tensor constante de 2x2, denominado x, con los valores [[5, 6], [7, 8]].\n",
        "  z = tf.matmul(x, x) + tf.matmul(x, [[1,0], [0,1]]) #para realizar una multiplicación de matrices en el tensor x consigo mismo, y luego otra multiplicación de matrices con la matriz [1, 0] y [0, 1]. El resultado se almacena en el tensor z\n",
        "\n",
        "  results = z.eval() # devuelve el resultado de la operación de multiplicación de matrices."
      ],
      "metadata": {
        "id": "fTuLuhHqs5qH"
      },
      "execution_count": 7,
      "outputs": []
    },
    {
      "cell_type": "code",
      "source": [
        "results"
      ],
      "metadata": {
        "id": "2EfsYvo3t9EP",
        "outputId": "2e70a5a4-1aa9-48ca-be5c-5a8288681aa6",
        "colab": {
          "base_uri": "https://localhost:8080/"
        }
      },
      "execution_count": 8,
      "outputs": [
        {
          "output_type": "execute_result",
          "data": {
            "text/plain": [
              "array([[ 72,  84],\n",
              "       [ 98, 114]], dtype=int32)"
            ]
          },
          "metadata": {},
          "execution_count": 8
        }
      ]
    },
    {
      "cell_type": "code",
      "source": [],
      "metadata": {
        "id": "ULH8RxX0ub_t"
      },
      "execution_count": null,
      "outputs": []
    }
  ]
}