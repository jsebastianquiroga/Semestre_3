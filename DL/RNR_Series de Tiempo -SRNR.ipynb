{
  "cells": [
    {
      "cell_type": "markdown",
      "metadata": {
        "id": "view-in-github",
        "colab_type": "text"
      },
      "source": [
        "<a href=\"https://colab.research.google.com/github/jsebastianquiroga/analitica_ia_puj/blob/main/DL/RNR_Series%20de%20Tiempo%20-SRNR.ipynb\" target=\"_parent\"><img src=\"https://colab.research.google.com/assets/colab-badge.svg\" alt=\"Open In Colab\"/></a>"
      ]
    },
    {
      "cell_type": "markdown",
      "source": [
        "# Redes Recurrentes:\n",
        "\n",
        "\n",
        "Las redes recurrentes son un tipo de arquitectura de redes neuronales diseñadas para modelar datos secuenciales o temporales. A diferencia de las redes neuronales convencionales, las redes recurrentes pueden capturar la dependencia a largo plazo en una secuencia al utilizar conexiones recurrentes que permiten a la red mantener y actualizar información a lo largo del tiempo. Esta capacidad las hace especialmente adecuadas para tareas que implican secuencias de datos, como el procesamiento del lenguaje natural, la traducción automática, el reconocimiento de voz y la generación de texto.\n",
        "\n",
        "En una red recurrente, las unidades de procesamiento, llamadas celdas recurrentes, tienen una estructura interna que les permite mantener y propagar información a través de diferentes pasos de tiempo. Cada celda recurrente toma una entrada en el momento actual y también recibe información de su estado interno anterior. Esto le permite a la red aprender patrones y dependencias a largo plazo en la secuencia de datos.\n",
        "\n",
        "A lo largo de los años, han surgido diferentes variantes de redes recurrentes, como las LSTM (Long Short-Term Memory) y las GRU (Gated Recurrent Units), que han mejorado el rendimiento en tareas de modelado de secuencias al abordar el problema del desvanecimiento de gradientes y permitir un mejor control de la información almacenada en la red.\n",
        "\n",
        "En resumen, las redes recurrentes son una poderosa herramienta para modelar datos secuenciales y capturar patrones a largo plazo en secuencias. Su capacidad para procesar información temporal las hace ampliamente utilizadas en diversas aplicaciones de procesamiento de secuencias y han demostrado un gran éxito en el campo del aprendizaje automático.\n"
      ],
      "metadata": {
        "id": "ioKJmTPz7ZPb"
      },
      "id": "ioKJmTPz7ZPb"
    },
    {
      "cell_type": "code",
      "source": [
        "import numpy as np\n",
        "import matplotlib.pyplot as plt\n",
        "import pandas as pd\n",
        "\n",
        "# Conexion a gdrive\n",
        "from pydrive.auth import GoogleAuth\n",
        "from google.colab import drive\n",
        "from pydrive.drive import GoogleDrive\n",
        "from google.colab import auth\n",
        "\n",
        "from oauth2client.client import GoogleCredentials \n",
        "auth.authenticate_user()\n",
        "gauth = GoogleAuth()\n",
        "gauth.credentials = GoogleCredentials.get_application_default()\n",
        "drive = GoogleDrive(gauth)"
      ],
      "metadata": {
        "id": "PwJgtTH77wxh"
      },
      "id": "PwJgtTH77wxh",
      "execution_count": 37,
      "outputs": []
    },
    {
      "cell_type": "code",
      "source": [
        "stock = '1AZeSNFjcr0AzrAUlAqukxVvLERRfJBPs' \n",
        "download = drive.CreateFile({'id': stock}) \n",
        "download.GetContentFile('Google_Stock_Price_Train.csv')\n",
        "\n",
        "\n",
        "dataset_train = pd.read_csv(\"Google_Stock_Price_Train.csv\")\n",
        "\n",
        "training_set = dataset_train.iloc[:, 1:2].values #solamente valores de apertura\n",
        "\n",
        "training_set[:5]"
      ],
      "metadata": {
        "id": "XkW2XgtV78HA",
        "outputId": "b0d739c6-6595-4b77-8ea0-071b8b929168",
        "colab": {
          "base_uri": "https://localhost:8080/"
        }
      },
      "id": "XkW2XgtV78HA",
      "execution_count": 38,
      "outputs": [
        {
          "output_type": "execute_result",
          "data": {
            "text/plain": [
              "array([[325.25],\n",
              "       [331.27],\n",
              "       [329.83],\n",
              "       [328.34],\n",
              "       [322.04]])"
            ]
          },
          "metadata": {},
          "execution_count": 38
        }
      ]
    },
    {
      "cell_type": "markdown",
      "id": "47491ba7",
      "metadata": {
        "id": "47491ba7"
      },
      "source": [
        "# Escalado de características\n",
        "\n",
        " Se importa la clase 'MinMaxScaler' que se utilizará para llevar los valores de las características a un rango específico, en este caso, el rango entre 0 y 1.\n",
        "\n",
        "Se crea una instancia de 'MinMaxScaler' llamada 'sc' y se especifica el rango de escala deseado. Luego, se aplica la función 'fit_transform' de 'sc' al conjunto de datos de entrenamiento ('training_set'). Esta función ajusta el escalador a los datos de entrenamiento y, al mismo tiempo, transforma los valores del conjunto de datos utilizando la escala especificada.\n",
        "\n",
        "El conjunto de datos escalado se guarda en la variable 'training_set_scaled' y se utilizará posteriormente en el proceso de entrenamiento del modelo. La escalación de características es una técnica comúnmente utilizada para normalizar los datos y garantizar que todas las características tengan un rango comparable, lo que puede mejorar el rendimiento de los algoritmos de aprendizaje automático."
      ]
    },
    {
      "cell_type": "code",
      "execution_count": 39,
      "id": "f3ea58d2",
      "metadata": {
        "id": "f3ea58d2"
      },
      "outputs": [],
      "source": [
        "from sklearn.preprocessing import MinMaxScaler\n",
        "sc = MinMaxScaler(feature_range = (0, 1))\n",
        "training_set_scaled = sc.fit_transform(training_set)"
      ]
    },
    {
      "cell_type": "code",
      "execution_count": 40,
      "id": "3711c9ad",
      "metadata": {
        "id": "3711c9ad",
        "outputId": "9f167c2c-2f99-4dae-88a0-3cb3e64b5ca2",
        "colab": {
          "base_uri": "https://localhost:8080/"
        }
      },
      "outputs": [
        {
          "output_type": "execute_result",
          "data": {
            "text/plain": [
              "array([[0.08581368],\n",
              "       [0.09701243],\n",
              "       [0.09433366],\n",
              "       [0.09156187],\n",
              "       [0.07984225]])"
            ]
          },
          "metadata": {},
          "execution_count": 40
        }
      ],
      "source": [
        "training_set_scaled[:5]"
      ]
    },
    {
      "cell_type": "markdown",
      "id": "3855b0d6",
      "metadata": {
        "id": "3855b0d6"
      },
      "source": [
        "<ul>\n",
        "  <li>Se especifica el número de pasos hacia atrás que se utilizarán en la secuencia de tiempo utilizando la variable pasos_atras.</li>\n",
        "  <li>Se obtiene el número de datos en el conjunto de entrenamiento utilizando la propiedad shape del arreglo training_set_scaled.</li>\n",
        "  <li>Se inicializan las listas X_train y y_train para almacenar las secuencias de entrada y las etiquetas de salida, respectivamente.</li>\n",
        "  <li>Se itera a través de los datos desde pasos_atras hasta n_datos, y se van agregando las secuencias de datos anteriores como entrada en X_train y el dato siguiente como etiqueta de salida en y_train.</li>\n",
        "  <li>Se convierten las listas X_train y y_train a matrices numpy utilizando la función np.array().</li>\n",
        "  <li>Se realiza una transformación en la forma de los datos de entrada utilizando la función np.reshape(), de modo que X_train tenga una forma tridimensional necesaria para un modelo de red neuronal recurrente.</li>\n",
        "  <li>Se convierte la matriz X_train en una cadena de texto con formato utilizando la función np.array2string(), especificando el formato de los números y el separador de columnas.</li>\n",
        "  <li>Se imprime la cadena resultante.</li>\n",
        "</ul>"
      ]
    },
    {
      "cell_type": "code",
      "execution_count": 41,
      "id": "76e936e1",
      "metadata": {
        "id": "76e936e1",
        "outputId": "ce3df2de-4ceb-4ce8-ac0a-abd263b84c97",
        "colab": {
          "base_uri": "https://localhost:8080/",
          "height": 35
        }
      },
      "outputs": [
        {
          "output_type": "execute_result",
          "data": {
            "text/plain": [
              "'[[0.0'"
            ],
            "application/vnd.google.colaboratory.intrinsic+json": {
              "type": "string"
            }
          },
          "metadata": {},
          "execution_count": 41
        }
      ],
      "source": [
        "# Se especifica el número de pasos hacia atrás que se utilizarán en la secuencia de tiempo\n",
        "pasos_atras = 3\n",
        "\n",
        "# Se obtiene el número de datos en el conjunto de entrenamiento\n",
        "n_datos = training_set_scaled.shape[0]\n",
        "\n",
        "# Se inicializan las listas para almacenar las secuencias de entrada (X_train) y las etiquetas de salida (y_train)\n",
        "X_train = []\n",
        "y_train = []\n",
        "\n",
        "# Se itera a través de los datos desde 'pasos_atras' hasta 'n_datos'\n",
        "for i in range(pasos_atras, n_datos):\n",
        "    # Se añaden las secuencias de 'pasos_atras' datos anteriores como entrada\n",
        "    X_train.append(training_set_scaled[i-pasos_atras:i, 0])\n",
        "    # Se añade el dato siguiente como etiqueta de salida\n",
        "    y_train.append(training_set_scaled[i, 0])\n",
        "\n",
        "# Se convierten las listas a matrices numpy\n",
        "X_train, y_train = np.array(X_train), np.array(y_train)\n",
        "\n",
        "# Se realiza una transformación en la forma de los datos de entrada\n",
        "X_train = np.reshape(X_train, (X_train.shape[0], X_train.shape[1], 1))\n",
        "\n",
        "\n",
        "# Se convierte la matriz X_train a una cadena de texto con formato\n",
        "import os\n",
        "cadena = np.array2string(X_train.squeeze(), formatter={'float_kind': lambda x: \"{:.3f}\".format(x)}, separator='\\t', threshold=np.inf)\n",
        "\n",
        "# Se imprime la cadena resultante\n",
        "cadena[:5]\n"
      ]
    },
    {
      "cell_type": "markdown",
      "id": "17c9b577",
      "metadata": {
        "id": "17c9b577"
      },
      "source": [
        "# Conjunto de pruebas\n",
        "\n",
        "Se carga el dataset de prueba"
      ]
    },
    {
      "cell_type": "code",
      "execution_count": 42,
      "id": "2a3df01a",
      "metadata": {
        "id": "2a3df01a",
        "outputId": "179f477d-3fd1-4a9f-c868-a5a15283d684",
        "colab": {
          "base_uri": "https://localhost:8080/"
        }
      },
      "outputs": [
        {
          "output_type": "execute_result",
          "data": {
            "text/plain": [
              "array([[778.81],\n",
              "       [788.36],\n",
              "       [786.08],\n",
              "       [795.26],\n",
              "       [806.4 ]])"
            ]
          },
          "metadata": {},
          "execution_count": 42
        }
      ],
      "source": [
        "stock_t = '1d2nu1LsbUG8pnGo50XkvH1s9GiOkcv1G' \n",
        "download = drive.CreateFile({'id': stock_t}) \n",
        "download.GetContentFile('Google_Stock_Price_Test.csv')\n",
        "\n",
        "dataset_test = pd.read_csv('Google_Stock_Price_Test.csv')\n",
        "real_stock_price = dataset_test.iloc[:, 1:2].values\n",
        "\n",
        "real_stock_price[:5]"
      ]
    },
    {
      "cell_type": "markdown",
      "id": "02688eff",
      "metadata": {
        "id": "02688eff"
      },
      "source": [
        "# Modelo 1: Construccion RNR\n",
        "\n",
        "el modelo secuencial de Keras para construir una arquitectura de red. Esta red tiene como objetivo resolver un problema de regresión, ya que la variable objetivo tiene un solo valor numérico.\n",
        "\n",
        "La arquitectura de la red consta de varias capas de neuronas recurrentes simples (SimpleRNN) que tienen activación tangente hiperbólica (tanh). Estas capas están diseñadas para mantener la secuencialidad de los datos de entrada, lo que es importante para trabajar con secuencias de tiempo. Cada capa utiliza dropout para regularizar la red y evitar el sobreajuste.\n",
        "\n",
        "La red se compila utilizando la función de pérdida de error cuadrático medio (mean_squared_error) y el optimizador Adam. Además de la métrica predeterminada de precisión (acc), también se utiliza la métrica de error cuadrático medio (mse) para evaluar el rendimiento del modelo.\n",
        "\n",
        "Se entrena la red utilizando un número específico de épocas y un tamaño de lote (batch_size). Se registra el tiempo de entrenamiento y se imprime al finalizar.\n",
        "\n",
        "Esta red neuronal recurrente se utiliza para modelar y predecir datos secuenciales, y su rendimiento se evalúa en función de la pérdida y las métricas de precisión y error cuadrático medio."
      ]
    },
    {
      "cell_type": "code",
      "execution_count": 43,
      "id": "02ba5b13",
      "metadata": {
        "id": "02ba5b13",
        "outputId": "1b1d2fa3-e0c1-41ac-9836-3bf65c14deb1",
        "colab": {
          "base_uri": "https://localhost:8080/"
        }
      },
      "outputs": [
        {
          "output_type": "stream",
          "name": "stdout",
          "text": [
            "Model: \"sequential_3\"\n",
            "_________________________________________________________________\n",
            " Layer (type)                Output Shape              Param #   \n",
            "=================================================================\n",
            " simple_rnn_4 (SimpleRNN)    (None, 3, 50)             2600      \n",
            "                                                                 \n",
            " simple_rnn_5 (SimpleRNN)    (None, 3, 50)             5050      \n",
            "                                                                 \n",
            " simple_rnn_6 (SimpleRNN)    (None, 3, 50)             5050      \n",
            "                                                                 \n",
            " simple_rnn_7 (SimpleRNN)    (None, 50)                5050      \n",
            "                                                                 \n",
            " dense_2 (Dense)             (None, 1)                 51        \n",
            "                                                                 \n",
            "=================================================================\n",
            "Total params: 17,801\n",
            "Trainable params: 17,801\n",
            "Non-trainable params: 0\n",
            "_________________________________________________________________\n"
          ]
        }
      ],
      "source": [
        "from keras.models import Sequential\n",
        "from keras.layers import Dense\n",
        "from keras.layers import SimpleRNN\n",
        "from keras.layers import Dropout\n",
        "\n",
        "# Crear un modelo secuencial\n",
        "red = Sequential()\n",
        "\n",
        "# Definir el número de clases objetivo\n",
        "numero_clases = 1\n",
        "\n",
        "# Capa 1: SimpleRNN\n",
        "capa_1 = SimpleRNN(50, \n",
        "                   activation=\"tanh\",\n",
        "                   use_bias=True,\n",
        "                   dropout=0.2, \n",
        "                   recurrent_dropout=0.2, \n",
        "                   return_sequences=True,\n",
        "                   input_shape=(X_train.shape[1], 1))\n",
        "\n",
        "# Capa 2: SimpleRNN\n",
        "capa_2 = SimpleRNN(50, \n",
        "                   activation=\"tanh\",\n",
        "                   use_bias=True,\n",
        "                   dropout=0.2, \n",
        "                   recurrent_dropout=0.2, \n",
        "                   return_sequences=True)\n",
        "\n",
        "# Capa 3: SimpleRNN\n",
        "capa_3 = SimpleRNN(50, \n",
        "                   activation=\"tanh\",\n",
        "                   use_bias=True,\n",
        "                   dropout=0.2, \n",
        "                   recurrent_dropout=0.2, \n",
        "                   return_sequences=True)\n",
        "\n",
        "# Capa 4: SimpleRNN\n",
        "capa_4 = SimpleRNN(50, \n",
        "                   activation=\"tanh\",\n",
        "                   use_bias=True,\n",
        "                   dropout=0.2, \n",
        "                   recurrent_dropout=0.2)\n",
        "\n",
        "# Capa 5: Dense\n",
        "capa_5 = Dense(numero_clases,\n",
        "               use_bias=True,\n",
        "               activation='relu')\n",
        "\n",
        "# Agregar las capas al modelo\n",
        "red.add(capa_1)\n",
        "red.add(capa_2)\n",
        "red.add(capa_3)\n",
        "red.add(capa_4)\n",
        "red.add(capa_5)\n",
        "\n",
        "# Compilar el modelo\n",
        "red.compile(loss='mean_squared_error', \n",
        "            optimizer='adam', \n",
        "            metrics=['acc', 'mse'])\n",
        "\n",
        "# Mostrar un resumen del modelo\n",
        "red.summary()\n"
      ]
    },
    {
      "cell_type": "markdown",
      "source": [
        "El código muestra cómo se define una red neuronal recurrente (RNN) utilizando el modelo secuencial de Keras. La red consta de varias capas de SimpleRNN, que son capas recurrentes que mantienen la secuencialidad de los datos de entrada. Cada capa tiene una función de activación tangente hiperbólica (tanh) y se utiliza dropout para regularizar la red y evitar el sobreajuste.\n",
        "\n",
        "Se agrega una capa Dense final para la salida de la red, con una activación ReLU. El modelo se compila con la función de pérdida de error cuadrático medio (mean_squared_error), el optimizador Adam y se especifican las métricas de precisión (acc) y error cuadrático medio (mse) para evaluar el rendimiento del modelo.\n",
        "\n",
        "Finalmente, se muestra un resumen del modelo que muestra la estructura de la red, el número de parámetros entrenables y otras estadísticas relevantes."
      ],
      "metadata": {
        "id": "udh78nLlBK66"
      },
      "id": "udh78nLlBK66"
    },
    {
      "cell_type": "code",
      "execution_count": 44,
      "id": "5ee4641c",
      "metadata": {
        "id": "5ee4641c",
        "outputId": "12b0d2b9-6577-406d-818f-cf0c408bf494",
        "colab": {
          "base_uri": "https://localhost:8080/"
        }
      },
      "outputs": [
        {
          "output_type": "stream",
          "name": "stdout",
          "text": [
            "Epoch 1/100\n",
            "40/40 [==============================] - 7s 11ms/step - loss: 0.1318 - acc: 0.0016 - mse: 0.1318\n",
            "Epoch 2/100\n",
            "40/40 [==============================] - 1s 12ms/step - loss: 0.0597 - acc: 7.9681e-04 - mse: 0.0597\n",
            "Epoch 3/100\n",
            "40/40 [==============================] - 0s 11ms/step - loss: 0.0398 - acc: 0.0016 - mse: 0.0398\n",
            "Epoch 4/100\n",
            "40/40 [==============================] - 0s 11ms/step - loss: 0.0316 - acc: 0.0016 - mse: 0.0316\n",
            "Epoch 5/100\n",
            "40/40 [==============================] - 0s 12ms/step - loss: 0.0269 - acc: 0.0016 - mse: 0.0269\n",
            "Epoch 6/100\n",
            "40/40 [==============================] - 0s 11ms/step - loss: 0.0223 - acc: 0.0016 - mse: 0.0223\n",
            "Epoch 7/100\n",
            "40/40 [==============================] - 0s 11ms/step - loss: 0.0225 - acc: 7.9681e-04 - mse: 0.0225\n",
            "Epoch 8/100\n",
            "40/40 [==============================] - 0s 11ms/step - loss: 0.0179 - acc: 0.0016 - mse: 0.0179\n",
            "Epoch 9/100\n",
            "40/40 [==============================] - 0s 11ms/step - loss: 0.0179 - acc: 0.0016 - mse: 0.0179\n",
            "Epoch 10/100\n",
            "40/40 [==============================] - 0s 11ms/step - loss: 0.0165 - acc: 0.0016 - mse: 0.0165\n",
            "Epoch 11/100\n",
            "40/40 [==============================] - 0s 11ms/step - loss: 0.0199 - acc: 0.0016 - mse: 0.0199\n",
            "Epoch 12/100\n",
            "40/40 [==============================] - 0s 10ms/step - loss: 0.0197 - acc: 0.0016 - mse: 0.0197\n",
            "Epoch 13/100\n",
            "40/40 [==============================] - 0s 11ms/step - loss: 0.0185 - acc: 0.0016 - mse: 0.0185\n",
            "Epoch 14/100\n",
            "40/40 [==============================] - 1s 16ms/step - loss: 0.0168 - acc: 0.0016 - mse: 0.0168\n",
            "Epoch 15/100\n",
            "40/40 [==============================] - 1s 16ms/step - loss: 0.0153 - acc: 0.0016 - mse: 0.0153\n",
            "Epoch 16/100\n",
            "40/40 [==============================] - 1s 16ms/step - loss: 0.0134 - acc: 0.0016 - mse: 0.0134\n",
            "Epoch 17/100\n",
            "40/40 [==============================] - 1s 15ms/step - loss: 0.0170 - acc: 0.0016 - mse: 0.0170\n",
            "Epoch 18/100\n",
            "40/40 [==============================] - 1s 17ms/step - loss: 0.0143 - acc: 0.0016 - mse: 0.0143\n",
            "Epoch 19/100\n",
            "40/40 [==============================] - 1s 15ms/step - loss: 0.0145 - acc: 0.0016 - mse: 0.0145\n",
            "Epoch 20/100\n",
            "40/40 [==============================] - 1s 17ms/step - loss: 0.0126 - acc: 0.0016 - mse: 0.0126\n",
            "Epoch 21/100\n",
            "40/40 [==============================] - 0s 10ms/step - loss: 0.0137 - acc: 0.0016 - mse: 0.0137\n",
            "Epoch 22/100\n",
            "40/40 [==============================] - 0s 10ms/step - loss: 0.0107 - acc: 0.0016 - mse: 0.0107\n",
            "Epoch 23/100\n",
            "40/40 [==============================] - 0s 11ms/step - loss: 0.0118 - acc: 0.0016 - mse: 0.0118\n",
            "Epoch 24/100\n",
            "40/40 [==============================] - 0s 11ms/step - loss: 0.0122 - acc: 0.0016 - mse: 0.0122\n",
            "Epoch 25/100\n",
            "40/40 [==============================] - 0s 10ms/step - loss: 0.0121 - acc: 0.0016 - mse: 0.0121\n",
            "Epoch 26/100\n",
            "40/40 [==============================] - 0s 10ms/step - loss: 0.0100 - acc: 0.0016 - mse: 0.0100\n",
            "Epoch 27/100\n",
            "40/40 [==============================] - 0s 11ms/step - loss: 0.0115 - acc: 0.0016 - mse: 0.0115\n",
            "Epoch 28/100\n",
            "40/40 [==============================] - 0s 11ms/step - loss: 0.0133 - acc: 0.0016 - mse: 0.0133\n",
            "Epoch 29/100\n",
            "40/40 [==============================] - 0s 11ms/step - loss: 0.0099 - acc: 0.0016 - mse: 0.0099\n",
            "Epoch 30/100\n",
            "40/40 [==============================] - 0s 11ms/step - loss: 0.0101 - acc: 0.0016 - mse: 0.0101\n",
            "Epoch 31/100\n",
            "40/40 [==============================] - 0s 11ms/step - loss: 0.0106 - acc: 0.0016 - mse: 0.0106\n",
            "Epoch 32/100\n",
            "40/40 [==============================] - 0s 11ms/step - loss: 0.0107 - acc: 0.0016 - mse: 0.0107\n",
            "Epoch 33/100\n",
            "40/40 [==============================] - 0s 10ms/step - loss: 0.0117 - acc: 0.0016 - mse: 0.0117\n",
            "Epoch 34/100\n",
            "40/40 [==============================] - 0s 11ms/step - loss: 0.0091 - acc: 0.0016 - mse: 0.0091\n",
            "Epoch 35/100\n",
            "40/40 [==============================] - 0s 10ms/step - loss: 0.0101 - acc: 0.0016 - mse: 0.0101\n",
            "Epoch 36/100\n",
            "40/40 [==============================] - 0s 10ms/step - loss: 0.0084 - acc: 0.0016 - mse: 0.0084\n",
            "Epoch 37/100\n",
            "40/40 [==============================] - 0s 9ms/step - loss: 0.0100 - acc: 0.0016 - mse: 0.0100\n",
            "Epoch 38/100\n",
            "40/40 [==============================] - 0s 10ms/step - loss: 0.0099 - acc: 0.0016 - mse: 0.0099\n",
            "Epoch 39/100\n",
            "40/40 [==============================] - 0s 11ms/step - loss: 0.0080 - acc: 0.0016 - mse: 0.0080\n",
            "Epoch 40/100\n",
            "40/40 [==============================] - 0s 9ms/step - loss: 0.0094 - acc: 0.0016 - mse: 0.0094\n",
            "Epoch 41/100\n",
            "40/40 [==============================] - 0s 11ms/step - loss: 0.0084 - acc: 0.0016 - mse: 0.0084\n",
            "Epoch 42/100\n",
            "40/40 [==============================] - 0s 11ms/step - loss: 0.0089 - acc: 0.0016 - mse: 0.0089\n",
            "Epoch 43/100\n",
            "40/40 [==============================] - 0s 11ms/step - loss: 0.0079 - acc: 0.0016 - mse: 0.0079\n",
            "Epoch 44/100\n",
            "40/40 [==============================] - 0s 12ms/step - loss: 0.0094 - acc: 0.0016 - mse: 0.0094\n",
            "Epoch 45/100\n",
            "40/40 [==============================] - 1s 16ms/step - loss: 0.0090 - acc: 0.0016 - mse: 0.0090\n",
            "Epoch 46/100\n",
            "40/40 [==============================] - 1s 15ms/step - loss: 0.0095 - acc: 0.0016 - mse: 0.0095\n",
            "Epoch 47/100\n",
            "40/40 [==============================] - 1s 16ms/step - loss: 0.0090 - acc: 0.0016 - mse: 0.0090\n",
            "Epoch 48/100\n",
            "40/40 [==============================] - 1s 15ms/step - loss: 0.0076 - acc: 0.0016 - mse: 0.0076\n",
            "Epoch 49/100\n",
            "40/40 [==============================] - 1s 16ms/step - loss: 0.0097 - acc: 0.0016 - mse: 0.0097\n",
            "Epoch 50/100\n",
            "40/40 [==============================] - 1s 15ms/step - loss: 0.0098 - acc: 0.0016 - mse: 0.0098\n",
            "Epoch 51/100\n",
            "40/40 [==============================] - 1s 15ms/step - loss: 0.0084 - acc: 0.0016 - mse: 0.0084\n",
            "Epoch 52/100\n",
            "40/40 [==============================] - 0s 10ms/step - loss: 0.0084 - acc: 0.0016 - mse: 0.0084\n",
            "Epoch 53/100\n",
            "40/40 [==============================] - 0s 10ms/step - loss: 0.0084 - acc: 0.0016 - mse: 0.0084\n",
            "Epoch 54/100\n",
            "40/40 [==============================] - 0s 10ms/step - loss: 0.0080 - acc: 0.0016 - mse: 0.0080\n",
            "Epoch 55/100\n",
            "40/40 [==============================] - 0s 10ms/step - loss: 0.0091 - acc: 0.0016 - mse: 0.0091\n",
            "Epoch 56/100\n",
            "40/40 [==============================] - 0s 11ms/step - loss: 0.0092 - acc: 0.0016 - mse: 0.0092\n",
            "Epoch 57/100\n",
            "40/40 [==============================] - 0s 11ms/step - loss: 0.0096 - acc: 0.0016 - mse: 0.0096\n",
            "Epoch 58/100\n",
            "40/40 [==============================] - 0s 12ms/step - loss: 0.0090 - acc: 0.0016 - mse: 0.0090\n",
            "Epoch 59/100\n",
            "40/40 [==============================] - 0s 11ms/step - loss: 0.0089 - acc: 0.0016 - mse: 0.0089\n",
            "Epoch 60/100\n",
            "40/40 [==============================] - 0s 10ms/step - loss: 0.0082 - acc: 0.0016 - mse: 0.0082\n",
            "Epoch 61/100\n",
            "40/40 [==============================] - 0s 10ms/step - loss: 0.0070 - acc: 0.0016 - mse: 0.0070\n",
            "Epoch 62/100\n",
            "40/40 [==============================] - 0s 11ms/step - loss: 0.0073 - acc: 0.0016 - mse: 0.0073\n",
            "Epoch 63/100\n",
            "40/40 [==============================] - 0s 10ms/step - loss: 0.0076 - acc: 0.0016 - mse: 0.0076\n",
            "Epoch 64/100\n",
            "40/40 [==============================] - 0s 10ms/step - loss: 0.0073 - acc: 0.0016 - mse: 0.0073\n",
            "Epoch 65/100\n",
            "40/40 [==============================] - 0s 11ms/step - loss: 0.0081 - acc: 0.0016 - mse: 0.0081\n",
            "Epoch 66/100\n",
            "40/40 [==============================] - 0s 10ms/step - loss: 0.0074 - acc: 0.0016 - mse: 0.0074\n",
            "Epoch 67/100\n",
            "40/40 [==============================] - 0s 10ms/step - loss: 0.0078 - acc: 0.0016 - mse: 0.0078\n",
            "Epoch 68/100\n",
            "40/40 [==============================] - 0s 10ms/step - loss: 0.0066 - acc: 0.0016 - mse: 0.0066\n",
            "Epoch 69/100\n",
            "40/40 [==============================] - 0s 10ms/step - loss: 0.0063 - acc: 0.0016 - mse: 0.0063\n",
            "Epoch 70/100\n",
            "40/40 [==============================] - 0s 11ms/step - loss: 0.0068 - acc: 0.0016 - mse: 0.0068\n",
            "Epoch 71/100\n",
            "40/40 [==============================] - 0s 10ms/step - loss: 0.0098 - acc: 0.0016 - mse: 0.0098\n",
            "Epoch 72/100\n",
            "40/40 [==============================] - 0s 10ms/step - loss: 0.0078 - acc: 0.0016 - mse: 0.0078\n",
            "Epoch 73/100\n",
            "40/40 [==============================] - 0s 10ms/step - loss: 0.0073 - acc: 0.0016 - mse: 0.0073\n",
            "Epoch 74/100\n",
            "40/40 [==============================] - 0s 11ms/step - loss: 0.0074 - acc: 0.0016 - mse: 0.0074\n",
            "Epoch 75/100\n",
            "40/40 [==============================] - 1s 13ms/step - loss: 0.0079 - acc: 0.0016 - mse: 0.0079\n",
            "Epoch 76/100\n",
            "40/40 [==============================] - 1s 15ms/step - loss: 0.0077 - acc: 0.0016 - mse: 0.0077\n",
            "Epoch 77/100\n",
            "40/40 [==============================] - 1s 15ms/step - loss: 0.0067 - acc: 0.0016 - mse: 0.0067\n",
            "Epoch 78/100\n",
            "40/40 [==============================] - 1s 15ms/step - loss: 0.0075 - acc: 0.0016 - mse: 0.0075\n",
            "Epoch 79/100\n",
            "40/40 [==============================] - 1s 14ms/step - loss: 0.0067 - acc: 0.0016 - mse: 0.0067\n",
            "Epoch 80/100\n",
            "40/40 [==============================] - 1s 16ms/step - loss: 0.0081 - acc: 0.0016 - mse: 0.0081\n",
            "Epoch 81/100\n",
            "40/40 [==============================] - 1s 15ms/step - loss: 0.0088 - acc: 0.0016 - mse: 0.0088\n",
            "Epoch 82/100\n",
            "40/40 [==============================] - 1s 16ms/step - loss: 0.0088 - acc: 0.0016 - mse: 0.0088\n",
            "Epoch 83/100\n",
            "40/40 [==============================] - 0s 11ms/step - loss: 0.0067 - acc: 0.0016 - mse: 0.0067\n",
            "Epoch 84/100\n",
            "40/40 [==============================] - 0s 10ms/step - loss: 0.0089 - acc: 0.0016 - mse: 0.0089\n",
            "Epoch 85/100\n",
            "40/40 [==============================] - 0s 10ms/step - loss: 0.0057 - acc: 0.0016 - mse: 0.0057\n",
            "Epoch 86/100\n",
            "40/40 [==============================] - 0s 11ms/step - loss: 0.0056 - acc: 0.0016 - mse: 0.0056\n",
            "Epoch 87/100\n",
            "40/40 [==============================] - 0s 10ms/step - loss: 0.0061 - acc: 0.0016 - mse: 0.0061\n",
            "Epoch 88/100\n",
            "40/40 [==============================] - 0s 11ms/step - loss: 0.0064 - acc: 0.0016 - mse: 0.0064\n",
            "Epoch 89/100\n",
            "40/40 [==============================] - 0s 10ms/step - loss: 0.0072 - acc: 0.0016 - mse: 0.0072\n",
            "Epoch 90/100\n",
            "40/40 [==============================] - 0s 11ms/step - loss: 0.0059 - acc: 0.0016 - mse: 0.0059\n",
            "Epoch 91/100\n",
            "40/40 [==============================] - 0s 10ms/step - loss: 0.0079 - acc: 0.0016 - mse: 0.0079\n",
            "Epoch 92/100\n",
            "40/40 [==============================] - 0s 10ms/step - loss: 0.0066 - acc: 0.0016 - mse: 0.0066\n",
            "Epoch 93/100\n",
            "40/40 [==============================] - 0s 11ms/step - loss: 0.0059 - acc: 0.0016 - mse: 0.0059\n",
            "Epoch 94/100\n",
            "40/40 [==============================] - 0s 10ms/step - loss: 0.0067 - acc: 0.0016 - mse: 0.0067\n",
            "Epoch 95/100\n",
            "40/40 [==============================] - 0s 11ms/step - loss: 0.0064 - acc: 0.0016 - mse: 0.0064\n",
            "Epoch 96/100\n",
            "40/40 [==============================] - 0s 10ms/step - loss: 0.0072 - acc: 0.0016 - mse: 0.0072\n",
            "Epoch 97/100\n",
            "40/40 [==============================] - 0s 10ms/step - loss: 0.0069 - acc: 0.0016 - mse: 0.0069\n",
            "Epoch 98/100\n",
            "40/40 [==============================] - 0s 11ms/step - loss: 0.0063 - acc: 0.0016 - mse: 0.0063\n",
            "Epoch 99/100\n",
            "40/40 [==============================] - 0s 10ms/step - loss: 0.0067 - acc: 0.0016 - mse: 0.0067\n",
            "Epoch 100/100\n",
            "40/40 [==============================] - 0s 11ms/step - loss: 0.0061 - acc: 0.0016 - mse: 0.0061\n",
            "Tiempo:  88.319 Segundos\n"
          ]
        }
      ],
      "source": [
        "np.shape(X_train)\n",
        "np.shape(y_train)\n",
        "\n",
        "epocas=100\n",
        "batch_size=32\n",
        "\n",
        "import time\n",
        "start = time.perf_counter()\n",
        "rnr=red.fit(X_train,y_train,\n",
        "            batch_size=batch_size,\n",
        "            epochs=epocas #Cuantas epocas usaremos para entrenar\n",
        "            #,validation_data=(X_test, y_test)\n",
        "            #,shuffle=True\n",
        "            #,validation_split=0.2\n",
        "           )\n",
        "end = time.perf_counter()\n",
        "print(f'Tiempo:  {end - start:.3f} Segundos')"
      ]
    },
    {
      "cell_type": "markdown",
      "id": "18317f0f",
      "metadata": {
        "id": "18317f0f"
      },
      "source": [
        "# Predicciones"
      ]
    },
    {
      "cell_type": "markdown",
      "id": "f1f8eefb",
      "metadata": {
        "id": "f1f8eefb"
      },
      "source": [
        "### concatenamos el conjunto de prueba con el conjunto de test bajo la columna que se está realizando la impresion "
      ]
    },
    {
      "cell_type": "code",
      "execution_count": 46,
      "id": "32312a3c",
      "metadata": {
        "id": "32312a3c",
        "outputId": "00cc7175-136b-4933-d785-02f0f6882675",
        "colab": {
          "base_uri": "https://localhost:8080/"
        }
      },
      "outputs": [
        {
          "output_type": "stream",
          "name": "stdout",
          "text": [
            "1/1 [==============================] - 1s 1s/step\n"
          ]
        }
      ],
      "source": [
        "# Concatenate the 'Open' column from the training and test datasets\n",
        "dataset_total = pd.concat((dataset_train['Open'], dataset_test['Open']), axis=0)\n",
        "\n",
        "# Extract the inputs for prediction from the concatenated dataset\n",
        "inputs = dataset_total.iloc[len(dataset_total) - len(dataset_test) - pasos_atras:].values\n",
        "inputs = inputs.reshape(-1, 1)\n",
        "inputs = sc.transform(inputs)\n",
        "\n",
        "# Get the size of the input for prediction\n",
        "tam_entrada = inputs.shape[0]\n",
        "\n",
        "# Create the input sequences for prediction\n",
        "X_test = []\n",
        "for i in range(pasos_atras, tam_entrada):\n",
        "    X_test.append(inputs[i - pasos_atras:i, 0])\n",
        "X_test = np.array(X_test)\n",
        "X_test = np.reshape(X_test, (X_test.shape[0], X_test.shape[1], 1))\n",
        "\n",
        "# Predict the stock price using the trained model\n",
        "predicted_stock_price = red.predict(X_test)\n",
        "\n",
        "# Rescale the predicted stock price back to the original scale\n",
        "predicted_stock_price = sc.inverse_transform(predicted_stock_price)"
      ]
    },
    {
      "cell_type": "markdown",
      "id": "f88c53cf",
      "metadata": {
        "id": "f88c53cf"
      },
      "source": [
        "# Visualizacion de los datos"
      ]
    },
    {
      "cell_type": "code",
      "execution_count": 47,
      "id": "fa568400",
      "metadata": {
        "id": "fa568400",
        "outputId": "98ecf433-d456-40de-ad0c-4235113cb313",
        "colab": {
          "base_uri": "https://localhost:8080/",
          "height": 472
        }
      },
      "outputs": [
        {
          "output_type": "display_data",
          "data": {
            "text/plain": [
              "<Figure size 640x480 with 1 Axes>"
            ],
            "image/png": "[encoded data removed]"
          },
          "metadata": {}
        }
      ],
      "source": [
        "plt.plot(real_stock_price, color = 'red', label = 'Real Google Stock Price')\n",
        "plt.plot(predicted_stock_price, color = 'blue', label = 'Predicted Google Stock Price')\n",
        "plt.title('Google Stock Price Prediction')\n",
        "plt.xlabel('Time')\n",
        "plt.ylabel('Google Stock Price')\n",
        "plt.legend()\n",
        "plt.show()"
      ]
    },
    {
      "cell_type": "markdown",
      "source": [
        "# Modelo LSTM: \n",
        "\n",
        "uno de los enfoques más utilizados y eficaces en la predicción de precios de acciones es el modelo de redes neuronales recurrentes (RNN) con unidades LSTM (Long Short-Term Memory).\n",
        "\n",
        "El modelo LSTM se utiliza para capturar patrones a largo plazo en los datos de series temporales, lo que puede ser beneficioso para predecir los precios de las acciones, que a menudo tienen dependencias y tendencias a largo plazo. A diferencia de las RNN estándar, las unidades LSTM tienen una memoria a largo plazo que les permite recordar información relevante y evitar el problema del desvanecimiento del gradiente."
      ],
      "metadata": {
        "id": "qek6iUs5Bslo"
      },
      "id": "qek6iUs5Bslo"
    },
    {
      "cell_type": "code",
      "source": [
        "from keras.models import Sequential\n",
        "from keras.layers import LSTM, Dense\n",
        "\n",
        "import time\n",
        "start = time.perf_counter()\n",
        "\n",
        "\n",
        "model = Sequential()\n",
        "model.add(LSTM(50, activation='relu', input_shape=(X_train.shape[1], 1)))\n",
        "model.add(Dense(1))\n",
        "\n",
        "model.compile(optimizer='adam', loss='mean_squared_error')\n",
        "model.fit(X_train,y_train,\n",
        "            batch_size=batch_size,\n",
        "            epochs=epocas #Cuantas epocas usaremos para entrenar\n",
        "            #,validation_data=(X_test, y_test)\n",
        "            #,shuffle=True\n",
        "            #,validation_split=0.2\n",
        "           )\n",
        "\n",
        "\n",
        "end = time.perf_counter()\n",
        "print(f'Tiempo:  {end - start:.3f} Segundos')"
      ],
      "metadata": {
        "id": "4MfmM6f8BrmY",
        "outputId": "0728ed67-bb36-46f2-f688-23d26b25cd63",
        "colab": {
          "base_uri": "https://localhost:8080/"
        }
      },
      "id": "4MfmM6f8BrmY",
      "execution_count": 48,
      "outputs": [
        {
          "output_type": "stream",
          "name": "stdout",
          "text": [
            "Epoch 1/100\n",
            "40/40 [==============================] - 3s 7ms/step - loss: 0.2010\n",
            "Epoch 2/100\n",
            "40/40 [==============================] - 0s 5ms/step - loss: 0.0359\n",
            "Epoch 3/100\n",
            "40/40 [==============================] - 0s 5ms/step - loss: 0.0049\n",
            "Epoch 4/100\n",
            "40/40 [==============================] - 0s 5ms/step - loss: 7.1343e-04\n",
            "Epoch 5/100\n",
            "40/40 [==============================] - 0s 5ms/step - loss: 4.5725e-04\n",
            "Epoch 6/100\n",
            "40/40 [==============================] - 0s 5ms/step - loss: 4.3628e-04\n",
            "Epoch 7/100\n",
            "40/40 [==============================] - 0s 4ms/step - loss: 4.1548e-04\n",
            "Epoch 8/100\n",
            "40/40 [==============================] - 0s 5ms/step - loss: 4.0528e-04\n",
            "Epoch 9/100\n",
            "40/40 [==============================] - 0s 4ms/step - loss: 4.0557e-04\n",
            "Epoch 10/100\n",
            "40/40 [==============================] - 0s 5ms/step - loss: 4.0081e-04\n",
            "Epoch 11/100\n",
            "40/40 [==============================] - 0s 5ms/step - loss: 4.0287e-04\n",
            "Epoch 12/100\n",
            "40/40 [==============================] - 0s 5ms/step - loss: 4.0521e-04\n",
            "Epoch 13/100\n",
            "40/40 [==============================] - 0s 5ms/step - loss: 3.9710e-04\n",
            "Epoch 14/100\n",
            "40/40 [==============================] - 0s 5ms/step - loss: 3.9513e-04\n",
            "Epoch 15/100\n",
            "40/40 [==============================] - 0s 5ms/step - loss: 3.9712e-04\n",
            "Epoch 16/100\n",
            "40/40 [==============================] - 0s 5ms/step - loss: 3.9311e-04\n",
            "Epoch 17/100\n",
            "40/40 [==============================] - 0s 5ms/step - loss: 3.9385e-04\n",
            "Epoch 18/100\n",
            "40/40 [==============================] - 0s 5ms/step - loss: 3.9956e-04\n",
            "Epoch 19/100\n",
            "40/40 [==============================] - 0s 5ms/step - loss: 3.9289e-04\n",
            "Epoch 20/100\n",
            "40/40 [==============================] - 0s 5ms/step - loss: 3.9348e-04\n",
            "Epoch 21/100\n",
            "40/40 [==============================] - 0s 5ms/step - loss: 3.9065e-04\n",
            "Epoch 22/100\n",
            "40/40 [==============================] - 0s 4ms/step - loss: 3.9111e-04\n",
            "Epoch 23/100\n",
            "40/40 [==============================] - 0s 5ms/step - loss: 4.0324e-04\n",
            "Epoch 24/100\n",
            "40/40 [==============================] - 0s 5ms/step - loss: 4.0632e-04\n",
            "Epoch 25/100\n",
            "40/40 [==============================] - 0s 5ms/step - loss: 3.9855e-04\n",
            "Epoch 26/100\n",
            "40/40 [==============================] - 0s 5ms/step - loss: 3.8828e-04\n",
            "Epoch 27/100\n",
            "40/40 [==============================] - 0s 5ms/step - loss: 3.9324e-04\n",
            "Epoch 28/100\n",
            "40/40 [==============================] - 0s 5ms/step - loss: 3.8897e-04\n",
            "Epoch 29/100\n",
            "40/40 [==============================] - 0s 5ms/step - loss: 3.8730e-04\n",
            "Epoch 30/100\n",
            "40/40 [==============================] - 0s 4ms/step - loss: 3.8756e-04\n",
            "Epoch 31/100\n",
            "40/40 [==============================] - 0s 5ms/step - loss: 3.8849e-04\n",
            "Epoch 32/100\n",
            "40/40 [==============================] - 0s 5ms/step - loss: 3.8728e-04\n",
            "Epoch 33/100\n",
            "40/40 [==============================] - 0s 5ms/step - loss: 3.9893e-04\n",
            "Epoch 34/100\n",
            "40/40 [==============================] - 0s 4ms/step - loss: 4.0889e-04\n",
            "Epoch 35/100\n",
            "40/40 [==============================] - 0s 5ms/step - loss: 3.9461e-04\n",
            "Epoch 36/100\n",
            "40/40 [==============================] - 0s 5ms/step - loss: 3.8473e-04\n",
            "Epoch 37/100\n",
            "40/40 [==============================] - 0s 5ms/step - loss: 3.8528e-04\n",
            "Epoch 38/100\n",
            "40/40 [==============================] - 0s 5ms/step - loss: 3.8562e-04\n",
            "Epoch 39/100\n",
            "40/40 [==============================] - 0s 5ms/step - loss: 3.8754e-04\n",
            "Epoch 40/100\n",
            "40/40 [==============================] - 0s 5ms/step - loss: 3.8347e-04\n",
            "Epoch 41/100\n",
            "40/40 [==============================] - 0s 5ms/step - loss: 3.8597e-04\n",
            "Epoch 42/100\n",
            "40/40 [==============================] - 0s 5ms/step - loss: 3.9196e-04\n",
            "Epoch 43/100\n",
            "40/40 [==============================] - 0s 5ms/step - loss: 3.8567e-04\n",
            "Epoch 44/100\n",
            "40/40 [==============================] - 0s 5ms/step - loss: 3.8161e-04\n",
            "Epoch 45/100\n",
            "40/40 [==============================] - 0s 4ms/step - loss: 3.8825e-04\n",
            "Epoch 46/100\n",
            "40/40 [==============================] - 0s 5ms/step - loss: 3.8687e-04\n",
            "Epoch 47/100\n",
            "40/40 [==============================] - 0s 5ms/step - loss: 3.8391e-04\n",
            "Epoch 48/100\n",
            "40/40 [==============================] - 0s 5ms/step - loss: 3.8001e-04\n",
            "Epoch 49/100\n",
            "40/40 [==============================] - 0s 5ms/step - loss: 3.8866e-04\n",
            "Epoch 50/100\n",
            "40/40 [==============================] - 0s 5ms/step - loss: 3.7885e-04\n",
            "Epoch 51/100\n",
            "40/40 [==============================] - 0s 7ms/step - loss: 3.8191e-04\n",
            "Epoch 52/100\n",
            "40/40 [==============================] - 0s 7ms/step - loss: 3.8449e-04\n",
            "Epoch 53/100\n",
            "40/40 [==============================] - 0s 7ms/step - loss: 3.8733e-04\n",
            "Epoch 54/100\n",
            "40/40 [==============================] - 0s 6ms/step - loss: 3.9512e-04\n",
            "Epoch 55/100\n",
            "40/40 [==============================] - 0s 7ms/step - loss: 3.8948e-04\n",
            "Epoch 56/100\n",
            "40/40 [==============================] - 0s 7ms/step - loss: 3.8825e-04\n",
            "Epoch 57/100\n",
            "40/40 [==============================] - 0s 7ms/step - loss: 3.7818e-04\n",
            "Epoch 58/100\n",
            "40/40 [==============================] - 0s 7ms/step - loss: 3.7838e-04\n",
            "Epoch 59/100\n",
            "40/40 [==============================] - 0s 8ms/step - loss: 3.7157e-04\n",
            "Epoch 60/100\n",
            "40/40 [==============================] - 0s 7ms/step - loss: 3.7850e-04\n",
            "Epoch 61/100\n",
            "40/40 [==============================] - 0s 7ms/step - loss: 3.8317e-04\n",
            "Epoch 62/100\n",
            "40/40 [==============================] - 0s 7ms/step - loss: 3.7936e-04\n",
            "Epoch 63/100\n",
            "40/40 [==============================] - 0s 7ms/step - loss: 3.7901e-04\n",
            "Epoch 64/100\n",
            "40/40 [==============================] - 0s 8ms/step - loss: 3.9465e-04\n",
            "Epoch 65/100\n",
            "40/40 [==============================] - 0s 7ms/step - loss: 3.8127e-04\n",
            "Epoch 66/100\n",
            "40/40 [==============================] - 0s 7ms/step - loss: 3.9461e-04\n",
            "Epoch 67/100\n",
            "40/40 [==============================] - 0s 5ms/step - loss: 3.8507e-04\n",
            "Epoch 68/100\n",
            "40/40 [==============================] - 0s 5ms/step - loss: 3.6810e-04\n",
            "Epoch 69/100\n",
            "40/40 [==============================] - 0s 6ms/step - loss: 3.7954e-04\n",
            "Epoch 70/100\n",
            "40/40 [==============================] - 0s 6ms/step - loss: 3.7424e-04\n",
            "Epoch 71/100\n",
            "40/40 [==============================] - 0s 5ms/step - loss: 3.6500e-04\n",
            "Epoch 72/100\n",
            "40/40 [==============================] - 0s 4ms/step - loss: 3.6152e-04\n",
            "Epoch 73/100\n",
            "40/40 [==============================] - 0s 4ms/step - loss: 3.6187e-04\n",
            "Epoch 74/100\n",
            "40/40 [==============================] - 0s 5ms/step - loss: 3.9009e-04\n",
            "Epoch 75/100\n",
            "40/40 [==============================] - 0s 5ms/step - loss: 3.7391e-04\n",
            "Epoch 76/100\n",
            "40/40 [==============================] - 0s 5ms/step - loss: 3.6383e-04\n",
            "Epoch 77/100\n",
            "40/40 [==============================] - 0s 5ms/step - loss: 3.7543e-04\n",
            "Epoch 78/100\n",
            "40/40 [==============================] - 0s 5ms/step - loss: 3.7579e-04\n",
            "Epoch 79/100\n",
            "40/40 [==============================] - 0s 5ms/step - loss: 3.6029e-04\n",
            "Epoch 80/100\n",
            "40/40 [==============================] - 0s 5ms/step - loss: 3.8721e-04\n",
            "Epoch 81/100\n",
            "40/40 [==============================] - 0s 5ms/step - loss: 3.7243e-04\n",
            "Epoch 82/100\n",
            "40/40 [==============================] - 0s 6ms/step - loss: 3.7129e-04\n",
            "Epoch 83/100\n",
            "40/40 [==============================] - 0s 5ms/step - loss: 3.8209e-04\n",
            "Epoch 84/100\n",
            "40/40 [==============================] - 0s 5ms/step - loss: 3.5777e-04\n",
            "Epoch 85/100\n",
            "40/40 [==============================] - 0s 6ms/step - loss: 3.5943e-04\n",
            "Epoch 86/100\n",
            "40/40 [==============================] - 0s 4ms/step - loss: 3.7523e-04\n",
            "Epoch 87/100\n",
            "40/40 [==============================] - 0s 5ms/step - loss: 3.6541e-04\n",
            "Epoch 88/100\n",
            "40/40 [==============================] - 0s 4ms/step - loss: 3.6644e-04\n",
            "Epoch 89/100\n",
            "40/40 [==============================] - 0s 5ms/step - loss: 3.7163e-04\n",
            "Epoch 90/100\n",
            "40/40 [==============================] - 0s 5ms/step - loss: 3.6436e-04\n",
            "Epoch 91/100\n",
            "40/40 [==============================] - 0s 5ms/step - loss: 3.4891e-04\n",
            "Epoch 92/100\n",
            "40/40 [==============================] - 0s 5ms/step - loss: 3.7560e-04\n",
            "Epoch 93/100\n",
            "40/40 [==============================] - 0s 5ms/step - loss: 3.6298e-04\n",
            "Epoch 94/100\n",
            "40/40 [==============================] - 0s 5ms/step - loss: 3.7800e-04\n",
            "Epoch 95/100\n",
            "40/40 [==============================] - 0s 6ms/step - loss: 3.6140e-04\n",
            "Epoch 96/100\n",
            "40/40 [==============================] - 0s 5ms/step - loss: 3.6126e-04\n",
            "Epoch 97/100\n",
            "40/40 [==============================] - 0s 5ms/step - loss: 3.4734e-04\n",
            "Epoch 98/100\n",
            "40/40 [==============================] - 0s 5ms/step - loss: 3.5898e-04\n",
            "Epoch 99/100\n",
            "40/40 [==============================] - 0s 6ms/step - loss: 3.5640e-04\n",
            "Epoch 100/100\n",
            "40/40 [==============================] - 0s 5ms/step - loss: 3.4970e-04\n",
            "Tiempo:  43.663 Segundos\n"
          ]
        }
      ]
    },
    {
      "cell_type": "code",
      "execution_count": 49,
      "id": "da64fd6f",
      "metadata": {
        "id": "da64fd6f",
        "outputId": "96860ffa-635c-41d1-8065-0814a3c99368",
        "colab": {
          "base_uri": "https://localhost:8080/"
        }
      },
      "outputs": [
        {
          "output_type": "stream",
          "name": "stdout",
          "text": [
            "1/1 [==============================] - 0s 189ms/step\n"
          ]
        }
      ],
      "source": [
        "# Concatenate the 'Open' column from the training and test datasets\n",
        "dataset_total = pd.concat((dataset_train['Open'], dataset_test['Open']), axis=0)\n",
        "\n",
        "# Extract the inputs for prediction from the concatenated dataset\n",
        "inputs = dataset_total.iloc[len(dataset_total) - len(dataset_test) - pasos_atras:].values\n",
        "inputs = inputs.reshape(-1, 1)\n",
        "inputs = sc.transform(inputs)\n",
        "\n",
        "# Get the size of the input for prediction\n",
        "tam_entrada = inputs.shape[0]\n",
        "\n",
        "# Create the input sequences for prediction\n",
        "X_test = []\n",
        "for i in range(pasos_atras, tam_entrada):\n",
        "    X_test.append(inputs[i - pasos_atras:i, 0])\n",
        "X_test = np.array(X_test)\n",
        "X_test = np.reshape(X_test, (X_test.shape[0], X_test.shape[1], 1))\n",
        "\n",
        "# Predict the stock price using the trained model\n",
        "predicted_stock_price_2 = model.predict(X_test)\n",
        "\n",
        "# Rescale the predicted stock price back to the original scale\n",
        "predicted_stock_price_2 = sc.inverse_transform(predicted_stock_price_2)"
      ]
    },
    {
      "cell_type": "code",
      "execution_count": 50,
      "id": "b9dd3376",
      "metadata": {
        "id": "b9dd3376",
        "outputId": "ea156a71-7e6b-46b0-8149-02b87261fc9d",
        "colab": {
          "base_uri": "https://localhost:8080/",
          "height": 472
        }
      },
      "outputs": [
        {
          "output_type": "display_data",
          "data": {
            "text/plain": [
              "<Figure size 640x480 with 1 Axes>"
            ],
            "image/png": "[encoded data removed]"
          },
          "metadata": {}
        }
      ],
      "source": [
        "plt.plot(real_stock_price, color = 'red', label = 'Real Google Stock Price')\n",
        "plt.plot(predicted_stock_price_2, color = 'blue', label = 'Predicted Google Stock Price')\n",
        "plt.title('Google Stock Price Prediction')\n",
        "plt.xlabel('Time')\n",
        "plt.ylabel('Google Stock Price')\n",
        "plt.legend()\n",
        "plt.show()"
      ]
    }
  ],
  "metadata": {
    "kernelspec": {
      "display_name": "Python 3 (ipykernel)",
      "language": "python",
      "name": "python3"
    },
    "language_info": {
      "codemirror_mode": {
        "name": "ipython",
        "version": 3
      },
      "file_extension": ".py",
      "mimetype": "text/x-python",
      "name": "python",
      "nbconvert_exporter": "python",
      "pygments_lexer": "ipython3",
      "version": "3.10.9"
    },
    "colab": {
      "provenance": [],
      "include_colab_link": true
    }
  },
  "nbformat": 4,
  "nbformat_minor": 5
}