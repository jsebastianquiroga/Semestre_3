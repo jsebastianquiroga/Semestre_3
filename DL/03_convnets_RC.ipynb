{
  "nbformat": 4,
  "nbformat_minor": 0,
  "metadata": {
    "colab": {
      "provenance": [],
      "include_colab_link": true
    },
    "kernelspec": {
      "name": "python3",
      "display_name": "Python 3"
    },
    "language_info": {
      "name": "python"
    },
    "accelerator": "TPU"
  },
  "cells": [
    {
      "cell_type": "markdown",
      "metadata": {
        "id": "view-in-github",
        "colab_type": "text"
      },
      "source": [
        "<a href=\"https://colab.research.google.com/github/jsebastianquiroga/analitica_ia_puj/blob/main/DL/03_convnets_RC.ipynb\" target=\"_parent\"><img src=\"https://colab.research.google.com/assets/colab-badge.svg\" alt=\"Open In Colab\"/></a>"
      ]
    },
    {
      "cell_type": "markdown",
      "source": [
        "# Redes Convolucionales\n",
        "\n",
        "En este Notebook se llevará acabo el entrenamiento de un modelo de Red Neuronal utilizando Redes Convolcuionales. El objetivo principal es familiarizarse con las redes neuronales convolucionales.\n",
        "\n",
        "\n",
        "# CIFAR-10 Dataset\n",
        "\n",
        "El conjunto de datos CIFAR-10 es un conjunto de datos popular utilizado para entrenar y evaluar algoritmos de aprendizaje automático para la clasificación de imágenes. Consiste en 60,000 imágenes a color de 32x32 píxeles, divididas en 10 clases: avión, automóvil, pájaro, gato, ciervo, perro, rana, caballo, barco y camión. Hay 6,000 imágenes por clase, con 50,000 imágenes para entrenamiento y 10,000 imágenes para pruebas.\n",
        "\n",
        "\n",
        "En este ejercicio entrenaremos el mismo modelo de red neuronal en dos escenarios:\n",
        "\n",
        "1. Escenario con muchos datos\n",
        "2. Escenario con pocos datos\n",
        "\n",
        "Lo anterior nos permitirá entender la importancia de los modelos pre-entrenados (¡que veremos la siguiente sesión!)\n"
      ],
      "metadata": {
        "id": "MXzIyZFLFGfw"
      }
    },
    {
      "cell_type": "markdown",
      "source": [
        "# Descarga de Información\n",
        "\n",
        "Los datos de CIFAR-10 se encuentran en [`TensorFlow Datasets`](https://www.tensorflow.org/api_docs/python/tf/keras/datasets/cifar10/load_data) y se puede acceder a ellos utilizando el método `load_data()`. "
      ],
      "metadata": {
        "id": "HuAr2KI1aTng"
      }
    },
    {
      "cell_type": "code",
      "source": [
        "pip install visualkeras"
      ],
      "metadata": {
        "id": "Um40txXohtUl",
        "colab": {
          "base_uri": "https://localhost:8080/"
        },
        "outputId": "c7d4c70f-b5fc-4040-d509-c858d17d1e2f"
      },
      "execution_count": 1,
      "outputs": [
        {
          "output_type": "stream",
          "name": "stdout",
          "text": [
            "Looking in indexes: https://pypi.org/simple, https://us-python.pkg.dev/colab-wheels/public/simple/\n",
            "Collecting visualkeras\n",
            "  Downloading visualkeras-0.0.2-py3-none-any.whl (12 kB)\n",
            "Requirement already satisfied: pillow>=6.2.0 in /usr/local/lib/python3.10/dist-packages (from visualkeras) (8.4.0)\n",
            "Requirement already satisfied: numpy>=1.18.1 in /usr/local/lib/python3.10/dist-packages (from visualkeras) (1.24.3)\n",
            "Collecting aggdraw>=1.3.11 (from visualkeras)\n",
            "  Downloading aggdraw-1.3.16-cp310-cp310-manylinux_2_17_x86_64.manylinux2014_x86_64.whl (993 kB)\n",
            "\u001b[2K     \u001b[90m━━━━━━━━━━━━━━━━━━━━━━━━━━━━━━━━━━━━━━━\u001b[0m \u001b[32m993.0/993.0 kB\u001b[0m \u001b[31m9.3 MB/s\u001b[0m eta \u001b[36m0:00:00\u001b[0m\n",
            "\u001b[?25hInstalling collected packages: aggdraw, visualkeras\n",
            "Successfully installed aggdraw-1.3.16 visualkeras-0.0.2\n"
          ]
        }
      ]
    },
    {
      "cell_type": "code",
      "source": [
        "# Part 1: Building a Convolutional Neural Network from scratch using TensorFlow\n",
        "\n",
        "# Import necessary libraries\n",
        "import tensorflow as tf\n",
        "from tensorflow.keras import datasets, models\n",
        "import matplotlib.pyplot as plt\n",
        "import numpy as np\n",
        "import visualkeras\n",
        "\n",
        "\n",
        "(train_images, train_labels), (test_images, test_labels) = datasets.cifar10.load_data()"
      ],
      "metadata": {
        "id": "zAOBhVKM8oMO"
      },
      "execution_count": 11,
      "outputs": []
    },
    {
      "cell_type": "markdown",
      "source": [
        "Una vez cargada la información, procedemos a visualizar el conjunto de datos. "
      ],
      "metadata": {
        "id": "IXlW7Sw7aj9L"
      }
    },
    {
      "cell_type": "code",
      "source": [
        "def plot_cifar10_classes():\n",
        "    # Load the CIFAR-10 dataset\n",
        "    (train_images, train_labels), (test_images, test_labels) = datasets.cifar10.load_data()\n",
        "\n",
        "    # Map class indices to class names\n",
        "    class_names = {\n",
        "        0: 'airplane',\n",
        "        1: 'automobile',\n",
        "        2: 'bird',\n",
        "        3: 'cat',\n",
        "        4: 'deer',\n",
        "        5: 'dog',\n",
        "        6: 'frog',\n",
        "        7: 'horse',\n",
        "        8: 'ship',\n",
        "        9: 'truck'\n",
        "    }\n",
        "\n",
        "    # Combine training images and labels for shuffling\n",
        "    data = list(zip(train_images, train_labels))\n",
        "\n",
        "    # Shuffle the data\n",
        "    np.random.shuffle(data)\n",
        "\n",
        "    # Initialize an empty array to store an image from each class\n",
        "    class_images = np.zeros((10, 32, 32, 3), dtype=np.uint8)\n",
        "\n",
        "    # Iterate over the shuffled data\n",
        "    for image, label in data:\n",
        "        if np.sum(class_images) == 10 * 32 * 32 * 3:\n",
        "            break\n",
        "\n",
        "        if np.sum(class_images[label]) == 0:\n",
        "            class_images[label] = image\n",
        "\n",
        "    # Plot an image from each class\n",
        "    fig, axs = plt.subplots(2, 5, figsize=(12, 6))\n",
        "    fig.suptitle('CIFAR-10 Classes')\n",
        "\n",
        "    for i in range(10):\n",
        "        row = i // 5\n",
        "        col = i % 5\n",
        "        ax = axs[row, col]\n",
        "        ax.imshow(class_images[i])\n",
        "        ax.set_title(class_names[i])\n",
        "        ax.axis('off')\n",
        "\n",
        "    plt.tight_layout()\n",
        "    plt.show()\n",
        "\n",
        "# Call the function to plot the CIFAR-10 classes\n"
      ],
      "metadata": {
        "id": "ZMvlaR8RUAo4"
      },
      "execution_count": 3,
      "outputs": []
    },
    {
      "cell_type": "code",
      "source": [
        "plot_cifar10_classes()\n"
      ],
      "metadata": {
        "id": "UOT5OQ-YUrBa",
        "colab": {
          "base_uri": "https://localhost:8080/",
          "height": 583
        },
        "outputId": "607a18c4-cd4e-4569-c0de-55c7cdeaedab"
      },
      "execution_count": 4,
      "outputs": [
        {
          "output_type": "display_data",
          "data": {
            "text/plain": [
              "<Figure size 1200x600 with 10 Axes>"
            ],
            "image/png": "[encoded data removed]"
          },
          "metadata": {}
        }
      ]
    },
    {
      "cell_type": "markdown",
      "source": [
        "Se puede apreciar que en efecto existen 10 categorías y que las imágenes son de tamaño reducido. \n",
        "\n",
        "Antes de entrenar nuestro modelo de Red Neuronal, debemos normalizar nuestros datos. Como se trata de imágenes RGB, cada canal tendrá un valor máximo de 255 (intensidad máxima de R, G o B). "
      ],
      "metadata": {
        "id": "mNUsxfV2axnV"
      }
    },
    {
      "cell_type": "code",
      "source": [
        "### Normalice las imágenes de entrenamiento y prueba dividiendo por 255\n",
        "train_images, test_images = train_images/255, test_images/255\n",
        "###"
      ],
      "metadata": {
        "id": "K4hmIfJNVJtG"
      },
      "execution_count": 14,
      "outputs": []
    },
    {
      "cell_type": "code",
      "source": [
        "# Realizamos división en valdiación también\n",
        "from sklearn.model_selection import train_test_split\n",
        "train_images, val_images, train_labels, val_labels = train_test_split(train_images, train_labels, test_size=0.2, random_state=42)"
      ],
      "metadata": {
        "id": "DnsfXguzmpP3"
      },
      "execution_count": 15,
      "outputs": []
    },
    {
      "cell_type": "code",
      "source": [
        "def plot_prediction_results(model, num_pixels = None):\n",
        "    # Load the CIFAR-10 dataset\n",
        "    (_, _), (test_images, test_labels) = datasets.cifar10.load_data()\n",
        "    if num_pixels:\n",
        "      original_shape = test_images.shape\n",
        "      test_images = test_images.reshape(test_images.shape[0], num_pixels)\n",
        "\n",
        "    # Normalize the test images\n",
        "    test_images = test_images.astype('float32') / 255\n",
        "\n",
        "    # Get predictions from the model\n",
        "    predictions = model.predict(test_images)\n",
        "    predicted_labels = np.argmax(predictions, axis=1)\n",
        "\n",
        "    if num_pixels:\n",
        "      test_images = test_images.reshape(original_shape)\n",
        "\n",
        "    # Map class indices to class names\n",
        "    class_names = {\n",
        "        0: 'airplane',\n",
        "        1: 'automobile',\n",
        "        2: 'bird',\n",
        "        3: 'cat',\n",
        "        4: 'deer',\n",
        "        5: 'dog',\n",
        "        6: 'frog',\n",
        "        7: 'horse',\n",
        "        8: 'ship',\n",
        "        9: 'truck'\n",
        "    }\n",
        "\n",
        "    # Plot random image, predicted label, true label, and prediction probability\n",
        "    num_plots = 10\n",
        "    fig, axs = plt.subplots(2, 5, figsize=(12, 8))\n",
        "    fig.suptitle('Prediction Results')\n",
        "\n",
        "    # Get shuffled indices for unique image selection\n",
        "    indices = np.arange(len(test_images))\n",
        "    np.random.shuffle(indices)\n",
        "\n",
        "    for i in range(num_plots):\n",
        "        row = i // 5\n",
        "        col = i % 5\n",
        "        ax = axs[row, col]\n",
        "\n",
        "        # Select a unique test sample\n",
        "        index = indices[i]\n",
        "        image = test_images[index]\n",
        "        true_label = test_labels[index][0]\n",
        "        predicted_label = predicted_labels[index]\n",
        "        prediction_probability = predictions[index][predicted_label]\n",
        "\n",
        "        # Set title color based on prediction correctness\n",
        "        title_color = 'green' if predicted_label == true_label else 'red'\n",
        "\n",
        "        # Plot the image, labels, and probability\n",
        "        ax.imshow(image)\n",
        "        ax.set_title(f'Predicted: {class_names[predicted_label]}\\nTrue: {class_names[true_label]}\\nProbability: {prediction_probability:.4f}', color=title_color)\n",
        "        ax.axis('off')\n",
        "\n",
        "    plt.tight_layout(rect=[0, 0, 1, 0.96])\n",
        "    plt.show()\n"
      ],
      "metadata": {
        "id": "ZUEpkemncRC7"
      },
      "execution_count": 16,
      "outputs": []
    },
    {
      "cell_type": "markdown",
      "source": [
        "## Benchmark -- Simple Neural Network\n",
        "\n",
        "Para evaluar la efectividad (o superioridad) de las Redes Neuronales Convolucionales, entrenaremos una red neuronal densa simple que ignora la dependencia espacial de los datos.\n",
        "\n",
        "¿Recordamos el Flattenq ue hacíamos al comienzo? Bueno, en esta sección se debe aplicar una estrategia de reshaping, bues se tienen tres canales. R, G, y B. Cada canal tiene dimensión 32*32.\n",
        "\n",
        "![Ejemplo Canales](https://i.stack.imgur.com/I4p5q.png)\n",
        "\n",
        "En este caso, se debería hacer el flatten de cada imagen y concatenar verticalmente los vectores. \n",
        "\n",
        "Vamos paso a paso.\n",
        "\n",
        "\n",
        "1. Determinar el tamaño del vector de cada canal\n",
        "2. Sumar y determinar el tamaño del vector final\n",
        "3. Hacer reshape de la imagen original en el tamaño del vector (ponerlo en una hillera)\n",
        "\n",
        "El primer paso es sencillo, pues todos los canales tienen el mismo tamaño de imagen. Basta con encontrar uno para tener el tamaño de todos los vectores."
      ],
      "metadata": {
        "id": "DOioXIUYba5f"
      }
    },
    {
      "cell_type": "code",
      "source": [
        "### Determina el Tamaño del vector para el canal rojo\n",
        "### Pista: se calcula ancho por alto\n",
        "ancho, alto = train_images.shape[1], train_images.shape[2]\n",
        "vector_canal = ancho * alto\n",
        "###"
      ],
      "metadata": {
        "id": "RyY1tOvsjdjj"
      },
      "execution_count": 18,
      "outputs": []
    },
    {
      "cell_type": "markdown",
      "source": [
        "Una vez  se tiene `vector_canal` se conoce el número de pixeles que hay en total en cada canal. Por lo que el número de pixeles disponible sen la imagen es `vector_canal` multiplicado por el número de canales (en este caso, 3). "
      ],
      "metadata": {
        "id": "K_EVIv0gkHHb"
      }
    },
    {
      "cell_type": "code",
      "source": [
        "### Encuentra el número total de pixeles informativos de la imagen\n",
        "num_pixels = vector_canal * train_images.shape[-1]\n",
        "###"
      ],
      "metadata": {
        "id": "BS8RpyuhkVbH"
      },
      "execution_count": 25,
      "outputs": []
    },
    {
      "cell_type": "markdown",
      "source": [
        "Basado en lo anterior, ya es posible realizar un reshape de las imágenes de entrenamiento y prueba, para que puedan ser utilizadas por la red neuronal simple. Utiliza el método [`reshape`](https://numpy.org/doc/stable/reference/generated/numpy.reshape.html) para modificar el la dimensión de la imagen a un vector de tamaño `num_pixels`. "
      ],
      "metadata": {
        "id": "d2tSObvKkbkO"
      }
    },
    {
      "cell_type": "code",
      "source": [
        "### Reshape de imágenes de tran y test (asignar nuevo nombre...)\n",
        "\n",
        "train_images_flatten =  train_images.reshape(-1,num_pixels)\n",
        "val_images_flatten =  val_images.reshape(-1,num_pixels)\n",
        "test_images_flatten =  test_images.reshape(-1,num_pixels)\n",
        "\n",
        "###"
      ],
      "metadata": {
        "id": "IHUeqjT9kjN3"
      },
      "execution_count": 58,
      "outputs": []
    },
    {
      "cell_type": "markdown",
      "source": [
        "¡Y ahora sí comienza lo bueno! \n",
        "\n",
        "Utilizando lo aprendido hasta el momento, crea un modelo de red neuronal densa (sencillo) para predecir la categoría de cada imagen. "
      ],
      "metadata": {
        "id": "_DuaI4wolAhH"
      }
    },
    {
      "cell_type": "code",
      "source": [
        "from tensorflow.keras.layers import Dense, Dropout\n",
        "\n",
        "### Defina la arquitectura del modelo\n",
        "\n",
        "simple_model = tf.keras.models.Sequential([\n",
        " Dense(num_pixels/2, activation='leaky_relu'),\n",
        " Dropout(0.3),\n",
        " Dense(num_pixels/4, activation='leaky_relu'),\n",
        " Dropout(0.3),\n",
        " Dense(num_pixels/8, activation='leaky_relu'),\n",
        " Dropout(0.3),\n",
        " Dense(len(np.unique(train_labels)), activation='softmax')\n",
        "\n",
        "])\n",
        "###"
      ],
      "metadata": {
        "id": "NX1V5OdNbww3",
        "outputId": "4367c220-0bd6-45ab-a863-a475f315a887",
        "colab": {
          "base_uri": "https://localhost:8080/",
          "height": 240
        }
      },
      "execution_count": 2,
      "outputs": [
        {
          "output_type": "error",
          "ename": "NameError",
          "evalue": "ignored",
          "traceback": [
            "\u001b[0;31m---------------------------------------------------------------------------\u001b[0m",
            "\u001b[0;31mNameError\u001b[0m                                 Traceback (most recent call last)",
            "\u001b[0;32m<ipython-input-2-dd9db9c1c167>\u001b[0m in \u001b[0;36m<cell line: 5>\u001b[0;34m()\u001b[0m\n\u001b[1;32m      3\u001b[0m \u001b[0;31m### Defina la arquitectura del modelo\u001b[0m\u001b[0;34m\u001b[0m\u001b[0;34m\u001b[0m\u001b[0m\n\u001b[1;32m      4\u001b[0m \u001b[0;34m\u001b[0m\u001b[0m\n\u001b[0;32m----> 5\u001b[0;31m simple_model = tf.keras.models.Sequential([\n\u001b[0m\u001b[1;32m      6\u001b[0m  \u001b[0mDense\u001b[0m\u001b[0;34m(\u001b[0m\u001b[0mnum_pixels\u001b[0m\u001b[0;34m/\u001b[0m\u001b[0;36m2\u001b[0m\u001b[0;34m,\u001b[0m \u001b[0mactivation\u001b[0m\u001b[0;34m=\u001b[0m\u001b[0;34m'leaky_relu'\u001b[0m\u001b[0;34m)\u001b[0m\u001b[0;34m,\u001b[0m\u001b[0;34m\u001b[0m\u001b[0;34m\u001b[0m\u001b[0m\n\u001b[1;32m      7\u001b[0m  \u001b[0mDropout\u001b[0m\u001b[0;34m(\u001b[0m\u001b[0;36m0.3\u001b[0m\u001b[0;34m)\u001b[0m\u001b[0;34m,\u001b[0m\u001b[0;34m\u001b[0m\u001b[0;34m\u001b[0m\u001b[0m\n",
            "\u001b[0;31mNameError\u001b[0m: name 'tf' is not defined"
          ]
        }
      ]
    },
    {
      "cell_type": "code",
      "source": [
        "from tensorflow.keras.losses import SparseCategoricalCrossentropy\n",
        "from tensorflow.keras.metrics import SparseCategoricalAccuracy\n",
        "from tensorflow.keras.optimizers import Adam\n",
        "\n",
        "### Compile el modelo utilizando Sparce Categorical Crossentropy y Accuracy\n",
        "simple_model.compile(\n",
        "    optimizer=Adam(learning_rate=0.001), ## Pruebe otros Optimizadores\n",
        "    loss= SparseCategoricalCrossentropy(), \n",
        "    metrics= [SparseCategoricalAccuracy()]\n",
        ")"
      ],
      "metadata": {
        "id": "Sv3anVWmcBvd"
      },
      "execution_count": 68,
      "outputs": []
    },
    {
      "cell_type": "markdown",
      "source": [
        "Una vez definido y compilado el modelo, se puede realizar una visualización de la cantidad de parámetros que se van a entrenar. Utilice el método [`.summary()`](https://www.tensorflow.org/api_docs/python/tf/keras/Model#summary) para inspeccionar la arquitectura planteada."
      ],
      "metadata": {
        "id": "cUC2NqV7lYiy"
      }
    },
    {
      "cell_type": "code",
      "source": [
        "simple_model.summary()"
      ],
      "metadata": {
        "id": "jIZFw6bacH1W",
        "outputId": "d2cfea3d-809c-49fd-e1ed-80c133d71493",
        "colab": {
          "base_uri": "https://localhost:8080/",
          "height": 312
        }
      },
      "execution_count": 70,
      "outputs": [
        {
          "output_type": "error",
          "ename": "ValueError",
          "evalue": "ignored",
          "traceback": [
            "\u001b[0;31m---------------------------------------------------------------------------\u001b[0m",
            "\u001b[0;31mValueError\u001b[0m                                Traceback (most recent call last)",
            "\u001b[0;32m<ipython-input-70-dc3cf74d131e>\u001b[0m in \u001b[0;36m<cell line: 1>\u001b[0;34m()\u001b[0m\n\u001b[0;32m----> 1\u001b[0;31m \u001b[0msimple_model\u001b[0m\u001b[0;34m.\u001b[0m\u001b[0msummary\u001b[0m\u001b[0;34m(\u001b[0m\u001b[0;34m)\u001b[0m\u001b[0;34m\u001b[0m\u001b[0;34m\u001b[0m\u001b[0m\n\u001b[0m",
            "\u001b[0;32m/usr/local/lib/python3.10/dist-packages/keras/engine/training.py\u001b[0m in \u001b[0;36msummary\u001b[0;34m(self, line_length, positions, print_fn, expand_nested, show_trainable, layer_range)\u001b[0m\n\u001b[1;32m   3227\u001b[0m         \"\"\"\n\u001b[1;32m   3228\u001b[0m         \u001b[0;32mif\u001b[0m \u001b[0;32mnot\u001b[0m \u001b[0mself\u001b[0m\u001b[0;34m.\u001b[0m\u001b[0mbuilt\u001b[0m\u001b[0;34m:\u001b[0m\u001b[0;34m\u001b[0m\u001b[0;34m\u001b[0m\u001b[0m\n\u001b[0;32m-> 3229\u001b[0;31m             raise ValueError(\n\u001b[0m\u001b[1;32m   3230\u001b[0m                 \u001b[0;34m\"This model has not yet been built. \"\u001b[0m\u001b[0;34m\u001b[0m\u001b[0;34m\u001b[0m\u001b[0m\n\u001b[1;32m   3231\u001b[0m                 \u001b[0;34m\"Build the model first by calling `build()` or by calling \"\u001b[0m\u001b[0;34m\u001b[0m\u001b[0;34m\u001b[0m\u001b[0m\n",
            "\u001b[0;31mValueError\u001b[0m: This model has not yet been built. Build the model first by calling `build()` or by calling the model on a batch of data."
          ]
        }
      ]
    },
    {
      "cell_type": "markdown",
      "source": [
        "Adicionalmente, utilizando la librería `visualkeras` puede entender gráficamente cómo es la red neuronal que planteó. "
      ],
      "metadata": {
        "id": "21Wb2smjl-Zr"
      }
    },
    {
      "cell_type": "code",
      "source": [
        "visualkeras.layered_view(simple_model).show()"
      ],
      "metadata": {
        "id": "ohKXdh_mh-WW"
      },
      "execution_count": null,
      "outputs": []
    },
    {
      "cell_type": "markdown",
      "source": [
        "Una vez inspeccionado el modelo, entrénelo por 10 epochs (a modo de ejemplo. Pero puede utilizar muchas más si lo desea). No olvide incluir callbacks de EarlyStopping. No olvide incluir el dataset de valdiación."
      ],
      "metadata": {
        "id": "rDB9BQdTmFR7"
      }
    },
    {
      "cell_type": "code",
      "source": [
        "### Entrene su modelo\n",
        "early_stopping = tf.keras.callbacks.EarlyStopping(None)\n",
        "\n",
        "history_simple = simple_model.fit(None)\n",
        "###"
      ],
      "metadata": {
        "id": "WomEIySpcCzt",
        "outputId": "28458f31-a9f5-42cf-9b48-4af88f891b13",
        "colab": {
          "base_uri": "https://localhost:8080/",
          "height": 240
        }
      },
      "execution_count": 1,
      "outputs": [
        {
          "output_type": "error",
          "ename": "NameError",
          "evalue": "ignored",
          "traceback": [
            "\u001b[0;31m---------------------------------------------------------------------------\u001b[0m",
            "\u001b[0;31mNameError\u001b[0m                                 Traceback (most recent call last)",
            "\u001b[0;32m<ipython-input-1-d23668fe83b7>\u001b[0m in \u001b[0;36m<cell line: 2>\u001b[0;34m()\u001b[0m\n\u001b[1;32m      1\u001b[0m \u001b[0;31m### Entrene su modelo\u001b[0m\u001b[0;34m\u001b[0m\u001b[0;34m\u001b[0m\u001b[0m\n\u001b[0;32m----> 2\u001b[0;31m \u001b[0mearly_stopping\u001b[0m \u001b[0;34m=\u001b[0m \u001b[0mtf\u001b[0m\u001b[0;34m.\u001b[0m\u001b[0mkeras\u001b[0m\u001b[0;34m.\u001b[0m\u001b[0mcallbacks\u001b[0m\u001b[0;34m.\u001b[0m\u001b[0mEarlyStopping\u001b[0m\u001b[0;34m(\u001b[0m\u001b[0;32mNone\u001b[0m\u001b[0;34m)\u001b[0m\u001b[0;34m\u001b[0m\u001b[0;34m\u001b[0m\u001b[0m\n\u001b[0m\u001b[1;32m      3\u001b[0m \u001b[0;34m\u001b[0m\u001b[0m\n\u001b[1;32m      4\u001b[0m \u001b[0mhistory_simple\u001b[0m \u001b[0;34m=\u001b[0m \u001b[0msimple_model\u001b[0m\u001b[0;34m.\u001b[0m\u001b[0mfit\u001b[0m\u001b[0;34m(\u001b[0m\u001b[0;32mNone\u001b[0m\u001b[0;34m)\u001b[0m\u001b[0;34m\u001b[0m\u001b[0;34m\u001b[0m\u001b[0m\n\u001b[1;32m      5\u001b[0m \u001b[0;31m###\u001b[0m\u001b[0;34m\u001b[0m\u001b[0;34m\u001b[0m\u001b[0m\n",
            "\u001b[0;31mNameError\u001b[0m: name 'tf' is not defined"
          ]
        }
      ]
    },
    {
      "cell_type": "code",
      "source": [
        "### Utilice el método `.evaluate` para determinar el desempeño del modelo en test \n",
        "\n",
        "test_loss, test_acc = None\n",
        "print('\\nTest accuracy:', test_acc)\n",
        "\n",
        "###"
      ],
      "metadata": {
        "id": "uxytmpgDcD_9"
      },
      "execution_count": null,
      "outputs": []
    },
    {
      "cell_type": "markdown",
      "source": [
        "¿Cómo le dio al modelo? ¿Es un buen modelo?"
      ],
      "metadata": {
        "id": "2YJWvxPenFq2"
      }
    },
    {
      "cell_type": "code",
      "source": [
        "plot_prediction_results(simple_model, num_pixels)"
      ],
      "metadata": {
        "id": "DPvCIiHfgJSt"
      },
      "execution_count": null,
      "outputs": []
    },
    {
      "cell_type": "markdown",
      "source": [
        "## Red Convolucional\n",
        "\n",
        "Una vez entrenado un modelo que ingora la información espacial que se encuentra en las imágenes, se realizará el entrenamiento de un modelo con redes neuronales convolucionales. \n",
        "\n",
        "Para esto recuerde que la arquitectura típica de una CNN es como sigue ![Arquitectura típica CNN](https://d33wubrfki0l68.cloudfront.net/a7664cf19de33b2c71a482629f27a0d70f715b77/6949d/images/blog/a-comprehensive-guide-to-convolutional-neural-networks-the-eli5-way.jpg).\n",
        "\n",
        "Utilice elemenso como:\n",
        "- Convoluciones: [`Conv2D`](https://www.tensorflow.org/api_docs/python/tf/keras/layers/Conv2D), se sugiere kernel size `(3, 3)`. \n",
        "- Pooling Layers: [`MaxPool2D`](https://www.tensorflow.org/api_docs/python/tf/keras/layers/MaxPool2D) o [`AveragePooling2D`](https://www.tensorflow.org/api_docs/python/tf/keras/layers/AveragePooling2D) para el downsampling, se sugiere pool_size size `(2, 2)`.\n",
        "- [`Flatten`](https://www.tensorflow.org/api_docs/python/tf/keras/layers/Flatten)\n",
        "- [`Dense`](https://www.tensorflow.org/api_docs/python/tf/keras/layers/Dense)"
      ],
      "metadata": {
        "id": "WWsTn1dRcTQb"
      }
    },
    {
      "cell_type": "code",
      "source": [
        "### Defina su modelo de Red Neuronal\n",
        "model = models.Sequential([\n",
        "   None\n",
        "])\n",
        "\n",
        "###\n"
      ],
      "metadata": {
        "id": "3xu8Kz37GT8H"
      },
      "execution_count": null,
      "outputs": []
    },
    {
      "cell_type": "code",
      "source": [
        "### Compile su modelo\n",
        "model.compile(None)\n",
        "\n",
        "###"
      ],
      "metadata": {
        "id": "oUnzjlxwpQDc"
      },
      "execution_count": null,
      "outputs": []
    },
    {
      "cell_type": "code",
      "source": [
        "model.summary()"
      ],
      "metadata": {
        "id": "pDgk1aLKYW2q"
      },
      "execution_count": null,
      "outputs": []
    },
    {
      "cell_type": "code",
      "source": [
        "tf.keras.utils.plot_model(model, show_shapes=True)"
      ],
      "metadata": {
        "id": "atgg6f1UYdlN"
      },
      "execution_count": null,
      "outputs": []
    },
    {
      "cell_type": "code",
      "source": [
        "visualkeras.layered_view(model).show()"
      ],
      "metadata": {
        "id": "nc5cJwv5h4b_"
      },
      "execution_count": null,
      "outputs": []
    },
    {
      "cell_type": "markdown",
      "source": [
        "¡Y realice el entrenamiento del modelo! Nuevamente, se sugiere con 10 epochs para la clase, pero en su tiempo libre puede entrenarlo con más. "
      ],
      "metadata": {
        "id": "E1YNzZWCpU3Y"
      }
    },
    {
      "cell_type": "code",
      "source": [
        "### Entrene su modelo\n",
        "history_model = model.fit(None)\n",
        "\n",
        "###"
      ],
      "metadata": {
        "id": "IpC-V8ZpYYOX"
      },
      "execution_count": null,
      "outputs": []
    },
    {
      "cell_type": "markdown",
      "source": [
        "A continuación, revise el desempeño de su modelo en Test. ¿Qué tal el accuracy? ¿Está satisfecho?"
      ],
      "metadata": {
        "id": "5rKlKEHTpiav"
      }
    },
    {
      "cell_type": "code",
      "source": [
        "plot_prediction_results(model)"
      ],
      "metadata": {
        "id": "L4Sj2mjpV5zA"
      },
      "execution_count": null,
      "outputs": []
    },
    {
      "cell_type": "code",
      "source": [
        "model.evaluate(test_images, test_labels)"
      ],
      "metadata": {
        "id": "WwsTkZBaV8bl"
      },
      "execution_count": null,
      "outputs": []
    },
    {
      "cell_type": "code",
      "source": [],
      "metadata": {
        "id": "cwrfWT-gYKjd"
      },
      "execution_count": null,
      "outputs": []
    }
  ]
}