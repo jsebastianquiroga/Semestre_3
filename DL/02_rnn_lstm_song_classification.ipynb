{
  "nbformat": 4,
  "nbformat_minor": 0,
  "metadata": {
    "colab": {
      "provenance": [],
      "include_colab_link": true
    },
    "kernelspec": {
      "name": "python3",
      "display_name": "Python 3"
    },
    "language_info": {
      "name": "python"
    }
  },
  "cells": [
    {
      "cell_type": "markdown",
      "metadata": {
        "id": "view-in-github",
        "colab_type": "text"
      },
      "source": [
        "<a href=\"https://colab.research.google.com/github/jsebastianquiroga/analitica_ia_puj/blob/main/DL/02_rnn_lstm_song_classification.ipynb\" target=\"_parent\"><img src=\"https://colab.research.google.com/assets/colab-badge.svg\" alt=\"Open In Colab\"/></a>"
      ]
    },
    {
      "cell_type": "code",
      "execution_count": null,
      "metadata": {
        "id": "vpoJQ2MReSSe"
      },
      "outputs": [],
      "source": [
        "import os\n",
        "import numpy as np\n",
        "import pandas as pd\n",
        "from sklearn.model_selection import train_test_split\n",
        "from tensorflow.keras.preprocessing.text import Tokenizer\n",
        "from tensorflow.keras.preprocessing.sequence import pad_sequences\n",
        "from tensorflow.keras.models import Sequential\n",
        "from tensorflow.keras.layers import Embedding, SimpleRNN, LSTM, Dense, Bidirectional"
      ]
    },
    {
      "cell_type": "markdown",
      "source": [
        "En esta sección se realizará un ejercicio de clasificación de canciones en sus respectivos géneros musicales `reggaetón, salsa y ranchera`. ¿Cree que es posible conseguir un modelo capaz de distinguirlos?"
      ],
      "metadata": {
        "id": "44v7V3SOZ2m3"
      }
    },
    {
      "cell_type": "code",
      "source": [
        "df = pd.read_csv('song_lyrics_df.csv')"
      ],
      "metadata": {
        "id": "o-tmmhnBwY87"
      },
      "execution_count": null,
      "outputs": []
    },
    {
      "cell_type": "code",
      "source": [
        "df.head()"
      ],
      "metadata": {
        "colab": {
          "base_uri": "https://localhost:8080/",
          "height": 206
        },
        "id": "SeEx2xQJtgpk",
        "outputId": "8d42623f-b8e4-43c1-ff77-830135441984"
      },
      "execution_count": null,
      "outputs": [
        {
          "output_type": "execute_result",
          "data": {
            "text/plain": [
              "                  song_name  \\\n",
              "0  pero-tu-part-quevedo.txt   \n",
              "1               1831287.txt   \n",
              "2               1513366.txt   \n",
              "3              escarcha.txt   \n",
              "4          un-telegrama.txt   \n",
              "\n",
              "                                              lyrics      genre  \n",
              "0  (Ey, perdón la hora)\\n(Solo quería decirte que...  reggaeton  \n",
              "1  Cuando miro el fondo de tus ojos tiernos\\nSe m...      salsa  \n",
              "2  [Wisin]\\nLa Revolución\\nW, Ya-Yandel\\nLuny Tun...  reggaeton  \n",
              "3  Con la misma frialdad que tu me das\\nque me ha...      salsa  \n",
              "4  Antes de que tus labios me confirmaran que me ...      salsa  "
            ],
            "text/html": [
              "\n",
              "  <div id=\"df-73b43bf1-08dc-4c26-9e02-ac0e70dee2ea\">\n",
              "    <div class=\"colab-df-container\">\n",
              "      <div>\n",
              "<style scoped>\n",
              "    .dataframe tbody tr th:only-of-type {\n",
              "        vertical-align: middle;\n",
              "    }\n",
              "\n",
              "    .dataframe tbody tr th {\n",
              "        vertical-align: top;\n",
              "    }\n",
              "\n",
              "    .dataframe thead th {\n",
              "        text-align: right;\n",
              "    }\n",
              "</style>\n",
              "<table border=\"1\" class=\"dataframe\">\n",
              "  <thead>\n",
              "    <tr style=\"text-align: right;\">\n",
              "      <th></th>\n",
              "      <th>song_name</th>\n",
              "      <th>lyrics</th>\n",
              "      <th>genre</th>\n",
              "    </tr>\n",
              "  </thead>\n",
              "  <tbody>\n",
              "    <tr>\n",
              "      <th>0</th>\n",
              "      <td>pero-tu-part-quevedo.txt</td>\n",
              "      <td>(Ey, perdón la hora)\\n(Solo quería decirte que...</td>\n",
              "      <td>reggaeton</td>\n",
              "    </tr>\n",
              "    <tr>\n",
              "      <th>1</th>\n",
              "      <td>1831287.txt</td>\n",
              "      <td>Cuando miro el fondo de tus ojos tiernos\\nSe m...</td>\n",
              "      <td>salsa</td>\n",
              "    </tr>\n",
              "    <tr>\n",
              "      <th>2</th>\n",
              "      <td>1513366.txt</td>\n",
              "      <td>[Wisin]\\nLa Revolución\\nW, Ya-Yandel\\nLuny Tun...</td>\n",
              "      <td>reggaeton</td>\n",
              "    </tr>\n",
              "    <tr>\n",
              "      <th>3</th>\n",
              "      <td>escarcha.txt</td>\n",
              "      <td>Con la misma frialdad que tu me das\\nque me ha...</td>\n",
              "      <td>salsa</td>\n",
              "    </tr>\n",
              "    <tr>\n",
              "      <th>4</th>\n",
              "      <td>un-telegrama.txt</td>\n",
              "      <td>Antes de que tus labios me confirmaran que me ...</td>\n",
              "      <td>salsa</td>\n",
              "    </tr>\n",
              "  </tbody>\n",
              "</table>\n",
              "</div>\n",
              "      <button class=\"colab-df-convert\" onclick=\"convertToInteractive('df-73b43bf1-08dc-4c26-9e02-ac0e70dee2ea')\"\n",
              "              title=\"Convert this dataframe to an interactive table.\"\n",
              "              style=\"display:none;\">\n",
              "        \n",
              "  <svg xmlns=\"http://www.w3.org/2000/svg\" height=\"24px\"viewBox=\"0 0 24 24\"\n",
              "       width=\"24px\">\n",
              "    <path d=\"M0 0h24v24H0V0z\" fill=\"none\"/>\n",
              "    <path d=\"M18.56 5.44l.94 2.06.94-2.06 2.06-.94-2.06-.94-.94-2.06-.94 2.06-2.06.94zm-11 1L8.5 8.5l.94-2.06 2.06-.94-2.06-.94L8.5 2.5l-.94 2.06-2.06.94zm10 10l.94 2.06.94-2.06 2.06-.94-2.06-.94-.94-2.06-.94 2.06-2.06.94z\"/><path d=\"M17.41 7.96l-1.37-1.37c-.4-.4-.92-.59-1.43-.59-.52 0-1.04.2-1.43.59L10.3 9.45l-7.72 7.72c-.78.78-.78 2.05 0 2.83L4 21.41c.39.39.9.59 1.41.59.51 0 1.02-.2 1.41-.59l7.78-7.78 2.81-2.81c.8-.78.8-2.07 0-2.86zM5.41 20L4 18.59l7.72-7.72 1.47 1.35L5.41 20z\"/>\n",
              "  </svg>\n",
              "      </button>\n",
              "      \n",
              "  <style>\n",
              "    .colab-df-container {\n",
              "      display:flex;\n",
              "      flex-wrap:wrap;\n",
              "      gap: 12px;\n",
              "    }\n",
              "\n",
              "    .colab-df-convert {\n",
              "      background-color: #E8F0FE;\n",
              "      border: none;\n",
              "      border-radius: 50%;\n",
              "      cursor: pointer;\n",
              "      display: none;\n",
              "      fill: #1967D2;\n",
              "      height: 32px;\n",
              "      padding: 0 0 0 0;\n",
              "      width: 32px;\n",
              "    }\n",
              "\n",
              "    .colab-df-convert:hover {\n",
              "      background-color: #E2EBFA;\n",
              "      box-shadow: 0px 1px 2px rgba(60, 64, 67, 0.3), 0px 1px 3px 1px rgba(60, 64, 67, 0.15);\n",
              "      fill: #174EA6;\n",
              "    }\n",
              "\n",
              "    [theme=dark] .colab-df-convert {\n",
              "      background-color: #3B4455;\n",
              "      fill: #D2E3FC;\n",
              "    }\n",
              "\n",
              "    [theme=dark] .colab-df-convert:hover {\n",
              "      background-color: #434B5C;\n",
              "      box-shadow: 0px 1px 3px 1px rgba(0, 0, 0, 0.15);\n",
              "      filter: drop-shadow(0px 1px 2px rgba(0, 0, 0, 0.3));\n",
              "      fill: #FFFFFF;\n",
              "    }\n",
              "  </style>\n",
              "\n",
              "      <script>\n",
              "        const buttonEl =\n",
              "          document.querySelector('#df-73b43bf1-08dc-4c26-9e02-ac0e70dee2ea button.colab-df-convert');\n",
              "        buttonEl.style.display =\n",
              "          google.colab.kernel.accessAllowed ? 'block' : 'none';\n",
              "\n",
              "        async function convertToInteractive(key) {\n",
              "          const element = document.querySelector('#df-73b43bf1-08dc-4c26-9e02-ac0e70dee2ea');\n",
              "          const dataTable =\n",
              "            await google.colab.kernel.invokeFunction('convertToInteractive',\n",
              "                                                     [key], {});\n",
              "          if (!dataTable) return;\n",
              "\n",
              "          const docLinkHtml = 'Like what you see? Visit the ' +\n",
              "            '<a target=\"_blank\" href=https://colab.research.google.com/notebooks/data_table.ipynb>data table notebook</a>'\n",
              "            + ' to learn more about interactive tables.';\n",
              "          element.innerHTML = '';\n",
              "          dataTable['output_type'] = 'display_data';\n",
              "          await google.colab.output.renderOutput(dataTable, element);\n",
              "          const docLink = document.createElement('div');\n",
              "          docLink.innerHTML = docLinkHtml;\n",
              "          element.appendChild(docLink);\n",
              "        }\n",
              "      </script>\n",
              "    </div>\n",
              "  </div>\n",
              "  "
            ]
          },
          "metadata": {},
          "execution_count": 12
        }
      ]
    },
    {
      "cell_type": "code",
      "source": [
        "import textwrap\n",
        "\n",
        "lyrics = df[df.song_name.str.contains('tqg')].lyrics.iloc[0]\n",
        "wrapped_lyrics = textwrap.fill(lyrics, width=80)\n",
        "\n",
        "print(wrapped_lyrics)\n"
      ],
      "metadata": {
        "colab": {
          "base_uri": "https://localhost:8080/"
        },
        "id": "CowXY4IbtjWp",
        "outputId": "1e76676b-af12-4e83-b7ef-764aaf34e07e"
      },
      "execution_count": null,
      "outputs": [
        {
          "output_type": "stream",
          "name": "stdout",
          "text": [
            "La que te dijo que un vacío se llenó con otra persona, te miente Es como tapar\n",
            "una herida con maquillaje, no se ve, pero se siente Te fuiste diciendo que me\n",
            "superaste y te conseguiste nueva novia Lo que ella no sabe es que tú todavía me\n",
            "está' viendo toa' las Historias Bebé, ¿qué fue? No pues, qué muy tragaíto' ¿Qué\n",
            "haces buscándome el la'o Si sabes que yo, errores, no repito? (papi) Dile a tu\n",
            "nueva bebé Que, por hombres, no compito Que deje de estar tirando Que, al menos,\n",
            "yo te tenía bonito Verte con la nueva, me dolió Pero ya estoy puesta pa' lo mío\n",
            "Lo que vivimos, se me olvidó Y eso es lo que te tiene ofendido Que hasta la vida\n",
            "me mejoró Por acá, ya no eres bienvenido Vi lo que tu novia me tiró Eso no da ni\n",
            "rabia, yo me río, yo me río No tengo tiempo pa' lo que no aporte Ya cambié mi\n",
            "norte Haciendo dinero como deporte Llenando la cuenta, los show', el parking y\n",
            "el pasaporte Estoy más dura, dicen los reportes Ahora tú quieres volver, se te\n",
            "nota, mmm, sí Espérame ahí, que yo soy idiota Se te olvidó que estoy en otra Y\n",
            "que te quedó grande La Bichota Bebé, ¿qué fue? No pues, qué muy tragaíto' ¿Qué\n",
            "haces buscándome el la'o Si sabes que yo, errores, no repito? Dile a tu nueva\n",
            "bebé Que, por hombres, no compito Que deje de estar tirando Que, al menos, yo te\n",
            "tenía bonito (Shakira, Shakira) Tú te fuiste y yo me puse triple M Más buena,\n",
            "más dura, más level Volver contigo, never, tú eres la mala suerte Porque, ahora,\n",
            "la' bendicione' me llueven Y quieres volver, ya lo suponía Dándole like a las\n",
            "fotos mía Tú buscando por fuera la comida Y yo diciendo que era monotonía Y\n",
            "ahora quieres volver, ya lo suponía Dándole like a las fotos mía Te ves feliz\n",
            "con tu nueva vida, pero Si ella supiera que me busca' todavía Bebé, ¿qué fue? No\n",
            "pues, qué muy tragaíto' ¿Qué haces buscándome el la'o Si sabes que yo, errores,\n",
            "no repito? Dile a tu nueva bebé Que, por hombres, no compito (mueve ese culito)\n",
            "Que no tiene buena mano Y, al menos, yo te tenía bonito (O-O-Ovy On The Drums)\n",
            "(Mi amor, es que usted se alejó mucho) (Y yo de lejos ya no veo, bebé) (TQM,\n",
            "pero TQG, jajaja) (Barranquilla, Medallo)\n"
          ]
        }
      ]
    },
    {
      "cell_type": "markdown",
      "source": [
        "# 1. Pre-Procesamiento de Texto\n",
        "\n",
        "El Pre-Procesamiento del texto es de los pasos más improtantes en el NLP. Particularmente, es importante estandarizar el texto, eliminar ruido y caracteres especiales. Es importante eliminar palabras que no tienen un significado.\n",
        "\n",
        "A continuación, se va a crear una función que permita eliminar tildes, símbolos, números (a menos que sean relevantes) y espacios extra.\n",
        "\n",
        "Utilizaremos la librería `unicodedata` para eliminar todas las tildes (para entender qué hace, puede consultar [este artículo](https://towardsdatascience.com/difference-between-nfd-nfc-nfkd-and-nfkc-explained-with-python-code-e2631f96ae6c)). Y por medio de la expresión regular `[^a-zA-Z\\s]` se eliminará todo lo que sea diferente a una letra o un espacio. "
      ],
      "metadata": {
        "id": "Hm7JGQoAwjjN"
      }
    },
    {
      "cell_type": "code",
      "source": [
        "import re\n",
        "import unicodedata\n",
        "\n",
        "def clean_text(text):\n",
        "    # Elimina tildes\n",
        "    text = unicodedata.normalize('NFKD', text).encode('ascii', 'ignore').decode('utf-8', 'ignore')\n",
        "    \n",
        "    # Vuelve el texto minúscula\n",
        "    text = text.lower()\n",
        "    \n",
        "    # Elimina caracteres especiales y números\n",
        "    text = re.sub(r'[^a-zA-Z\\s]', '', text)\n",
        "    \n",
        "    # Elimina múltiples espacios\n",
        "    text = re.sub(r'\\s+', ' ', text)\n",
        "    \n",
        "    return text.strip()\n",
        "\n",
        "# Se aplica a \n",
        "df['lyrics'] = df['lyrics'].apply(clean_text)\n"
      ],
      "metadata": {
        "id": "KkAoo9q3e8re"
      },
      "execution_count": null,
      "outputs": []
    },
    {
      "cell_type": "code",
      "source": [
        "genres = df.genre.unique().tolist()"
      ],
      "metadata": {
        "id": "R_8jYsHXEl_w"
      },
      "execution_count": null,
      "outputs": []
    },
    {
      "cell_type": "code",
      "source": [
        "lyrics = df[df.song_name.str.contains('tqg')].lyrics.iloc[0]\n",
        "wrapped_lyrics = textwrap.fill(lyrics, width=80)\n",
        "\n",
        "print(wrapped_lyrics)\n"
      ],
      "metadata": {
        "colab": {
          "base_uri": "https://localhost:8080/"
        },
        "id": "Yu_p8wfRyM_3",
        "outputId": "631a67c8-cb0f-47f2-dded-5ed1d58df5a5"
      },
      "execution_count": null,
      "outputs": [
        {
          "output_type": "stream",
          "name": "stdout",
          "text": [
            "la que te dijo que un vacio se lleno con otra persona te miente es como tapar\n",
            "una herida con maquillaje no se ve pero se siente te fuiste diciendo que me\n",
            "superaste y te conseguiste nueva novia lo que ella no sabe es que tu todavia me\n",
            "esta viendo toa las historias bebe que fue no pues que muy tragaito que haces\n",
            "buscandome el lao si sabes que yo errores no repito papi dile a tu nueva bebe\n",
            "que por hombres no compito que deje de estar tirando que al menos yo te tenia\n",
            "bonito verte con la nueva me dolio pero ya estoy puesta pa lo mio lo que vivimos\n",
            "se me olvido y eso es lo que te tiene ofendido que hasta la vida me mejoro por\n",
            "aca ya no eres bienvenido vi lo que tu novia me tiro eso no da ni rabia yo me\n",
            "rio yo me rio no tengo tiempo pa lo que no aporte ya cambie mi norte haciendo\n",
            "dinero como deporte llenando la cuenta los show el parking y el pasaporte estoy\n",
            "mas dura dicen los reportes ahora tu quieres volver se te nota mmm si esperame\n",
            "ahi que yo soy idiota se te olvido que estoy en otra y que te quedo grande la\n",
            "bichota bebe que fue no pues que muy tragaito que haces buscandome el lao si\n",
            "sabes que yo errores no repito dile a tu nueva bebe que por hombres no compito\n",
            "que deje de estar tirando que al menos yo te tenia bonito shakira shakira tu te\n",
            "fuiste y yo me puse triple m mas buena mas dura mas level volver contigo never\n",
            "tu eres la mala suerte porque ahora la bendicione me llueven y quieres volver ya\n",
            "lo suponia dandole like a las fotos mia tu buscando por fuera la comida y yo\n",
            "diciendo que era monotonia y ahora quieres volver ya lo suponia dandole like a\n",
            "las fotos mia te ves feliz con tu nueva vida pero si ella supiera que me busca\n",
            "todavia bebe que fue no pues que muy tragaito que haces buscandome el lao si\n",
            "sabes que yo errores no repito dile a tu nueva bebe que por hombres no compito\n",
            "mueve ese culito que no tiene buena mano y al menos yo te tenia bonito ooovy on\n",
            "the drums mi amor es que usted se alejo mucho y yo de lejos ya no veo bebe tqm\n",
            "pero tqg jajaja barranquilla medallo\n"
          ]
        }
      ]
    },
    {
      "cell_type": "code",
      "source": [
        "df.head()"
      ],
      "metadata": {
        "colab": {
          "base_uri": "https://localhost:8080/",
          "height": 206
        },
        "id": "sGRK-wztfW4d",
        "outputId": "62286e75-b036-4cda-abc7-94efd09525fe"
      },
      "execution_count": null,
      "outputs": [
        {
          "output_type": "execute_result",
          "data": {
            "text/plain": [
              "                  song_name  \\\n",
              "0  pero-tu-part-quevedo.txt   \n",
              "1               1831287.txt   \n",
              "2               1513366.txt   \n",
              "3              escarcha.txt   \n",
              "4          un-telegrama.txt   \n",
              "\n",
              "                                              lyrics      genre  \n",
              "0  ey perdon la hora solo queria decirte que lo q...  reggaeton  \n",
              "1  cuando miro el fondo de tus ojos tiernos se me...      salsa  \n",
              "2  wisin la revolucion w yayandel luny tunes yand...  reggaeton  \n",
              "3  con la misma frialdad que tu me das que me hac...      salsa  \n",
              "4  antes de que tus labios me confirmaran que me ...      salsa  "
            ],
            "text/html": [
              "\n",
              "  <div id=\"df-48442fb8-66a0-4711-a775-b3c2655bebf5\">\n",
              "    <div class=\"colab-df-container\">\n",
              "      <div>\n",
              "<style scoped>\n",
              "    .dataframe tbody tr th:only-of-type {\n",
              "        vertical-align: middle;\n",
              "    }\n",
              "\n",
              "    .dataframe tbody tr th {\n",
              "        vertical-align: top;\n",
              "    }\n",
              "\n",
              "    .dataframe thead th {\n",
              "        text-align: right;\n",
              "    }\n",
              "</style>\n",
              "<table border=\"1\" class=\"dataframe\">\n",
              "  <thead>\n",
              "    <tr style=\"text-align: right;\">\n",
              "      <th></th>\n",
              "      <th>song_name</th>\n",
              "      <th>lyrics</th>\n",
              "      <th>genre</th>\n",
              "    </tr>\n",
              "  </thead>\n",
              "  <tbody>\n",
              "    <tr>\n",
              "      <th>0</th>\n",
              "      <td>pero-tu-part-quevedo.txt</td>\n",
              "      <td>ey perdon la hora solo queria decirte que lo q...</td>\n",
              "      <td>reggaeton</td>\n",
              "    </tr>\n",
              "    <tr>\n",
              "      <th>1</th>\n",
              "      <td>1831287.txt</td>\n",
              "      <td>cuando miro el fondo de tus ojos tiernos se me...</td>\n",
              "      <td>salsa</td>\n",
              "    </tr>\n",
              "    <tr>\n",
              "      <th>2</th>\n",
              "      <td>1513366.txt</td>\n",
              "      <td>wisin la revolucion w yayandel luny tunes yand...</td>\n",
              "      <td>reggaeton</td>\n",
              "    </tr>\n",
              "    <tr>\n",
              "      <th>3</th>\n",
              "      <td>escarcha.txt</td>\n",
              "      <td>con la misma frialdad que tu me das que me hac...</td>\n",
              "      <td>salsa</td>\n",
              "    </tr>\n",
              "    <tr>\n",
              "      <th>4</th>\n",
              "      <td>un-telegrama.txt</td>\n",
              "      <td>antes de que tus labios me confirmaran que me ...</td>\n",
              "      <td>salsa</td>\n",
              "    </tr>\n",
              "  </tbody>\n",
              "</table>\n",
              "</div>\n",
              "      <button class=\"colab-df-convert\" onclick=\"convertToInteractive('df-48442fb8-66a0-4711-a775-b3c2655bebf5')\"\n",
              "              title=\"Convert this dataframe to an interactive table.\"\n",
              "              style=\"display:none;\">\n",
              "        \n",
              "  <svg xmlns=\"http://www.w3.org/2000/svg\" height=\"24px\"viewBox=\"0 0 24 24\"\n",
              "       width=\"24px\">\n",
              "    <path d=\"M0 0h24v24H0V0z\" fill=\"none\"/>\n",
              "    <path d=\"M18.56 5.44l.94 2.06.94-2.06 2.06-.94-2.06-.94-.94-2.06-.94 2.06-2.06.94zm-11 1L8.5 8.5l.94-2.06 2.06-.94-2.06-.94L8.5 2.5l-.94 2.06-2.06.94zm10 10l.94 2.06.94-2.06 2.06-.94-2.06-.94-.94-2.06-.94 2.06-2.06.94z\"/><path d=\"M17.41 7.96l-1.37-1.37c-.4-.4-.92-.59-1.43-.59-.52 0-1.04.2-1.43.59L10.3 9.45l-7.72 7.72c-.78.78-.78 2.05 0 2.83L4 21.41c.39.39.9.59 1.41.59.51 0 1.02-.2 1.41-.59l7.78-7.78 2.81-2.81c.8-.78.8-2.07 0-2.86zM5.41 20L4 18.59l7.72-7.72 1.47 1.35L5.41 20z\"/>\n",
              "  </svg>\n",
              "      </button>\n",
              "      \n",
              "  <style>\n",
              "    .colab-df-container {\n",
              "      display:flex;\n",
              "      flex-wrap:wrap;\n",
              "      gap: 12px;\n",
              "    }\n",
              "\n",
              "    .colab-df-convert {\n",
              "      background-color: #E8F0FE;\n",
              "      border: none;\n",
              "      border-radius: 50%;\n",
              "      cursor: pointer;\n",
              "      display: none;\n",
              "      fill: #1967D2;\n",
              "      height: 32px;\n",
              "      padding: 0 0 0 0;\n",
              "      width: 32px;\n",
              "    }\n",
              "\n",
              "    .colab-df-convert:hover {\n",
              "      background-color: #E2EBFA;\n",
              "      box-shadow: 0px 1px 2px rgba(60, 64, 67, 0.3), 0px 1px 3px 1px rgba(60, 64, 67, 0.15);\n",
              "      fill: #174EA6;\n",
              "    }\n",
              "\n",
              "    [theme=dark] .colab-df-convert {\n",
              "      background-color: #3B4455;\n",
              "      fill: #D2E3FC;\n",
              "    }\n",
              "\n",
              "    [theme=dark] .colab-df-convert:hover {\n",
              "      background-color: #434B5C;\n",
              "      box-shadow: 0px 1px 3px 1px rgba(0, 0, 0, 0.15);\n",
              "      filter: drop-shadow(0px 1px 2px rgba(0, 0, 0, 0.3));\n",
              "      fill: #FFFFFF;\n",
              "    }\n",
              "  </style>\n",
              "\n",
              "      <script>\n",
              "        const buttonEl =\n",
              "          document.querySelector('#df-48442fb8-66a0-4711-a775-b3c2655bebf5 button.colab-df-convert');\n",
              "        buttonEl.style.display =\n",
              "          google.colab.kernel.accessAllowed ? 'block' : 'none';\n",
              "\n",
              "        async function convertToInteractive(key) {\n",
              "          const element = document.querySelector('#df-48442fb8-66a0-4711-a775-b3c2655bebf5');\n",
              "          const dataTable =\n",
              "            await google.colab.kernel.invokeFunction('convertToInteractive',\n",
              "                                                     [key], {});\n",
              "          if (!dataTable) return;\n",
              "\n",
              "          const docLinkHtml = 'Like what you see? Visit the ' +\n",
              "            '<a target=\"_blank\" href=https://colab.research.google.com/notebooks/data_table.ipynb>data table notebook</a>'\n",
              "            + ' to learn more about interactive tables.';\n",
              "          element.innerHTML = '';\n",
              "          dataTable['output_type'] = 'display_data';\n",
              "          await google.colab.output.renderOutput(dataTable, element);\n",
              "          const docLink = document.createElement('div');\n",
              "          docLink.innerHTML = docLinkHtml;\n",
              "          element.appendChild(docLink);\n",
              "        }\n",
              "      </script>\n",
              "    </div>\n",
              "  </div>\n",
              "  "
            ]
          },
          "metadata": {},
          "execution_count": 17
        }
      ]
    },
    {
      "cell_type": "markdown",
      "source": [
        "# 2. Train-Test Split\n",
        "\n",
        "A continuación se realiza la división en train-val-test, para el entrenamiento del modelo. \n",
        "Esta división es importante por varias razones:\n",
        "1. Es necesario definir el vocabulario sobre el cual se va a entrenar el modelo [train].\n",
        "2. Es necesario hacer el seguimiento del entrenamiento del modelo en validación para evitar el overfitting [val].\n",
        "3. Utilizando test se mide el desempeño del modelo en la vida real [test]"
      ],
      "metadata": {
        "id": "F5SyB8J6yxnV"
      }
    },
    {
      "cell_type": "code",
      "source": [
        "### Realice la Partición en Train (70) y Test (30)\n",
        "\n",
        "train_df, test_df = None\n",
        "\n",
        "### Particione el dataset de Train en Train (70) y validación (30)\n",
        "train_df, val_df = None\n",
        "\n",
        "###"
      ],
      "metadata": {
        "id": "y-8-jqOZfcid"
      },
      "execution_count": null,
      "outputs": []
    },
    {
      "cell_type": "markdown",
      "source": [
        "# 3. Vocabulary and Sequences\n",
        "\n",
        "Para que el modelo pueda entender las canciones, debe tokenizarse para convertir las palabras en números. Para esto se utilizará el [`Tokenizer`](https://www.tensorflow.org/api_docs/python/tf/keras/preprocessing/text/Tokenizer) cuya responsabilidad es convertir una secuencia de texto (la canción) en una secuencia de números. \n",
        "\n",
        "Se debe definir el número máximo de palabras que aceptaremos por canción `max_length` y el tamaño del vocabulario `max_words`. \n",
        "\n",
        "Estos números no pueden ser aleatorios, pero se deben definir inicialmente para poder utilizarlos. Defina `max_words = 5000`. "
      ],
      "metadata": {
        "id": "NECdaZqn0HIc"
      }
    },
    {
      "cell_type": "markdown",
      "source": [
        "A continuación, utilize [`Tokenizer`](https://www.tensorflow.org/api_docs/python/tf/keras/preprocessing/text/Tokenizer) y utilice el método `fit_on_texts` para aprender el vocabulario de las canciones que se encuentran en train. "
      ],
      "metadata": {
        "id": "iUDyZ26d1fpR"
      }
    },
    {
      "cell_type": "code",
      "source": [
        "###\n",
        "tokenizer = None\n",
        "tokenizer.fit_on_texts(None)\n",
        "###\n",
        "word_index = tokenizer.word_index"
      ],
      "metadata": {
        "id": "cJ_jksJJ1e9e"
      },
      "execution_count": null,
      "outputs": []
    },
    {
      "cell_type": "markdown",
      "source": [
        "El parámetro `num_words` determina la cantidad de palabras que se van a utilizar para el aprendizaje de los géneros de las canciones. ¿Cuánto es el tamaño del vocabulario más adecuado? \n",
        "\n",
        "En este caso se tienen 12366 palabras.\n",
        "\n",
        "Responder esta pregunta no es fácil. Sin embargo, es posible tomar las palabras que tengan mayor probabilidad, con una cobertura de hasta `coverage`. \n",
        "\n",
        "Se propone utilizar `coverage = 0.95` pero puede utilizar otro valor de cobertura para determinar el impacto en el modelo final. "
      ],
      "metadata": {
        "id": "8WRykwiw3Kpg"
      }
    },
    {
      "cell_type": "markdown",
      "source": [
        "A continuacíon "
      ],
      "metadata": {
        "id": "V74bYz1S30lD"
      }
    },
    {
      "cell_type": "code",
      "source": [
        "word_counts = list(tokenizer.word_counts.values())\n",
        "word_counts.sort(reverse=True)\n",
        "total_word_count = sum(word_counts)\n",
        "cumulative_word_count = 0\n",
        "\n",
        "###\n",
        "coverage = None\n",
        "\n",
        "###\n",
        "\n",
        "for i, count in enumerate(word_counts):\n",
        "    cumulative_word_count += count\n",
        "    if cumulative_word_count / total_word_count >= coverage:\n",
        "        break\n",
        "\n",
        "optimal_words = i + 1\n",
        "print(f\"To achieve {coverage * 100}% coverage of the dataset, you need to use the top {optimal_words} most common words.\")\n"
      ],
      "metadata": {
        "colab": {
          "base_uri": "https://localhost:8080/"
        },
        "id": "o2T5vo8O3vJt",
        "outputId": "afb08551-a071-45f2-b868-47e6f31ae126"
      },
      "execution_count": null,
      "outputs": [
        {
          "output_type": "stream",
          "name": "stdout",
          "text": [
            "To achieve 95.0% coverage of the dataset, you need to use the top 5689 most common words.\n"
          ]
        }
      ]
    },
    {
      "cell_type": "markdown",
      "source": [
        "Teniendo en cuenta lo anterior, defina el parámetro `max_words` como la cantidad de palabras que cumple sus criterios de cobertura. Ajuste nuevamente el Tokenizador con la cantidad de palabras definida por usted. "
      ],
      "metadata": {
        "id": "C8VVL91r4elk"
      }
    },
    {
      "cell_type": "code",
      "source": [
        "###\n",
        "max_words = None\n",
        "\n",
        "tokenizer = None\n",
        "tokenizer.fit_on_texts(train_df['lyrics'])\n",
        "###"
      ],
      "metadata": {
        "id": "AcVLV1U74k9U"
      },
      "execution_count": null,
      "outputs": []
    },
    {
      "cell_type": "markdown",
      "source": [
        "A continuación se debe determinar cuál es el tamaño (o más representativo) de las canciones del dataset. Esta es la ventana de conocimiento máximo que se le pasará al modelo. \n",
        "\n",
        "Realice un histograma para determinar la distribución del tamaño de las canciones en el dataset de train. \n",
        "\n",
        "**Hint:** Puede utilizar el método [`pandas.Series.str.len`](https://pandas.pydata.org/docs/reference/api/pandas.Series.str.len.html) o cualquier otra forma para encontrar el tamaño de las secuencias. \n",
        "\n",
        "**Hint 2:** Utilice [`matplotlib.pyplot.hist`](https://matplotlib.org/stable/api/_as_gen/matplotlib.pyplot.hist.html) para crear un historgrama."
      ],
      "metadata": {
        "id": "k51RD9Rr3X12"
      }
    },
    {
      "cell_type": "code",
      "source": [
        "import matplotlib.pyplot as plt\n",
        "\n",
        "### Haga el gráfico del histograma\n",
        "\n",
        "\n",
        "\n",
        "###\n",
        "plt.xlabel('Sequence Length')\n",
        "plt.ylabel('Frequency')\n",
        "plt.show()"
      ],
      "metadata": {
        "colab": {
          "base_uri": "https://localhost:8080/",
          "height": 449
        },
        "id": "4SJHvYIKgBjD",
        "outputId": "1a7efccd-5971-499a-c11f-3d6e95af4c07"
      },
      "execution_count": null,
      "outputs": [
        {
          "output_type": "display_data",
          "data": {
            "text/plain": [
              "<Figure size 640x480 with 1 Axes>"
            ],
            "image/png": "[encoded data removed]"
          },
          "metadata": {}
        }
      ]
    },
    {
      "cell_type": "markdown",
      "source": [
        "Teniendo en cuenta el historgrama anterior, determine el tamaño de la secuencia máxima para el modelo, en `max_length`. "
      ],
      "metadata": {
        "id": "74y8jbBg_mrx"
      }
    },
    {
      "cell_type": "code",
      "source": [
        "max_length = None"
      ],
      "metadata": {
        "id": "Xk2sfe1_Aitb"
      },
      "execution_count": null,
      "outputs": []
    },
    {
      "cell_type": "markdown",
      "source": [
        "# Tokenización de Secuencias para Entrenamiento \n",
        "\n",
        "Con lo anterior, ya se tiene definida la forma en que se tokenizará el texto para el modelo. Utilice el método `fit_on_texts` para transformar los datos de train, test y validación. "
      ],
      "metadata": {
        "id": "QSJ5DgbBHg8Y"
      }
    },
    {
      "cell_type": "markdown",
      "source": [
        "El Tokenizador  ya conoce el vocabulario que se va a utilizar en el diccionario. Por lo anterior, es necesario transformar las canciones en las secuencias de texto correspondientes. Para esto, se utilizará el método [`.texts_to_sequences`](https://www.tensorflow.org/api_docs/python/tf/keras/preprocessing/text/Tokenizer#texts_to_sequences) sobre los datos de train, test y validación. \n"
      ],
      "metadata": {
        "id": "ofo8RNrVhaAE"
      }
    },
    {
      "cell_type": "code",
      "source": [
        "X_train = tokenizer.texts_to_sequences(train_df['lyrics'])\n",
        "X_val = tokenizer.texts_to_sequences(val_df['lyrics'])\n",
        "X_test = tokenizer.texts_to_sequences(test_df['lyrics'])"
      ],
      "metadata": {
        "id": "qRsZvep7flaw"
      },
      "execution_count": null,
      "outputs": []
    },
    {
      "cell_type": "markdown",
      "source": [
        "\n",
        "Anteriormente se definió un largo máximo para la secuencia (la cantidad de palabras en las canciones). Esta información se encuentra en `max_length`. Como es posible tener canciones con pocas palabras (menos de `max_length`) o muy largas (más de `max_length`) es necesario utilizar una técnica que se llama `padding`, con el objetivo de estandarizar el tamaño del input que procesará la red neuronal. \n",
        "\n",
        "De esta formas, canciones con diferente tamaño tendrán la misma longitud. \n",
        "\n",
        "Un ejemplo de lo anterior es, \n",
        "\n",
        "\n",
        "| Before padding | After padding (with maxlen=6) |\n",
        "| :--- | :--- |\n",
        "| `[\"qué\", \"fue\", \"bebé\"]` | `[0, 0, 0, \"qué\", \"fue\", \"bebé\"]` |\n",
        "| `[\"porque\", \"la\", \"noche\", \"de\", \"anoche\", \"fue\"]` | `[\"porque\", \"la\", \"noche\", \"de\", \"anoche\", \"fue\"]` |\n",
        "| `[\"altanera\", \"preciosa\", \"y\", \"orgullosa\", \"no\", \"permite\", \"la\", \"quieran\", \"consolar\"]` | `[\"altanera\", \"preciosa\", \"y\", \"orgullosa\", \"no\", \"permite\"]` |\n",
        "\n",
        "\n",
        "Utilice el método [`pad_sequences`](https://www.tensorflow.org/api_docs/python/tf/keras/utils/pad_sequences) para garantizar que todas las secuencias de texto tengan el mismo tamaño, siendo este `max_length`. \n"
      ],
      "metadata": {
        "id": "cp3vpHaJH-zO"
      }
    },
    {
      "cell_type": "code",
      "source": [
        "###\n",
        "X_train = None\n",
        "X_val = None\n",
        "X_test = None\n",
        "###"
      ],
      "metadata": {
        "id": "XxqNvfJBICAu"
      },
      "execution_count": null,
      "outputs": []
    },
    {
      "cell_type": "markdown",
      "source": [
        "A continuación se puede observar un ejemplo de la tokenización y el padding. "
      ],
      "metadata": {
        "id": "_nn5vMBqKplb"
      }
    },
    {
      "cell_type": "code",
      "source": [
        "tokenized_bichota =  tokenizer.texts_to_sequences([\"baby que mas hace rato que no sé anda de ti\"])"
      ],
      "metadata": {
        "id": "8aexIg9TtBq_"
      },
      "execution_count": null,
      "outputs": []
    },
    {
      "cell_type": "code",
      "source": [
        "#tokenized_bichota"
      ],
      "metadata": {
        "id": "7-k6ONG9D6Gc"
      },
      "execution_count": null,
      "outputs": []
    },
    {
      "cell_type": "code",
      "source": [
        "tokenized_bichota = pad_sequences(tokenized_bichota, maxlen=20) # Ejemplo con 20 de padding. "
      ],
      "metadata": {
        "id": "9qxUYgNCKtUd"
      },
      "execution_count": null,
      "outputs": []
    },
    {
      "cell_type": "code",
      "source": [
        "## Interpreta una secuencia de números en los tokens\n",
        "reverse_word_index = dict([(value, key) for (key, value) in tokenizer.word_index.items()])\n",
        "\n",
        "# Decodifica el texto\n",
        "decoded_text = [reverse_word_index.get(i, '?') for i in tokenized_bichota[0]]\n",
        "\n",
        "# Generación de Frase\n",
        "original_text = ' '.join(decoded_text)\n",
        "print(original_text)\n"
      ],
      "metadata": {
        "colab": {
          "base_uri": "https://localhost:8080/"
        },
        "id": "SWKTZOQ1tJ_0",
        "outputId": "e97cf15e-87f5-4dbf-fc9d-2a88db7a8642"
      },
      "execution_count": null,
      "outputs": [
        {
          "output_type": "stream",
          "name": "stdout",
          "text": [
            "? ? ? ? ? ? ? ? ? ? baby que mas hace rato que no anda de ti\n"
          ]
        }
      ]
    },
    {
      "cell_type": "markdown",
      "source": [
        "A continuación se acomoda el target del modelo por la categoría."
      ],
      "metadata": {
        "id": "IpzP6hcqL0I0"
      }
    },
    {
      "cell_type": "code",
      "source": [
        "genre_index = {genre: i for i, genre in enumerate(genres)}\n",
        "\n",
        "y_train = train_df['genre'].apply(lambda x: genre_index[x]).values\n",
        "y_val = val_df['genre'].apply(lambda x: genre_index[x]).values\n",
        "y_test = test_df['genre'].apply(lambda x: genre_index[x]).values\n"
      ],
      "metadata": {
        "id": "s4P2JbMvfoJ5"
      },
      "execution_count": null,
      "outputs": []
    },
    {
      "cell_type": "code",
      "source": [
        "genre_index"
      ],
      "metadata": {
        "colab": {
          "base_uri": "https://localhost:8080/"
        },
        "id": "kqH9X3Zrrkaw",
        "outputId": "71352239-2afd-49be-88e8-a380b3b7b397"
      },
      "execution_count": null,
      "outputs": [
        {
          "output_type": "execute_result",
          "data": {
            "text/plain": [
              "{'reggaeton': 0, 'salsa': 1, 'ranchera': 2}"
            ]
          },
          "metadata": {},
          "execution_count": 31
        }
      ]
    },
    {
      "cell_type": "code",
      "source": [
        "from tensorflow.keras.callbacks import LearningRateScheduler\n",
        "\n",
        "def step_decay(epoch):\n",
        "    initial_lr = 0.01#0.001\n",
        "    drop_rate = 0.5\n",
        "    epochs_drop = 10\n",
        "    lr = initial_lr * drop_rate ** (epoch // epochs_drop)\n",
        "    return lr\n",
        "\n",
        "lr_scheduler = LearningRateScheduler(step_decay)\n"
      ],
      "metadata": {
        "id": "Dn1o2gYdvGF2"
      },
      "execution_count": null,
      "outputs": []
    },
    {
      "cell_type": "code",
      "source": [
        "from tensorflow.keras.layers import Dropout\n",
        "from tensorflow.keras.callbacks import EarlyStopping\n",
        "from tensorflow.keras.callbacks import TensorBoard\n",
        "from tensorflow.keras.regularizers import l2\n",
        "from tensorflow.keras.optimizers import Adam\n",
        "from tensorflow.keras.callbacks import LearningRateScheduler"
      ],
      "metadata": {
        "id": "7sVThG60NY3E"
      },
      "execution_count": null,
      "outputs": []
    },
    {
      "cell_type": "markdown",
      "source": [
        "A continuación defina su modelo de Red Neuronal. Se recomienda utilizar una Embedding Layer ([`tf.keras.layers.Embedding`](https://www.tensorflow.org/api_docs/python/tf/keras/layers/Embedding) para generar representaciones vectoriales de cada uno de los `tokens` presentes en el vocabulario del modelo. \n",
        "\n",
        "Adicionalmente, utilice celdas [`tf.keras.kayers.LSTM`](https://www.tensorflow.org/api_docs/python/tf/keras/layers/LSTM) para modelar la naturaleza secuencial de los datos. \n",
        "\n",
        "Puede utilizar también celdas [`tf.keras.layers.Bidirectional`](https://www.tensorflow.org/api_docs/python/tf/keras/layers/Bidirectional) para permitir generar conexiones en la dirección opuesta a la secuencia original. \n",
        "\n",
        "Incluya dropout, regularización y Early Stopping si considera necesario. "
      ],
      "metadata": {
        "id": "aROOPCiWNZ17"
      }
    },
    {
      "cell_type": "code",
      "source": [
        "###\n",
        "LSTM_model = Sequential([\n",
        "    \n",
        "    Embedding(max_words, 128, input_length=max_length), # No elimine. Puede cambiar 128 por otra dimensión\n",
        "    None, \n",
        "])\n",
        "\n",
        "###\n",
        "\n"
      ],
      "metadata": {
        "id": "XOFbtgl0iqz9"
      },
      "execution_count": null,
      "outputs": []
    },
    {
      "cell_type": "markdown",
      "source": [
        "Se va a definir un learning Rate Schedule en el que las tasa de aprendizaje disminuye conforme avanza el entrenamiento del modelo. "
      ],
      "metadata": {
        "id": "CYsvxTddP1hq"
      }
    },
    {
      "cell_type": "code",
      "source": [
        "\n",
        "\n",
        "def scheduler(epoch, lr):\n",
        "    min_lr = 1e-6  # Mínimo Learning Rate\n",
        "    if epoch % 10 == 0 and epoch != 0:\n",
        "        new_lr = lr * 0.1\n",
        "        return max(new_lr, min_lr)  # Devuelva la learning rate\n",
        "    else:\n",
        "        return lr\n",
        "\n",
        "\n",
        "lr_scheduler = LearningRateScheduler(scheduler, verbose=0)\n",
        "\n",
        "\n",
        "initial_lr = 0.001\n",
        "optimizer = Adam(learning_rate=initial_lr)"
      ],
      "metadata": {
        "id": "M6wgfMFmPyE3"
      },
      "execution_count": null,
      "outputs": []
    },
    {
      "cell_type": "markdown",
      "source": [
        "Compile el modelo. Recuerde definir función de pérdida y las métricas de validación adecuadas para este problema."
      ],
      "metadata": {
        "id": "Oo48Dw5NQT_8"
      }
    },
    {
      "cell_type": "code",
      "source": [
        "###\n",
        "LSTM_model.compile(None)\n",
        "\n",
        "###\n",
        "\n"
      ],
      "metadata": {
        "id": "B1etS5-qQH6q"
      },
      "execution_count": null,
      "outputs": []
    },
    {
      "cell_type": "markdown",
      "source": [
        "A continuación, cree el CallBack para el Early Stopping del Modelo"
      ],
      "metadata": {
        "id": "0oD0zyOhQI0L"
      }
    },
    {
      "cell_type": "code",
      "source": [
        "###\n",
        "early_stopping = EarlyStopping(None)\n",
        "###"
      ],
      "metadata": {
        "id": "30SU9yiOQgh1"
      },
      "execution_count": null,
      "outputs": []
    },
    {
      "cell_type": "markdown",
      "source": [
        "Y se crea un callback de TensorFlow para guardar los valores de la embedding layer."
      ],
      "metadata": {
        "id": "QsuW_QKzSEpe"
      }
    },
    {
      "cell_type": "code",
      "source": [
        "log_dir = './logs'\n",
        "tensorboard_callback = TensorBoard(log_dir=log_dir, \n",
        "                                   embeddings_freq=1, \n",
        "                                   embeddings_layer_names=['embedding'], \n",
        "                                   embeddings_metadata='metadata.tsv')"
      ],
      "metadata": {
        "colab": {
          "base_uri": "https://localhost:8080/"
        },
        "id": "9-Ua2OJPSCAw",
        "outputId": "038727cc-6bb8-461e-cdc1-77c1bd3822ae"
      },
      "execution_count": null,
      "outputs": [
        {
          "output_type": "stream",
          "name": "stderr",
          "text": [
            "WARNING:tensorflow:`embeddings_layer_names` is not supported in TensorFlow 2.0. Instead, all `Embedding` layers will be visualized.\n"
          ]
        }
      ]
    },
    {
      "cell_type": "markdown",
      "source": [
        "A continuación entre el modelo... "
      ],
      "metadata": {
        "id": "gr48bmSOQp_F"
      }
    },
    {
      "cell_type": "code",
      "source": [
        "\n",
        "history = LSTM_model.fit(X_train, y_train, \n",
        "                                  validation_data=(X_val, y_val), \n",
        "                                  epochs=100, \n",
        "                                  batch_size=64, \n",
        "                                  callbacks=[early_stopping, lr_scheduler, tensorboard_callback ])"
      ],
      "metadata": {
        "colab": {
          "base_uri": "https://localhost:8080/"
        },
        "id": "yPmzu5llQQ5L",
        "outputId": "f6dc17cc-4653-44f1-b4f3-cf20c4461678"
      },
      "execution_count": null,
      "outputs": [
        {
          "output_type": "stream",
          "name": "stdout",
          "text": [
            "Epoch 1/100\n",
            "8/8 [==============================] - 26s 2s/step - loss: 1.1441 - accuracy: 0.3727 - val_loss: 1.1338 - val_accuracy: 0.3785 - lr: 0.0010\n",
            "Epoch 2/100\n",
            "8/8 [==============================] - 12s 2s/step - loss: 1.1226 - accuracy: 0.3747 - val_loss: 1.1156 - val_accuracy: 0.3785 - lr: 0.0010\n",
            "Epoch 3/100\n",
            "8/8 [==============================] - 12s 2s/step - loss: 1.0661 - accuracy: 0.3768 - val_loss: 1.0156 - val_accuracy: 0.3972 - lr: 0.0010\n",
            "Epoch 4/100\n",
            "8/8 [==============================] - 10s 1s/step - loss: 1.0174 - accuracy: 0.6092 - val_loss: 0.9695 - val_accuracy: 0.5981 - lr: 0.0010\n",
            "Epoch 5/100\n",
            "8/8 [==============================] - 12s 1s/step - loss: 0.8102 - accuracy: 0.7455 - val_loss: 0.9361 - val_accuracy: 0.5841 - lr: 0.0010\n",
            "Epoch 6/100\n",
            "8/8 [==============================] - 12s 2s/step - loss: 0.7026 - accuracy: 0.7054 - val_loss: 0.9177 - val_accuracy: 0.6449 - lr: 0.0010\n",
            "Epoch 7/100\n",
            "8/8 [==============================] - 12s 2s/step - loss: 0.6220 - accuracy: 0.7495 - val_loss: 0.8676 - val_accuracy: 0.6215 - lr: 0.0010\n",
            "Epoch 8/100\n",
            "8/8 [==============================] - 13s 2s/step - loss: 0.5387 - accuracy: 0.7435 - val_loss: 0.9364 - val_accuracy: 0.6589 - lr: 0.0010\n",
            "Epoch 9/100\n",
            "8/8 [==============================] - 12s 1s/step - loss: 0.5381 - accuracy: 0.7315 - val_loss: 1.3268 - val_accuracy: 0.5047 - lr: 0.0010\n",
            "Epoch 10/100\n",
            "8/8 [==============================] - 10s 1s/step - loss: 0.5101 - accuracy: 0.7936 - val_loss: 0.8731 - val_accuracy: 0.5561 - lr: 0.0010\n",
            "Epoch 11/100\n",
            "8/8 [==============================] - 12s 1s/step - loss: 0.4409 - accuracy: 0.8737 - val_loss: 0.8692 - val_accuracy: 0.5654 - lr: 1.0000e-04\n",
            "Epoch 12/100\n",
            "8/8 [==============================] - 12s 2s/step - loss: 0.4408 - accuracy: 0.8938 - val_loss: 0.8616 - val_accuracy: 0.5888 - lr: 1.0000e-04\n",
            "Epoch 13/100\n",
            "8/8 [==============================] - 11s 1s/step - loss: 0.4176 - accuracy: 0.8918 - val_loss: 0.8579 - val_accuracy: 0.6028 - lr: 1.0000e-04\n",
            "Epoch 14/100\n",
            "8/8 [==============================] - 12s 2s/step - loss: 0.4106 - accuracy: 0.8858 - val_loss: 0.8592 - val_accuracy: 0.6262 - lr: 1.0000e-04\n",
            "Epoch 15/100\n",
            "8/8 [==============================] - 12s 2s/step - loss: 0.4060 - accuracy: 0.8938 - val_loss: 0.8622 - val_accuracy: 0.6215 - lr: 1.0000e-04\n",
            "Epoch 16/100\n",
            "8/8 [==============================] - 11s 1s/step - loss: 0.3878 - accuracy: 0.9018 - val_loss: 0.8686 - val_accuracy: 0.6355 - lr: 1.0000e-04\n",
            "Epoch 17/100\n",
            "8/8 [==============================] - 10s 1s/step - loss: 0.3788 - accuracy: 0.9178 - val_loss: 0.8776 - val_accuracy: 0.6402 - lr: 1.0000e-04\n",
            "Epoch 18/100\n",
            "8/8 [==============================] - 12s 2s/step - loss: 0.3668 - accuracy: 0.8878 - val_loss: 0.8907 - val_accuracy: 0.6495 - lr: 1.0000e-04\n",
            "Epoch 19/100\n",
            "8/8 [==============================] - 12s 2s/step - loss: 0.3488 - accuracy: 0.9038 - val_loss: 0.9047 - val_accuracy: 0.6589 - lr: 1.0000e-04\n",
            "Epoch 20/100\n",
            "8/8 [==============================] - 12s 2s/step - loss: 0.3345 - accuracy: 0.9138 - val_loss: 0.9175 - val_accuracy: 0.6729 - lr: 1.0000e-04\n",
            "Epoch 21/100\n",
            "8/8 [==============================] - 12s 2s/step - loss: 0.3268 - accuracy: 0.9118 - val_loss: 0.9187 - val_accuracy: 0.6682 - lr: 1.0000e-05\n",
            "Epoch 22/100\n",
            "8/8 [==============================] - 11s 1s/step - loss: 0.3167 - accuracy: 0.9218 - val_loss: 0.9196 - val_accuracy: 0.6682 - lr: 1.0000e-05\n",
            "Epoch 23/100\n",
            "8/8 [==============================] - 10s 1s/step - loss: 0.3081 - accuracy: 0.9299 - val_loss: 0.9200 - val_accuracy: 0.6682 - lr: 1.0000e-05\n"
          ]
        }
      ]
    },
    {
      "cell_type": "code",
      "source": [
        "import matplotlib.pyplot as plt\n",
        "\n",
        "\n",
        "def plot_graphs(history, metric):\n",
        "  plt.plot(history.history[metric])\n",
        "  plt.plot(history.history['val_'+metric], '')\n",
        "  plt.xlabel(\"Epochs\")\n",
        "  plt.ylabel(metric)\n",
        "  plt.legend([metric, 'val_'+metric])"
      ],
      "metadata": {
        "id": "icnQBWFYPLey"
      },
      "execution_count": null,
      "outputs": []
    },
    {
      "cell_type": "code",
      "source": [
        "plt.figure(figsize=(16, 8))\n",
        "plt.subplot(1, 2, 1)\n",
        "plot_graphs(history, 'accuracy')\n",
        "plt.ylim(None, 1)\n",
        "plt.subplot(1, 2, 2)\n",
        "plot_graphs(history, 'loss')\n",
        "plt.ylim(0, None)"
      ],
      "metadata": {
        "colab": {
          "base_uri": "https://localhost:8080/",
          "height": 719
        },
        "id": "Th-yNptxPRju",
        "outputId": "181f7c29-a884-465b-c10a-dbdef3ccb394"
      },
      "execution_count": null,
      "outputs": [
        {
          "output_type": "execute_result",
          "data": {
            "text/plain": [
              "(0.0, 1.3776859030127526)"
            ]
          },
          "metadata": {},
          "execution_count": 42
        },
        {
          "output_type": "display_data",
          "data": {
            "text/plain": [
              "<Figure size 1600x800 with 2 Axes>"
            ],
            "image/png": "[encoded data removed]"
          },
          "metadata": {}
        }
      ]
    },
    {
      "cell_type": "markdown",
      "source": [
        "A continuación se realiza la evaluación del modelo en test. "
      ],
      "metadata": {
        "id": "mmlAx5IdOfCC"
      }
    },
    {
      "cell_type": "code",
      "source": [
        "import numpy as np\n",
        "from sklearn.metrics import confusion_matrix, ConfusionMatrixDisplay\n",
        "\n",
        "# Assuming lstm_advanced_model is the model you want to use\n",
        "# Make predictions on the test set\n",
        "predictions = LSTM_model.predict(X_test)\n",
        "predicted_classes = np.argmax(predictions, axis=1)\n",
        "\n",
        "# Calculate the confusion matrix\n",
        "cm = confusion_matrix(y_test, predicted_classes)\n",
        "\n",
        "# Define your genre_index dictionary\n",
        "\n",
        "# Sort the dictionary by values and extract the keys (labels)\n",
        "labels = [k for k, v in sorted(genre_index.items(), key=lambda item: item[1])]\n",
        "\n",
        "# Plot the confusion matrix\n",
        "fig, ax = plt.subplots(figsize=(8, 8))\n",
        "disp = ConfusionMatrixDisplay(confusion_matrix=cm, display_labels=labels)\n",
        "disp.plot(ax=ax)\n",
        "plt.show()\n"
      ],
      "metadata": {
        "id": "xTHYu56y7YXY"
      },
      "execution_count": null,
      "outputs": []
    },
    {
      "cell_type": "markdown",
      "source": [
        "¿Qué puede concluir del desempeño del modelo?"
      ],
      "metadata": {
        "id": "ncjkVssrOymT"
      }
    }
  ]
}