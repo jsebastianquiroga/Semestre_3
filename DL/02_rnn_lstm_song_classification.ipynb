{
  "nbformat": 4,
  "nbformat_minor": 0,
  "metadata": {
    "colab": {
      "provenance": [],
      "machine_shape": "hm",
      "include_colab_link": true
    },
    "kernelspec": {
      "name": "python3",
      "display_name": "Python 3"
    },
    "language_info": {
      "name": "python"
    },
    "accelerator": "TPU",
    "gpuClass": "standard"
  },
  "cells": [
    {
      "cell_type": "markdown",
      "metadata": {
        "id": "view-in-github",
        "colab_type": "text"
      },
      "source": [
        "<a href=\"https://colab.research.google.com/github/jsebastianquiroga/analitica_ia_puj/blob/main/DL/02_rnn_lstm_song_classification.ipynb\" target=\"_parent\"><img src=\"https://colab.research.google.com/assets/colab-badge.svg\" alt=\"Open In Colab\"/></a>"
      ]
    },
    {
      "cell_type": "code",
      "source": [
        "\n",
        "import pandas as pd\n",
        "# Conexion a gdrive\n",
        "from pydrive.auth import GoogleAuth\n",
        "from google.colab import drive\n",
        "from pydrive.drive import GoogleDrive\n",
        "from google.colab import auth\n",
        "\n",
        "from oauth2client.client import GoogleCredentials\n",
        "     "
      ],
      "metadata": {
        "id": "Cerqh2RHmf34"
      },
      "execution_count": 1,
      "outputs": []
    },
    {
      "cell_type": "code",
      "source": [
        "auth.authenticate_user()\n",
        "gauth = GoogleAuth()\n",
        "gauth.credentials = GoogleCredentials.get_application_default()\n",
        "drive = GoogleDrive(gauth)\n",
        "\n",
        "Booksummaries_share = '1CJeqSHMIPqgBZXqXqrC3KBHqWf9PALx5' \n",
        "download = drive.CreateFile({'id': Booksummaries_share}) \n",
        "download.GetContentFile('song_lyrics_df.csv')\n",
        "\n",
        "df = pd.read_csv('song_lyrics_df.csv')\n",
        "df.head()"
      ],
      "metadata": {
        "id": "Vvvsw0rWmgVD",
        "outputId": "365e2547-f4bb-49d3-d641-4dd221bfb1c9",
        "colab": {
          "base_uri": "https://localhost:8080/",
          "height": 206
        }
      },
      "execution_count": 2,
      "outputs": [
        {
          "output_type": "execute_result",
          "data": {
            "text/plain": [
              "                                           song_name  \\\n",
              "0  quizas-part-rich-music-dalex-justin-quiles-wis...   \n",
              "1                                  no-es-por-aca.txt   \n",
              "2                                 ojitos-de-miel.txt   \n",
              "3                       lo-que-va-a-ser-para-uno.txt   \n",
              "4                                        1406330.txt   \n",
              "\n",
              "                                              lyrics      genre  \n",
              "0  Hola (The Avengers)\\nQuiero saber tu nombre\\nY...  reggaeton  \n",
              "1  Ya me mordí uno\\nYo ya no la busco\\nDonde se l...   ranchera  \n",
              "2  De tus labios me muero por un beso\\nY de tus o...   ranchera  \n",
              "3  No hay que culpar al destino\\nPor encontrarnos...   ranchera  \n",
              "4  Ya viene amaneciendo\\nla luz ya nos alumbra,\\n...   ranchera  "
            ],
            "text/html": [
              "\n",
              "  <div id=\"df-63b7750b-4e3f-46db-83ff-9fe172c0bcb9\">\n",
              "    <div class=\"colab-df-container\">\n",
              "      <div>\n",
              "<style scoped>\n",
              "    .dataframe tbody tr th:only-of-type {\n",
              "        vertical-align: middle;\n",
              "    }\n",
              "\n",
              "    .dataframe tbody tr th {\n",
              "        vertical-align: top;\n",
              "    }\n",
              "\n",
              "    .dataframe thead th {\n",
              "        text-align: right;\n",
              "    }\n",
              "</style>\n",
              "<table border=\"1\" class=\"dataframe\">\n",
              "  <thead>\n",
              "    <tr style=\"text-align: right;\">\n",
              "      <th></th>\n",
              "      <th>song_name</th>\n",
              "      <th>lyrics</th>\n",
              "      <th>genre</th>\n",
              "    </tr>\n",
              "  </thead>\n",
              "  <tbody>\n",
              "    <tr>\n",
              "      <th>0</th>\n",
              "      <td>quizas-part-rich-music-dalex-justin-quiles-wis...</td>\n",
              "      <td>Hola (The Avengers)\\nQuiero saber tu nombre\\nY...</td>\n",
              "      <td>reggaeton</td>\n",
              "    </tr>\n",
              "    <tr>\n",
              "      <th>1</th>\n",
              "      <td>no-es-por-aca.txt</td>\n",
              "      <td>Ya me mordí uno\\nYo ya no la busco\\nDonde se l...</td>\n",
              "      <td>ranchera</td>\n",
              "    </tr>\n",
              "    <tr>\n",
              "      <th>2</th>\n",
              "      <td>ojitos-de-miel.txt</td>\n",
              "      <td>De tus labios me muero por un beso\\nY de tus o...</td>\n",
              "      <td>ranchera</td>\n",
              "    </tr>\n",
              "    <tr>\n",
              "      <th>3</th>\n",
              "      <td>lo-que-va-a-ser-para-uno.txt</td>\n",
              "      <td>No hay que culpar al destino\\nPor encontrarnos...</td>\n",
              "      <td>ranchera</td>\n",
              "    </tr>\n",
              "    <tr>\n",
              "      <th>4</th>\n",
              "      <td>1406330.txt</td>\n",
              "      <td>Ya viene amaneciendo\\nla luz ya nos alumbra,\\n...</td>\n",
              "      <td>ranchera</td>\n",
              "    </tr>\n",
              "  </tbody>\n",
              "</table>\n",
              "</div>\n",
              "      <button class=\"colab-df-convert\" onclick=\"convertToInteractive('df-63b7750b-4e3f-46db-83ff-9fe172c0bcb9')\"\n",
              "              title=\"Convert this dataframe to an interactive table.\"\n",
              "              style=\"display:none;\">\n",
              "        \n",
              "  <svg xmlns=\"http://www.w3.org/2000/svg\" height=\"24px\"viewBox=\"0 0 24 24\"\n",
              "       width=\"24px\">\n",
              "    <path d=\"M0 0h24v24H0V0z\" fill=\"none\"/>\n",
              "    <path d=\"M18.56 5.44l.94 2.06.94-2.06 2.06-.94-2.06-.94-.94-2.06-.94 2.06-2.06.94zm-11 1L8.5 8.5l.94-2.06 2.06-.94-2.06-.94L8.5 2.5l-.94 2.06-2.06.94zm10 10l.94 2.06.94-2.06 2.06-.94-2.06-.94-.94-2.06-.94 2.06-2.06.94z\"/><path d=\"M17.41 7.96l-1.37-1.37c-.4-.4-.92-.59-1.43-.59-.52 0-1.04.2-1.43.59L10.3 9.45l-7.72 7.72c-.78.78-.78 2.05 0 2.83L4 21.41c.39.39.9.59 1.41.59.51 0 1.02-.2 1.41-.59l7.78-7.78 2.81-2.81c.8-.78.8-2.07 0-2.86zM5.41 20L4 18.59l7.72-7.72 1.47 1.35L5.41 20z\"/>\n",
              "  </svg>\n",
              "      </button>\n",
              "      \n",
              "  <style>\n",
              "    .colab-df-container {\n",
              "      display:flex;\n",
              "      flex-wrap:wrap;\n",
              "      gap: 12px;\n",
              "    }\n",
              "\n",
              "    .colab-df-convert {\n",
              "      background-color: #E8F0FE;\n",
              "      border: none;\n",
              "      border-radius: 50%;\n",
              "      cursor: pointer;\n",
              "      display: none;\n",
              "      fill: #1967D2;\n",
              "      height: 32px;\n",
              "      padding: 0 0 0 0;\n",
              "      width: 32px;\n",
              "    }\n",
              "\n",
              "    .colab-df-convert:hover {\n",
              "      background-color: #E2EBFA;\n",
              "      box-shadow: 0px 1px 2px rgba(60, 64, 67, 0.3), 0px 1px 3px 1px rgba(60, 64, 67, 0.15);\n",
              "      fill: #174EA6;\n",
              "    }\n",
              "\n",
              "    [theme=dark] .colab-df-convert {\n",
              "      background-color: #3B4455;\n",
              "      fill: #D2E3FC;\n",
              "    }\n",
              "\n",
              "    [theme=dark] .colab-df-convert:hover {\n",
              "      background-color: #434B5C;\n",
              "      box-shadow: 0px 1px 3px 1px rgba(0, 0, 0, 0.15);\n",
              "      filter: drop-shadow(0px 1px 2px rgba(0, 0, 0, 0.3));\n",
              "      fill: #FFFFFF;\n",
              "    }\n",
              "  </style>\n",
              "\n",
              "      <script>\n",
              "        const buttonEl =\n",
              "          document.querySelector('#df-63b7750b-4e3f-46db-83ff-9fe172c0bcb9 button.colab-df-convert');\n",
              "        buttonEl.style.display =\n",
              "          google.colab.kernel.accessAllowed ? 'block' : 'none';\n",
              "\n",
              "        async function convertToInteractive(key) {\n",
              "          const element = document.querySelector('#df-63b7750b-4e3f-46db-83ff-9fe172c0bcb9');\n",
              "          const dataTable =\n",
              "            await google.colab.kernel.invokeFunction('convertToInteractive',\n",
              "                                                     [key], {});\n",
              "          if (!dataTable) return;\n",
              "\n",
              "          const docLinkHtml = 'Like what you see? Visit the ' +\n",
              "            '<a target=\"_blank\" href=https://colab.research.google.com/notebooks/data_table.ipynb>data table notebook</a>'\n",
              "            + ' to learn more about interactive tables.';\n",
              "          element.innerHTML = '';\n",
              "          dataTable['output_type'] = 'display_data';\n",
              "          await google.colab.output.renderOutput(dataTable, element);\n",
              "          const docLink = document.createElement('div');\n",
              "          docLink.innerHTML = docLinkHtml;\n",
              "          element.appendChild(docLink);\n",
              "        }\n",
              "      </script>\n",
              "    </div>\n",
              "  </div>\n",
              "  "
            ]
          },
          "metadata": {},
          "execution_count": 2
        }
      ]
    },
    {
      "cell_type": "code",
      "execution_count": 3,
      "metadata": {
        "id": "vpoJQ2MReSSe"
      },
      "outputs": [],
      "source": [
        "import os\n",
        "import numpy as np\n",
        "import pandas as pd\n",
        "from sklearn.model_selection import train_test_split\n",
        "from tensorflow.keras.preprocessing.text import Tokenizer\n",
        "from tensorflow.keras.preprocessing.sequence import pad_sequences\n",
        "from tensorflow.keras.models import Sequential\n",
        "from tensorflow.keras.layers import Embedding, SimpleRNN, LSTM, Dense, Bidirectional"
      ]
    },
    {
      "cell_type": "markdown",
      "source": [
        "En esta sección se realizará un ejercicio de clasificación de canciones en sus respectivos géneros musicales `reggaetón, salsa y ranchera`. ¿Cree que es posible conseguir un modelo capaz de distinguirlos?"
      ],
      "metadata": {
        "id": "44v7V3SOZ2m3"
      }
    },
    {
      "cell_type": "code",
      "source": [
        "import textwrap\n",
        "\n",
        "lyrics = df[df.song_name.str.contains('tqg')].lyrics.iloc[0]\n",
        "wrapped_lyrics = textwrap.fill(lyrics, width=80)\n",
        "\n",
        "print(wrapped_lyrics)\n"
      ],
      "metadata": {
        "colab": {
          "base_uri": "https://localhost:8080/"
        },
        "id": "CowXY4IbtjWp",
        "outputId": "30ddddf8-39eb-4030-9b50-c7bc7ea659b5"
      },
      "execution_count": 4,
      "outputs": [
        {
          "output_type": "stream",
          "name": "stdout",
          "text": [
            "La que te dijo que un vacío se llenó con otra persona, te miente Es como tapar\n",
            "una herida con maquillaje, no se ve, pero se siente Te fuiste diciendo que me\n",
            "superaste y te conseguiste nueva novia Lo que ella no sabe es que tú todavía me\n",
            "está' viendo toa' las Historias Bebé, ¿qué fue? No pues, qué muy tragaíto' ¿Qué\n",
            "haces buscándome el la'o Si sabes que yo, errores, no repito? (papi) Dile a tu\n",
            "nueva bebé Que, por hombres, no compito Que deje de estar tirando Que, al menos,\n",
            "yo te tenía bonito Verte con la nueva, me dolió Pero ya estoy puesta pa' lo mío\n",
            "Lo que vivimos, se me olvidó Y eso es lo que te tiene ofendido Que hasta la vida\n",
            "me mejoró Por acá, ya no eres bienvenido Vi lo que tu novia me tiró Eso no da ni\n",
            "rabia, yo me río, yo me río No tengo tiempo pa' lo que no aporte Ya cambié mi\n",
            "norte Haciendo dinero como deporte Llenando la cuenta, los show', el parking y\n",
            "el pasaporte Estoy más dura, dicen los reportes Ahora tú quieres volver, se te\n",
            "nota, mmm, sí Espérame ahí, que yo soy idiota Se te olvidó que estoy en otra Y\n",
            "que te quedó grande La Bichota Bebé, ¿qué fue? No pues, qué muy tragaíto' ¿Qué\n",
            "haces buscándome el la'o Si sabes que yo, errores, no repito? Dile a tu nueva\n",
            "bebé Que, por hombres, no compito Que deje de estar tirando Que, al menos, yo te\n",
            "tenía bonito (Shakira, Shakira) Tú te fuiste y yo me puse triple M Más buena,\n",
            "más dura, más level Volver contigo, never, tú eres la mala suerte Porque, ahora,\n",
            "la' bendicione' me llueven Y quieres volver, ya lo suponía Dándole like a las\n",
            "fotos mía Tú buscando por fuera la comida Y yo diciendo que era monotonía Y\n",
            "ahora quieres volver, ya lo suponía Dándole like a las fotos mía Te ves feliz\n",
            "con tu nueva vida, pero Si ella supiera que me busca' todavía Bebé, ¿qué fue? No\n",
            "pues, qué muy tragaíto' ¿Qué haces buscándome el la'o Si sabes que yo, errores,\n",
            "no repito? Dile a tu nueva bebé Que, por hombres, no compito (mueve ese culito)\n",
            "Que no tiene buena mano Y, al menos, yo te tenía bonito (O-O-Ovy On The Drums)\n",
            "(Mi amor, es que usted se alejó mucho) (Y yo de lejos ya no veo, bebé) (TQM,\n",
            "pero TQG, jajaja) (Barranquilla, Medallo)\n"
          ]
        }
      ]
    },
    {
      "cell_type": "markdown",
      "source": [
        "# 1. Pre-Procesamiento de Texto\n",
        "\n",
        "El Pre-Procesamiento del texto es de los pasos más improtantes en el NLP. Particularmente, es importante estandarizar el texto, eliminar ruido y caracteres especiales. Es importante eliminar palabras que no tienen un significado.\n",
        "\n",
        "A continuación, se va a crear una función que permita eliminar tildes, símbolos, números (a menos que sean relevantes) y espacios extra.\n",
        "\n",
        "Utilizaremos la librería `unicodedata` para eliminar todas las tildes (para entender qué hace, puede consultar [este artículo](https://towardsdatascience.com/difference-between-nfd-nfc-nfkd-and-nfkc-explained-with-python-code-e2631f96ae6c)). Y por medio de la expresión regular `[^a-zA-Z\\s]` se eliminará todo lo que sea diferente a una letra o un espacio. "
      ],
      "metadata": {
        "id": "Hm7JGQoAwjjN"
      }
    },
    {
      "cell_type": "code",
      "source": [
        "import re\n",
        "import unicodedata\n",
        "\n",
        "def clean_text(text):\n",
        "    # Elimina tildes\n",
        "    text = unicodedata.normalize('NFKD', text).encode('ascii', 'ignore').decode('utf-8', 'ignore')\n",
        "    \n",
        "    # Vuelve el texto minúscula\n",
        "    text = text.lower()\n",
        "    \n",
        "    # Elimina caracteres especiales y números\n",
        "    text = re.sub(r'[^a-zA-Z\\s]', '', text)\n",
        "    \n",
        "    # Elimina múltiples espacios\n",
        "    text = re.sub(r'\\s+', ' ', text)\n",
        "    \n",
        "    return text.strip()\n",
        "\n",
        "# Se aplica a \n",
        "df['lyrics'] = df['lyrics'].apply(clean_text)\n"
      ],
      "metadata": {
        "id": "KkAoo9q3e8re"
      },
      "execution_count": 5,
      "outputs": []
    },
    {
      "cell_type": "code",
      "source": [
        "genres = df.genre.unique().tolist()"
      ],
      "metadata": {
        "id": "R_8jYsHXEl_w"
      },
      "execution_count": 6,
      "outputs": []
    },
    {
      "cell_type": "code",
      "source": [
        "lyrics = df[df.song_name.str.contains('tqg')].lyrics.iloc[0]\n",
        "wrapped_lyrics = textwrap.fill(lyrics, width=80)\n",
        "\n",
        "print(wrapped_lyrics)\n"
      ],
      "metadata": {
        "colab": {
          "base_uri": "https://localhost:8080/"
        },
        "id": "Yu_p8wfRyM_3",
        "outputId": "ff7171e3-6586-442f-c7e4-5af2008e0ecb"
      },
      "execution_count": 7,
      "outputs": [
        {
          "output_type": "stream",
          "name": "stdout",
          "text": [
            "la que te dijo que un vacio se lleno con otra persona te miente es como tapar\n",
            "una herida con maquillaje no se ve pero se siente te fuiste diciendo que me\n",
            "superaste y te conseguiste nueva novia lo que ella no sabe es que tu todavia me\n",
            "esta viendo toa las historias bebe que fue no pues que muy tragaito que haces\n",
            "buscandome el lao si sabes que yo errores no repito papi dile a tu nueva bebe\n",
            "que por hombres no compito que deje de estar tirando que al menos yo te tenia\n",
            "bonito verte con la nueva me dolio pero ya estoy puesta pa lo mio lo que vivimos\n",
            "se me olvido y eso es lo que te tiene ofendido que hasta la vida me mejoro por\n",
            "aca ya no eres bienvenido vi lo que tu novia me tiro eso no da ni rabia yo me\n",
            "rio yo me rio no tengo tiempo pa lo que no aporte ya cambie mi norte haciendo\n",
            "dinero como deporte llenando la cuenta los show el parking y el pasaporte estoy\n",
            "mas dura dicen los reportes ahora tu quieres volver se te nota mmm si esperame\n",
            "ahi que yo soy idiota se te olvido que estoy en otra y que te quedo grande la\n",
            "bichota bebe que fue no pues que muy tragaito que haces buscandome el lao si\n",
            "sabes que yo errores no repito dile a tu nueva bebe que por hombres no compito\n",
            "que deje de estar tirando que al menos yo te tenia bonito shakira shakira tu te\n",
            "fuiste y yo me puse triple m mas buena mas dura mas level volver contigo never\n",
            "tu eres la mala suerte porque ahora la bendicione me llueven y quieres volver ya\n",
            "lo suponia dandole like a las fotos mia tu buscando por fuera la comida y yo\n",
            "diciendo que era monotonia y ahora quieres volver ya lo suponia dandole like a\n",
            "las fotos mia te ves feliz con tu nueva vida pero si ella supiera que me busca\n",
            "todavia bebe que fue no pues que muy tragaito que haces buscandome el lao si\n",
            "sabes que yo errores no repito dile a tu nueva bebe que por hombres no compito\n",
            "mueve ese culito que no tiene buena mano y al menos yo te tenia bonito ooovy on\n",
            "the drums mi amor es que usted se alejo mucho y yo de lejos ya no veo bebe tqm\n",
            "pero tqg jajaja barranquilla medallo\n"
          ]
        }
      ]
    },
    {
      "cell_type": "code",
      "source": [
        "df.head()"
      ],
      "metadata": {
        "colab": {
          "base_uri": "https://localhost:8080/",
          "height": 206
        },
        "id": "sGRK-wztfW4d",
        "outputId": "dfb36de8-57bb-4409-fd89-998e39f09c7e"
      },
      "execution_count": 8,
      "outputs": [
        {
          "output_type": "execute_result",
          "data": {
            "text/plain": [
              "                                           song_name  \\\n",
              "0  quizas-part-rich-music-dalex-justin-quiles-wis...   \n",
              "1                                  no-es-por-aca.txt   \n",
              "2                                 ojitos-de-miel.txt   \n",
              "3                       lo-que-va-a-ser-para-uno.txt   \n",
              "4                                        1406330.txt   \n",
              "\n",
              "                                              lyrics      genre  \n",
              "0  hola the avengers quiero saber tu nombre y qui...  reggaeton  \n",
              "1  ya me mordi uno yo ya no la busco donde se las...   ranchera  \n",
              "2  de tus labios me muero por un beso y de tus oj...   ranchera  \n",
              "3  no hay que culpar al destino por encontrarnos ...   ranchera  \n",
              "4  ya viene amaneciendo la luz ya nos alumbra par...   ranchera  "
            ],
            "text/html": [
              "\n",
              "  <div id=\"df-504df45f-4624-4a30-816d-a072acb82989\">\n",
              "    <div class=\"colab-df-container\">\n",
              "      <div>\n",
              "<style scoped>\n",
              "    .dataframe tbody tr th:only-of-type {\n",
              "        vertical-align: middle;\n",
              "    }\n",
              "\n",
              "    .dataframe tbody tr th {\n",
              "        vertical-align: top;\n",
              "    }\n",
              "\n",
              "    .dataframe thead th {\n",
              "        text-align: right;\n",
              "    }\n",
              "</style>\n",
              "<table border=\"1\" class=\"dataframe\">\n",
              "  <thead>\n",
              "    <tr style=\"text-align: right;\">\n",
              "      <th></th>\n",
              "      <th>song_name</th>\n",
              "      <th>lyrics</th>\n",
              "      <th>genre</th>\n",
              "    </tr>\n",
              "  </thead>\n",
              "  <tbody>\n",
              "    <tr>\n",
              "      <th>0</th>\n",
              "      <td>quizas-part-rich-music-dalex-justin-quiles-wis...</td>\n",
              "      <td>hola the avengers quiero saber tu nombre y qui...</td>\n",
              "      <td>reggaeton</td>\n",
              "    </tr>\n",
              "    <tr>\n",
              "      <th>1</th>\n",
              "      <td>no-es-por-aca.txt</td>\n",
              "      <td>ya me mordi uno yo ya no la busco donde se las...</td>\n",
              "      <td>ranchera</td>\n",
              "    </tr>\n",
              "    <tr>\n",
              "      <th>2</th>\n",
              "      <td>ojitos-de-miel.txt</td>\n",
              "      <td>de tus labios me muero por un beso y de tus oj...</td>\n",
              "      <td>ranchera</td>\n",
              "    </tr>\n",
              "    <tr>\n",
              "      <th>3</th>\n",
              "      <td>lo-que-va-a-ser-para-uno.txt</td>\n",
              "      <td>no hay que culpar al destino por encontrarnos ...</td>\n",
              "      <td>ranchera</td>\n",
              "    </tr>\n",
              "    <tr>\n",
              "      <th>4</th>\n",
              "      <td>1406330.txt</td>\n",
              "      <td>ya viene amaneciendo la luz ya nos alumbra par...</td>\n",
              "      <td>ranchera</td>\n",
              "    </tr>\n",
              "  </tbody>\n",
              "</table>\n",
              "</div>\n",
              "      <button class=\"colab-df-convert\" onclick=\"convertToInteractive('df-504df45f-4624-4a30-816d-a072acb82989')\"\n",
              "              title=\"Convert this dataframe to an interactive table.\"\n",
              "              style=\"display:none;\">\n",
              "        \n",
              "  <svg xmlns=\"http://www.w3.org/2000/svg\" height=\"24px\"viewBox=\"0 0 24 24\"\n",
              "       width=\"24px\">\n",
              "    <path d=\"M0 0h24v24H0V0z\" fill=\"none\"/>\n",
              "    <path d=\"M18.56 5.44l.94 2.06.94-2.06 2.06-.94-2.06-.94-.94-2.06-.94 2.06-2.06.94zm-11 1L8.5 8.5l.94-2.06 2.06-.94-2.06-.94L8.5 2.5l-.94 2.06-2.06.94zm10 10l.94 2.06.94-2.06 2.06-.94-2.06-.94-.94-2.06-.94 2.06-2.06.94z\"/><path d=\"M17.41 7.96l-1.37-1.37c-.4-.4-.92-.59-1.43-.59-.52 0-1.04.2-1.43.59L10.3 9.45l-7.72 7.72c-.78.78-.78 2.05 0 2.83L4 21.41c.39.39.9.59 1.41.59.51 0 1.02-.2 1.41-.59l7.78-7.78 2.81-2.81c.8-.78.8-2.07 0-2.86zM5.41 20L4 18.59l7.72-7.72 1.47 1.35L5.41 20z\"/>\n",
              "  </svg>\n",
              "      </button>\n",
              "      \n",
              "  <style>\n",
              "    .colab-df-container {\n",
              "      display:flex;\n",
              "      flex-wrap:wrap;\n",
              "      gap: 12px;\n",
              "    }\n",
              "\n",
              "    .colab-df-convert {\n",
              "      background-color: #E8F0FE;\n",
              "      border: none;\n",
              "      border-radius: 50%;\n",
              "      cursor: pointer;\n",
              "      display: none;\n",
              "      fill: #1967D2;\n",
              "      height: 32px;\n",
              "      padding: 0 0 0 0;\n",
              "      width: 32px;\n",
              "    }\n",
              "\n",
              "    .colab-df-convert:hover {\n",
              "      background-color: #E2EBFA;\n",
              "      box-shadow: 0px 1px 2px rgba(60, 64, 67, 0.3), 0px 1px 3px 1px rgba(60, 64, 67, 0.15);\n",
              "      fill: #174EA6;\n",
              "    }\n",
              "\n",
              "    [theme=dark] .colab-df-convert {\n",
              "      background-color: #3B4455;\n",
              "      fill: #D2E3FC;\n",
              "    }\n",
              "\n",
              "    [theme=dark] .colab-df-convert:hover {\n",
              "      background-color: #434B5C;\n",
              "      box-shadow: 0px 1px 3px 1px rgba(0, 0, 0, 0.15);\n",
              "      filter: drop-shadow(0px 1px 2px rgba(0, 0, 0, 0.3));\n",
              "      fill: #FFFFFF;\n",
              "    }\n",
              "  </style>\n",
              "\n",
              "      <script>\n",
              "        const buttonEl =\n",
              "          document.querySelector('#df-504df45f-4624-4a30-816d-a072acb82989 button.colab-df-convert');\n",
              "        buttonEl.style.display =\n",
              "          google.colab.kernel.accessAllowed ? 'block' : 'none';\n",
              "\n",
              "        async function convertToInteractive(key) {\n",
              "          const element = document.querySelector('#df-504df45f-4624-4a30-816d-a072acb82989');\n",
              "          const dataTable =\n",
              "            await google.colab.kernel.invokeFunction('convertToInteractive',\n",
              "                                                     [key], {});\n",
              "          if (!dataTable) return;\n",
              "\n",
              "          const docLinkHtml = 'Like what you see? Visit the ' +\n",
              "            '<a target=\"_blank\" href=https://colab.research.google.com/notebooks/data_table.ipynb>data table notebook</a>'\n",
              "            + ' to learn more about interactive tables.';\n",
              "          element.innerHTML = '';\n",
              "          dataTable['output_type'] = 'display_data';\n",
              "          await google.colab.output.renderOutput(dataTable, element);\n",
              "          const docLink = document.createElement('div');\n",
              "          docLink.innerHTML = docLinkHtml;\n",
              "          element.appendChild(docLink);\n",
              "        }\n",
              "      </script>\n",
              "    </div>\n",
              "  </div>\n",
              "  "
            ]
          },
          "metadata": {},
          "execution_count": 8
        }
      ]
    },
    {
      "cell_type": "markdown",
      "source": [
        "# 2. Train-Test Split\n",
        "\n",
        "A continuación se realiza la división en train-val-test, para el entrenamiento del modelo. \n",
        "Esta división es importante por varias razones:\n",
        "1. Es necesario definir el vocabulario sobre el cual se va a entrenar el modelo [train].\n",
        "2. Es necesario hacer el seguimiento del entrenamiento del modelo en validación para evitar el overfitting [val].\n",
        "3. Utilizando test se mide el desempeño del modelo en la vida real [test]"
      ],
      "metadata": {
        "id": "F5SyB8J6yxnV"
      }
    },
    {
      "cell_type": "code",
      "source": [
        "import numpy as np\n",
        "from sklearn.model_selection import train_test_split\n",
        "\n",
        "\n",
        "\n",
        "### Realice la Partición en Train (70) y Test (30)\n",
        "\n",
        "train_df, test_df = train_test_split(df, test_size=0.3, random_state=42)\n",
        "\n",
        "### Particione el dataset de Train en Train (70) y validación (30)\n",
        "train_df, val_df = train_test_split(train_df, test_size=0.3, random_state=42)\n",
        "\n",
        "###"
      ],
      "metadata": {
        "id": "y-8-jqOZfcid"
      },
      "execution_count": 9,
      "outputs": []
    },
    {
      "cell_type": "markdown",
      "source": [
        "# 3. Vocabulary and Sequences\n",
        "\n",
        "Para que el modelo pueda entender las canciones, debe tokenizarse para convertir las palabras en números. Para esto se utilizará el [`Tokenizer`](https://www.tensorflow.org/api_docs/python/tf/keras/preprocessing/text/Tokenizer) cuya responsabilidad es convertir una secuencia de texto (la canción) en una secuencia de números. \n",
        "\n",
        "Se debe definir el número máximo de palabras que aceptaremos por canción `max_length` y el tamaño del vocabulario `max_words`. \n",
        "\n",
        "Estos números no pueden ser aleatorios, pero se deben definir inicialmente para poder utilizarlos. Defina `max_words = 5000`. "
      ],
      "metadata": {
        "id": "NECdaZqn0HIc"
      }
    },
    {
      "cell_type": "markdown",
      "source": [
        "A continuación, utilize [`Tokenizer`](https://www.tensorflow.org/api_docs/python/tf/keras/preprocessing/text/Tokenizer) y utilice el método `fit_on_texts` para aprender el vocabulario de las canciones que se encuentran en train. "
      ],
      "metadata": {
        "id": "iUDyZ26d1fpR"
      }
    },
    {
      "cell_type": "code",
      "source": [
        "import tensorflow as tf\n",
        "tokenizer = tf.keras.preprocessing.text.Tokenizer(num_words=500)\n",
        "tokenizer.fit_on_texts(train_df.lyrics)\n",
        "\n",
        "word_index = tokenizer.word_index\n",
        "\n",
        "max(word_index.values())"
      ],
      "metadata": {
        "id": "cJ_jksJJ1e9e",
        "outputId": "0e65ee92-5dad-4728-e531-80bc94911930",
        "colab": {
          "base_uri": "https://localhost:8080/"
        }
      },
      "execution_count": 10,
      "outputs": [
        {
          "output_type": "execute_result",
          "data": {
            "text/plain": [
              "12043"
            ]
          },
          "metadata": {},
          "execution_count": 10
        }
      ]
    },
    {
      "cell_type": "markdown",
      "source": [
        "El parámetro `num_words` determina la cantidad de palabras que se van a utilizar para el aprendizaje de los géneros de las canciones. ¿Cuánto es el tamaño del vocabulario más adecuado? \n",
        "\n",
        "En este caso se tienen 12043 palabras.\n",
        "\n",
        "Responder esta pregunta no es fácil. Sin embargo, es posible tomar las palabras que tengan mayor probabilidad, con una cobertura de hasta `coverage`. \n",
        "\n",
        "Se propone utilizar `coverage = 0.95` pero puede utilizar otro valor de cobertura para determinar el impacto en el modelo final. "
      ],
      "metadata": {
        "id": "8WRykwiw3Kpg"
      }
    },
    {
      "cell_type": "markdown",
      "source": [
        "A continuacíon "
      ],
      "metadata": {
        "id": "V74bYz1S30lD"
      }
    },
    {
      "cell_type": "code",
      "source": [
        "word_counts = list(tokenizer.word_counts.values())\n",
        "word_counts.sort(reverse=True)\n",
        "total_word_count = sum(word_counts)\n",
        "cumulative_word_count = 0\n",
        "\n",
        "###\n",
        "coverage = 0.975\n",
        "\n",
        "###\n",
        "\n",
        "for i, count in enumerate(word_counts):\n",
        "    cumulative_word_count += count\n",
        "    if cumulative_word_count / total_word_count >= coverage:\n",
        "        break\n",
        "\n",
        "optimal_words = i + 1\n",
        "print(f\"To achieve {coverage * 100}% coverage of the dataset, you need to use the top {optimal_words} most common words.\")\n"
      ],
      "metadata": {
        "colab": {
          "base_uri": "https://localhost:8080/"
        },
        "id": "o2T5vo8O3vJt",
        "outputId": "59e7687d-f678-4529-b7cd-5ccf3e15d9e9"
      },
      "execution_count": 11,
      "outputs": [
        {
          "output_type": "stream",
          "name": "stdout",
          "text": [
            "To achieve 97.5% coverage of the dataset, you need to use the top 8294 most common words.\n"
          ]
        }
      ]
    },
    {
      "cell_type": "markdown",
      "source": [
        "Teniendo en cuenta lo anterior, defina el parámetro `max_words` como la cantidad de palabras que cumple sus criterios de cobertura. Ajuste nuevamente el Tokenizador con la cantidad de palabras definida por usted. "
      ],
      "metadata": {
        "id": "C8VVL91r4elk"
      }
    },
    {
      "cell_type": "code",
      "source": [
        "###\n",
        "max_words = 8294\n",
        "\n",
        "tokenizer = tf.keras.preprocessing.text.Tokenizer(num_words=max_words)\n",
        "tokenizer.fit_on_texts(train_df['lyrics'])\n",
        "###"
      ],
      "metadata": {
        "id": "AcVLV1U74k9U"
      },
      "execution_count": 12,
      "outputs": []
    },
    {
      "cell_type": "markdown",
      "source": [
        "A continuación se debe determinar cuál es el tamaño (o más representativo) de las canciones del dataset. Esta es la ventana de conocimiento máximo que se le pasará al modelo. \n",
        "\n",
        "Realice un histograma para determinar la distribución del tamaño de las canciones en el dataset de train. \n",
        "\n",
        "**Hint:** Puede utilizar el método [`pandas.Series.str.len`](https://pandas.pydata.org/docs/reference/api/pandas.Series.str.len.html) o cualquier otra forma para encontrar el tamaño de las secuencias. \n",
        "\n",
        "**Hint 2:** Utilice [`matplotlib.pyplot.hist`](https://matplotlib.org/stable/api/_as_gen/matplotlib.pyplot.hist.html) para crear un historgrama."
      ],
      "metadata": {
        "id": "k51RD9Rr3X12"
      }
    },
    {
      "cell_type": "code",
      "source": [
        "import matplotlib.pyplot as plt\n",
        "\n",
        "### Haga el gráfico del histograma\n",
        "\n",
        "train_df['word_lengths'] = train_df['lyrics'].str.split(' ').apply(len)\n",
        "\n",
        "\n",
        "\n",
        "# Plot the histogram\n",
        "plt.hist(train_df['word_lengths'].values.tolist())\n",
        "plt.xlabel('Sequence Length')\n",
        "plt.ylabel('Frequency')\n",
        "plt.show()"
      ],
      "metadata": {
        "colab": {
          "base_uri": "https://localhost:8080/",
          "height": 449
        },
        "id": "4SJHvYIKgBjD",
        "outputId": "73aa3538-6095-4a09-fa28-3961dc003db2"
      },
      "execution_count": 13,
      "outputs": [
        {
          "output_type": "display_data",
          "data": {
            "text/plain": [
              "<Figure size 640x480 with 1 Axes>"
            ],
            "image/png": "[encoded data removed]"
          },
          "metadata": {}
        }
      ]
    },
    {
      "cell_type": "code",
      "source": [
        "np.percentile(train_df['word_lengths'], 75)"
      ],
      "metadata": {
        "id": "5arZzJljsjZ2",
        "outputId": "e00f737a-4f97-474e-faa1-5a0400f65008",
        "colab": {
          "base_uri": "https://localhost:8080/"
        }
      },
      "execution_count": 14,
      "outputs": [
        {
          "output_type": "execute_result",
          "data": {
            "text/plain": [
              "385.5"
            ]
          },
          "metadata": {},
          "execution_count": 14
        }
      ]
    },
    {
      "cell_type": "markdown",
      "source": [
        "Teniendo en cuenta el historgrama anterior, determine el tamaño de la secuencia máxima para el modelo, en `max_length`. "
      ],
      "metadata": {
        "id": "74y8jbBg_mrx"
      }
    },
    {
      "cell_type": "code",
      "source": [
        "max_length = 1914"
      ],
      "metadata": {
        "id": "Xk2sfe1_Aitb"
      },
      "execution_count": 15,
      "outputs": []
    },
    {
      "cell_type": "markdown",
      "source": [
        "# Tokenización de Secuencias para Entrenamiento \n",
        "\n",
        "Con lo anterior, ya se tiene definida la forma en que se tokenizará el texto para el modelo. Utilice el método `fit_on_texts` para transformar los datos de train, test y validación. "
      ],
      "metadata": {
        "id": "QSJ5DgbBHg8Y"
      }
    },
    {
      "cell_type": "markdown",
      "source": [
        "El Tokenizador  ya conoce el vocabulario que se va a utilizar en el diccionario. Por lo anterior, es necesario transformar las canciones en las secuencias de texto correspondientes. Para esto, se utilizará el método [`.texts_to_sequences`](https://www.tensorflow.org/api_docs/python/tf/keras/preprocessing/text/Tokenizer#texts_to_sequences) sobre los datos de train, test y validación. \n"
      ],
      "metadata": {
        "id": "ofo8RNrVhaAE"
      }
    },
    {
      "cell_type": "code",
      "source": [
        "X_train = tokenizer.texts_to_sequences(train_df['lyrics'])\n",
        "X_val = tokenizer.texts_to_sequences(val_df['lyrics'])\n",
        "X_test = tokenizer.texts_to_sequences(test_df['lyrics'])"
      ],
      "metadata": {
        "id": "qRsZvep7flaw"
      },
      "execution_count": 16,
      "outputs": []
    },
    {
      "cell_type": "markdown",
      "source": [
        "\n",
        "Anteriormente se definió un largo máximo para la secuencia (la cantidad de palabras en las canciones). Esta información se encuentra en `max_length`. Como es posible tener canciones con pocas palabras (menos de `max_length`) o muy largas (más de `max_length`) es necesario utilizar una técnica que se llama `padding`, con el objetivo de estandarizar el tamaño del input que procesará la red neuronal. \n",
        "\n",
        "De esta formas, canciones con diferente tamaño tendrán la misma longitud. \n",
        "\n",
        "Un ejemplo de lo anterior es, \n",
        "\n",
        "\n",
        "| Before padding | After padding (with maxlen=6) |\n",
        "| :--- | :--- |\n",
        "| `[\"qué\", \"fue\", \"bebé\"]` | `[0, 0, 0, \"qué\", \"fue\", \"bebé\"]` |\n",
        "| `[\"porque\", \"la\", \"noche\", \"de\", \"anoche\", \"fue\"]` | `[\"porque\", \"la\", \"noche\", \"de\", \"anoche\", \"fue\"]` |\n",
        "| `[\"altanera\", \"preciosa\", \"y\", \"orgullosa\", \"no\", \"permite\", \"la\", \"quieran\", \"consolar\"]` | `[\"altanera\", \"preciosa\", \"y\", \"orgullosa\", \"no\", \"permite\"]` |\n",
        "\n",
        "\n",
        "Utilice el método [`pad_sequences`](https://www.tensorflow.org/api_docs/python/tf/keras/utils/pad_sequences) para garantizar que todas las secuencias de texto tengan el mismo tamaño, siendo este `max_length`. \n"
      ],
      "metadata": {
        "id": "cp3vpHaJH-zO"
      }
    },
    {
      "cell_type": "code",
      "source": [
        "\n",
        "###\n",
        "X_train = tf.keras.utils.pad_sequences(\n",
        "    X_train,\n",
        "    maxlen=max_length,\n",
        "    dtype='int32',\n",
        "    padding='pre',\n",
        "    truncating='pre',\n",
        "    value=0.0)\n",
        "X_val = tf.keras.utils.pad_sequences(\n",
        "    X_val,\n",
        "    maxlen=max_length,\n",
        "    dtype='int32',\n",
        "    padding='pre',\n",
        "    truncating='pre',\n",
        "    value=0.0)\n",
        "X_test = tf.keras.utils.pad_sequences(\n",
        "    X_test,\n",
        "    maxlen=max_length,\n",
        "    dtype='int32',\n",
        "    padding='pre',\n",
        "    truncating='pre',\n",
        "    value=0.0)\n",
        "###"
      ],
      "metadata": {
        "id": "XxqNvfJBICAu"
      },
      "execution_count": 17,
      "outputs": []
    },
    {
      "cell_type": "markdown",
      "source": [
        "A continuación se puede observar un ejemplo de la tokenización y el padding. "
      ],
      "metadata": {
        "id": "_nn5vMBqKplb"
      }
    },
    {
      "cell_type": "code",
      "source": [
        "tokenized_bichota =  tokenizer.texts_to_sequences([\"baby que mas hace rato que no sé anda de ti\"])"
      ],
      "metadata": {
        "id": "8aexIg9TtBq_"
      },
      "execution_count": 18,
      "outputs": []
    },
    {
      "cell_type": "code",
      "source": [
        "tokenized_bichota"
      ],
      "metadata": {
        "id": "7-k6ONG9D6Gc",
        "outputId": "e8499aa5-34e1-416d-c5d7-8310bd49efbd",
        "colab": {
          "base_uri": "https://localhost:8080/"
        }
      },
      "execution_count": 19,
      "outputs": [
        {
          "output_type": "execute_result",
          "data": {
            "text/plain": [
              "[[56, 1, 31, 90, 453, 1, 3, 407, 5, 24]]"
            ]
          },
          "metadata": {},
          "execution_count": 19
        }
      ]
    },
    {
      "cell_type": "code",
      "source": [
        "tokenized_bichota = pad_sequences(tokenized_bichota, maxlen=20) # Ejemplo con 20 de padding. \n",
        "tokenized_bichota"
      ],
      "metadata": {
        "id": "9qxUYgNCKtUd",
        "outputId": "6aaaafcf-802b-4b25-fa03-8690d079dbd5",
        "colab": {
          "base_uri": "https://localhost:8080/"
        }
      },
      "execution_count": 20,
      "outputs": [
        {
          "output_type": "execute_result",
          "data": {
            "text/plain": [
              "array([[  0,   0,   0,   0,   0,   0,   0,   0,   0,   0,  56,   1,  31,\n",
              "         90, 453,   1,   3, 407,   5,  24]], dtype=int32)"
            ]
          },
          "metadata": {},
          "execution_count": 20
        }
      ]
    },
    {
      "cell_type": "code",
      "source": [
        "## Interpreta una secuencia de números en los tokens\n",
        "reverse_word_index = dict([(value, key) for (key, value) in tokenizer.word_index.items()])\n",
        "\n",
        "# Decodifica el texto\n",
        "decoded_text = [reverse_word_index.get(i, '?') for i in tokenized_bichota[0]]\n",
        "\n",
        "# Generación de Frase\n",
        "original_text = ' '.join(decoded_text)\n",
        "print(original_text)\n"
      ],
      "metadata": {
        "colab": {
          "base_uri": "https://localhost:8080/"
        },
        "id": "SWKTZOQ1tJ_0",
        "outputId": "a0fb2066-d779-4de4-ae5d-04ca87d181d7"
      },
      "execution_count": 21,
      "outputs": [
        {
          "output_type": "stream",
          "name": "stdout",
          "text": [
            "? ? ? ? ? ? ? ? ? ? baby que mas hace rato que no anda de ti\n"
          ]
        }
      ]
    },
    {
      "cell_type": "markdown",
      "source": [
        "A continuación se acomoda el target del modelo por la categoría."
      ],
      "metadata": {
        "id": "IpzP6hcqL0I0"
      }
    },
    {
      "cell_type": "code",
      "source": [
        "genre_index = {genre: i for i, genre in enumerate(genres)}\n",
        "\n",
        "y_train = train_df['genre'].apply(lambda x: genre_index[x]).values\n",
        "y_val = val_df['genre'].apply(lambda x: genre_index[x]).values\n",
        "y_test = test_df['genre'].apply(lambda x: genre_index[x]).values\n"
      ],
      "metadata": {
        "id": "s4P2JbMvfoJ5"
      },
      "execution_count": 22,
      "outputs": []
    },
    {
      "cell_type": "code",
      "source": [
        "len(genre_index)"
      ],
      "metadata": {
        "colab": {
          "base_uri": "https://localhost:8080/"
        },
        "id": "kqH9X3Zrrkaw",
        "outputId": "b18f17d1-41a2-43af-aa5d-1324dd949ffa"
      },
      "execution_count": 23,
      "outputs": [
        {
          "output_type": "execute_result",
          "data": {
            "text/plain": [
              "3"
            ]
          },
          "metadata": {},
          "execution_count": 23
        }
      ]
    },
    {
      "cell_type": "code",
      "source": [
        "from tensorflow.keras.callbacks import LearningRateScheduler\n",
        "\n",
        "def step_decay(epoch):\n",
        "    initial_lr = 0.01#0.001\n",
        "    drop_rate = 0.5\n",
        "    epochs_drop = 10\n",
        "    lr = initial_lr * drop_rate ** (epoch // epochs_drop)\n",
        "    return lr\n",
        "\n",
        "lr_scheduler = LearningRateScheduler(step_decay)\n"
      ],
      "metadata": {
        "id": "Dn1o2gYdvGF2"
      },
      "execution_count": 24,
      "outputs": []
    },
    {
      "cell_type": "code",
      "source": [
        "from tensorflow.keras.layers import Dropout\n",
        "from tensorflow.keras.callbacks import EarlyStopping\n",
        "from tensorflow.keras.callbacks import TensorBoard\n",
        "from tensorflow.keras.regularizers import l2\n",
        "from tensorflow.keras.optimizers import Adam\n",
        "from tensorflow.keras.callbacks import LearningRateScheduler"
      ],
      "metadata": {
        "id": "7sVThG60NY3E"
      },
      "execution_count": 25,
      "outputs": []
    },
    {
      "cell_type": "markdown",
      "source": [
        "A continuación defina su modelo de Red Neuronal. Se recomienda utilizar una Embedding Layer ([`tf.keras.layers.Embedding`](https://www.tensorflow.org/api_docs/python/tf/keras/layers/Embedding) para generar representaciones vectoriales de cada uno de los `tokens` presentes en el vocabulario del modelo. \n",
        "\n",
        "Adicionalmente, utilice celdas [`tf.keras.kayers.LSTM`](https://www.tensorflow.org/api_docs/python/tf/keras/layers/LSTM) para modelar la naturaleza secuencial de los datos. \n",
        "\n",
        "Puede utilizar también celdas [`tf.keras.layers.Bidirectional`](https://www.tensorflow.org/api_docs/python/tf/keras/layers/Bidirectional) para permitir generar conexiones en la dirección opuesta a la secuencia original. \n",
        "\n",
        "Incluya dropout, regularización y Early Stopping si considera necesario. "
      ],
      "metadata": {
        "id": "aROOPCiWNZ17"
      }
    },
    {
      "cell_type": "code",
      "source": [
        "###\n",
        "LSTM_model = Sequential([\n",
        "    \n",
        "    Embedding(max_words, 128, input_length=max_length), # No elimine. Puede cambiar 128 por otra dimensión\n",
        "    LSTM(\n",
        "    50,\n",
        "    activation='tanh',\n",
        "    recurrent_activation='sigmoid',\n",
        "    use_bias=True,\n",
        "    kernel_initializer='glorot_uniform',\n",
        "    recurrent_initializer='orthogonal',\n",
        "    bias_initializer='zeros',\n",
        "    unit_forget_bias=True,\n",
        "    kernel_regularizer=None,\n",
        "    recurrent_regularizer=None,\n",
        "    bias_regularizer=None,\n",
        "    activity_regularizer=None,\n",
        "    kernel_constraint=None,\n",
        "    recurrent_constraint=None,\n",
        "    bias_constraint=None,\n",
        "    dropout=0.3,\n",
        "    recurrent_dropout=0.3,\n",
        "    return_sequences=False,\n",
        "    return_state=False,\n",
        "    go_backwards=False,\n",
        "    stateful=False,\n",
        "    time_major=False,\n",
        "    unroll=False),\n",
        "    Dense(100, activation='relu'),\n",
        "    Dense(len(genre_index), activation='softmax')\n",
        "])\n",
        "\n",
        "###\n",
        "\n"
      ],
      "metadata": {
        "id": "XOFbtgl0iqz9"
      },
      "execution_count": 26,
      "outputs": []
    },
    {
      "cell_type": "markdown",
      "source": [
        "Se va a definir un learning Rate Schedule en el que las tasa de aprendizaje disminuye conforme avanza el entrenamiento del modelo. "
      ],
      "metadata": {
        "id": "CYsvxTddP1hq"
      }
    },
    {
      "cell_type": "code",
      "source": [
        "def scheduler(epoch, lr):\n",
        "    min_lr = 1e-6  # Mínimo Learning Rate\n",
        "    if epoch % 10 == 0 and epoch != 0:\n",
        "        new_lr = lr * 0.1\n",
        "        return max(new_lr, min_lr)  # Devuelva la learning rate\n",
        "    else:\n",
        "        return lr\n",
        "\n",
        "\n",
        "lr_scheduler = LearningRateScheduler(scheduler, verbose=0)\n",
        "\n",
        "\n",
        "initial_lr = 0.001\n",
        "optimizer = Adam(learning_rate=initial_lr)"
      ],
      "metadata": {
        "id": "M6wgfMFmPyE3"
      },
      "execution_count": 27,
      "outputs": []
    },
    {
      "cell_type": "markdown",
      "source": [
        "Compile el modelo. Recuerde definir función de pérdida y las métricas de validación adecuadas para este problema."
      ],
      "metadata": {
        "id": "Oo48Dw5NQT_8"
      }
    },
    {
      "cell_type": "code",
      "source": [
        "from tensorflow.keras.losses import SparseCategoricalCrossentropy\n",
        "from tensorflow.keras.metrics import SparseCategoricalAccuracy\n",
        "\n",
        "from tensorflow.keras.metrics import SparseCategoricalAccuracy\n",
        "\n",
        "# Compile the model\n",
        "LSTM_model.compile(optimizer=optimizer,\n",
        "                   loss=SparseCategoricalCrossentropy(),\n",
        "                   metrics=[SparseCategoricalAccuracy()])"
      ],
      "metadata": {
        "id": "B1etS5-qQH6q"
      },
      "execution_count": null,
      "outputs": []
    },
    {
      "cell_type": "markdown",
      "source": [
        "A continuación, cree el CallBack para el Early Stopping del Modelo"
      ],
      "metadata": {
        "id": "0oD0zyOhQI0L"
      }
    },
    {
      "cell_type": "code",
      "source": [
        "###\n",
        "early_stopping = EarlyStopping(patience=5)\n",
        "###"
      ],
      "metadata": {
        "id": "30SU9yiOQgh1"
      },
      "execution_count": null,
      "outputs": []
    },
    {
      "cell_type": "markdown",
      "source": [
        "Y se crea un callback de TensorFlow para guardar los valores de la embedding layer."
      ],
      "metadata": {
        "id": "QsuW_QKzSEpe"
      }
    },
    {
      "cell_type": "code",
      "source": [
        "log_dir = './logs'\n",
        "tensorboard_callback = TensorBoard(log_dir=log_dir, \n",
        "                                   embeddings_freq=1, \n",
        "                                   embeddings_layer_names=['embedding'], \n",
        "                                   embeddings_metadata='metadata.tsv')"
      ],
      "metadata": {
        "id": "9-Ua2OJPSCAw",
        "outputId": "20564233-8e0f-4d99-a314-c0ab36f4a96a",
        "colab": {
          "base_uri": "https://localhost:8080/"
        }
      },
      "execution_count": 30,
      "outputs": [
        {
          "output_type": "stream",
          "name": "stderr",
          "text": [
            "WARNING:tensorflow:`embeddings_layer_names` is not supported in TensorFlow 2.0. Instead, all `Embedding` layers will be visualized.\n"
          ]
        }
      ]
    },
    {
      "cell_type": "markdown",
      "source": [
        "A continuación entre el modelo... "
      ],
      "metadata": {
        "id": "gr48bmSOQp_F"
      }
    },
    {
      "cell_type": "code",
      "source": [
        "history = LSTM_model.fit(X_train, y_train, \n",
        "                         validation_data=(X_val, y_val), \n",
        "                         epochs=100, \n",
        "                         batch_size=64, \n",
        "                         callbacks=[early_stopping, lr_scheduler, tensorboard_callback])"
      ],
      "metadata": {
        "colab": {
          "base_uri": "https://localhost:8080/"
        },
        "id": "yPmzu5llQQ5L",
        "outputId": "0ca349a7-08ed-4cd0-b529-c9d50685d4fd"
      },
      "execution_count": null,
      "outputs": [
        {
          "output_type": "stream",
          "name": "stdout",
          "text": [
            "Epoch 1/100\n",
            "8/8 [==============================] - 13s 2s/step - loss: 0.0190 - sparse_categorical_accuracy: 1.0000 - val_loss: 0.7845 - val_sparse_categorical_accuracy: 0.7103 - lr: 1.0000e-04\n",
            "Epoch 2/100\n",
            "3/8 [==========>...................] - ETA: 7s - loss: 0.0192 - sparse_categorical_accuracy: 1.0000"
          ]
        }
      ]
    },
    {
      "cell_type": "code",
      "source": [
        "import matplotlib.pyplot as plt\n",
        "\n",
        "\n",
        "def plot_graphs(history, metric):\n",
        "  plt.plot(history.history[metric])\n",
        "  plt.plot(history.history['val_'+metric], '')\n",
        "  plt.xlabel(\"Epochs\")\n",
        "  plt.ylabel(metric)\n",
        "  plt.legend([metric, 'val_'+metric])"
      ],
      "metadata": {
        "id": "icnQBWFYPLey"
      },
      "execution_count": null,
      "outputs": []
    },
    {
      "cell_type": "code",
      "source": [
        "plt.figure(figsize=(16, 8))\n",
        "plt.subplot(1, 2, 1)\n",
        "plot_graphs(history, 'accuracy')\n",
        "plt.ylim(None, 1)\n",
        "plt.subplot(1, 2, 2)\n",
        "plot_graphs(history, 'loss')\n",
        "plt.ylim(0, None)"
      ],
      "metadata": {
        "id": "Th-yNptxPRju"
      },
      "execution_count": null,
      "outputs": []
    },
    {
      "cell_type": "markdown",
      "source": [
        "A continuación se realiza la evaluación del modelo en test. "
      ],
      "metadata": {
        "id": "mmlAx5IdOfCC"
      }
    },
    {
      "cell_type": "code",
      "source": [
        "import numpy as np\n",
        "from sklearn.metrics import confusion_matrix, ConfusionMatrixDisplay\n",
        "\n",
        "# Assuming lstm_advanced_model is the model you want to use\n",
        "# Make predictions on the test set\n",
        "predictions = LSTM_model.predict(X_test)\n",
        "predicted_classes = np.argmax(predictions, axis=1)\n",
        "\n",
        "# Calculate the confusion matrix\n",
        "cm = confusion_matrix(y_test, predicted_classes)\n",
        "\n",
        "# Define your genre_index dictionary\n",
        "\n",
        "# Sort the dictionary by values and extract the keys (labels)\n",
        "labels = [k for k, v in sorted(genre_index.items(), key=lambda item: item[1])]\n",
        "\n",
        "# Plot the confusion matrix\n",
        "fig, ax = plt.subplots(figsize=(8, 8))\n",
        "disp = ConfusionMatrixDisplay(confusion_matrix=cm, display_labels=labels)\n",
        "disp.plot(ax=ax)\n",
        "plt.show()\n"
      ],
      "metadata": {
        "id": "xTHYu56y7YXY"
      },
      "execution_count": null,
      "outputs": []
    },
    {
      "cell_type": "markdown",
      "source": [
        "¿Qué puede concluir del desempeño del modelo?"
      ],
      "metadata": {
        "id": "ncjkVssrOymT"
      }
    },
    {
      "cell_type": "code",
      "source": [],
      "metadata": {
        "id": "Cb7AL470201W"
      },
      "execution_count": null,
      "outputs": []
    }
  ]
}