{
  "cells": [
    {
      "cell_type": "markdown",
      "metadata": {
        "id": "view-in-github",
        "colab_type": "text"
      },
      "source": [
        "<a href=\"https://colab.research.google.com/github/jsebastianquiroga/Semestre_3/blob/main/DL/ANN_MODELS.ipynb\" target=\"_parent\"><img src=\"https://colab.research.google.com/assets/colab-badge.svg\" alt=\"Open In Colab\"/></a>"
      ]
    },
    {
      "cell_type": "markdown",
      "metadata": {
        "id": "X_CEBdNtCsXi"
      },
      "source": [
        "# <img style=\"float: center; padding-right: 10px;\" src=\"https://www.pikpng.com/pngl/b/467-4670553_universidad-javeriana-esslingen-am-neckar-clipart.png\" width=\"100\" height=\"150\">\n",
        "\n",
        "# Taller ANN\n",
        "\n",
        "El presente taller es desarrollado para la clase de aprendizaje de maquina.\n",
        "\n",
        "Se crearán algunos datos randomicos, y se generara una red neural paso a paso, posteriormente se importará el modelo disponible en la libreria de Sklearn, para comprar sus resusltados.\n",
        "\n",
        "***PRESENTADO POR*** :</P>\n",
        "**JUAN SEBASTÍAN QUIROGA**"
      ]
    },
    {
      "cell_type": "markdown",
      "metadata": {
        "id": "I30PJfhYCsXo"
      },
      "source": [
        "## Creación de datos aleatorios."
      ]
    },
    {
      "cell_type": "code",
      "execution_count": null,
      "metadata": {
        "id": "Y7HGNOIcCsXp"
      },
      "outputs": [],
      "source": [
        "# Se importan las librerias a ser usadas.\n",
        "%matplotlib inline\n",
        "\n",
        "import numpy as np\n",
        "import pandas as pd\n",
        "import matplotlib.pyplot as plt"
      ]
    },
    {
      "cell_type": "markdown",
      "metadata": {
        "id": "LT17PUNJCsXq"
      },
      "source": [
        "Se crea una matriz de 3x4, de 1 y 0."
      ]
    },
    {
      "cell_type": "code",
      "execution_count": null,
      "metadata": {
        "id": "ozl-cFzDCsXr",
        "outputId": "98460a35-5ce0-4323-84e3-70cba54861af"
      },
      "outputs": [
        {
          "name": "stdout",
          "output_type": "stream",
          "text": [
            "Input:\n",
            " [[1 0 0 0]\n",
            " [1 0 1 1]\n",
            " [0 1 0 1]]\n",
            "\n",
            "Shape of Input: (3, 4)\n"
          ]
        }
      ],
      "source": [
        "X = np.array([[1, 0, 0, 0], [1, 0, 1, 1], [0, 1, 0, 1]])\n",
        "print(\"Input:\\n\", X)\n",
        "print(\"\\nShape of Input:\", X.shape)"
      ]
    },
    {
      "cell_type": "markdown",
      "metadata": {
        "id": "JXWcJcXNCsXs"
      },
      "source": [
        "Se traspone la matriz creada."
      ]
    },
    {
      "cell_type": "code",
      "execution_count": null,
      "metadata": {
        "id": "i5Mzs2o5CsXt",
        "outputId": "947fffd7-3f4e-4469-9ac4-169c4214f840"
      },
      "outputs": [
        {
          "name": "stdout",
          "output_type": "stream",
          "text": [
            "Input in matrix form:\n",
            " [[1 1 0]\n",
            " [0 0 1]\n",
            " [0 1 0]\n",
            " [0 1 1]]\n",
            "\n",
            "Shape of Input Matrix: (4, 3)\n"
          ]
        }
      ],
      "source": [
        "X = X.T\n",
        "print(\"Input in matrix form:\\n\", X)\n",
        "print(\"\\nShape of Input Matrix:\", X.shape)"
      ]
    },
    {
      "cell_type": "markdown",
      "metadata": {
        "id": "SbGUf6TFCsXu"
      },
      "source": [
        "Se crea otra matiz de 1x3, y se trasnpone tambien."
      ]
    },
    {
      "cell_type": "code",
      "execution_count": null,
      "metadata": {
        "id": "Bv02SM97CsXu",
        "outputId": "a44bcc14-0aa6-44f2-c5a5-186e996b63b2"
      },
      "outputs": [
        {
          "name": "stdout",
          "output_type": "stream",
          "text": [
            "Actual Output:\n",
            " [[1]\n",
            " [1]\n",
            " [0]]\n",
            "\n",
            "Output in matrix form:\n",
            " [[1 1 0]]\n",
            "\n",
            "Shape of Output: (1, 3)\n"
          ]
        }
      ],
      "source": [
        "y = np.array([[1], [1], [0]])\n",
        "print(\"Actual Output:\\n\", y)\n",
        "y = y.T\n",
        "print(\"\\nOutput in matrix form:\\n\", y)\n",
        "print(\"\\nShape of Output:\", y.shape)"
      ]
    },
    {
      "cell_type": "markdown",
      "metadata": {
        "id": "WbgKhBqkCsXv"
      },
      "source": [
        "## Creación modelo ANN \n",
        "\n",
        "El modelo a crear, constará de una capa de entrada de 4 neuronas, 1 capa oculta y 1 capa de salidad. (ya que solo se cuenta con dos clases en este ejemplo)."
      ]
    },
    {
      "cell_type": "code",
      "execution_count": null,
      "metadata": {
        "id": "lSj_VkVvCsXw"
      },
      "outputs": [],
      "source": [
        "inputLayer_neurons = X.shape[0] \n",
        "hiddenLayer_neurons = 3  \n",
        "outputLayer_neurons = 1  "
      ]
    },
    {
      "cell_type": "markdown",
      "metadata": {
        "id": "DTgCYN1wCsXx"
      },
      "source": [
        "Se le asigan pesos aleatorios a la capa de entrada y la capa oculta.\n",
        "\n",
        "Estos valores, seran uniformes."
      ]
    },
    {
      "cell_type": "code",
      "execution_count": null,
      "metadata": {
        "id": "d8fe5XTvCsXx",
        "outputId": "04516e3c-a382-4a5b-8d21-9b9bb4830b56"
      },
      "outputs": [
        {
          "data": {
            "text/plain": [
              "((4, 3), (3, 1))"
            ]
          },
          "execution_count": 6,
          "metadata": {},
          "output_type": "execute_result"
        }
      ],
      "source": [
        "weights_input_hidden = np.random.uniform(size=(inputLayer_neurons, hiddenLayer_neurons))\n",
        "weights_hidden_output = np.random.uniform(\n",
        "    size=(hiddenLayer_neurons, outputLayer_neurons))\n",
        "weights_input_hidden.shape, weights_hidden_output.shape"
      ]
    },
    {
      "cell_type": "markdown",
      "metadata": {
        "id": "9ncN0tuGCsXy"
      },
      "source": [
        "Se usara la función sigmoide como la función de activación de la red."
      ]
    },
    {
      "cell_type": "code",
      "execution_count": null,
      "metadata": {
        "id": "ZbbDhmhMCsXz"
      },
      "outputs": [],
      "source": [
        "def sigmoid(x):\n",
        "    return 1 / (1 + np.exp(-x))"
      ]
    },
    {
      "cell_type": "markdown",
      "metadata": {
        "id": "PVoJihJxCsXz"
      },
      "source": [
        "Se traspone la matriz de pesos, con su asignación randomica, para poder realizar el producto punto entre esta y la matriz X(ya transpuesta previamente).\n",
        "\n",
        "Se asigna la función sigmoide como función de activación."
      ]
    },
    {
      "cell_type": "code",
      "execution_count": null,
      "metadata": {
        "id": "0W968OveCsX0"
      },
      "outputs": [],
      "source": [
        "hiddenLayer_linearTransform = np.dot(weights_input_hidden.T, X)\n",
        "hiddenLayer_activations = sigmoid(hiddenLayer_linearTransform)"
      ]
    },
    {
      "cell_type": "markdown",
      "metadata": {
        "id": "G16NX32DCsX1"
      },
      "source": [
        "Se define la función de costo, la cual sera el 'squared error loss'"
      ]
    },
    {
      "cell_type": "code",
      "execution_count": null,
      "metadata": {
        "id": "vOitfVZjCsX1"
      },
      "outputs": [],
      "source": [
        "outputLayer_linearTransform= np.dot(weights_hidden_output.T, hiddenLayer_activations)\n",
        "output = sigmoid(outputLayer_linearTransform)"
      ]
    },
    {
      "cell_type": "code",
      "execution_count": null,
      "metadata": {
        "id": "BWX-auQtCsX2",
        "outputId": "8599ff78-290d-4c43-97f6-5693c50b4835"
      },
      "outputs": [
        {
          "name": "stdout",
          "output_type": "stream",
          "text": [
            "[[0.05416239 0.03481739 0.25452685]]\n"
          ]
        }
      ],
      "source": [
        "error = np.square(y - output) / 2\n",
        "print(error)\n",
        "error_wrt_output = -(y - output)"
      ]
    },
    {
      "cell_type": "markdown",
      "metadata": {
        "id": "EatWUA1RCsX3"
      },
      "source": [
        "Se transforma, las redes con la función de activación,"
      ]
    },
    {
      "cell_type": "code",
      "execution_count": null,
      "metadata": {
        "id": "LVPumtd0CsX3",
        "outputId": "fb871ac5-6cd9-489c-b36a-698e252596e2"
      },
      "outputs": [
        {
          "data": {
            "text/plain": [
              "((1, 3), (1, 3), (3, 3))"
            ]
          },
          "execution_count": 11,
          "metadata": {},
          "output_type": "execute_result"
        }
      ],
      "source": [
        "output_wrt_outputLayer_LinearTransform = np.multiply(output, (1 - output))\n",
        "outputLayer_LinearTransform_wrt_weights_hidden_output = hiddenLayer_activations\n",
        "error_wrt_output.shape, output_wrt_outputLayer_LinearTransform.shape, outputLayer_LinearTransform_wrt_weights_hidden_output.shape"
      ]
    },
    {
      "cell_type": "code",
      "execution_count": null,
      "metadata": {
        "id": "mrSiZEr5CsX4",
        "outputId": "0060011d-993e-40c5-e404-73887737d6c4"
      },
      "outputs": [
        {
          "name": "stdout",
          "output_type": "stream",
          "text": [
            "Los pesos de las redes ocultas (3, 1)\n"
          ]
        }
      ],
      "source": [
        "print('Los pesos de las redes ocultas',weights_hidden_output.shape)"
      ]
    },
    {
      "cell_type": "markdown",
      "metadata": {
        "id": "FqAOrUhXCsX4"
      },
      "source": [
        "Se realiza las primeras predicciones, para entrenar la red con el metodo forward propagation."
      ]
    },
    {
      "cell_type": "code",
      "execution_count": null,
      "metadata": {
        "id": "w9nm4UbdCsX5",
        "outputId": "acf1a820-0d3d-4f06-ee5e-e6a1d8eb5e4a"
      },
      "outputs": [
        {
          "name": "stdout",
          "output_type": "stream",
          "text": [
            "(1, 3) (1, 3) (3, 1) (3, 3) (4, 3)\n"
          ]
        }
      ],
      "source": [
        "error_wrt_weights_hidden_output = np.dot(\n",
        "    outputLayer_LinearTransform_wrt_weights_hidden_output,\n",
        "    (error_wrt_output * output_wrt_outputLayer_LinearTransform).T,\n",
        ")\n",
        "error_wrt_weights_hidden_output.shape\n",
        "error_wrt_output = -(y - output)\n",
        "output_wrt_outputLayer_LinearTransform = np.multiply(output, (1 - output))\n",
        "outputLayer_LinearTransform_wrt_hiddenLayer_activations = weights_hidden_output\n",
        "hiddenLayer_activations_wrt_hiddenLayer_linearTransform = np.multiply(\n",
        "    hiddenLayer_activations, (1 - hiddenLayer_activations)\n",
        ")\n",
        "hiddenLayer_linearTransform_wrt_weights_input_hidden = X\n",
        "print(\n",
        "    error_wrt_output.shape,\n",
        "    output_wrt_outputLayer_LinearTransform.shape,\n",
        "    outputLayer_LinearTransform_wrt_hiddenLayer_activations.shape,\n",
        "    hiddenLayer_activations_wrt_hiddenLayer_linearTransform.shape,\n",
        "    hiddenLayer_linearTransform_wrt_weights_input_hidden.shape,\n",
        ")"
      ]
    },
    {
      "cell_type": "code",
      "execution_count": null,
      "metadata": {
        "id": "dN3ITFmSCsX5",
        "outputId": "c8c44ccd-ab20-4e53-ec7c-7a386480d49f"
      },
      "outputs": [
        {
          "name": "stdout",
          "output_type": "stream",
          "text": [
            "Dimención de la matriz de pesos de las redes, en su capa oculta (4, 3)\n"
          ]
        }
      ],
      "source": [
        "print('Dimención de la matriz de pesos de las redes, en su capa oculta',weights_input_hidden.shape)"
      ]
    },
    {
      "cell_type": "code",
      "execution_count": null,
      "metadata": {
        "id": "YaCsJ9DtCsX6",
        "outputId": "cb73193b-bdbb-49c5-cee3-3357efb24afd"
      },
      "outputs": [
        {
          "name": "stdout",
          "output_type": "stream",
          "text": [
            "Vector de los errores producidos por la red neuronal, tras su primera epoc.\n",
            "---------------------------------------\n"
          ]
        },
        {
          "data": {
            "text/plain": [
              "array([[0.35112689],\n",
              "       [0.52761664],\n",
              "       [0.31355352]])"
            ]
          },
          "execution_count": 15,
          "metadata": {},
          "output_type": "execute_result"
        }
      ],
      "source": [
        "error_wrt_weights_input_hidden = np.dot(\n",
        "    hiddenLayer_linearTransform_wrt_weights_input_hidden,\n",
        "    (\n",
        "        hiddenLayer_activations_wrt_hiddenLayer_linearTransform\n",
        "        * np.dot(\n",
        "            outputLayer_LinearTransform_wrt_hiddenLayer_activations,\n",
        "            (output_wrt_outputLayer_LinearTransform * error_wrt_output),\n",
        "        )\n",
        "    ).T,\n",
        ")\n",
        "lr = 0.01\n",
        "print('Vector de los errores producidos por la red neuronal, tras su primera epoc.')\n",
        "print('---------------------------------------')\n",
        "weights_hidden_outputlr = 0.01\n",
        "weights_hidden_output"
      ]
    },
    {
      "cell_type": "code",
      "execution_count": null,
      "metadata": {
        "id": "qY2fVoFlCsX6",
        "outputId": "78cfc244-127c-476e-a6e9-b25f2f8bd1ca"
      },
      "outputs": [
        {
          "name": "stdout",
          "output_type": "stream",
          "text": [
            "Vector entrada, con los pesos de la capa oculta\n",
            "---------------------------------------\n"
          ]
        },
        {
          "data": {
            "text/plain": [
              "array([[0.11700404, 0.6819408 , 0.24497157],\n",
              "       [0.1986537 , 0.61931128, 0.17174676],\n",
              "       [0.68246594, 0.38110641, 0.90238555],\n",
              "       [0.72552167, 0.90747443, 0.8007738 ]])"
            ]
          },
          "execution_count": 16,
          "metadata": {},
          "output_type": "execute_result"
        }
      ],
      "source": [
        "print('Vector entrada, con los pesos de la capa oculta')\n",
        "print('---------------------------------------')\n",
        "weights_input_hidden"
      ]
    },
    {
      "cell_type": "code",
      "execution_count": null,
      "metadata": {
        "id": "lbHIrP-yCsX7",
        "outputId": "5de25ce1-cca8-4e0f-acd3-392610e298e8"
      },
      "outputs": [
        {
          "name": "stdout",
          "output_type": "stream",
          "text": [
            "Vector de salida, con los pesos de la capa oculta\n",
            "---------------------------------------\n"
          ]
        },
        {
          "data": {
            "text/plain": [
              "array([[0.35112689],\n",
              "       [0.52761664],\n",
              "       [0.31355352]])"
            ]
          },
          "execution_count": 17,
          "metadata": {},
          "output_type": "execute_result"
        }
      ],
      "source": [
        "print('Vector de salida, con los pesos de la capa oculta')\n",
        "print('---------------------------------------')\n",
        "weights_hidden_output"
      ]
    },
    {
      "cell_type": "code",
      "execution_count": null,
      "metadata": {
        "id": "_nXKqjPKCsX7",
        "outputId": "a6b5624f-aa92-4371-94d0-bea4bf2f39bd"
      },
      "outputs": [
        {
          "name": "stdout",
          "output_type": "stream",
          "text": [
            "Vector de salida, con los pesos de la capa oculta, despues de el learning rate de 1%.\n",
            "---------------------------------------\n"
          ]
        },
        {
          "data": {
            "text/plain": [
              "array([[0.35088831],\n",
              "       [0.52735095],\n",
              "       [0.31335146]])"
            ]
          },
          "execution_count": 18,
          "metadata": {},
          "output_type": "execute_result"
        }
      ],
      "source": [
        "lr = 0.01\n",
        "weights_hidden_output = weights_hidden_output - lr * error_wrt_weights_hidden_output\n",
        "weights_input_hidden = weights_input_hidden - lr * error_wrt_weights_input_hidden\n",
        "print('Vector de salida, con los pesos de la capa oculta, despues de el learning rate de 1%.')\n",
        "print('---------------------------------------')\n",
        "weights_hidden_output"
      ]
    },
    {
      "cell_type": "code",
      "execution_count": null,
      "metadata": {
        "id": "4XMuGdslCsX8",
        "outputId": "0cc8cf15-b4c3-4868-88e4-83952d82baeb"
      },
      "outputs": [
        {
          "name": "stdout",
          "output_type": "stream",
          "text": [
            "Vector de los pesos despues del primer entrenamiento con el lr.\n",
            "---------------------------------------\n"
          ]
        },
        {
          "data": {
            "text/plain": [
              "array([[0.11709403, 0.68205536, 0.24504524],\n",
              "       [0.19854954, 0.61919845, 0.17165571],\n",
              "       [0.68249236, 0.38113545, 0.9024031 ],\n",
              "       [0.72544393, 0.90739064, 0.80070029]])"
            ]
          },
          "execution_count": 19,
          "metadata": {},
          "output_type": "execute_result"
        }
      ],
      "source": [
        "print('Vector de los pesos despues del primer entrenamiento con el lr.')\n",
        "print('---------------------------------------')\n",
        "weights_input_hidden"
      ]
    },
    {
      "cell_type": "markdown",
      "metadata": {
        "id": "UXzxSKpgCsX8"
      },
      "source": [
        "Se entrenara el modelo hasta con 1000 interacciones, con un learning rate de 0.1;lo que suceda primero."
      ]
    },
    {
      "cell_type": "code",
      "execution_count": null,
      "metadata": {
        "id": "HrzcAlBHCsX8",
        "outputId": "36b079d1-5e73-43f4-bc9c-a7234449b0df"
      },
      "outputs": [
        {
          "name": "stdout",
          "output_type": "stream",
          "text": [
            "Error at epoch 0 is 0.11583\n",
            "Error at epoch 100 is 0.10974\n",
            "Error at epoch 200 is 0.10453\n",
            "Error at epoch 300 is 0.09523\n",
            "Error at epoch 400 is 0.07854\n",
            "Error at epoch 500 is 0.05779\n",
            "Error at epoch 600 is 0.04012\n",
            "Error at epoch 700 is 0.02794\n",
            "Error at epoch 800 is 0.02016\n",
            "Error at epoch 900 is 0.01518\n"
          ]
        }
      ],
      "source": [
        "inputLayer_neurons = X.shape[0]  # number of features in data set\n",
        "hiddenLayer_neurons = 3  # number of hidden layers neurons\n",
        "outputLayer_neurons = 1  # number of neurons at output layer\n",
        "\n",
        "# initializing weight\n",
        "weights_input_hidden = np.random.uniform(size=(inputLayer_neurons, hiddenLayer_neurons))\n",
        "weights_hidden_output = np.random.uniform(\n",
        "    size=(hiddenLayer_neurons, outputLayer_neurons)\n",
        ")\n",
        "\n",
        "# defining the parameters\n",
        "lr = 0.1\n",
        "epochs = 1000\n",
        "\n",
        "losses = []\n",
        "for epoch in range(epochs):\n",
        "    ## Forward Propogation\n",
        "\n",
        "    # calculating hidden layer activations\n",
        "    hiddenLayer_linearTransform = np.dot(weights_input_hidden.T, X)\n",
        "    hiddenLayer_activations = sigmoid(hiddenLayer_linearTransform)\n",
        "\n",
        "    # calculating the output\n",
        "    outputLayer_linearTransform = np.dot(\n",
        "        weights_hidden_output.T, hiddenLayer_activations\n",
        "    )\n",
        "    output = sigmoid(outputLayer_linearTransform)\n",
        "\n",
        "    ## Backward Propagation\n",
        "\n",
        "    # calculating error\n",
        "    error = np.square(y - output) / 2\n",
        "\n",
        "    # calculating rate of change of error w.r.t weight between hidden and output layer\n",
        "    error_wrt_output = -(y - output)\n",
        "    output_wrt_outputLayer_LinearTransform = np.multiply(output, (1 - output))\n",
        "    outputLayer_LinearTransform_wrt_weights_hidden_output = hiddenLayer_activations\n",
        "\n",
        "    error_wrt_weights_hidden_output = np.dot(\n",
        "        outputLayer_LinearTransform_wrt_weights_hidden_output,\n",
        "        (error_wrt_output * output_wrt_outputLayer_LinearTransform).T,\n",
        "    )\n",
        "\n",
        "    # calculating rate of change of error w.r.t weights between input and hidden layer\n",
        "    outputLayer_LinearTransform_wrt_hiddenLayer_activations = weights_hidden_output\n",
        "    hiddenLayer_activations_wrt_hiddenLayer_linearTransform = np.multiply(\n",
        "        hiddenLayer_activations, (1 - hiddenLayer_activations)\n",
        "    )\n",
        "    hiddenLayer_linearTransform_wrt_weights_input_hidden = X\n",
        "    error_wrt_weights_input_hidden = np.dot(\n",
        "        hiddenLayer_linearTransform_wrt_weights_input_hidden,\n",
        "        (\n",
        "            hiddenLayer_activations_wrt_hiddenLayer_linearTransform\n",
        "            * np.dot(\n",
        "                outputLayer_LinearTransform_wrt_hiddenLayer_activations,\n",
        "                (output_wrt_outputLayer_LinearTransform * error_wrt_output),\n",
        "            )\n",
        "        ).T,\n",
        "    )\n",
        "\n",
        "    # updating the weights\n",
        "    weights_hidden_output = weights_hidden_output - lr * error_wrt_weights_hidden_output\n",
        "    weights_input_hidden = weights_input_hidden - lr * error_wrt_weights_input_hidden\n",
        "\n",
        "    # print error at every 100th epoch\n",
        "    epoch_loss = np.average(error)\n",
        "    if epoch % 100 == 0:\n",
        "        print(f\"Error at epoch {epoch} is {epoch_loss:.5f}\")\n",
        "\n",
        "    # appending the error of each epoch\n",
        "    losses.append(epoch_loss)"
      ]
    },
    {
      "cell_type": "code",
      "execution_count": null,
      "metadata": {
        "id": "IZqsvfp3CsX9",
        "outputId": "046e1342-7ce2-4646-d032-c05e0a2088d2"
      },
      "outputs": [
        {
          "name": "stdout",
          "output_type": "stream",
          "text": [
            "Vector de los pesos de entrada de la capa oculta de la red neuronal despues de su entrenamiento con los paramentos propuesto.\n",
            "---------------------------------------\n"
          ]
        },
        {
          "data": {
            "text/plain": [
              "array([[ 0.47914446,  2.296377  ,  0.49200674],\n",
              "       [ 0.61809509, -1.80368568,  0.75757379],\n",
              "       [ 0.19585925,  1.05823708,  0.50918788],\n",
              "       [ 1.11340412, -0.9279039 ,  0.69169074]])"
            ]
          },
          "execution_count": 21,
          "metadata": {},
          "output_type": "execute_result"
        }
      ],
      "source": [
        "print('Vector de los pesos de entrada de la capa oculta de la red neuronal despues de su entrenamiento con los paramentos propuesto.')\n",
        "print('---------------------------------------')\n",
        "weights_input_hidden"
      ]
    },
    {
      "cell_type": "code",
      "execution_count": null,
      "metadata": {
        "id": "3nEyG2SqCsX-",
        "outputId": "8a8e2a98-3d89-4441-b3ee-eeac1fca03a9"
      },
      "outputs": [
        {
          "name": "stdout",
          "output_type": "stream",
          "text": [
            "Vector de los pesos de salida de la capa oculta de la red neuronal despues de su entrenamiento con los paramentos propuesto.\n",
            "---------------------------------------\n"
          ]
        },
        {
          "data": {
            "text/plain": [
              "array([[-1.08693267],\n",
              "       [ 3.73406789],\n",
              "       [-0.82207785]])"
            ]
          },
          "execution_count": 22,
          "metadata": {},
          "output_type": "execute_result"
        }
      ],
      "source": [
        "print('Vector de los pesos de salida de la capa oculta de la red neuronal despues de su entrenamiento con los paramentos propuesto.')\n",
        "print('---------------------------------------')\n",
        "weights_hidden_output"
      ]
    },
    {
      "cell_type": "code",
      "execution_count": null,
      "metadata": {
        "id": "uxH4CBFPCsX-",
        "outputId": "e805843e-8c3e-4e2b-c9c5-0c46b52e52f5"
      },
      "outputs": [
        {
          "data": {
            "text/plain": [
              "[<matplotlib.lines.Line2D at 0x7fc3601d3fa0>]"
            ]
          },
          "execution_count": 23,
          "metadata": {},
          "output_type": "execute_result"
        },
        {
          "data": {
            "image/png": "[encoded data removed]",
            "text/plain": [
              "<Figure size 432x288 with 1 Axes>"
            ]
          },
          "metadata": {
            "needs_background": "light"
          },
          "output_type": "display_data"
        }
      ],
      "source": [
        "plt.title('Progreso, del numero de EPOCS, y el error.')\n",
        "plt.plot(np.arange(1, epochs + 1), np.array(losses))"
      ]
    },
    {
      "cell_type": "code",
      "execution_count": null,
      "metadata": {
        "id": "hAmht8cZCsX_",
        "outputId": "0a52b88e-3943-439b-9a80-5f05568a0019"
      },
      "outputs": [
        {
          "name": "stdout",
          "output_type": "stream",
          "text": [
            "Label predicho por el modelo: [[1 1 0]]\n",
            "Probabilidad predicho por el modelo: [[0.90112878 0.8586826  0.2043264 ]]\n"
          ]
        }
      ],
      "source": [
        "print('Label predicho por el modelo:',y)\n",
        "print('Probabilidad predicho por el modelo:',output)"
      ]
    },
    {
      "cell_type": "markdown",
      "metadata": {
        "id": "Yflb2aaCCsYA"
      },
      "source": [
        "Con el entrenamiento, realizado el modelo predice que las dos primerow valores son 1, con probabilidades del 94%, 90% y de 15%, de que lo sean."
      ]
    },
    {
      "cell_type": "markdown",
      "metadata": {
        "id": "70YgicUsCsYA"
      },
      "source": [
        "## Modelo Sklearn\n",
        "Con los mismos datos, con que fue entrenada la red neuronal anterios, se procedera a recrear el mismo ejercicio pero esta vez, mediante la libreria conocida, de sklearn.\n",
        "\n",
        "Se necesitara retomar las matrices a su forma original, para que sea tomada por el modelo.\n",
        "\n",
        "Se entrena una red neuronal, con 3 capas ocultas, funcion de activación logistica, debido a que se quiere comparar con el modelo propio, y en esa ocacion se utilizo la sigmoide, se tendran hasta 1000 epocs y se establece una semilla para replicabilidad, se entrena el modelo con valores de X y Y, igual que en el ejercicio pasado, con la totalidad de sus datos."
      ]
    },
    {
      "cell_type": "code",
      "execution_count": null,
      "metadata": {
        "id": "oJJ-lnhNCsYB",
        "outputId": "f7872959-3af2-4392-fb32-6122afec92a4"
      },
      "outputs": [
        {
          "name": "stderr",
          "output_type": "stream",
          "text": [
            "/Users/juanquiroga/opt/anaconda3/lib/python3.9/site-packages/sklearn/neural_network/_multilayer_perceptron.py:1109: DataConversionWarning: A column-vector y was passed when a 1d array was expected. Please change the shape of y to (n_samples, ), for example using ravel().\n",
            "  y = column_or_1d(y, warn=True)\n"
          ]
        },
        {
          "name": "stdout",
          "output_type": "stream",
          "text": [
            "Probabilidades de pertenecer a 1 de sklearn: [0.85655131 0.85045292 0.48835082]\n",
            "Probabilidades de pertenecer a 1 de modelo realizado: [[0.90112878 0.8586826  0.2043264 ]]\n",
            "Label predicho por modelo sklearn: [1 1 0]\n",
            "Label predicho por modelo realizado: [[1 1 0]]\n"
          ]
        },
        {
          "name": "stderr",
          "output_type": "stream",
          "text": [
            "/Users/juanquiroga/opt/anaconda3/lib/python3.9/site-packages/sklearn/neural_network/_multilayer_perceptron.py:692: ConvergenceWarning: Stochastic Optimizer: Maximum iterations (1000) reached and the optimization hasn't converged yet.\n",
            "  warnings.warn(\n"
          ]
        }
      ],
      "source": [
        "x = X.T\n",
        "y= y.T\n",
        "from sklearn.neural_network import MLPClassifier\n",
        "clf = MLPClassifier(hidden_layer_sizes=3,activation='logistic', \n",
        "                    max_iter=1000, random_state=1).fit(x,y)\n",
        "print(\"Probabilidades de pertenecer a 1 de sklearn:\", clf.predict_proba(x[:])[:,1])\n",
        "print(\"Probabilidades de pertenecer a 1 de modelo realizado:\",output)\n",
        "print(\"Label predicho por modelo sklearn:\",clf.predict(x))\n",
        "print(\"Label predicho por modelo realizado:\",y.T)"
      ]
    },
    {
      "cell_type": "markdown",
      "metadata": {
        "id": "kKYy_PJwCsYB"
      },
      "source": [
        "Al comparar las dos salidas del modelo, tanto la probabilidad y el label, es similar.\n",
        "\n",
        "Solo si a la probabilidad predicha por medio del modelo de sklearn, se coloca como punto de corte de 0,4, prediceria todas como 1, generando error en esta predicción.\n",
        "\n",
        "Este modelo, es mas parsimonioso en terminos de codificación por lo que se continuara con este mismo, el de sklearn."
      ]
    },
    {
      "cell_type": "markdown",
      "metadata": {
        "id": "Y8dipVNKCsYC"
      },
      "source": [
        "## Modelo de Kaggel\n",
        "\n",
        "Se pondra en practica el anterior modelo con unos datos, de un data set proveniente de kaggel.\n",
        "https://www.kaggle.com/datasets/shrutimechlearn/churn-modelling?resource=download\n",
        "\n",
        "Este modelo busca predecir el churn, de unos clientes en 4 paises distintos.\n",
        "\n",
        "Es información financiera, son 10000 observaciones con 18 variables de estas.\n",
        "\n",
        "Se importa de un csv, ya que es el formato que se descarga del link relacionado.\n",
        "\n",
        "Este data set, tiene 4 variables identificadoras, como lo son el apellido, el numero de la fila, el id del cliente, por eso se removeran.\n",
        "\n",
        "Se divide esta matriz entre los predictores y la variable de respuesta, x, y."
      ]
    },
    {
      "cell_type": "code",
      "execution_count": null,
      "metadata": {
        "id": "Velcd5zpCsYC",
        "outputId": "7f503485-4043-4ae5-a791-2f774ea709d1"
      },
      "outputs": [
        {
          "data": {
            "text/html": [
              "<div>\n",
              "<style scoped>\n",
              "    .dataframe tbody tr th:only-of-type {\n",
              "        vertical-align: middle;\n",
              "    }\n",
              "\n",
              "    .dataframe tbody tr th {\n",
              "        vertical-align: top;\n",
              "    }\n",
              "\n",
              "    .dataframe thead th {\n",
              "        text-align: right;\n",
              "    }\n",
              "</style>\n",
              "<table border=\"1\" class=\"dataframe\">\n",
              "  <thead>\n",
              "    <tr style=\"text-align: right;\">\n",
              "      <th></th>\n",
              "      <th>CreditScore</th>\n",
              "      <th>Geography</th>\n",
              "      <th>Gender</th>\n",
              "      <th>Age</th>\n",
              "      <th>Tenure</th>\n",
              "      <th>Balance</th>\n",
              "      <th>NumOfProducts</th>\n",
              "      <th>HasCrCard</th>\n",
              "      <th>IsActiveMember</th>\n",
              "      <th>EstimatedSalary</th>\n",
              "    </tr>\n",
              "  </thead>\n",
              "  <tbody>\n",
              "    <tr>\n",
              "      <th>0</th>\n",
              "      <td>619</td>\n",
              "      <td>France</td>\n",
              "      <td>Female</td>\n",
              "      <td>42</td>\n",
              "      <td>2</td>\n",
              "      <td>0.00</td>\n",
              "      <td>1</td>\n",
              "      <td>1</td>\n",
              "      <td>1</td>\n",
              "      <td>101348.88</td>\n",
              "    </tr>\n",
              "    <tr>\n",
              "      <th>1</th>\n",
              "      <td>608</td>\n",
              "      <td>Spain</td>\n",
              "      <td>Female</td>\n",
              "      <td>41</td>\n",
              "      <td>1</td>\n",
              "      <td>83807.86</td>\n",
              "      <td>1</td>\n",
              "      <td>0</td>\n",
              "      <td>1</td>\n",
              "      <td>112542.58</td>\n",
              "    </tr>\n",
              "    <tr>\n",
              "      <th>2</th>\n",
              "      <td>502</td>\n",
              "      <td>France</td>\n",
              "      <td>Female</td>\n",
              "      <td>42</td>\n",
              "      <td>8</td>\n",
              "      <td>159660.80</td>\n",
              "      <td>3</td>\n",
              "      <td>1</td>\n",
              "      <td>0</td>\n",
              "      <td>113931.57</td>\n",
              "    </tr>\n",
              "    <tr>\n",
              "      <th>3</th>\n",
              "      <td>699</td>\n",
              "      <td>France</td>\n",
              "      <td>Female</td>\n",
              "      <td>39</td>\n",
              "      <td>1</td>\n",
              "      <td>0.00</td>\n",
              "      <td>2</td>\n",
              "      <td>0</td>\n",
              "      <td>0</td>\n",
              "      <td>93826.63</td>\n",
              "    </tr>\n",
              "    <tr>\n",
              "      <th>4</th>\n",
              "      <td>850</td>\n",
              "      <td>Spain</td>\n",
              "      <td>Female</td>\n",
              "      <td>43</td>\n",
              "      <td>2</td>\n",
              "      <td>125510.82</td>\n",
              "      <td>1</td>\n",
              "      <td>1</td>\n",
              "      <td>1</td>\n",
              "      <td>79084.10</td>\n",
              "    </tr>\n",
              "    <tr>\n",
              "      <th>...</th>\n",
              "      <td>...</td>\n",
              "      <td>...</td>\n",
              "      <td>...</td>\n",
              "      <td>...</td>\n",
              "      <td>...</td>\n",
              "      <td>...</td>\n",
              "      <td>...</td>\n",
              "      <td>...</td>\n",
              "      <td>...</td>\n",
              "      <td>...</td>\n",
              "    </tr>\n",
              "    <tr>\n",
              "      <th>9995</th>\n",
              "      <td>771</td>\n",
              "      <td>France</td>\n",
              "      <td>Male</td>\n",
              "      <td>39</td>\n",
              "      <td>5</td>\n",
              "      <td>0.00</td>\n",
              "      <td>2</td>\n",
              "      <td>1</td>\n",
              "      <td>0</td>\n",
              "      <td>96270.64</td>\n",
              "    </tr>\n",
              "    <tr>\n",
              "      <th>9996</th>\n",
              "      <td>516</td>\n",
              "      <td>France</td>\n",
              "      <td>Male</td>\n",
              "      <td>35</td>\n",
              "      <td>10</td>\n",
              "      <td>57369.61</td>\n",
              "      <td>1</td>\n",
              "      <td>1</td>\n",
              "      <td>1</td>\n",
              "      <td>101699.77</td>\n",
              "    </tr>\n",
              "    <tr>\n",
              "      <th>9997</th>\n",
              "      <td>709</td>\n",
              "      <td>France</td>\n",
              "      <td>Female</td>\n",
              "      <td>36</td>\n",
              "      <td>7</td>\n",
              "      <td>0.00</td>\n",
              "      <td>1</td>\n",
              "      <td>0</td>\n",
              "      <td>1</td>\n",
              "      <td>42085.58</td>\n",
              "    </tr>\n",
              "    <tr>\n",
              "      <th>9998</th>\n",
              "      <td>772</td>\n",
              "      <td>Germany</td>\n",
              "      <td>Male</td>\n",
              "      <td>42</td>\n",
              "      <td>3</td>\n",
              "      <td>75075.31</td>\n",
              "      <td>2</td>\n",
              "      <td>1</td>\n",
              "      <td>0</td>\n",
              "      <td>92888.52</td>\n",
              "    </tr>\n",
              "    <tr>\n",
              "      <th>9999</th>\n",
              "      <td>792</td>\n",
              "      <td>France</td>\n",
              "      <td>Female</td>\n",
              "      <td>28</td>\n",
              "      <td>4</td>\n",
              "      <td>130142.79</td>\n",
              "      <td>1</td>\n",
              "      <td>1</td>\n",
              "      <td>0</td>\n",
              "      <td>38190.78</td>\n",
              "    </tr>\n",
              "  </tbody>\n",
              "</table>\n",
              "<p>10000 rows × 10 columns</p>\n",
              "</div>"
            ],
            "text/plain": [
              "      CreditScore Geography  Gender  Age  Tenure    Balance  NumOfProducts  \\\n",
              "0             619    France  Female   42       2       0.00              1   \n",
              "1             608     Spain  Female   41       1   83807.86              1   \n",
              "2             502    France  Female   42       8  159660.80              3   \n",
              "3             699    France  Female   39       1       0.00              2   \n",
              "4             850     Spain  Female   43       2  125510.82              1   \n",
              "...           ...       ...     ...  ...     ...        ...            ...   \n",
              "9995          771    France    Male   39       5       0.00              2   \n",
              "9996          516    France    Male   35      10   57369.61              1   \n",
              "9997          709    France  Female   36       7       0.00              1   \n",
              "9998          772   Germany    Male   42       3   75075.31              2   \n",
              "9999          792    France  Female   28       4  130142.79              1   \n",
              "\n",
              "      HasCrCard  IsActiveMember  EstimatedSalary  \n",
              "0             1               1        101348.88  \n",
              "1             0               1        112542.58  \n",
              "2             1               0        113931.57  \n",
              "3             0               0         93826.63  \n",
              "4             1               1         79084.10  \n",
              "...         ...             ...              ...  \n",
              "9995          1               0         96270.64  \n",
              "9996          1               1        101699.77  \n",
              "9997          0               1         42085.58  \n",
              "9998          1               0         92888.52  \n",
              "9999          1               0         38190.78  \n",
              "\n",
              "[10000 rows x 10 columns]"
            ]
          },
          "execution_count": 26,
          "metadata": {},
          "output_type": "execute_result"
        }
      ],
      "source": [
        "data = pd.read_csv('Churn_Modelling.csv')\n",
        "data = data.drop('Surname', axis=1)\n",
        "x = data.drop(['Exited','CustomerId', 'CustomerId', 'RowNumber'], axis=1)\n",
        "y = data['Exited']\n",
        "y"
      ]
    },
    {
      "cell_type": "code",
      "execution_count": null,
      "metadata": {
        "id": "Sf8DmmjVCsYC",
        "outputId": "1e0257b5-7a32-49c0-98c0-7fc3fe0c1d65"
      },
      "outputs": [
        {
          "data": {
            "text/plain": [
              "0       1\n",
              "1       0\n",
              "2       1\n",
              "3       0\n",
              "4       0\n",
              "       ..\n",
              "9995    0\n",
              "9996    0\n",
              "9997    1\n",
              "9998    1\n",
              "9999    0\n",
              "Name: Exited, Length: 10000, dtype: int64"
            ]
          },
          "execution_count": 32,
          "metadata": {},
          "output_type": "execute_result"
        }
      ],
      "source": [
        "x"
      ]
    },
    {
      "cell_type": "markdown",
      "metadata": {
        "id": "E6ylBKMSCsYD"
      },
      "source": [
        "Se observa que los datos, no estan en la misma escala, y hay variables categorica, no son tantas clases de estas.\n",
        "\n",
        "4 de paises, y el sexo son 2, por lo que se dumificaran, y se escalara las variables predictoras."
      ]
    },
    {
      "cell_type": "code",
      "execution_count": null,
      "metadata": {
        "id": "xUc6f9_CCsYD",
        "outputId": "b9718700-cbca-444d-be52-573fc614e4e8"
      },
      "outputs": [
        {
          "data": {
            "text/html": [
              "<div>\n",
              "<style scoped>\n",
              "    .dataframe tbody tr th:only-of-type {\n",
              "        vertical-align: middle;\n",
              "    }\n",
              "\n",
              "    .dataframe tbody tr th {\n",
              "        vertical-align: top;\n",
              "    }\n",
              "\n",
              "    .dataframe thead th {\n",
              "        text-align: right;\n",
              "    }\n",
              "</style>\n",
              "<table border=\"1\" class=\"dataframe\">\n",
              "  <thead>\n",
              "    <tr style=\"text-align: right;\">\n",
              "      <th></th>\n",
              "      <th>CreditScore</th>\n",
              "      <th>Age</th>\n",
              "      <th>Tenure</th>\n",
              "      <th>Balance</th>\n",
              "      <th>NumOfProducts</th>\n",
              "      <th>HasCrCard</th>\n",
              "      <th>IsActiveMember</th>\n",
              "      <th>EstimatedSalary</th>\n",
              "      <th>Geography_France</th>\n",
              "      <th>Geography_Germany</th>\n",
              "      <th>Geography_Spain</th>\n",
              "      <th>Gender_Female</th>\n",
              "      <th>Gender_Male</th>\n",
              "    </tr>\n",
              "  </thead>\n",
              "  <tbody>\n",
              "    <tr>\n",
              "      <th>0</th>\n",
              "      <td>619</td>\n",
              "      <td>42</td>\n",
              "      <td>2</td>\n",
              "      <td>0.00</td>\n",
              "      <td>1</td>\n",
              "      <td>1</td>\n",
              "      <td>1</td>\n",
              "      <td>101348.88</td>\n",
              "      <td>1</td>\n",
              "      <td>0</td>\n",
              "      <td>0</td>\n",
              "      <td>1</td>\n",
              "      <td>0</td>\n",
              "    </tr>\n",
              "    <tr>\n",
              "      <th>1</th>\n",
              "      <td>608</td>\n",
              "      <td>41</td>\n",
              "      <td>1</td>\n",
              "      <td>83807.86</td>\n",
              "      <td>1</td>\n",
              "      <td>0</td>\n",
              "      <td>1</td>\n",
              "      <td>112542.58</td>\n",
              "      <td>0</td>\n",
              "      <td>0</td>\n",
              "      <td>1</td>\n",
              "      <td>1</td>\n",
              "      <td>0</td>\n",
              "    </tr>\n",
              "    <tr>\n",
              "      <th>2</th>\n",
              "      <td>502</td>\n",
              "      <td>42</td>\n",
              "      <td>8</td>\n",
              "      <td>159660.80</td>\n",
              "      <td>3</td>\n",
              "      <td>1</td>\n",
              "      <td>0</td>\n",
              "      <td>113931.57</td>\n",
              "      <td>1</td>\n",
              "      <td>0</td>\n",
              "      <td>0</td>\n",
              "      <td>1</td>\n",
              "      <td>0</td>\n",
              "    </tr>\n",
              "    <tr>\n",
              "      <th>3</th>\n",
              "      <td>699</td>\n",
              "      <td>39</td>\n",
              "      <td>1</td>\n",
              "      <td>0.00</td>\n",
              "      <td>2</td>\n",
              "      <td>0</td>\n",
              "      <td>0</td>\n",
              "      <td>93826.63</td>\n",
              "      <td>1</td>\n",
              "      <td>0</td>\n",
              "      <td>0</td>\n",
              "      <td>1</td>\n",
              "      <td>0</td>\n",
              "    </tr>\n",
              "    <tr>\n",
              "      <th>4</th>\n",
              "      <td>850</td>\n",
              "      <td>43</td>\n",
              "      <td>2</td>\n",
              "      <td>125510.82</td>\n",
              "      <td>1</td>\n",
              "      <td>1</td>\n",
              "      <td>1</td>\n",
              "      <td>79084.10</td>\n",
              "      <td>0</td>\n",
              "      <td>0</td>\n",
              "      <td>1</td>\n",
              "      <td>1</td>\n",
              "      <td>0</td>\n",
              "    </tr>\n",
              "    <tr>\n",
              "      <th>...</th>\n",
              "      <td>...</td>\n",
              "      <td>...</td>\n",
              "      <td>...</td>\n",
              "      <td>...</td>\n",
              "      <td>...</td>\n",
              "      <td>...</td>\n",
              "      <td>...</td>\n",
              "      <td>...</td>\n",
              "      <td>...</td>\n",
              "      <td>...</td>\n",
              "      <td>...</td>\n",
              "      <td>...</td>\n",
              "      <td>...</td>\n",
              "    </tr>\n",
              "    <tr>\n",
              "      <th>9995</th>\n",
              "      <td>771</td>\n",
              "      <td>39</td>\n",
              "      <td>5</td>\n",
              "      <td>0.00</td>\n",
              "      <td>2</td>\n",
              "      <td>1</td>\n",
              "      <td>0</td>\n",
              "      <td>96270.64</td>\n",
              "      <td>1</td>\n",
              "      <td>0</td>\n",
              "      <td>0</td>\n",
              "      <td>0</td>\n",
              "      <td>1</td>\n",
              "    </tr>\n",
              "    <tr>\n",
              "      <th>9996</th>\n",
              "      <td>516</td>\n",
              "      <td>35</td>\n",
              "      <td>10</td>\n",
              "      <td>57369.61</td>\n",
              "      <td>1</td>\n",
              "      <td>1</td>\n",
              "      <td>1</td>\n",
              "      <td>101699.77</td>\n",
              "      <td>1</td>\n",
              "      <td>0</td>\n",
              "      <td>0</td>\n",
              "      <td>0</td>\n",
              "      <td>1</td>\n",
              "    </tr>\n",
              "    <tr>\n",
              "      <th>9997</th>\n",
              "      <td>709</td>\n",
              "      <td>36</td>\n",
              "      <td>7</td>\n",
              "      <td>0.00</td>\n",
              "      <td>1</td>\n",
              "      <td>0</td>\n",
              "      <td>1</td>\n",
              "      <td>42085.58</td>\n",
              "      <td>1</td>\n",
              "      <td>0</td>\n",
              "      <td>0</td>\n",
              "      <td>1</td>\n",
              "      <td>0</td>\n",
              "    </tr>\n",
              "    <tr>\n",
              "      <th>9998</th>\n",
              "      <td>772</td>\n",
              "      <td>42</td>\n",
              "      <td>3</td>\n",
              "      <td>75075.31</td>\n",
              "      <td>2</td>\n",
              "      <td>1</td>\n",
              "      <td>0</td>\n",
              "      <td>92888.52</td>\n",
              "      <td>0</td>\n",
              "      <td>1</td>\n",
              "      <td>0</td>\n",
              "      <td>0</td>\n",
              "      <td>1</td>\n",
              "    </tr>\n",
              "    <tr>\n",
              "      <th>9999</th>\n",
              "      <td>792</td>\n",
              "      <td>28</td>\n",
              "      <td>4</td>\n",
              "      <td>130142.79</td>\n",
              "      <td>1</td>\n",
              "      <td>1</td>\n",
              "      <td>0</td>\n",
              "      <td>38190.78</td>\n",
              "      <td>1</td>\n",
              "      <td>0</td>\n",
              "      <td>0</td>\n",
              "      <td>1</td>\n",
              "      <td>0</td>\n",
              "    </tr>\n",
              "  </tbody>\n",
              "</table>\n",
              "<p>10000 rows × 13 columns</p>\n",
              "</div>"
            ],
            "text/plain": [
              "      CreditScore  Age  Tenure    Balance  NumOfProducts  HasCrCard  \\\n",
              "0             619   42       2       0.00              1          1   \n",
              "1             608   41       1   83807.86              1          0   \n",
              "2             502   42       8  159660.80              3          1   \n",
              "3             699   39       1       0.00              2          0   \n",
              "4             850   43       2  125510.82              1          1   \n",
              "...           ...  ...     ...        ...            ...        ...   \n",
              "9995          771   39       5       0.00              2          1   \n",
              "9996          516   35      10   57369.61              1          1   \n",
              "9997          709   36       7       0.00              1          0   \n",
              "9998          772   42       3   75075.31              2          1   \n",
              "9999          792   28       4  130142.79              1          1   \n",
              "\n",
              "      IsActiveMember  EstimatedSalary  Geography_France  Geography_Germany  \\\n",
              "0                  1        101348.88                 1                  0   \n",
              "1                  1        112542.58                 0                  0   \n",
              "2                  0        113931.57                 1                  0   \n",
              "3                  0         93826.63                 1                  0   \n",
              "4                  1         79084.10                 0                  0   \n",
              "...              ...              ...               ...                ...   \n",
              "9995               0         96270.64                 1                  0   \n",
              "9996               1        101699.77                 1                  0   \n",
              "9997               1         42085.58                 1                  0   \n",
              "9998               0         92888.52                 0                  1   \n",
              "9999               0         38190.78                 1                  0   \n",
              "\n",
              "      Geography_Spain  Gender_Female  Gender_Male  \n",
              "0                   0              1            0  \n",
              "1                   1              1            0  \n",
              "2                   0              1            0  \n",
              "3                   0              1            0  \n",
              "4                   1              1            0  \n",
              "...               ...            ...          ...  \n",
              "9995                0              0            1  \n",
              "9996                0              0            1  \n",
              "9997                0              1            0  \n",
              "9998                0              0            1  \n",
              "9999                0              1            0  \n",
              "\n",
              "[10000 rows x 13 columns]"
            ]
          },
          "execution_count": 27,
          "metadata": {},
          "output_type": "execute_result"
        }
      ],
      "source": [
        "x = pd.get_dummies(x)\n",
        "from sklearn.preprocessing import StandardScaler\n",
        "scaler = StandardScaler()\n",
        "scaler.fit(x)\n",
        "x_scale = scaler.transform(x)\n",
        "x"
      ]
    },
    {
      "cell_type": "markdown",
      "metadata": {
        "id": "M8FaeoZ4CsYD"
      },
      "source": [
        "Se divide en dos la base de datos, entre 67% de entrenamiento, de los pesos de la red neuronal,  y el 33% para predecirlo con este modelo entrenado.\n",
        "\n",
        "Se entrena el modelo, con las mismas condiciones del modelo anterios, para comparitividad con los demas modelos."
      ]
    },
    {
      "cell_type": "code",
      "execution_count": null,
      "metadata": {
        "id": "9nHjW0UdCsYE"
      },
      "outputs": [],
      "source": [
        "from sklearn.model_selection import train_test_split\n",
        "X_train, X_test, y_train, y_test = train_test_split(x_scale, y, test_size=0.33, random_state=42)\n",
        "clf = MLPClassifier(hidden_layer_sizes=3,activation='logistic', \n",
        "                    max_iter=1000, random_state=1).fit(X_train,y_train)"
      ]
    },
    {
      "cell_type": "code",
      "execution_count": null,
      "metadata": {
        "id": "0Nc_Dw88CsYE",
        "outputId": "a4066c67-1db6-4737-fdd9-316f86bb218b"
      },
      "outputs": [
        {
          "name": "stdout",
          "output_type": "stream",
          "text": [
            "La precision de la prediccion de los contra el valor verdadero en test.\n",
            "-------------------------------------------------------------------------\n"
          ]
        },
        {
          "data": {
            "text/plain": [
              "0.8390909090909091"
            ]
          },
          "execution_count": 38,
          "metadata": {},
          "output_type": "execute_result"
        }
      ],
      "source": [
        "print('La precision de la prediccion de los contra el valor verdadero en test.') \n",
        "print('-------------------------------------------------------------------------')\n",
        "clf.score(X_test, y_test)"
      ]
    },
    {
      "cell_type": "code",
      "execution_count": null,
      "metadata": {
        "id": "jdQ_fJGfCsYE",
        "outputId": "54bcba7b-1545-4dea-e0c1-5a760e014b4b"
      },
      "outputs": [
        {
          "name": "stdout",
          "output_type": "stream",
          "text": [
            " tp fn fp tn\n",
            " 216 427  104  2553\n",
            "              precision    recall  f1-score   support\n",
            "\n",
            "           1       0.68      0.34      0.45       643\n",
            "           0       0.86      0.96      0.91      2657\n",
            "\n",
            "    accuracy                           0.84      3300\n",
            "   macro avg       0.77      0.65      0.68      3300\n",
            "weighted avg       0.82      0.84      0.82      3300\n",
            "\n"
          ]
        }
      ],
      "source": [
        "from sklearn import metrics\n",
        "\n",
        "y_pred = clf.predict(X_test)\n",
        "\n",
        "tp, fn, fp, tn = metrics.confusion_matrix(y_test,y_pred,labels=[1,0]).reshape(-1)\n",
        "print(' tp fn fp tn\\n', tp, fn, '',fp, '',tn)\n",
        "\n",
        "print(metrics.classification_report(y_test, y_pred,labels=[1,0]))"
      ]
    },
    {
      "cell_type": "code",
      "execution_count": null,
      "metadata": {
        "id": "XXFZZR_RCsYF",
        "outputId": "ef9a2105-6756-412d-96d4-301811bf6602"
      },
      "outputs": [
        {
          "name": "stdout",
          "output_type": "stream",
          "text": [
            "Precision: 0.8390909090909091\n",
            "Matriz de confusion: \n",
            "[[2553  104]\n",
            " [ 427  216]]\n",
            "AUC: 0.6483917302866748\n",
            "Tasa de Recall: 0.3359253499222395\n"
          ]
        }
      ],
      "source": [
        "from sklearn.metrics import accuracy_score\n",
        "from sklearn.metrics import confusion_matrix\n",
        "from sklearn.metrics import roc_auc_score\n",
        "from sklearn.metrics import recall_score\n",
        "\n",
        "print(f'Precision: {accuracy_score(y_test,y_pred)}')\n",
        "print(f'Matriz de confusion: \\n{confusion_matrix(y_test, y_pred)}')\n",
        "print(f'AUC: {roc_auc_score(y_test, y_pred)}')\n",
        "print(f'Tasa de Recall: {recall_score(y_test,y_pred)}')"
      ]
    },
    {
      "cell_type": "markdown",
      "metadata": {
        "id": "x55TFssCCsYF"
      },
      "source": [
        "Este modelo demostro que sin mayor transformación se logra tener un AUC del 64%.\n",
        "El modelo es muy preciso, lo que quiere decir que tiene mas falsos positivos.\n",
        "y tiene una precision para la prediccion de la no churn.\n",
        "\n",
        "Este modelo de forma parcimoniosa permite tener buenos resultados."
      ]
    }
  ],
  "metadata": {
    "kernelspec": {
      "display_name": "Python 3 (ipykernel)",
      "language": "python",
      "name": "python3"
    },
    "language_info": {
      "codemirror_mode": {
        "name": "ipython",
        "version": 3
      },
      "file_extension": ".py",
      "mimetype": "text/x-python",
      "name": "python",
      "nbconvert_exporter": "python",
      "pygments_lexer": "ipython3",
      "version": "3.9.7"
    },
    "vscode": {
      "interpreter": {
        "hash": "cd918554fd86c8fa71df5e97543f72a20c78ad3ae14e3e0b29aa7e96c0f0504e"
      }
    },
    "colab": {
      "provenance": [],
      "include_colab_link": true
    }
  },
  "nbformat": 4,
  "nbformat_minor": 0
}