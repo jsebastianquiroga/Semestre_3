{
  "nbformat": 4,
  "nbformat_minor": 0,
  "metadata": {
    "colab": {
      "provenance": [],
      "collapsed_sections": [
        "m4cmOojch_to",
        "gKiIShYiXv1C",
        "ydlq9_vRaUdQ",
        "yfxtbQ_2ZrWL"
      ],
      "include_colab_link": true
    },
    "kernelspec": {
      "name": "python3",
      "display_name": "Python 3"
    },
    "language_info": {
      "name": "python"
    }
  },
  "cells": [
    {
      "cell_type": "markdown",
      "metadata": {
        "id": "view-in-github",
        "colab_type": "text"
      },
      "source": [
        "<a href=\"https://colab.research.google.com/github/jsebastianquiroga/Semestre_3/blob/main/DL/Convolucion_2d.ipynb\" target=\"_parent\"><img src=\"https://colab.research.google.com/assets/colab-badge.svg\" alt=\"Open In Colab\"/></a>"
      ]
    },
    {
      "cell_type": "code",
      "source": [],
      "metadata": {
        "id": "ULH8RxX0ub_t"
      },
      "execution_count": 8,
      "outputs": []
    },
    {
      "cell_type": "code",
      "source": [
        "# LLAMAN LAS LIBRERIAS NECESARIAS\n",
        "\n",
        "import os\n",
        "from scipy import signal\n",
        "import matplotlib.pyplot as plt\n",
        "import numpy as np\n",
        "from skimage import color\n",
        "from skimage import io\n",
        "\n",
        "from matplotlib.image import imread\n",
        "\n",
        "# sE CONECTA CON DRIVE PARA DESCARGAR IMAGEN DE 7X7X3\n",
        "\n",
        "# Conexion a gdrive\n",
        "from pydrive.auth import GoogleAuth\n",
        "from google.colab import drive\n",
        "from pydrive.drive import GoogleDrive\n",
        "from google.colab import auth\n",
        "\n",
        "from oauth2client.client import GoogleCredentials \n",
        "auth.authenticate_user()\n",
        "gauth = GoogleAuth()\n",
        "gauth.credentials = GoogleCredentials.get_application_default()\n",
        "drive = GoogleDrive(gauth)\n",
        "\n",
        "# Instalar la biblioteca Pillow\n",
        "!pip install pillow\n",
        "\n",
        "# Importar bibliotecas necesarias\n",
        "from PIL import Image\n",
        "import io\n",
        "\n",
        "# Descargar la imagen desde Google Drive\n",
        "image_id = '1syXUIzjd0eJft4zKUKVebDvYS3PK5_7-'\n",
        "download = drive.CreateFile({'id': image_id})\n",
        "download.GetContentFile('cuadrado7x7.jpg') # Guarda la imagen en un archivo temporal\n",
        "\n",
        "# Leer la imagen y visualizarla\n",
        "image = Image.open('cuadrado7x7.jpg')\n",
        "image.show()\n"
      ],
      "metadata": {
        "id": "eNwMj9hG_NUS",
        "outputId": "cbe01770-166d-4363-eeea-66973bf33600",
        "colab": {
          "base_uri": "https://localhost:8080/",
          "height": 69
        }
      },
      "execution_count": 40,
      "outputs": [
        {
          "output_type": "stream",
          "name": "stdout",
          "text": [
            "Looking in indexes: https://pypi.org/simple, https://us-python.pkg.dev/colab-wheels/public/simple/\n",
            "Requirement already satisfied: pillow in /usr/local/lib/python3.9/dist-packages (8.4.0)\n"
          ]
        },
        {
          "output_type": "display_data",
          "data": {
            "text/plain": [
              "<PIL.PngImagePlugin.PngImageFile image mode=RGB size=7x7 at 0x7F21810C0280>"
            ],
            "image/png": "[encoded data removed]"
          },
          "metadata": {}
        }
      ]
    },
    {
      "cell_type": "code",
      "source": [
        "# se convierte en numpy para traer la tercera dimencion, la escala de color.\n",
        "imagen = np.array(image)\n",
        "imagen.shape"
      ],
      "metadata": {
        "id": "v6xl-rijBIO3",
        "outputId": "21376959-c132-4d94-81d2-2476d276d1af",
        "colab": {
          "base_uri": "https://localhost:8080/"
        }
      },
      "execution_count": 41,
      "outputs": [
        {
          "output_type": "execute_result",
          "data": {
            "text/plain": [
              "(7, 7, 3)"
            ]
          },
          "metadata": {},
          "execution_count": 41
        }
      ]
    },
    {
      "cell_type": "code",
      "source": [
        "# plot inicial\n",
        "plt.figure(figsize=(5,5))\n",
        "plt.title('imagen 1')\n",
        "plt.imshow(imagen)"
      ],
      "metadata": {
        "id": "MgfPDbWwBeoT",
        "outputId": "91678a4d-5ff7-4c61-ad6d-5ec423277389",
        "colab": {
          "base_uri": "https://localhost:8080/",
          "height": 485
        }
      },
      "execution_count": 42,
      "outputs": [
        {
          "output_type": "execute_result",
          "data": {
            "text/plain": [
              "<matplotlib.image.AxesImage at 0x7f218135bc70>"
            ]
          },
          "metadata": {},
          "execution_count": 42
        },
        {
          "output_type": "display_data",
          "data": {
            "text/plain": [
              "<Figure size 500x500 with 1 Axes>"
            ],
            "image/png": "[encoded data removed]"
          },
          "metadata": {}
        }
      ]
    },
    {
      "cell_type": "code",
      "source": [
        "#Se pasa a escala de grises para quitar tercera dimencion, queda 7X7X1\n",
        "imagen_2 = color.rgb2gray(imagen)\n",
        "imagenBN = imagen_2\n",
        "print('Dimenciones matriz :', imagenBN.shape)\n",
        "imagenBN"
      ],
      "metadata": {
        "id": "rle54FN5BhzD",
        "outputId": "8ad4062a-957d-4fec-a528-6b6e0258f12f",
        "colab": {
          "base_uri": "https://localhost:8080/"
        }
      },
      "execution_count": 48,
      "outputs": [
        {
          "output_type": "stream",
          "name": "stdout",
          "text": [
            "Dimenciones matriz : (7, 7)\n"
          ]
        },
        {
          "output_type": "execute_result",
          "data": {
            "text/plain": [
              "array([[1., 1., 1., 1., 1., 1., 1.],\n",
              "       [1., 1., 1., 1., 1., 1., 1.],\n",
              "       [1., 1., 0., 0., 0., 1., 1.],\n",
              "       [1., 1., 0., 0., 0., 1., 1.],\n",
              "       [1., 1., 0., 0., 0., 1., 1.],\n",
              "       [1., 1., 1., 1., 1., 1., 1.],\n",
              "       [1., 1., 1., 1., 1., 1., 1.]])"
            ]
          },
          "metadata": {},
          "execution_count": 48
        }
      ]
    },
    {
      "cell_type": "code",
      "source": [
        "plt.figure(figsize=(5,5))\n",
        "plt.title('imagen 1')\n",
        "plt.imshow(imagenBN)"
      ],
      "metadata": {
        "id": "YkjIlczTDtMI",
        "outputId": "c94fc8ce-513f-4f2a-ee8e-2385c9ad3e1f",
        "colab": {
          "base_uri": "https://localhost:8080/",
          "height": 485
        }
      },
      "execution_count": 45,
      "outputs": [
        {
          "output_type": "execute_result",
          "data": {
            "text/plain": [
              "<matplotlib.image.AxesImage at 0x7f21813d09a0>"
            ]
          },
          "metadata": {},
          "execution_count": 45
        },
        {
          "output_type": "display_data",
          "data": {
            "text/plain": [
              "<Figure size 500x500 with 1 Axes>"
            ],
            "image/png": "[encoded data removed]"
          },
          "metadata": {}
        }
      ]
    },
    {
      "cell_type": "markdown",
      "source": [
        "Se crea un kernel para demostrar el paso de la convolución."
      ],
      "metadata": {
        "id": "6BQu3yX1D0II"
      }
    },
    {
      "cell_type": "code",
      "source": [
        "kernel = np.array((\n",
        "    [ 0, -1,  0],\n",
        "    [-1,  4, -1],\n",
        "    [ 0, -1,  0]\n",
        "    ), dtype = 'float')"
      ],
      "metadata": {
        "id": "76TU3G3cDzpq"
      },
      "execution_count": 49,
      "outputs": []
    },
    {
      "cell_type": "markdown",
      "source": [
        "# Proceso convolución"
      ],
      "metadata": {
        "id": "WD0s0ExREmlk"
      }
    },
    {
      "cell_type": "code",
      "source": [
        "#\n",
        "\n",
        "conv=signal.convolve2d(imagenBN , kernel, boundary='symm',mode='same')\n",
        "\n",
        "plt.figure(figsize=(5,5))\n",
        "plt.title(\"Filtro H4\")\n",
        "plt.axis('off')\n",
        "plt.imshow(conv, cmap = 'gray')"
      ],
      "metadata": {
        "id": "nN3PxxlTDwmN",
        "outputId": "22165b57-10da-4122-8d9d-d15b515a199b",
        "colab": {
          "base_uri": "https://localhost:8080/",
          "height": 461
        }
      },
      "execution_count": 51,
      "outputs": [
        {
          "output_type": "execute_result",
          "data": {
            "text/plain": [
              "<matplotlib.image.AxesImage at 0x7f21811b83a0>"
            ]
          },
          "metadata": {},
          "execution_count": 51
        },
        {
          "output_type": "display_data",
          "data": {
            "text/plain": [
              "<Figure size 500x500 with 1 Axes>"
            ],
            "image/png": "[encoded data removed]"
          },
          "metadata": {}
        }
      ]
    },
    {
      "cell_type": "code",
      "source": [],
      "metadata": {
        "id": "edP_lR-SEvIW"
      },
      "execution_count": null,
      "outputs": []
    }
  ]
}