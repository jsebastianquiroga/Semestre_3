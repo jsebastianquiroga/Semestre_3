{
  "nbformat": 4,
  "nbformat_minor": 0,
  "metadata": {
    "colab": {
      "provenance": [],
      "collapsed_sections": [
        "m4cmOojch_to",
        "gKiIShYiXv1C",
        "ydlq9_vRaUdQ",
        "yfxtbQ_2ZrWL"
      ],
      "include_colab_link": true
    },
    "kernelspec": {
      "name": "python3",
      "display_name": "Python 3"
    },
    "language_info": {
      "name": "python"
    }
  },
  "cells": [
    {
      "cell_type": "markdown",
      "metadata": {
        "id": "view-in-github",
        "colab_type": "text"
      },
      "source": [
        "<a href=\"https://colab.research.google.com/github/jsebastianquiroga/Semestre_3/blob/main/DL/Convolucion_2d.ipynb\" target=\"_parent\"><img src=\"https://colab.research.google.com/assets/colab-badge.svg\" alt=\"Open In Colab\"/></a>"
      ]
    },
    {
      "cell_type": "code",
      "source": [
        "import os\n",
        "from scipy import signal\n",
        "import matplotlib.pyplot as plt\n",
        "import numpy as np\n",
        "from skimage import color\n",
        "from skimage import io\n",
        "\n",
        "from matplotlib.image import imread"
      ],
      "metadata": {
        "id": "ULH8RxX0ub_t"
      },
      "execution_count": 1,
      "outputs": []
    },
    {
      "cell_type": "code",
      "source": [
        "# Conexion a gdrive\n",
        "from pydrive.auth import GoogleAuth\n",
        "from google.colab import drive\n",
        "from pydrive.drive import GoogleDrive\n",
        "from google.colab import auth\n",
        "\n",
        "from oauth2client.client import GoogleCredentials \n",
        "auth.authenticate_user()\n",
        "gauth = GoogleAuth()\n",
        "gauth.credentials = GoogleCredentials.get_application_default()\n",
        "drive = GoogleDrive(gauth)\n",
        "\n",
        "# Instalar la biblioteca Pillow\n",
        "!pip install pillow\n",
        "\n",
        "# Importar bibliotecas necesarias\n",
        "from PIL import Image\n",
        "import io\n",
        "\n",
        "# Descargar la imagen desde Google Drive\n",
        "image_id = '1syXUIzjd0eJft4zKUKVebDvYS3PK5_7-'\n",
        "download = drive.CreateFile({'id': image_id})\n",
        "download.GetContentFile('cuadrado7x7.jpg') # Guarda la imagen en un archivo temporal\n",
        "\n",
        "# Leer la imagen y visualizarla\n",
        "image = Image.open('cuadrado7x7.jpg')\n",
        "image.show()\n"
      ],
      "metadata": {
        "id": "eNwMj9hG_NUS",
        "outputId": "86f60ec0-eafa-4e64-d208-541cb91cecf8",
        "colab": {
          "base_uri": "https://localhost:8080/",
          "height": 70
        }
      },
      "execution_count": 5,
      "outputs": [
        {
          "output_type": "stream",
          "name": "stdout",
          "text": [
            "Looking in indexes: https://pypi.org/simple, https://us-python.pkg.dev/colab-wheels/public/simple/\n",
            "Requirement already satisfied: pillow in /usr/local/lib/python3.9/dist-packages (8.4.0)\n"
          ]
        },
        {
          "output_type": "display_data",
          "data": {
            "text/plain": [
              "<PIL.PngImagePlugin.PngImageFile image mode=RGB size=7x7 at 0x7F21844FCBE0>"
            ],
            "image/png": "[encoded data removed]"
          },
          "metadata": {}
        }
      ]
    },
    {
      "cell_type": "code",
      "source": [],
      "metadata": {
        "id": "v6xl-rijBIO3"
      },
      "execution_count": null,
      "outputs": []
    }
  ]
}