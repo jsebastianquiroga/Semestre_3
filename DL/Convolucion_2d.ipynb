{
  "nbformat": 4,
  "nbformat_minor": 0,
  "metadata": {
    "colab": {
      "provenance": [],
      "collapsed_sections": [
        "m4cmOojch_to",
        "gKiIShYiXv1C",
        "ydlq9_vRaUdQ",
        "yfxtbQ_2ZrWL"
      ],
      "include_colab_link": true
    },
    "kernelspec": {
      "name": "python3",
      "display_name": "Python 3"
    },
    "language_info": {
      "name": "python"
    }
  },
  "cells": [
    {
      "cell_type": "markdown",
      "metadata": {
        "id": "view-in-github",
        "colab_type": "text"
      },
      "source": [
        "<a href=\"https://colab.research.google.com/github/jsebastianquiroga/Semestre_3/blob/main/DL/Convolucion_2d.ipynb\" target=\"_parent\"><img src=\"https://colab.research.google.com/assets/colab-badge.svg\" alt=\"Open In Colab\"/></a>"
      ]
    },
    {
      "cell_type": "code",
      "source": [
        "import os\n",
        "from scipy import signal\n",
        "import matplotlib.pyplot as plt\n",
        "import numpy as np\n",
        "from skimage import color\n",
        "from skimage import io\n",
        "\n",
        "from matplotlib.image import imread"
      ],
      "metadata": {
        "id": "ULH8RxX0ub_t"
      },
      "execution_count": null,
      "outputs": []
    },
    {
      "cell_type": "code",
      "source": [
        "# Conexion a gdrive\n",
        "from pydrive.auth import GoogleAuth\n",
        "from google.colab import drive\n",
        "from pydrive.drive import GoogleDrive\n",
        "from google.colab import auth\n",
        "\n",
        "from oauth2client.client import GoogleCredentials"
      ],
      "metadata": {
        "id": "APv_Ow4U_LiD"
      },
      "execution_count": null,
      "outputs": []
    },
    {
      "cell_type": "code",
      "source": [
        "auth.authenticate_user()\n",
        "gauth = GoogleAuth()\n",
        "gauth.credentials = GoogleCredentials.get_application_default()\n",
        "drive = GoogleDrive(gauth)\n",
        "\n",
        "Booksummaries_share = '1xU2UNslewl5MOZbXSff6XEjA_odaX6rv' \n",
        "download = drive.CreateFile({'id': Booksummaries_share}) \n",
        "download.GetContentFile('booksummaries.txt')\n",
        "\n",
        "\n",
        "df_book_summaries = pd.read_csv(\"booksummaries.txt\", header=None, sep=\"\\t\", names=['Wiki_ID', 'Freebase_ID', 'Title', 'Author', 'Pub_date', 'Genres', 'Summary'])\n",
        "\n",
        "df_book_summaries"
      ],
      "metadata": {
        "id": "eNwMj9hG_NUS"
      },
      "execution_count": null,
      "outputs": []
    },
    {
      "cell_type": "code",
      "source": [
        "filename = os.path.join('imagen/', 'cuadrado7x7.jpg')\n",
        "imagen  = imread(filename)\n",
        "imagen2  = imread(filename)"
      ],
      "metadata": {
        "id": "7FLGbKQ8-9Hv"
      },
      "execution_count": null,
      "outputs": []
    }
  ]
}